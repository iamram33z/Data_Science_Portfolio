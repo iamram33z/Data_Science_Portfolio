{
 "cells": [
  {
   "cell_type": "code",
   "execution_count": 16,
   "metadata": {},
   "outputs": [],
   "source": [
    "import os\n",
    "import pandas as pd"
   ]
  },
  {
   "cell_type": "code",
   "execution_count": 17,
   "metadata": {},
   "outputs": [],
   "source": [
    "#Define the project directory\n",
    "dashboard_project_dir = os.path.dirname(os.getcwd())\n",
    "\n",
    "# Define directories within the project\n",
    "database_dir = os.path.join(dashboard_project_dir, 'Database')\n",
    "assets_dir = os.path.join(dashboard_project_dir, 'Assets')\n",
    "cross_posting_helper_dir = os.path.join(assets_dir, 'Cross Posting Helper')\n",
    "exploratory_analysis_graphs_dir = os.path.join(assets_dir, 'Exploratory Analysis Graphs')\n",
    "channel_thumbnail_dir = os.path.join(assets_dir, 'Channel Thumbnail')"
   ]
  },
  {
   "cell_type": "code",
   "execution_count": 18,
   "metadata": {},
   "outputs": [
    {
     "name": "stdout",
     "output_type": "stream",
     "text": [
      "c:\\Users\\Rameez\\OneDrive\\Dashboard Project\n",
      "c:\\Users\\Rameez\\OneDrive\\Dashboard Project\\Database\n",
      "c:\\Users\\Rameez\\OneDrive\\Dashboard Project\\Assets\n",
      "c:\\Users\\Rameez\\OneDrive\\Dashboard Project\\Assets\\Cross Posting Helper\n",
      "c:\\Users\\Rameez\\OneDrive\\Dashboard Project\\Assets\\Exploratory Analysis Graphs\n",
      "c:\\Users\\Rameez\\OneDrive\\Dashboard Project\\Assets\\Channel Thumbnail\n"
     ]
    }
   ],
   "source": [
    "print (dashboard_project_dir)\n",
    "print (database_dir)\n",
    "print (assets_dir)\n",
    "print (cross_posting_helper_dir)\n",
    "print (exploratory_analysis_graphs_dir)\n",
    "print (channel_thumbnail_dir)"
   ]
  },
  {
   "cell_type": "code",
   "execution_count": 19,
   "metadata": {},
   "outputs": [],
   "source": [
    "#Define the relative path to the CSV file\n",
    "csv_file_name = 'channel_data.csv'\n",
    "csv_file_path = os.path.join(database_dir, csv_file_name)\n",
    "channel_data = pd.read_csv(csv_file_path)"
   ]
  },
  {
   "cell_type": "code",
   "execution_count": 20,
   "metadata": {},
   "outputs": [
    {
     "name": "stdout",
     "output_type": "stream",
     "text": [
      "c:\\Users\\Rameez\\OneDrive\\Dashboard Project\\Assets\\Channel Thumbnail\\UCOkT6dccQ1vsnMFK1xJanmA.jpg\n",
      "..\\Assets\\Channel Thumbnail\\UCOkT6dccQ1vsnMFK1xJanmA.jpg\n"
     ]
    }
   ],
   "source": [
    "#Define the relative path to the channel thumbnail image\n",
    "thumbnail_path = os.path.join(channel_thumbnail_dir, 'UCOkT6dccQ1vsnMFK1xJanmA.jpg')\n",
    "\n",
    "#Get the relative path to the thumbnail from the current working directory\n",
    "thumbnail_rel_path = os.path.relpath(thumbnail_path, start=os.getcwd())\n",
    "\n",
    "print(thumbnail_path)\n",
    "print(thumbnail_rel_path)"
   ]
  },
  {
   "cell_type": "code",
   "execution_count": 21,
   "metadata": {},
   "outputs": [],
   "source": [
    "#List files in the Exploratory Analysis Graphs folder and order them as specified\n",
    "exploratory_graph_files = [\n",
    "    \"Information_Flow_Graph_for_Nodes_that_Weight_gt_1.html\",\n",
    "    \"Overall_Sentiment_Analysis_of_the_Channel.html\",\n",
    "    \"Top_05_viewed_videos_chart.html\",\n",
    "    \"Top_05_liked_videos_chart.html\",\n",
    "    \"fig_top_05_hashtags_views_chart.html\",\n",
    "    \"fig_top_05_hashtags_likes_chart.html\",\n",
    "    \"Top_05_positive_commented_videos.html\"\n",
    "]"
   ]
  },
  {
   "cell_type": "code",
   "execution_count": 22,
   "metadata": {},
   "outputs": [],
   "source": [
    "#List files in the Cross Posting Helper folder and order them as specified\n",
    "cross_posting_graph_files = [\n",
    "    \"Weekday_View_Index.html\",\n",
    "    \"Half_Hour_View_Index.html\",\n",
    "    \"Ideal_Weekday_and_Ideal_Half_Hour_of_the_Day_for_Publishing_Videos.html\"\n",
    "]"
   ]
  },
  {
   "cell_type": "code",
   "execution_count": 23,
   "metadata": {},
   "outputs": [],
   "source": [
    "#Define a mapping of file names to desired headers for Exploratory Analysis\n",
    "exploratory_header_mapping = {\n",
    "    \"Information_Flow_Graph_for_Nodes_that_Weight_gt_1\": \"Information Flow Graph for Nodes where Edge Weights are more than 1\",\n",
    "    \"Overall_Sentiment_Analysis_of_the_Channel\": \"Overall Sentiment Analysis of the Channel\",\n",
    "    \"Top_05_viewed_videos_chart\": \"Top 05 Videos by Views Count\",\n",
    "    \"Top_05_liked_videos_chart\": \"Top 05 Videos by Likes Count\",\n",
    "    \"fig_top_05_hashtags_views_chart\": \"Top 05 Hashtags by Views Count\",\n",
    "    \"fig_top_05_hashtags_likes_chart\": \"Top 05 Hashtags by Likes Count\",\n",
    "    \"Top_05_positive_commented_videos\": \"Top 05 Positive Commented Videos\",\n",
    "}"
   ]
  },
  {
   "cell_type": "code",
   "execution_count": 24,
   "metadata": {},
   "outputs": [],
   "source": [
    "#Define a mapping of file names to desired headers for Cross Posting Analysis\n",
    "cross_posting_header_mapping = {\n",
    "    \"Weekday_View_Index\": \"View Index for Weekdays\",\n",
    "    \"Half_Hour_View_Index\": \"View Index for Half Hours\",\n",
    "    \"Ideal_Weekday_and_Ideal_Half_Hour_of_the_Day_for_Publishing_Videos\": \"Ideal Weekday & Ideal Half Hour of the Day for Publishing Videos\",\n",
    "}"
   ]
  },
  {
   "cell_type": "code",
   "execution_count": 25,
   "metadata": {},
   "outputs": [],
   "source": [
    "#Generate HTML content\n",
    "html_content = f\"\"\"\n",
    "<!DOCTYPE html>\n",
    "<html>\n",
    "<head>\n",
    "    <title>Fox Cricket YouTube Analysis Dashboard</title>\n",
    "    <style>\n",
    "        body {{\n",
    "            font-family: 'Arial', sans-serif;\n",
    "            background: linear-gradient(90deg, #333, #666);\n",
    "            color: #fff;\n",
    "            margin: 0;\n",
    "            padding: 0;\n",
    "        }}\n",
    "        \n",
    "        .header {{\n",
    "            background-color: #8B0000;\n",
    "            padding: 20px;\n",
    "            margin: 0;\n",
    "            text-align: center;\n",
    "            box-shadow: 0px 0px 10px 0px #000;\n",
    "        }}\n",
    "        \n",
    "        .container {{\n",
    "            display: flex;\n",
    "            flex-wrap: wrap;\n",
    "            justify-content: center;\n",
    "            align-items: flex-start;\n",
    "        }}\n",
    "        \n",
    "        .card {{\n",
    "            width: 300px;\n",
    "            margin: 10px;\n",
    "            padding: 20px;\n",
    "            background-color: #fff;\n",
    "            border: 1px solid #ccc;\n",
    "            border-radius: 5px;\n",
    "            box-shadow: 0 4px 8px 0 rgba(0,0,0,0.2);\n",
    "            box-shadow: 0px 0px 10px 0px #000;\n",
    "        }}\n",
    "        \n",
    "        img {{\n",
    "            max-width: 100%;\n",
    "            height: auto;\n",
    "        }}\n",
    "        \n",
    "        h2 {{\n",
    "            margin-top: 10px;\n",
    "            color: #333;\n",
    "            font-size: 22px;\n",
    "        }}\n",
    "        \n",
    "        p {{\n",
    "            color: #555;\n",
    "            font-size: 18px;\n",
    "        }}\n",
    "        \n",
    "        .group {{\n",
    "            width: 100%;\n",
    "            border: 1px solid #ccc;\n",
    "            padding: 20px;\n",
    "            margin: 20px;\n",
    "            background-color: #fff;\n",
    "            border-radius: 5px;\n",
    "            box-shadow: 0 4px 8px 0 rgba(0,0,0,0.2);\n",
    "            box-shadow: 0px 0px 10px 0px #000;\n",
    "        }}\n",
    "        \n",
    "        .graph-title {{\n",
    "            font-size: 20px;\n",
    "            margin-top: 10px;\n",
    "            color: #333;\n",
    "        }}\n",
    "        \n",
    "        iframe {{\n",
    "            border: none;\n",
    "            width: 100%;\n",
    "            height: 600px;\n",
    "        }}\n",
    "    </style>\n",
    "</head>\n",
    "<body>\n",
    "    <div class=\"header\">\n",
    "        <h1>Fox Cricket YouTube Analysis Dashboard</h1>\n",
    "    </div>\n",
    "    <div class=\"container\">\n",
    "        <!-- Channel Info Card -->\n",
    "        <div class=\"card\">\n",
    "            <<img src=\"{os.path.relpath(os.path.join(\"Assets\", \"Channel Thumbnail\", \"UCOkT6dccQ1vsnMFK1xJanmA.jpg\"), start=os.getcwd())}\" alt=\"Fox Cricket Thumbnail\">\n",
    "            <h2>Fox Cricket</h2>\n",
    "            <p><strong>Channel ID:</strong> {channel_data['Channel ID'].values[0]}</p>\n",
    "            <p><strong>Subscribers Count:</strong> {channel_data['Subscribers Count'].values[0]}</p>\n",
    "            <p><strong>Number of Videos:</strong> {channel_data['Number of Videos'].values[0]}</p>\n",
    "            <p><strong>Location:</strong> {channel_data['Location'].values[0]}</p>\n",
    "        </div>\n",
    "        \n",
    "        <!-- Exploratory Analysis Group -->\n",
    "        <div class=\"group\">\n",
    "            <h2>Exploratory Analysis</h2>\n",
    "            {\"\".join([\n",
    "                f'<div class=\"graph-title\">{exploratory_header_mapping.get(graph_file.split(\".\")[0], graph_file.split(\".\")[0])}</div>'\n",
    "                f'<iframe src=\"{os.path.relpath(os.path.join(\"Assets\", \"Exploratory Analysis Graphs\", graph_file), start=os.getcwd())}\" width=\"100%\" height=\"600\"></iframe>'\n",
    "                for graph_file in exploratory_graph_files\n",
    "            ])}\n",
    "        </div>\n",
    "        \n",
    "        <!-- Cross Posting Analysis Group -->\n",
    "        <div class=\"group\">\n",
    "            <h2>Cross Posting Analysis</h2>\n",
    "            {\"\".join([\n",
    "                f'<div class=\"graph-title\">{cross_posting_header_mapping.get(file.split(\".\")[0], file.split(\".\")[0])}</div>'\n",
    "                f'<iframe src=\"{os.path.relpath(os.path.join(\"Assets\", \"Cross Posting Helper\", file), start=os.getcwd())}\" width=\"100%\" height=\"600\"></iframe>'\n",
    "                for file in cross_posting_graph_files\n",
    "            ])}\n",
    "        </div>\n",
    "    </div>\n",
    "</body>\n",
    "</html>\n",
    "\"\"\""
   ]
  },
  {
   "cell_type": "code",
   "execution_count": 26,
   "metadata": {},
   "outputs": [],
   "source": [
    "#Define the HTML file path using the relative path to 'Exploratory Analysis Graphs'\n",
    "html_file_name = 'Youtube Dashboard.html'\n",
    "html_file_path = os.path.join(dashboard_project_dir, html_file_name)\n",
    "\n",
    "#Save the HTML content to a file\n",
    "with open(html_file_path, 'w') as file:\n",
    "    file.write(html_content)"
   ]
  }
 ],
 "metadata": {
  "kernelspec": {
   "display_name": "base",
   "language": "python",
   "name": "python3"
  },
  "language_info": {
   "codemirror_mode": {
    "name": "ipython",
    "version": 3
   },
   "file_extension": ".py",
   "mimetype": "text/x-python",
   "name": "python",
   "nbconvert_exporter": "python",
   "pygments_lexer": "ipython3",
   "version": "3.10.9"
  }
 },
 "nbformat": 4,
 "nbformat_minor": 2
}
