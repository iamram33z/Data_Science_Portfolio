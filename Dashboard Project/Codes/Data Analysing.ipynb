{
 "cells": [
  {
   "cell_type": "markdown",
   "metadata": {},
   "source": [
    "## Initiating the Project by getting data from database\n"
   ]
  },
  {
   "cell_type": "code",
   "execution_count": 1,
   "metadata": {},
   "outputs": [],
   "source": [
    "import os\n",
    "import pandas as pd"
   ]
  },
  {
   "cell_type": "code",
   "execution_count": 2,
   "metadata": {},
   "outputs": [],
   "source": [
    "#Define directories\n",
    "current_dir = os.getcwd()\n",
    "dashboard_project_dir = os.path.dirname(current_dir)\n",
    "database_dir = os.path.join(dashboard_project_dir, 'Database')"
   ]
  },
  {
   "cell_type": "code",
   "execution_count": 3,
   "metadata": {},
   "outputs": [
    {
     "name": "stdout",
     "output_type": "stream",
     "text": [
      "                 Channel ID Channel Name  Subscribers Count  Number of Videos  \\\n",
      "0  UCOkT6dccQ1vsnMFK1xJanmA  Fox Cricket             360000               681   \n",
      "\n",
      "  Location                                  Channel Image URL  \n",
      "0       AU  https://yt3.ggpht.com/ytc/APkrFKbfg5vBjLlT4Sgh...  \n"
     ]
    }
   ],
   "source": [
    "#Define the relative path to the CSV file\n",
    "csv_file_name = 'channel_data.csv'\n",
    "csv_file_path = os.path.join(database_dir, csv_file_name)\n",
    "\n",
    "#Check if the CSV file exists before reading it\n",
    "if os.path.isfile(csv_file_path):\n",
    "    #Read the CSV file into a DataFrame\n",
    "    channel_data = pd.read_csv(csv_file_path)\n",
    "    print(channel_data.head())\n",
    "else:\n",
    "    print(f\"CSV file '{csv_file_name}' does not exist in the 'Database' folder.\")"
   ]
  },
  {
   "cell_type": "code",
   "execution_count": 4,
   "metadata": {},
   "outputs": [
    {
     "name": "stdout",
     "output_type": "stream",
     "text": [
      "        Video ID                                        Video Title  \\\n",
      "0    7XFSkk-FtYw                     Fox Cricket: Behind the Scenes   \n",
      "1    W_1bpHPMa2A                             2 Nations, 1 Obsession   \n",
      "2    n3wBE22Kuvc  Would You Rather...? with Mitchell Starc and A...   \n",
      "3    udPy-hc7XPI                   Steve Smith | The Cricket Tragic   \n",
      "4    HdVgr5F7AtQ  The Gilded Age of Indian Cricket | Cricket Emp...   \n",
      "..           ...                                                ...   \n",
      "164  A0wLx721tDs  'They won't back down from a fight' - Uzzie op...   \n",
      "165  SuaKWwAscp0      Australia pick their ODI World XI | Top Order   \n",
      "166  JgZizKa-5MM  Warner's WC Preview: Can Aus outshine India's ...   \n",
      "167  rv2cYvWdjIM   Australia pick their ODI World XI | Middle Order   \n",
      "168  ekwZCwc59WM          Australia picks their World XI | Tail-end   \n",
      "\n",
      "    Published Date Published Time  Views Count  Comments Count  Likes Count  \\\n",
      "0       2018-11-07      00:47:49Z        24315              13          423   \n",
      "1       2018-11-20      06:26:15Z        21164              40          462   \n",
      "2       2018-12-28      00:16:32Z      1298832             431        21341   \n",
      "3       2019-04-10      22:00:04Z       163450             316         3465   \n",
      "4       2019-05-03      05:10:35Z        14429               7          244   \n",
      "..             ...            ...          ...             ...          ...   \n",
      "164     2023-09-29      05:58:05Z        47019              71          682   \n",
      "165     2023-09-30      06:00:17Z      1651477            1896        35083   \n",
      "166     2023-10-05      20:00:05Z        13379              17          246   \n",
      "167     2023-10-06      07:00:32Z       204062             458         4182   \n",
      "168     2023-10-10      06:00:26Z        37859             109         1225   \n",
      "\n",
      "                                              Hashtags  Is Private  \n",
      "0    ['fox sports', 'australia', 'sports', 'cricket...       False  \n",
      "1    ['fox sports', 'australia', 'sports', 'cricket...       False  \n",
      "2    ['fox sports', 'australia', 'sports', 'comedy'...       False  \n",
      "3    ['fox sports', 'australia', 'sports', 'cricket...       False  \n",
      "4    ['fox sports', 'australia', 'sports', 'india',...       False  \n",
      "..                                                 ...         ...  \n",
      "164  ['fox cricket', 'cricket', 'fox sports austral...       False  \n",
      "165  ['fox cricket', 'cricket', 'fox sports austral...       False  \n",
      "166  ['fox cricket', 'cricket', 'fox sports austral...       False  \n",
      "167  ['fox cricket', 'cricket', 'fox sports austral...       False  \n",
      "168  ['fox cricket', 'cricket', 'fox sports austral...       False  \n",
      "\n",
      "[169 rows x 9 columns]\n"
     ]
    }
   ],
   "source": [
    "#Define the relative path to the CSV file\n",
    "csv_file_name = 'video_data.csv'\n",
    "csv_file_path = os.path.join(database_dir, csv_file_name)\n",
    "\n",
    "#Check if the CSV file exists before reading it\n",
    "if os.path.isfile(csv_file_path):\n",
    "    #Read the CSV file into a DataFrame\n",
    "    video_data = pd.read_csv(csv_file_path)\n",
    "    print(video_data)\n",
    "else:\n",
    "    print(f\"CSV file '{csv_file_name}' does not exist in the 'Database' folder.\")"
   ]
  },
  {
   "cell_type": "code",
   "execution_count": 5,
   "metadata": {},
   "outputs": [
    {
     "name": "stdout",
     "output_type": "stream",
     "text": [
      "         Video ID         User Name  \\\n",
      "0     7XFSkk-FtYw      A1a8l0h5a9d8   \n",
      "1     7XFSkk-FtYw     Rohit Bishnoi   \n",
      "2     7XFSkk-FtYw     Steve Skrobot   \n",
      "3     7XFSkk-FtYw      Mehedi Hasan   \n",
      "4     7XFSkk-FtYw      Mehedi Hasan   \n",
      "...           ...               ...   \n",
      "6103  ekwZCwc59WM      Vëdâñt Mêhtå   \n",
      "6104  ekwZCwc59WM    Eugenie Leduke   \n",
      "6105  ekwZCwc59WM     Tejesh Shetty   \n",
      "6106  ekwZCwc59WM      Emma Daggett   \n",
      "6107  ekwZCwc59WM  Christy Hamphrey   \n",
      "\n",
      "                                                Comment  \n",
      "0     I miss those days I wish I could go back then ...  \n",
      "1                Promoting 4k by uploading a 360p video  \n",
      "2     Where do they get this &#39;Tip &amp; Run&#39;...  \n",
      "3                        Best  movie i&#39;ve ever seen  \n",
      "4                           Fox CRICKET is the best❤🏏❤❤  \n",
      "...                                                 ...  \n",
      "6103                                             kinngg  \n",
      "6104  I miss your videos terribly. Could you please ...  \n",
      "6105                Indians like button&gt;&gt;&gt;&gt;  \n",
      "6106                     Your videos are of great use!👀  \n",
      "6107               You put your heart and soul into it💝  \n",
      "\n",
      "[6108 rows x 3 columns]\n"
     ]
    }
   ],
   "source": [
    "#Define the relative path to the CSV file\n",
    "csv_file_name = 'comments_data.csv'\n",
    "csv_file_path = os.path.join(database_dir, csv_file_name)\n",
    "\n",
    "#Check if the CSV file exists before reading it\n",
    "if os.path.isfile(csv_file_path):\n",
    "    #Read the CSV file into a DataFrame\n",
    "    comments_data = pd.read_csv(csv_file_path)\n",
    "    print(comments_data)\n",
    "else:\n",
    "    print(f\"CSV file '{csv_file_name}' does not exist in the 'Database' folder.\")"
   ]
  },
  {
   "cell_type": "code",
   "execution_count": 6,
   "metadata": {},
   "outputs": [
    {
     "data": {
      "text/html": [
       "<div>\n",
       "<style scoped>\n",
       "    .dataframe tbody tr th:only-of-type {\n",
       "        vertical-align: middle;\n",
       "    }\n",
       "\n",
       "    .dataframe tbody tr th {\n",
       "        vertical-align: top;\n",
       "    }\n",
       "\n",
       "    .dataframe thead th {\n",
       "        text-align: right;\n",
       "    }\n",
       "</style>\n",
       "<table border=\"1\" class=\"dataframe\">\n",
       "  <thead>\n",
       "    <tr style=\"text-align: right;\">\n",
       "      <th></th>\n",
       "      <th>Channel ID</th>\n",
       "      <th>Channel Name</th>\n",
       "      <th>Subscribers Count</th>\n",
       "      <th>Number of Videos</th>\n",
       "      <th>Location</th>\n",
       "      <th>Channel Image URL</th>\n",
       "    </tr>\n",
       "  </thead>\n",
       "  <tbody>\n",
       "    <tr>\n",
       "      <th>0</th>\n",
       "      <td>UCOkT6dccQ1vsnMFK1xJanmA</td>\n",
       "      <td>Fox Cricket</td>\n",
       "      <td>360000</td>\n",
       "      <td>681</td>\n",
       "      <td>AU</td>\n",
       "      <td>https://yt3.ggpht.com/ytc/APkrFKbfg5vBjLlT4Sgh...</td>\n",
       "    </tr>\n",
       "  </tbody>\n",
       "</table>\n",
       "</div>"
      ],
      "text/plain": [
       "                 Channel ID Channel Name  Subscribers Count  Number of Videos  \\\n",
       "0  UCOkT6dccQ1vsnMFK1xJanmA  Fox Cricket             360000               681   \n",
       "\n",
       "  Location                                  Channel Image URL  \n",
       "0       AU  https://yt3.ggpht.com/ytc/APkrFKbfg5vBjLlT4Sgh...  "
      ]
     },
     "execution_count": 6,
     "metadata": {},
     "output_type": "execute_result"
    }
   ],
   "source": [
    "channel_data.head()"
   ]
  },
  {
   "cell_type": "markdown",
   "metadata": {},
   "source": [
    "## Analyse the Video Data Set with User Engagement"
   ]
  },
  {
   "cell_type": "markdown",
   "metadata": {},
   "source": [
    "Graph of Top 05 Liked Videos of the Channel"
   ]
  },
  {
   "cell_type": "code",
   "execution_count": 7,
   "metadata": {},
   "outputs": [],
   "source": [
    "import os\n",
    "\n",
    "current_dir = os.getcwd()\n",
    "dashboard_project_dir = os.path.dirname(current_dir)\n",
    "graphs_dir = os.path.join(dashboard_project_dir, 'Assets', 'Exploratory Analysis Graphs')"
   ]
  },
  {
   "cell_type": "code",
   "execution_count": 8,
   "metadata": {},
   "outputs": [],
   "source": [
    "top_05_liked_videos = video_data.sort_values(\n",
    "    by='Likes Count', ascending=False).head(5)"
   ]
  },
  {
   "cell_type": "code",
   "execution_count": 9,
   "metadata": {},
   "outputs": [
    {
     "data": {
      "application/vnd.plotly.v1+json": {
       "config": {
        "plotlyServerURL": "https://plot.ly"
       },
       "data": [
        {
         "marker": {
          "color": [
           165333,
           117980,
           40747,
           35083,
           27550
          ],
          "colorscale": [
           [
            0,
            "rgb(0, 155, 158)"
           ],
           [
            0.16666666666666666,
            "rgb(66, 183, 185)"
           ],
           [
            0.3333333333333333,
            "rgb(167, 211, 212)"
           ],
           [
            0.5,
            "rgb(241, 241, 241)"
           ],
           [
            0.6666666666666666,
            "rgb(228, 193, 217)"
           ],
           [
            0.8333333333333334,
            "rgb(214, 145, 193)"
           ],
           [
            1,
            "rgb(199, 93, 171)"
           ]
          ]
         },
         "text": [
          165333,
          117980,
          40747,
          35083,
          27550
         ],
         "textposition": "outside",
         "type": "bar",
         "x": [
          "3sUMaRqoPmI",
          "Kk1P_91DaBI",
          "gN_tYrp1XiI",
          "SuaKWwAscp0",
          "apotlOc6jd4"
         ],
         "y": [
          165333,
          117980,
          40747,
          35083,
          27550
         ]
        }
       ],
       "layout": {
        "template": {
         "data": {
          "bar": [
           {
            "error_x": {
             "color": "#f2f5fa"
            },
            "error_y": {
             "color": "#f2f5fa"
            },
            "marker": {
             "line": {
              "color": "rgb(17,17,17)",
              "width": 0.5
             },
             "pattern": {
              "fillmode": "overlay",
              "size": 10,
              "solidity": 0.2
             }
            },
            "type": "bar"
           }
          ],
          "barpolar": [
           {
            "marker": {
             "line": {
              "color": "rgb(17,17,17)",
              "width": 0.5
             },
             "pattern": {
              "fillmode": "overlay",
              "size": 10,
              "solidity": 0.2
             }
            },
            "type": "barpolar"
           }
          ],
          "carpet": [
           {
            "aaxis": {
             "endlinecolor": "#A2B1C6",
             "gridcolor": "#506784",
             "linecolor": "#506784",
             "minorgridcolor": "#506784",
             "startlinecolor": "#A2B1C6"
            },
            "baxis": {
             "endlinecolor": "#A2B1C6",
             "gridcolor": "#506784",
             "linecolor": "#506784",
             "minorgridcolor": "#506784",
             "startlinecolor": "#A2B1C6"
            },
            "type": "carpet"
           }
          ],
          "choropleth": [
           {
            "colorbar": {
             "outlinewidth": 0,
             "ticks": ""
            },
            "type": "choropleth"
           }
          ],
          "contour": [
           {
            "colorbar": {
             "outlinewidth": 0,
             "ticks": ""
            },
            "colorscale": [
             [
              0,
              "#0d0887"
             ],
             [
              0.1111111111111111,
              "#46039f"
             ],
             [
              0.2222222222222222,
              "#7201a8"
             ],
             [
              0.3333333333333333,
              "#9c179e"
             ],
             [
              0.4444444444444444,
              "#bd3786"
             ],
             [
              0.5555555555555556,
              "#d8576b"
             ],
             [
              0.6666666666666666,
              "#ed7953"
             ],
             [
              0.7777777777777778,
              "#fb9f3a"
             ],
             [
              0.8888888888888888,
              "#fdca26"
             ],
             [
              1,
              "#f0f921"
             ]
            ],
            "type": "contour"
           }
          ],
          "contourcarpet": [
           {
            "colorbar": {
             "outlinewidth": 0,
             "ticks": ""
            },
            "type": "contourcarpet"
           }
          ],
          "heatmap": [
           {
            "colorbar": {
             "outlinewidth": 0,
             "ticks": ""
            },
            "colorscale": [
             [
              0,
              "#0d0887"
             ],
             [
              0.1111111111111111,
              "#46039f"
             ],
             [
              0.2222222222222222,
              "#7201a8"
             ],
             [
              0.3333333333333333,
              "#9c179e"
             ],
             [
              0.4444444444444444,
              "#bd3786"
             ],
             [
              0.5555555555555556,
              "#d8576b"
             ],
             [
              0.6666666666666666,
              "#ed7953"
             ],
             [
              0.7777777777777778,
              "#fb9f3a"
             ],
             [
              0.8888888888888888,
              "#fdca26"
             ],
             [
              1,
              "#f0f921"
             ]
            ],
            "type": "heatmap"
           }
          ],
          "heatmapgl": [
           {
            "colorbar": {
             "outlinewidth": 0,
             "ticks": ""
            },
            "colorscale": [
             [
              0,
              "#0d0887"
             ],
             [
              0.1111111111111111,
              "#46039f"
             ],
             [
              0.2222222222222222,
              "#7201a8"
             ],
             [
              0.3333333333333333,
              "#9c179e"
             ],
             [
              0.4444444444444444,
              "#bd3786"
             ],
             [
              0.5555555555555556,
              "#d8576b"
             ],
             [
              0.6666666666666666,
              "#ed7953"
             ],
             [
              0.7777777777777778,
              "#fb9f3a"
             ],
             [
              0.8888888888888888,
              "#fdca26"
             ],
             [
              1,
              "#f0f921"
             ]
            ],
            "type": "heatmapgl"
           }
          ],
          "histogram": [
           {
            "marker": {
             "pattern": {
              "fillmode": "overlay",
              "size": 10,
              "solidity": 0.2
             }
            },
            "type": "histogram"
           }
          ],
          "histogram2d": [
           {
            "colorbar": {
             "outlinewidth": 0,
             "ticks": ""
            },
            "colorscale": [
             [
              0,
              "#0d0887"
             ],
             [
              0.1111111111111111,
              "#46039f"
             ],
             [
              0.2222222222222222,
              "#7201a8"
             ],
             [
              0.3333333333333333,
              "#9c179e"
             ],
             [
              0.4444444444444444,
              "#bd3786"
             ],
             [
              0.5555555555555556,
              "#d8576b"
             ],
             [
              0.6666666666666666,
              "#ed7953"
             ],
             [
              0.7777777777777778,
              "#fb9f3a"
             ],
             [
              0.8888888888888888,
              "#fdca26"
             ],
             [
              1,
              "#f0f921"
             ]
            ],
            "type": "histogram2d"
           }
          ],
          "histogram2dcontour": [
           {
            "colorbar": {
             "outlinewidth": 0,
             "ticks": ""
            },
            "colorscale": [
             [
              0,
              "#0d0887"
             ],
             [
              0.1111111111111111,
              "#46039f"
             ],
             [
              0.2222222222222222,
              "#7201a8"
             ],
             [
              0.3333333333333333,
              "#9c179e"
             ],
             [
              0.4444444444444444,
              "#bd3786"
             ],
             [
              0.5555555555555556,
              "#d8576b"
             ],
             [
              0.6666666666666666,
              "#ed7953"
             ],
             [
              0.7777777777777778,
              "#fb9f3a"
             ],
             [
              0.8888888888888888,
              "#fdca26"
             ],
             [
              1,
              "#f0f921"
             ]
            ],
            "type": "histogram2dcontour"
           }
          ],
          "mesh3d": [
           {
            "colorbar": {
             "outlinewidth": 0,
             "ticks": ""
            },
            "type": "mesh3d"
           }
          ],
          "parcoords": [
           {
            "line": {
             "colorbar": {
              "outlinewidth": 0,
              "ticks": ""
             }
            },
            "type": "parcoords"
           }
          ],
          "pie": [
           {
            "automargin": true,
            "type": "pie"
           }
          ],
          "scatter": [
           {
            "marker": {
             "line": {
              "color": "#283442"
             }
            },
            "type": "scatter"
           }
          ],
          "scatter3d": [
           {
            "line": {
             "colorbar": {
              "outlinewidth": 0,
              "ticks": ""
             }
            },
            "marker": {
             "colorbar": {
              "outlinewidth": 0,
              "ticks": ""
             }
            },
            "type": "scatter3d"
           }
          ],
          "scattercarpet": [
           {
            "marker": {
             "colorbar": {
              "outlinewidth": 0,
              "ticks": ""
             }
            },
            "type": "scattercarpet"
           }
          ],
          "scattergeo": [
           {
            "marker": {
             "colorbar": {
              "outlinewidth": 0,
              "ticks": ""
             }
            },
            "type": "scattergeo"
           }
          ],
          "scattergl": [
           {
            "marker": {
             "line": {
              "color": "#283442"
             }
            },
            "type": "scattergl"
           }
          ],
          "scattermapbox": [
           {
            "marker": {
             "colorbar": {
              "outlinewidth": 0,
              "ticks": ""
             }
            },
            "type": "scattermapbox"
           }
          ],
          "scatterpolar": [
           {
            "marker": {
             "colorbar": {
              "outlinewidth": 0,
              "ticks": ""
             }
            },
            "type": "scatterpolar"
           }
          ],
          "scatterpolargl": [
           {
            "marker": {
             "colorbar": {
              "outlinewidth": 0,
              "ticks": ""
             }
            },
            "type": "scatterpolargl"
           }
          ],
          "scatterternary": [
           {
            "marker": {
             "colorbar": {
              "outlinewidth": 0,
              "ticks": ""
             }
            },
            "type": "scatterternary"
           }
          ],
          "surface": [
           {
            "colorbar": {
             "outlinewidth": 0,
             "ticks": ""
            },
            "colorscale": [
             [
              0,
              "#0d0887"
             ],
             [
              0.1111111111111111,
              "#46039f"
             ],
             [
              0.2222222222222222,
              "#7201a8"
             ],
             [
              0.3333333333333333,
              "#9c179e"
             ],
             [
              0.4444444444444444,
              "#bd3786"
             ],
             [
              0.5555555555555556,
              "#d8576b"
             ],
             [
              0.6666666666666666,
              "#ed7953"
             ],
             [
              0.7777777777777778,
              "#fb9f3a"
             ],
             [
              0.8888888888888888,
              "#fdca26"
             ],
             [
              1,
              "#f0f921"
             ]
            ],
            "type": "surface"
           }
          ],
          "table": [
           {
            "cells": {
             "fill": {
              "color": "#506784"
             },
             "line": {
              "color": "rgb(17,17,17)"
             }
            },
            "header": {
             "fill": {
              "color": "#2a3f5f"
             },
             "line": {
              "color": "rgb(17,17,17)"
             }
            },
            "type": "table"
           }
          ]
         },
         "layout": {
          "annotationdefaults": {
           "arrowcolor": "#f2f5fa",
           "arrowhead": 0,
           "arrowwidth": 1
          },
          "autotypenumbers": "strict",
          "coloraxis": {
           "colorbar": {
            "outlinewidth": 0,
            "ticks": ""
           }
          },
          "colorscale": {
           "diverging": [
            [
             0,
             "#8e0152"
            ],
            [
             0.1,
             "#c51b7d"
            ],
            [
             0.2,
             "#de77ae"
            ],
            [
             0.3,
             "#f1b6da"
            ],
            [
             0.4,
             "#fde0ef"
            ],
            [
             0.5,
             "#f7f7f7"
            ],
            [
             0.6,
             "#e6f5d0"
            ],
            [
             0.7,
             "#b8e186"
            ],
            [
             0.8,
             "#7fbc41"
            ],
            [
             0.9,
             "#4d9221"
            ],
            [
             1,
             "#276419"
            ]
           ],
           "sequential": [
            [
             0,
             "#0d0887"
            ],
            [
             0.1111111111111111,
             "#46039f"
            ],
            [
             0.2222222222222222,
             "#7201a8"
            ],
            [
             0.3333333333333333,
             "#9c179e"
            ],
            [
             0.4444444444444444,
             "#bd3786"
            ],
            [
             0.5555555555555556,
             "#d8576b"
            ],
            [
             0.6666666666666666,
             "#ed7953"
            ],
            [
             0.7777777777777778,
             "#fb9f3a"
            ],
            [
             0.8888888888888888,
             "#fdca26"
            ],
            [
             1,
             "#f0f921"
            ]
           ],
           "sequentialminus": [
            [
             0,
             "#0d0887"
            ],
            [
             0.1111111111111111,
             "#46039f"
            ],
            [
             0.2222222222222222,
             "#7201a8"
            ],
            [
             0.3333333333333333,
             "#9c179e"
            ],
            [
             0.4444444444444444,
             "#bd3786"
            ],
            [
             0.5555555555555556,
             "#d8576b"
            ],
            [
             0.6666666666666666,
             "#ed7953"
            ],
            [
             0.7777777777777778,
             "#fb9f3a"
            ],
            [
             0.8888888888888888,
             "#fdca26"
            ],
            [
             1,
             "#f0f921"
            ]
           ]
          },
          "colorway": [
           "#636efa",
           "#EF553B",
           "#00cc96",
           "#ab63fa",
           "#FFA15A",
           "#19d3f3",
           "#FF6692",
           "#B6E880",
           "#FF97FF",
           "#FECB52"
          ],
          "font": {
           "color": "#f2f5fa"
          },
          "geo": {
           "bgcolor": "rgb(17,17,17)",
           "lakecolor": "rgb(17,17,17)",
           "landcolor": "rgb(17,17,17)",
           "showlakes": true,
           "showland": true,
           "subunitcolor": "#506784"
          },
          "hoverlabel": {
           "align": "left"
          },
          "hovermode": "closest",
          "mapbox": {
           "style": "dark"
          },
          "paper_bgcolor": "rgb(17,17,17)",
          "plot_bgcolor": "rgb(17,17,17)",
          "polar": {
           "angularaxis": {
            "gridcolor": "#506784",
            "linecolor": "#506784",
            "ticks": ""
           },
           "bgcolor": "rgb(17,17,17)",
           "radialaxis": {
            "gridcolor": "#506784",
            "linecolor": "#506784",
            "ticks": ""
           }
          },
          "scene": {
           "xaxis": {
            "backgroundcolor": "rgb(17,17,17)",
            "gridcolor": "#506784",
            "gridwidth": 2,
            "linecolor": "#506784",
            "showbackground": true,
            "ticks": "",
            "zerolinecolor": "#C8D4E3"
           },
           "yaxis": {
            "backgroundcolor": "rgb(17,17,17)",
            "gridcolor": "#506784",
            "gridwidth": 2,
            "linecolor": "#506784",
            "showbackground": true,
            "ticks": "",
            "zerolinecolor": "#C8D4E3"
           },
           "zaxis": {
            "backgroundcolor": "rgb(17,17,17)",
            "gridcolor": "#506784",
            "gridwidth": 2,
            "linecolor": "#506784",
            "showbackground": true,
            "ticks": "",
            "zerolinecolor": "#C8D4E3"
           }
          },
          "shapedefaults": {
           "line": {
            "color": "#f2f5fa"
           }
          },
          "sliderdefaults": {
           "bgcolor": "#C8D4E3",
           "bordercolor": "rgb(17,17,17)",
           "borderwidth": 1,
           "tickwidth": 0
          },
          "ternary": {
           "aaxis": {
            "gridcolor": "#506784",
            "linecolor": "#506784",
            "ticks": ""
           },
           "baxis": {
            "gridcolor": "#506784",
            "linecolor": "#506784",
            "ticks": ""
           },
           "bgcolor": "rgb(17,17,17)",
           "caxis": {
            "gridcolor": "#506784",
            "linecolor": "#506784",
            "ticks": ""
           }
          },
          "title": {
           "x": 0.05
          },
          "updatemenudefaults": {
           "bgcolor": "#506784",
           "borderwidth": 0
          },
          "xaxis": {
           "automargin": true,
           "gridcolor": "#283442",
           "linecolor": "#506784",
           "ticks": "",
           "title": {
            "standoff": 15
           },
           "zerolinecolor": "#283442",
           "zerolinewidth": 2
          },
          "yaxis": {
           "automargin": true,
           "gridcolor": "#283442",
           "linecolor": "#506784",
           "ticks": "",
           "title": {
            "standoff": 15
           },
           "zerolinecolor": "#283442",
           "zerolinewidth": 2
          }
         }
        },
        "title": {
         "text": "Top 05 Videos by Likes Count"
        },
        "xaxis": {
         "title": {
          "text": "Video ID"
         }
        },
        "yaxis": {
         "title": {
          "text": "Likes Count"
         }
        }
       }
      }
     },
     "metadata": {},
     "output_type": "display_data"
    },
    {
     "name": "stdout",
     "output_type": "stream",
     "text": [
      "HTML file saved as c:\\Users\\Rameez\\OneDrive\\Dashboard Project\\Assets\\Exploratory Analysis Graphs\\Top_05_liked_videos_chart.html\n"
     ]
    }
   ],
   "source": [
    "import plotly.graph_objects as go\n",
    "\n",
    "#Create a bar chart using Plotly with a tropic theme gradient and y-value numbers on top of the bars\n",
    "fig_top_05_liked_videos = go.Figure(data=[\n",
    "    go.Bar(\n",
    "        x=top_05_liked_videos['Video ID'],\n",
    "        y=top_05_liked_videos['Likes Count'],\n",
    "        marker=dict(\n",
    "            color=top_05_liked_videos['Likes Count'], colorscale='tropic'),\n",
    "        text=top_05_liked_videos['Likes Count'],\n",
    "        textposition='outside',\n",
    "    )\n",
    "])\n",
    "\n",
    "fig_top_05_liked_videos.update_layout(\n",
    "    title='Top 05 Videos by Likes Count',\n",
    "    xaxis_title='Video ID',\n",
    "    yaxis_title='Likes Count',\n",
    "    template='plotly_dark'\n",
    ")\n",
    "\n",
    "fig_top_05_liked_videos.show()\n",
    "\n",
    "\n",
    "#Define the HTML file path using the relative path to 'Exploratory Analysis Graphs'\n",
    "html_file_name = 'Top_05_liked_videos_chart.html'\n",
    "html_file_path = os.path.join(graphs_dir, html_file_name)\n",
    "\n",
    "#Save the Plotly figure as an HTML file\n",
    "fig_top_05_liked_videos.write_html(html_file_path)\n",
    "\n",
    "print(f'HTML file saved as {html_file_path}')"
   ]
  },
  {
   "cell_type": "markdown",
   "metadata": {},
   "source": [
    "Graph of Top 05 Viewed Videos of the Channel"
   ]
  },
  {
   "cell_type": "code",
   "execution_count": 10,
   "metadata": {},
   "outputs": [],
   "source": [
    "top_05_viewed_videos = video_data.sort_values(\n",
    "    by='Views Count', ascending=False).head(5)"
   ]
  },
  {
   "cell_type": "code",
   "execution_count": 11,
   "metadata": {},
   "outputs": [
    {
     "data": {
      "application/vnd.plotly.v1+json": {
       "config": {
        "plotlyServerURL": "https://plot.ly"
       },
       "data": [
        {
         "marker": {
          "color": [
           12603932,
           6649671,
           2420771,
           1718371,
           1702098
          ],
          "colorscale": [
           [
            0,
            "rgb(254, 245, 244)"
           ],
           [
            0.09090909090909091,
            "rgb(222, 224, 210)"
           ],
           [
            0.18181818181818182,
            "rgb(189, 206, 181)"
           ],
           [
            0.2727272727272727,
            "rgb(153, 189, 156)"
           ],
           [
            0.36363636363636365,
            "rgb(110, 173, 138)"
           ],
           [
            0.45454545454545453,
            "rgb(65, 157, 129)"
           ],
           [
            0.5454545454545454,
            "rgb(25, 137, 125)"
           ],
           [
            0.6363636363636364,
            "rgb(18, 116, 117)"
           ],
           [
            0.7272727272727273,
            "rgb(25, 94, 106)"
           ],
           [
            0.8181818181818182,
            "rgb(28, 72, 93)"
           ],
           [
            0.9090909090909091,
            "rgb(25, 51, 80)"
           ],
           [
            1,
            "rgb(20, 29, 67)"
           ]
          ]
         },
         "text": [
          12603932,
          6649671,
          2420771,
          1718371,
          1702098
         ],
         "textposition": "outside",
         "type": "bar",
         "x": [
          "3sUMaRqoPmI",
          "Kk1P_91DaBI",
          "ypwMV7neRrQ",
          "gN_tYrp1XiI",
          "-oCSBez8COg"
         ],
         "y": [
          12603932,
          6649671,
          2420771,
          1718371,
          1702098
         ]
        }
       ],
       "layout": {
        "template": {
         "data": {
          "bar": [
           {
            "error_x": {
             "color": "#f2f5fa"
            },
            "error_y": {
             "color": "#f2f5fa"
            },
            "marker": {
             "line": {
              "color": "rgb(17,17,17)",
              "width": 0.5
             },
             "pattern": {
              "fillmode": "overlay",
              "size": 10,
              "solidity": 0.2
             }
            },
            "type": "bar"
           }
          ],
          "barpolar": [
           {
            "marker": {
             "line": {
              "color": "rgb(17,17,17)",
              "width": 0.5
             },
             "pattern": {
              "fillmode": "overlay",
              "size": 10,
              "solidity": 0.2
             }
            },
            "type": "barpolar"
           }
          ],
          "carpet": [
           {
            "aaxis": {
             "endlinecolor": "#A2B1C6",
             "gridcolor": "#506784",
             "linecolor": "#506784",
             "minorgridcolor": "#506784",
             "startlinecolor": "#A2B1C6"
            },
            "baxis": {
             "endlinecolor": "#A2B1C6",
             "gridcolor": "#506784",
             "linecolor": "#506784",
             "minorgridcolor": "#506784",
             "startlinecolor": "#A2B1C6"
            },
            "type": "carpet"
           }
          ],
          "choropleth": [
           {
            "colorbar": {
             "outlinewidth": 0,
             "ticks": ""
            },
            "type": "choropleth"
           }
          ],
          "contour": [
           {
            "colorbar": {
             "outlinewidth": 0,
             "ticks": ""
            },
            "colorscale": [
             [
              0,
              "#0d0887"
             ],
             [
              0.1111111111111111,
              "#46039f"
             ],
             [
              0.2222222222222222,
              "#7201a8"
             ],
             [
              0.3333333333333333,
              "#9c179e"
             ],
             [
              0.4444444444444444,
              "#bd3786"
             ],
             [
              0.5555555555555556,
              "#d8576b"
             ],
             [
              0.6666666666666666,
              "#ed7953"
             ],
             [
              0.7777777777777778,
              "#fb9f3a"
             ],
             [
              0.8888888888888888,
              "#fdca26"
             ],
             [
              1,
              "#f0f921"
             ]
            ],
            "type": "contour"
           }
          ],
          "contourcarpet": [
           {
            "colorbar": {
             "outlinewidth": 0,
             "ticks": ""
            },
            "type": "contourcarpet"
           }
          ],
          "heatmap": [
           {
            "colorbar": {
             "outlinewidth": 0,
             "ticks": ""
            },
            "colorscale": [
             [
              0,
              "#0d0887"
             ],
             [
              0.1111111111111111,
              "#46039f"
             ],
             [
              0.2222222222222222,
              "#7201a8"
             ],
             [
              0.3333333333333333,
              "#9c179e"
             ],
             [
              0.4444444444444444,
              "#bd3786"
             ],
             [
              0.5555555555555556,
              "#d8576b"
             ],
             [
              0.6666666666666666,
              "#ed7953"
             ],
             [
              0.7777777777777778,
              "#fb9f3a"
             ],
             [
              0.8888888888888888,
              "#fdca26"
             ],
             [
              1,
              "#f0f921"
             ]
            ],
            "type": "heatmap"
           }
          ],
          "heatmapgl": [
           {
            "colorbar": {
             "outlinewidth": 0,
             "ticks": ""
            },
            "colorscale": [
             [
              0,
              "#0d0887"
             ],
             [
              0.1111111111111111,
              "#46039f"
             ],
             [
              0.2222222222222222,
              "#7201a8"
             ],
             [
              0.3333333333333333,
              "#9c179e"
             ],
             [
              0.4444444444444444,
              "#bd3786"
             ],
             [
              0.5555555555555556,
              "#d8576b"
             ],
             [
              0.6666666666666666,
              "#ed7953"
             ],
             [
              0.7777777777777778,
              "#fb9f3a"
             ],
             [
              0.8888888888888888,
              "#fdca26"
             ],
             [
              1,
              "#f0f921"
             ]
            ],
            "type": "heatmapgl"
           }
          ],
          "histogram": [
           {
            "marker": {
             "pattern": {
              "fillmode": "overlay",
              "size": 10,
              "solidity": 0.2
             }
            },
            "type": "histogram"
           }
          ],
          "histogram2d": [
           {
            "colorbar": {
             "outlinewidth": 0,
             "ticks": ""
            },
            "colorscale": [
             [
              0,
              "#0d0887"
             ],
             [
              0.1111111111111111,
              "#46039f"
             ],
             [
              0.2222222222222222,
              "#7201a8"
             ],
             [
              0.3333333333333333,
              "#9c179e"
             ],
             [
              0.4444444444444444,
              "#bd3786"
             ],
             [
              0.5555555555555556,
              "#d8576b"
             ],
             [
              0.6666666666666666,
              "#ed7953"
             ],
             [
              0.7777777777777778,
              "#fb9f3a"
             ],
             [
              0.8888888888888888,
              "#fdca26"
             ],
             [
              1,
              "#f0f921"
             ]
            ],
            "type": "histogram2d"
           }
          ],
          "histogram2dcontour": [
           {
            "colorbar": {
             "outlinewidth": 0,
             "ticks": ""
            },
            "colorscale": [
             [
              0,
              "#0d0887"
             ],
             [
              0.1111111111111111,
              "#46039f"
             ],
             [
              0.2222222222222222,
              "#7201a8"
             ],
             [
              0.3333333333333333,
              "#9c179e"
             ],
             [
              0.4444444444444444,
              "#bd3786"
             ],
             [
              0.5555555555555556,
              "#d8576b"
             ],
             [
              0.6666666666666666,
              "#ed7953"
             ],
             [
              0.7777777777777778,
              "#fb9f3a"
             ],
             [
              0.8888888888888888,
              "#fdca26"
             ],
             [
              1,
              "#f0f921"
             ]
            ],
            "type": "histogram2dcontour"
           }
          ],
          "mesh3d": [
           {
            "colorbar": {
             "outlinewidth": 0,
             "ticks": ""
            },
            "type": "mesh3d"
           }
          ],
          "parcoords": [
           {
            "line": {
             "colorbar": {
              "outlinewidth": 0,
              "ticks": ""
             }
            },
            "type": "parcoords"
           }
          ],
          "pie": [
           {
            "automargin": true,
            "type": "pie"
           }
          ],
          "scatter": [
           {
            "marker": {
             "line": {
              "color": "#283442"
             }
            },
            "type": "scatter"
           }
          ],
          "scatter3d": [
           {
            "line": {
             "colorbar": {
              "outlinewidth": 0,
              "ticks": ""
             }
            },
            "marker": {
             "colorbar": {
              "outlinewidth": 0,
              "ticks": ""
             }
            },
            "type": "scatter3d"
           }
          ],
          "scattercarpet": [
           {
            "marker": {
             "colorbar": {
              "outlinewidth": 0,
              "ticks": ""
             }
            },
            "type": "scattercarpet"
           }
          ],
          "scattergeo": [
           {
            "marker": {
             "colorbar": {
              "outlinewidth": 0,
              "ticks": ""
             }
            },
            "type": "scattergeo"
           }
          ],
          "scattergl": [
           {
            "marker": {
             "line": {
              "color": "#283442"
             }
            },
            "type": "scattergl"
           }
          ],
          "scattermapbox": [
           {
            "marker": {
             "colorbar": {
              "outlinewidth": 0,
              "ticks": ""
             }
            },
            "type": "scattermapbox"
           }
          ],
          "scatterpolar": [
           {
            "marker": {
             "colorbar": {
              "outlinewidth": 0,
              "ticks": ""
             }
            },
            "type": "scatterpolar"
           }
          ],
          "scatterpolargl": [
           {
            "marker": {
             "colorbar": {
              "outlinewidth": 0,
              "ticks": ""
             }
            },
            "type": "scatterpolargl"
           }
          ],
          "scatterternary": [
           {
            "marker": {
             "colorbar": {
              "outlinewidth": 0,
              "ticks": ""
             }
            },
            "type": "scatterternary"
           }
          ],
          "surface": [
           {
            "colorbar": {
             "outlinewidth": 0,
             "ticks": ""
            },
            "colorscale": [
             [
              0,
              "#0d0887"
             ],
             [
              0.1111111111111111,
              "#46039f"
             ],
             [
              0.2222222222222222,
              "#7201a8"
             ],
             [
              0.3333333333333333,
              "#9c179e"
             ],
             [
              0.4444444444444444,
              "#bd3786"
             ],
             [
              0.5555555555555556,
              "#d8576b"
             ],
             [
              0.6666666666666666,
              "#ed7953"
             ],
             [
              0.7777777777777778,
              "#fb9f3a"
             ],
             [
              0.8888888888888888,
              "#fdca26"
             ],
             [
              1,
              "#f0f921"
             ]
            ],
            "type": "surface"
           }
          ],
          "table": [
           {
            "cells": {
             "fill": {
              "color": "#506784"
             },
             "line": {
              "color": "rgb(17,17,17)"
             }
            },
            "header": {
             "fill": {
              "color": "#2a3f5f"
             },
             "line": {
              "color": "rgb(17,17,17)"
             }
            },
            "type": "table"
           }
          ]
         },
         "layout": {
          "annotationdefaults": {
           "arrowcolor": "#f2f5fa",
           "arrowhead": 0,
           "arrowwidth": 1
          },
          "autotypenumbers": "strict",
          "coloraxis": {
           "colorbar": {
            "outlinewidth": 0,
            "ticks": ""
           }
          },
          "colorscale": {
           "diverging": [
            [
             0,
             "#8e0152"
            ],
            [
             0.1,
             "#c51b7d"
            ],
            [
             0.2,
             "#de77ae"
            ],
            [
             0.3,
             "#f1b6da"
            ],
            [
             0.4,
             "#fde0ef"
            ],
            [
             0.5,
             "#f7f7f7"
            ],
            [
             0.6,
             "#e6f5d0"
            ],
            [
             0.7,
             "#b8e186"
            ],
            [
             0.8,
             "#7fbc41"
            ],
            [
             0.9,
             "#4d9221"
            ],
            [
             1,
             "#276419"
            ]
           ],
           "sequential": [
            [
             0,
             "#0d0887"
            ],
            [
             0.1111111111111111,
             "#46039f"
            ],
            [
             0.2222222222222222,
             "#7201a8"
            ],
            [
             0.3333333333333333,
             "#9c179e"
            ],
            [
             0.4444444444444444,
             "#bd3786"
            ],
            [
             0.5555555555555556,
             "#d8576b"
            ],
            [
             0.6666666666666666,
             "#ed7953"
            ],
            [
             0.7777777777777778,
             "#fb9f3a"
            ],
            [
             0.8888888888888888,
             "#fdca26"
            ],
            [
             1,
             "#f0f921"
            ]
           ],
           "sequentialminus": [
            [
             0,
             "#0d0887"
            ],
            [
             0.1111111111111111,
             "#46039f"
            ],
            [
             0.2222222222222222,
             "#7201a8"
            ],
            [
             0.3333333333333333,
             "#9c179e"
            ],
            [
             0.4444444444444444,
             "#bd3786"
            ],
            [
             0.5555555555555556,
             "#d8576b"
            ],
            [
             0.6666666666666666,
             "#ed7953"
            ],
            [
             0.7777777777777778,
             "#fb9f3a"
            ],
            [
             0.8888888888888888,
             "#fdca26"
            ],
            [
             1,
             "#f0f921"
            ]
           ]
          },
          "colorway": [
           "#636efa",
           "#EF553B",
           "#00cc96",
           "#ab63fa",
           "#FFA15A",
           "#19d3f3",
           "#FF6692",
           "#B6E880",
           "#FF97FF",
           "#FECB52"
          ],
          "font": {
           "color": "#f2f5fa"
          },
          "geo": {
           "bgcolor": "rgb(17,17,17)",
           "lakecolor": "rgb(17,17,17)",
           "landcolor": "rgb(17,17,17)",
           "showlakes": true,
           "showland": true,
           "subunitcolor": "#506784"
          },
          "hoverlabel": {
           "align": "left"
          },
          "hovermode": "closest",
          "mapbox": {
           "style": "dark"
          },
          "paper_bgcolor": "rgb(17,17,17)",
          "plot_bgcolor": "rgb(17,17,17)",
          "polar": {
           "angularaxis": {
            "gridcolor": "#506784",
            "linecolor": "#506784",
            "ticks": ""
           },
           "bgcolor": "rgb(17,17,17)",
           "radialaxis": {
            "gridcolor": "#506784",
            "linecolor": "#506784",
            "ticks": ""
           }
          },
          "scene": {
           "xaxis": {
            "backgroundcolor": "rgb(17,17,17)",
            "gridcolor": "#506784",
            "gridwidth": 2,
            "linecolor": "#506784",
            "showbackground": true,
            "ticks": "",
            "zerolinecolor": "#C8D4E3"
           },
           "yaxis": {
            "backgroundcolor": "rgb(17,17,17)",
            "gridcolor": "#506784",
            "gridwidth": 2,
            "linecolor": "#506784",
            "showbackground": true,
            "ticks": "",
            "zerolinecolor": "#C8D4E3"
           },
           "zaxis": {
            "backgroundcolor": "rgb(17,17,17)",
            "gridcolor": "#506784",
            "gridwidth": 2,
            "linecolor": "#506784",
            "showbackground": true,
            "ticks": "",
            "zerolinecolor": "#C8D4E3"
           }
          },
          "shapedefaults": {
           "line": {
            "color": "#f2f5fa"
           }
          },
          "sliderdefaults": {
           "bgcolor": "#C8D4E3",
           "bordercolor": "rgb(17,17,17)",
           "borderwidth": 1,
           "tickwidth": 0
          },
          "ternary": {
           "aaxis": {
            "gridcolor": "#506784",
            "linecolor": "#506784",
            "ticks": ""
           },
           "baxis": {
            "gridcolor": "#506784",
            "linecolor": "#506784",
            "ticks": ""
           },
           "bgcolor": "rgb(17,17,17)",
           "caxis": {
            "gridcolor": "#506784",
            "linecolor": "#506784",
            "ticks": ""
           }
          },
          "title": {
           "x": 0.05
          },
          "updatemenudefaults": {
           "bgcolor": "#506784",
           "borderwidth": 0
          },
          "xaxis": {
           "automargin": true,
           "gridcolor": "#283442",
           "linecolor": "#506784",
           "ticks": "",
           "title": {
            "standoff": 15
           },
           "zerolinecolor": "#283442",
           "zerolinewidth": 2
          },
          "yaxis": {
           "automargin": true,
           "gridcolor": "#283442",
           "linecolor": "#506784",
           "ticks": "",
           "title": {
            "standoff": 15
           },
           "zerolinecolor": "#283442",
           "zerolinewidth": 2
          }
         }
        },
        "title": {
         "text": "Top 05 Videos by Views Count"
        },
        "xaxis": {
         "title": {
          "text": "Video ID"
         }
        },
        "yaxis": {
         "title": {
          "text": "Views Count"
         }
        }
       }
      }
     },
     "metadata": {},
     "output_type": "display_data"
    },
    {
     "name": "stdout",
     "output_type": "stream",
     "text": [
      "HTML file saved as c:\\Users\\Rameez\\OneDrive\\Dashboard Project\\Assets\\Exploratory Analysis Graphs\\Top_05_viewed_videos_chart.html\n"
     ]
    }
   ],
   "source": [
    "#Create a bar chart using Plotly with a tempo color gradient and y-value numbers on top of the bars\n",
    "fig_top_05_viewed_videos = go.Figure(data=[\n",
    "    go.Bar(\n",
    "        x=top_05_viewed_videos['Video ID'],\n",
    "        y=top_05_viewed_videos['Views Count'],\n",
    "        marker=dict(\n",
    "            color=top_05_viewed_videos['Views Count'], colorscale='tempo'),\n",
    "        text=top_05_viewed_videos['Views Count'],\n",
    "        textposition='outside',  # Display text outside the bars\n",
    "    )\n",
    "])\n",
    "\n",
    "fig_top_05_viewed_videos.update_layout(\n",
    "    title='Top 05 Videos by Views Count',\n",
    "    xaxis_title='Video ID',\n",
    "    yaxis_title='Views Count',\n",
    "    template='plotly_dark'\n",
    ")\n",
    "\n",
    "fig_top_05_viewed_videos.show()\n",
    "\n",
    "\n",
    "#Define the HTML file path using the relative path to 'Exploratory Analysis Graphs'\n",
    "html_file_name = 'Top_05_viewed_videos_chart.html'\n",
    "html_file_path = os.path.join(graphs_dir, html_file_name)\n",
    "\n",
    "#Save the Plotly figure as an HTML file\n",
    "fig_top_05_viewed_videos.write_html(html_file_path)\n",
    "\n",
    "print(f'HTML file saved as {html_file_path}')\n"
   ]
  },
  {
   "cell_type": "markdown",
   "metadata": {},
   "source": [
    "## Key Words (Hashtags) Behaviour for the Videos"
   ]
  },
  {
   "cell_type": "markdown",
   "metadata": {},
   "source": [
    "Graph of Top 05 Hashtags by View Count"
   ]
  },
  {
   "cell_type": "code",
   "execution_count": 12,
   "metadata": {},
   "outputs": [],
   "source": [
    "#Seperate hashtags from video data\n",
    "hashtags = video_data['Hashtags'].str.split(\n",
    "    ',', expand=True).stack().str.strip().reset_index(level=1, drop=True)\n",
    "\n",
    "#Remove [ ,] from hashtags\n",
    "hashtags = hashtags.str.replace('[', '')\n",
    "hashtags = hashtags.str.replace(']', '')\n",
    "\n",
    "#Remove empty rows\n",
    "hashtags = hashtags[hashtags != '']\n",
    "\n",
    "#Remove duplicates\n",
    "unique_hashtags = hashtags.drop_duplicates()"
   ]
  },
  {
   "cell_type": "code",
   "execution_count": 13,
   "metadata": {},
   "outputs": [],
   "source": [
    "#Initialize a dictionary to store data for each unique hashtag\n",
    "hashtags_data = {'unique hashtags': [], 'Video ID list': [],\n",
    "                 'hash_views_count': [], 'hash_likes_count': []}\n"
   ]
  },
  {
   "cell_type": "code",
   "execution_count": 14,
   "metadata": {},
   "outputs": [],
   "source": [
    "#Iterate through the unique hashtags and calculate data\n",
    "for hashtag in unique_hashtags:\n",
    "    video_ids = []\n",
    "    views_count = 0\n",
    "    likes_count = 0\n",
    "\n",
    "    for index, row in video_data.iterrows():\n",
    "        if hashtag in row['Hashtags']:\n",
    "            video_ids.append(row['Video ID'])\n",
    "            views_count += row['Views Count']\n",
    "            likes_count += row['Likes Count']\n",
    "\n",
    "    hashtags_data['unique hashtags'].append(hashtag)\n",
    "    hashtags_data['Video ID list'].append(video_ids)\n",
    "    hashtags_data['hash_views_count'].append(views_count)\n",
    "    hashtags_data['hash_likes_count'].append(likes_count)"
   ]
  },
  {
   "cell_type": "code",
   "execution_count": 15,
   "metadata": {},
   "outputs": [
    {
     "data": {
      "text/html": [
       "<div>\n",
       "<style scoped>\n",
       "    .dataframe tbody tr th:only-of-type {\n",
       "        vertical-align: middle;\n",
       "    }\n",
       "\n",
       "    .dataframe tbody tr th {\n",
       "        vertical-align: top;\n",
       "    }\n",
       "\n",
       "    .dataframe thead th {\n",
       "        text-align: right;\n",
       "    }\n",
       "</style>\n",
       "<table border=\"1\" class=\"dataframe\">\n",
       "  <thead>\n",
       "    <tr style=\"text-align: right;\">\n",
       "      <th></th>\n",
       "      <th>unique hashtags</th>\n",
       "      <th>Video ID list</th>\n",
       "      <th>hash_views_count</th>\n",
       "      <th>hash_likes_count</th>\n",
       "    </tr>\n",
       "  </thead>\n",
       "  <tbody>\n",
       "    <tr>\n",
       "      <th>0</th>\n",
       "      <td>'fox sports'</td>\n",
       "      <td>[7XFSkk-FtYw, W_1bpHPMa2A, n3wBE22Kuvc, udPy-h...</td>\n",
       "      <td>1600680</td>\n",
       "      <td>27274</td>\n",
       "    </tr>\n",
       "    <tr>\n",
       "      <th>1</th>\n",
       "      <td>'australia'</td>\n",
       "      <td>[7XFSkk-FtYw, W_1bpHPMa2A, n3wBE22Kuvc, udPy-h...</td>\n",
       "      <td>38136848</td>\n",
       "      <td>586096</td>\n",
       "    </tr>\n",
       "    <tr>\n",
       "      <th>2</th>\n",
       "      <td>'sports'</td>\n",
       "      <td>[7XFSkk-FtYw, W_1bpHPMa2A, n3wBE22Kuvc, udPy-h...</td>\n",
       "      <td>1600680</td>\n",
       "      <td>27274</td>\n",
       "    </tr>\n",
       "    <tr>\n",
       "      <th>3</th>\n",
       "      <td>'cricket'</td>\n",
       "      <td>[7XFSkk-FtYw, W_1bpHPMa2A, n3wBE22Kuvc, udPy-h...</td>\n",
       "      <td>44815554</td>\n",
       "      <td>704632</td>\n",
       "    </tr>\n",
       "    <tr>\n",
       "      <th>4</th>\n",
       "      <td>'Foxcricket'</td>\n",
       "      <td>[7XFSkk-FtYw]</td>\n",
       "      <td>24315</td>\n",
       "      <td>423</td>\n",
       "    </tr>\n",
       "    <tr>\n",
       "      <th>...</th>\n",
       "      <td>...</td>\n",
       "      <td>...</td>\n",
       "      <td>...</td>\n",
       "      <td>...</td>\n",
       "    </tr>\n",
       "    <tr>\n",
       "      <th>326</th>\n",
       "      <td>'Ravichandran Ashwin'</td>\n",
       "      <td>[oH9mnAfXp_k, H1qaecQZGl4, 4973MQard9o, A0wLx7...</td>\n",
       "      <td>1152222</td>\n",
       "      <td>14362</td>\n",
       "    </tr>\n",
       "    <tr>\n",
       "      <th>327</th>\n",
       "      <td>'Alan Border'</td>\n",
       "      <td>[oH9mnAfXp_k]</td>\n",
       "      <td>423802</td>\n",
       "      <td>5123</td>\n",
       "    </tr>\n",
       "    <tr>\n",
       "      <th>328</th>\n",
       "      <td>'Axar Patel'</td>\n",
       "      <td>[oH9mnAfXp_k]</td>\n",
       "      <td>423802</td>\n",
       "      <td>5123</td>\n",
       "    </tr>\n",
       "    <tr>\n",
       "      <th>329</th>\n",
       "      <td>'India vs. Australia'</td>\n",
       "      <td>[4973MQard9o]</td>\n",
       "      <td>65492</td>\n",
       "      <td>835</td>\n",
       "    </tr>\n",
       "    <tr>\n",
       "      <th>330</th>\n",
       "      <td>'Travis Head'</td>\n",
       "      <td>[4973MQard9o]</td>\n",
       "      <td>65492</td>\n",
       "      <td>835</td>\n",
       "    </tr>\n",
       "  </tbody>\n",
       "</table>\n",
       "<p>331 rows × 4 columns</p>\n",
       "</div>"
      ],
      "text/plain": [
       "           unique hashtags                                      Video ID list  \\\n",
       "0             'fox sports'  [7XFSkk-FtYw, W_1bpHPMa2A, n3wBE22Kuvc, udPy-h...   \n",
       "1              'australia'  [7XFSkk-FtYw, W_1bpHPMa2A, n3wBE22Kuvc, udPy-h...   \n",
       "2                 'sports'  [7XFSkk-FtYw, W_1bpHPMa2A, n3wBE22Kuvc, udPy-h...   \n",
       "3                'cricket'  [7XFSkk-FtYw, W_1bpHPMa2A, n3wBE22Kuvc, udPy-h...   \n",
       "4             'Foxcricket'                                      [7XFSkk-FtYw]   \n",
       "..                     ...                                                ...   \n",
       "326  'Ravichandran Ashwin'  [oH9mnAfXp_k, H1qaecQZGl4, 4973MQard9o, A0wLx7...   \n",
       "327          'Alan Border'                                      [oH9mnAfXp_k]   \n",
       "328           'Axar Patel'                                      [oH9mnAfXp_k]   \n",
       "329  'India vs. Australia'                                      [4973MQard9o]   \n",
       "330          'Travis Head'                                      [4973MQard9o]   \n",
       "\n",
       "     hash_views_count  hash_likes_count  \n",
       "0             1600680             27274  \n",
       "1            38136848            586096  \n",
       "2             1600680             27274  \n",
       "3            44815554            704632  \n",
       "4               24315               423  \n",
       "..                ...               ...  \n",
       "326           1152222             14362  \n",
       "327            423802              5123  \n",
       "328            423802              5123  \n",
       "329             65492               835  \n",
       "330             65492               835  \n",
       "\n",
       "[331 rows x 4 columns]"
      ]
     },
     "execution_count": 15,
     "metadata": {},
     "output_type": "execute_result"
    }
   ],
   "source": [
    "#Create the \"unique_hashtags_data\" DataFrame\n",
    "unique_hashtags_data = pd.DataFrame(hashtags_data)\n",
    "\n",
    "unique_hashtags_data"
   ]
  },
  {
   "cell_type": "code",
   "execution_count": 16,
   "metadata": {},
   "outputs": [
    {
     "data": {
      "application/vnd.plotly.v1+json": {
       "config": {
        "plotlyServerURL": "https://plot.ly"
       },
       "data": [
        {
         "marker": {
          "color": [
           44815554,
           43222078,
           38136848,
           36517397,
           36356728
          ],
          "colorscale": [
           [
            0,
            "#e2d9e2"
           ],
           [
            0.1111111111111111,
            "#9ebbc9"
           ],
           [
            0.2222222222222222,
            "#6785be"
           ],
           [
            0.3333333333333333,
            "#5e43a5"
           ],
           [
            0.4444444444444444,
            "#421257"
           ],
           [
            0.5555555555555556,
            "#471340"
           ],
           [
            0.6666666666666666,
            "#8e2c50"
           ],
           [
            0.7777777777777778,
            "#ba6657"
           ],
           [
            0.8888888888888888,
            "#ceac94"
           ],
           [
            1,
            "#e2d9e2"
           ]
          ]
         },
         "text": [
          44815554,
          43222078,
          38136848,
          36517397,
          36356728
         ],
         "textposition": "outside",
         "type": "bar",
         "x": [
          "'cricket'",
          "'fox cricket'",
          "'australia'",
          "'fox sports australia'",
          "'fox sports aus'"
         ],
         "y": [
          44815554,
          43222078,
          38136848,
          36517397,
          36356728
         ]
        }
       ],
       "layout": {
        "template": {
         "data": {
          "bar": [
           {
            "error_x": {
             "color": "#f2f5fa"
            },
            "error_y": {
             "color": "#f2f5fa"
            },
            "marker": {
             "line": {
              "color": "rgb(17,17,17)",
              "width": 0.5
             },
             "pattern": {
              "fillmode": "overlay",
              "size": 10,
              "solidity": 0.2
             }
            },
            "type": "bar"
           }
          ],
          "barpolar": [
           {
            "marker": {
             "line": {
              "color": "rgb(17,17,17)",
              "width": 0.5
             },
             "pattern": {
              "fillmode": "overlay",
              "size": 10,
              "solidity": 0.2
             }
            },
            "type": "barpolar"
           }
          ],
          "carpet": [
           {
            "aaxis": {
             "endlinecolor": "#A2B1C6",
             "gridcolor": "#506784",
             "linecolor": "#506784",
             "minorgridcolor": "#506784",
             "startlinecolor": "#A2B1C6"
            },
            "baxis": {
             "endlinecolor": "#A2B1C6",
             "gridcolor": "#506784",
             "linecolor": "#506784",
             "minorgridcolor": "#506784",
             "startlinecolor": "#A2B1C6"
            },
            "type": "carpet"
           }
          ],
          "choropleth": [
           {
            "colorbar": {
             "outlinewidth": 0,
             "ticks": ""
            },
            "type": "choropleth"
           }
          ],
          "contour": [
           {
            "colorbar": {
             "outlinewidth": 0,
             "ticks": ""
            },
            "colorscale": [
             [
              0,
              "#0d0887"
             ],
             [
              0.1111111111111111,
              "#46039f"
             ],
             [
              0.2222222222222222,
              "#7201a8"
             ],
             [
              0.3333333333333333,
              "#9c179e"
             ],
             [
              0.4444444444444444,
              "#bd3786"
             ],
             [
              0.5555555555555556,
              "#d8576b"
             ],
             [
              0.6666666666666666,
              "#ed7953"
             ],
             [
              0.7777777777777778,
              "#fb9f3a"
             ],
             [
              0.8888888888888888,
              "#fdca26"
             ],
             [
              1,
              "#f0f921"
             ]
            ],
            "type": "contour"
           }
          ],
          "contourcarpet": [
           {
            "colorbar": {
             "outlinewidth": 0,
             "ticks": ""
            },
            "type": "contourcarpet"
           }
          ],
          "heatmap": [
           {
            "colorbar": {
             "outlinewidth": 0,
             "ticks": ""
            },
            "colorscale": [
             [
              0,
              "#0d0887"
             ],
             [
              0.1111111111111111,
              "#46039f"
             ],
             [
              0.2222222222222222,
              "#7201a8"
             ],
             [
              0.3333333333333333,
              "#9c179e"
             ],
             [
              0.4444444444444444,
              "#bd3786"
             ],
             [
              0.5555555555555556,
              "#d8576b"
             ],
             [
              0.6666666666666666,
              "#ed7953"
             ],
             [
              0.7777777777777778,
              "#fb9f3a"
             ],
             [
              0.8888888888888888,
              "#fdca26"
             ],
             [
              1,
              "#f0f921"
             ]
            ],
            "type": "heatmap"
           }
          ],
          "heatmapgl": [
           {
            "colorbar": {
             "outlinewidth": 0,
             "ticks": ""
            },
            "colorscale": [
             [
              0,
              "#0d0887"
             ],
             [
              0.1111111111111111,
              "#46039f"
             ],
             [
              0.2222222222222222,
              "#7201a8"
             ],
             [
              0.3333333333333333,
              "#9c179e"
             ],
             [
              0.4444444444444444,
              "#bd3786"
             ],
             [
              0.5555555555555556,
              "#d8576b"
             ],
             [
              0.6666666666666666,
              "#ed7953"
             ],
             [
              0.7777777777777778,
              "#fb9f3a"
             ],
             [
              0.8888888888888888,
              "#fdca26"
             ],
             [
              1,
              "#f0f921"
             ]
            ],
            "type": "heatmapgl"
           }
          ],
          "histogram": [
           {
            "marker": {
             "pattern": {
              "fillmode": "overlay",
              "size": 10,
              "solidity": 0.2
             }
            },
            "type": "histogram"
           }
          ],
          "histogram2d": [
           {
            "colorbar": {
             "outlinewidth": 0,
             "ticks": ""
            },
            "colorscale": [
             [
              0,
              "#0d0887"
             ],
             [
              0.1111111111111111,
              "#46039f"
             ],
             [
              0.2222222222222222,
              "#7201a8"
             ],
             [
              0.3333333333333333,
              "#9c179e"
             ],
             [
              0.4444444444444444,
              "#bd3786"
             ],
             [
              0.5555555555555556,
              "#d8576b"
             ],
             [
              0.6666666666666666,
              "#ed7953"
             ],
             [
              0.7777777777777778,
              "#fb9f3a"
             ],
             [
              0.8888888888888888,
              "#fdca26"
             ],
             [
              1,
              "#f0f921"
             ]
            ],
            "type": "histogram2d"
           }
          ],
          "histogram2dcontour": [
           {
            "colorbar": {
             "outlinewidth": 0,
             "ticks": ""
            },
            "colorscale": [
             [
              0,
              "#0d0887"
             ],
             [
              0.1111111111111111,
              "#46039f"
             ],
             [
              0.2222222222222222,
              "#7201a8"
             ],
             [
              0.3333333333333333,
              "#9c179e"
             ],
             [
              0.4444444444444444,
              "#bd3786"
             ],
             [
              0.5555555555555556,
              "#d8576b"
             ],
             [
              0.6666666666666666,
              "#ed7953"
             ],
             [
              0.7777777777777778,
              "#fb9f3a"
             ],
             [
              0.8888888888888888,
              "#fdca26"
             ],
             [
              1,
              "#f0f921"
             ]
            ],
            "type": "histogram2dcontour"
           }
          ],
          "mesh3d": [
           {
            "colorbar": {
             "outlinewidth": 0,
             "ticks": ""
            },
            "type": "mesh3d"
           }
          ],
          "parcoords": [
           {
            "line": {
             "colorbar": {
              "outlinewidth": 0,
              "ticks": ""
             }
            },
            "type": "parcoords"
           }
          ],
          "pie": [
           {
            "automargin": true,
            "type": "pie"
           }
          ],
          "scatter": [
           {
            "marker": {
             "line": {
              "color": "#283442"
             }
            },
            "type": "scatter"
           }
          ],
          "scatter3d": [
           {
            "line": {
             "colorbar": {
              "outlinewidth": 0,
              "ticks": ""
             }
            },
            "marker": {
             "colorbar": {
              "outlinewidth": 0,
              "ticks": ""
             }
            },
            "type": "scatter3d"
           }
          ],
          "scattercarpet": [
           {
            "marker": {
             "colorbar": {
              "outlinewidth": 0,
              "ticks": ""
             }
            },
            "type": "scattercarpet"
           }
          ],
          "scattergeo": [
           {
            "marker": {
             "colorbar": {
              "outlinewidth": 0,
              "ticks": ""
             }
            },
            "type": "scattergeo"
           }
          ],
          "scattergl": [
           {
            "marker": {
             "line": {
              "color": "#283442"
             }
            },
            "type": "scattergl"
           }
          ],
          "scattermapbox": [
           {
            "marker": {
             "colorbar": {
              "outlinewidth": 0,
              "ticks": ""
             }
            },
            "type": "scattermapbox"
           }
          ],
          "scatterpolar": [
           {
            "marker": {
             "colorbar": {
              "outlinewidth": 0,
              "ticks": ""
             }
            },
            "type": "scatterpolar"
           }
          ],
          "scatterpolargl": [
           {
            "marker": {
             "colorbar": {
              "outlinewidth": 0,
              "ticks": ""
             }
            },
            "type": "scatterpolargl"
           }
          ],
          "scatterternary": [
           {
            "marker": {
             "colorbar": {
              "outlinewidth": 0,
              "ticks": ""
             }
            },
            "type": "scatterternary"
           }
          ],
          "surface": [
           {
            "colorbar": {
             "outlinewidth": 0,
             "ticks": ""
            },
            "colorscale": [
             [
              0,
              "#0d0887"
             ],
             [
              0.1111111111111111,
              "#46039f"
             ],
             [
              0.2222222222222222,
              "#7201a8"
             ],
             [
              0.3333333333333333,
              "#9c179e"
             ],
             [
              0.4444444444444444,
              "#bd3786"
             ],
             [
              0.5555555555555556,
              "#d8576b"
             ],
             [
              0.6666666666666666,
              "#ed7953"
             ],
             [
              0.7777777777777778,
              "#fb9f3a"
             ],
             [
              0.8888888888888888,
              "#fdca26"
             ],
             [
              1,
              "#f0f921"
             ]
            ],
            "type": "surface"
           }
          ],
          "table": [
           {
            "cells": {
             "fill": {
              "color": "#506784"
             },
             "line": {
              "color": "rgb(17,17,17)"
             }
            },
            "header": {
             "fill": {
              "color": "#2a3f5f"
             },
             "line": {
              "color": "rgb(17,17,17)"
             }
            },
            "type": "table"
           }
          ]
         },
         "layout": {
          "annotationdefaults": {
           "arrowcolor": "#f2f5fa",
           "arrowhead": 0,
           "arrowwidth": 1
          },
          "autotypenumbers": "strict",
          "coloraxis": {
           "colorbar": {
            "outlinewidth": 0,
            "ticks": ""
           }
          },
          "colorscale": {
           "diverging": [
            [
             0,
             "#8e0152"
            ],
            [
             0.1,
             "#c51b7d"
            ],
            [
             0.2,
             "#de77ae"
            ],
            [
             0.3,
             "#f1b6da"
            ],
            [
             0.4,
             "#fde0ef"
            ],
            [
             0.5,
             "#f7f7f7"
            ],
            [
             0.6,
             "#e6f5d0"
            ],
            [
             0.7,
             "#b8e186"
            ],
            [
             0.8,
             "#7fbc41"
            ],
            [
             0.9,
             "#4d9221"
            ],
            [
             1,
             "#276419"
            ]
           ],
           "sequential": [
            [
             0,
             "#0d0887"
            ],
            [
             0.1111111111111111,
             "#46039f"
            ],
            [
             0.2222222222222222,
             "#7201a8"
            ],
            [
             0.3333333333333333,
             "#9c179e"
            ],
            [
             0.4444444444444444,
             "#bd3786"
            ],
            [
             0.5555555555555556,
             "#d8576b"
            ],
            [
             0.6666666666666666,
             "#ed7953"
            ],
            [
             0.7777777777777778,
             "#fb9f3a"
            ],
            [
             0.8888888888888888,
             "#fdca26"
            ],
            [
             1,
             "#f0f921"
            ]
           ],
           "sequentialminus": [
            [
             0,
             "#0d0887"
            ],
            [
             0.1111111111111111,
             "#46039f"
            ],
            [
             0.2222222222222222,
             "#7201a8"
            ],
            [
             0.3333333333333333,
             "#9c179e"
            ],
            [
             0.4444444444444444,
             "#bd3786"
            ],
            [
             0.5555555555555556,
             "#d8576b"
            ],
            [
             0.6666666666666666,
             "#ed7953"
            ],
            [
             0.7777777777777778,
             "#fb9f3a"
            ],
            [
             0.8888888888888888,
             "#fdca26"
            ],
            [
             1,
             "#f0f921"
            ]
           ]
          },
          "colorway": [
           "#636efa",
           "#EF553B",
           "#00cc96",
           "#ab63fa",
           "#FFA15A",
           "#19d3f3",
           "#FF6692",
           "#B6E880",
           "#FF97FF",
           "#FECB52"
          ],
          "font": {
           "color": "#f2f5fa"
          },
          "geo": {
           "bgcolor": "rgb(17,17,17)",
           "lakecolor": "rgb(17,17,17)",
           "landcolor": "rgb(17,17,17)",
           "showlakes": true,
           "showland": true,
           "subunitcolor": "#506784"
          },
          "hoverlabel": {
           "align": "left"
          },
          "hovermode": "closest",
          "mapbox": {
           "style": "dark"
          },
          "paper_bgcolor": "rgb(17,17,17)",
          "plot_bgcolor": "rgb(17,17,17)",
          "polar": {
           "angularaxis": {
            "gridcolor": "#506784",
            "linecolor": "#506784",
            "ticks": ""
           },
           "bgcolor": "rgb(17,17,17)",
           "radialaxis": {
            "gridcolor": "#506784",
            "linecolor": "#506784",
            "ticks": ""
           }
          },
          "scene": {
           "xaxis": {
            "backgroundcolor": "rgb(17,17,17)",
            "gridcolor": "#506784",
            "gridwidth": 2,
            "linecolor": "#506784",
            "showbackground": true,
            "ticks": "",
            "zerolinecolor": "#C8D4E3"
           },
           "yaxis": {
            "backgroundcolor": "rgb(17,17,17)",
            "gridcolor": "#506784",
            "gridwidth": 2,
            "linecolor": "#506784",
            "showbackground": true,
            "ticks": "",
            "zerolinecolor": "#C8D4E3"
           },
           "zaxis": {
            "backgroundcolor": "rgb(17,17,17)",
            "gridcolor": "#506784",
            "gridwidth": 2,
            "linecolor": "#506784",
            "showbackground": true,
            "ticks": "",
            "zerolinecolor": "#C8D4E3"
           }
          },
          "shapedefaults": {
           "line": {
            "color": "#f2f5fa"
           }
          },
          "sliderdefaults": {
           "bgcolor": "#C8D4E3",
           "bordercolor": "rgb(17,17,17)",
           "borderwidth": 1,
           "tickwidth": 0
          },
          "ternary": {
           "aaxis": {
            "gridcolor": "#506784",
            "linecolor": "#506784",
            "ticks": ""
           },
           "baxis": {
            "gridcolor": "#506784",
            "linecolor": "#506784",
            "ticks": ""
           },
           "bgcolor": "rgb(17,17,17)",
           "caxis": {
            "gridcolor": "#506784",
            "linecolor": "#506784",
            "ticks": ""
           }
          },
          "title": {
           "x": 0.05
          },
          "updatemenudefaults": {
           "bgcolor": "#506784",
           "borderwidth": 0
          },
          "xaxis": {
           "automargin": true,
           "gridcolor": "#283442",
           "linecolor": "#506784",
           "ticks": "",
           "title": {
            "standoff": 15
           },
           "zerolinecolor": "#283442",
           "zerolinewidth": 2
          },
          "yaxis": {
           "automargin": true,
           "gridcolor": "#283442",
           "linecolor": "#506784",
           "ticks": "",
           "title": {
            "standoff": 15
           },
           "zerolinecolor": "#283442",
           "zerolinewidth": 2
          }
         }
        },
        "title": {
         "text": "Top 05 Hashtags by Views Count"
        },
        "xaxis": {
         "title": {
          "text": "Hashtags"
         }
        },
        "yaxis": {
         "title": {
          "text": "Views Count"
         }
        }
       }
      }
     },
     "metadata": {},
     "output_type": "display_data"
    },
    {
     "name": "stdout",
     "output_type": "stream",
     "text": [
      "HTML file saved as c:\\Users\\Rameez\\OneDrive\\Dashboard Project\\Assets\\Exploratory Analysis Graphs\\fig_top_05_hashtags_views_chart.html\n"
     ]
    }
   ],
   "source": [
    "#Sort top 05 hashtags by views count\n",
    "top_05_hashtags_views = unique_hashtags_data.sort_values(\n",
    "    by='hash_views_count', ascending=False).head(5)\n",
    "\n",
    "#Create a bar chart using Plotly with a twilight theme gradient and y-value numbers on top of the bars\n",
    "fig_top_05_hashtags_views = go.Figure(data=[\n",
    "    go.Bar(\n",
    "        x=top_05_hashtags_views['unique hashtags'],\n",
    "        y=top_05_hashtags_views['hash_views_count'],\n",
    "        marker=dict(\n",
    "            color=top_05_hashtags_views['hash_views_count'], colorscale='twilight'),\n",
    "        text=top_05_hashtags_views['hash_views_count'],\n",
    "        textposition='outside',\n",
    "    )\n",
    "])\n",
    "\n",
    "fig_top_05_hashtags_views.update_layout(\n",
    "    title='Top 05 Hashtags by Views Count',\n",
    "    xaxis_title='Hashtags',\n",
    "    yaxis_title='Views Count',\n",
    "    template='plotly_dark'\n",
    ")\n",
    "\n",
    "fig_top_05_hashtags_views.show()\n",
    "\n",
    "#Define the HTML file path using the relative path to 'Exploratory Analysis Graphs'\n",
    "html_file_name = 'fig_top_05_hashtags_views_chart.html'\n",
    "html_file_path = os.path.join(graphs_dir, html_file_name)\n",
    "\n",
    "#Save the Plotly figure as an HTML file\n",
    "fig_top_05_hashtags_views.write_html(html_file_path)\n",
    "\n",
    "print(f'HTML file saved as {html_file_path}')"
   ]
  },
  {
   "cell_type": "code",
   "execution_count": 17,
   "metadata": {},
   "outputs": [
    {
     "data": {
      "application/vnd.plotly.v1+json": {
       "config": {
        "plotlyServerURL": "https://plot.ly"
       },
       "data": [
        {
         "marker": {
          "color": [
           704632,
           677515,
           586096,
           558643,
           555512
          ],
          "colorscale": [
           [
            0,
            "#440154"
           ],
           [
            0.1111111111111111,
            "#482878"
           ],
           [
            0.2222222222222222,
            "#3e4989"
           ],
           [
            0.3333333333333333,
            "#31688e"
           ],
           [
            0.4444444444444444,
            "#26828e"
           ],
           [
            0.5555555555555556,
            "#1f9e89"
           ],
           [
            0.6666666666666666,
            "#35b779"
           ],
           [
            0.7777777777777778,
            "#6ece58"
           ],
           [
            0.8888888888888888,
            "#b5de2b"
           ],
           [
            1,
            "#fde725"
           ]
          ]
         },
         "text": [
          44815554,
          43222078,
          38136848,
          36517397,
          36356728
         ],
         "textposition": "outside",
         "type": "bar",
         "x": [
          "'cricket'",
          "'fox cricket'",
          "'australia'",
          "'fox sports australia'",
          "'fox sports aus'"
         ],
         "y": [
          704632,
          677515,
          586096,
          558643,
          555512
         ]
        }
       ],
       "layout": {
        "template": {
         "data": {
          "bar": [
           {
            "error_x": {
             "color": "#f2f5fa"
            },
            "error_y": {
             "color": "#f2f5fa"
            },
            "marker": {
             "line": {
              "color": "rgb(17,17,17)",
              "width": 0.5
             },
             "pattern": {
              "fillmode": "overlay",
              "size": 10,
              "solidity": 0.2
             }
            },
            "type": "bar"
           }
          ],
          "barpolar": [
           {
            "marker": {
             "line": {
              "color": "rgb(17,17,17)",
              "width": 0.5
             },
             "pattern": {
              "fillmode": "overlay",
              "size": 10,
              "solidity": 0.2
             }
            },
            "type": "barpolar"
           }
          ],
          "carpet": [
           {
            "aaxis": {
             "endlinecolor": "#A2B1C6",
             "gridcolor": "#506784",
             "linecolor": "#506784",
             "minorgridcolor": "#506784",
             "startlinecolor": "#A2B1C6"
            },
            "baxis": {
             "endlinecolor": "#A2B1C6",
             "gridcolor": "#506784",
             "linecolor": "#506784",
             "minorgridcolor": "#506784",
             "startlinecolor": "#A2B1C6"
            },
            "type": "carpet"
           }
          ],
          "choropleth": [
           {
            "colorbar": {
             "outlinewidth": 0,
             "ticks": ""
            },
            "type": "choropleth"
           }
          ],
          "contour": [
           {
            "colorbar": {
             "outlinewidth": 0,
             "ticks": ""
            },
            "colorscale": [
             [
              0,
              "#0d0887"
             ],
             [
              0.1111111111111111,
              "#46039f"
             ],
             [
              0.2222222222222222,
              "#7201a8"
             ],
             [
              0.3333333333333333,
              "#9c179e"
             ],
             [
              0.4444444444444444,
              "#bd3786"
             ],
             [
              0.5555555555555556,
              "#d8576b"
             ],
             [
              0.6666666666666666,
              "#ed7953"
             ],
             [
              0.7777777777777778,
              "#fb9f3a"
             ],
             [
              0.8888888888888888,
              "#fdca26"
             ],
             [
              1,
              "#f0f921"
             ]
            ],
            "type": "contour"
           }
          ],
          "contourcarpet": [
           {
            "colorbar": {
             "outlinewidth": 0,
             "ticks": ""
            },
            "type": "contourcarpet"
           }
          ],
          "heatmap": [
           {
            "colorbar": {
             "outlinewidth": 0,
             "ticks": ""
            },
            "colorscale": [
             [
              0,
              "#0d0887"
             ],
             [
              0.1111111111111111,
              "#46039f"
             ],
             [
              0.2222222222222222,
              "#7201a8"
             ],
             [
              0.3333333333333333,
              "#9c179e"
             ],
             [
              0.4444444444444444,
              "#bd3786"
             ],
             [
              0.5555555555555556,
              "#d8576b"
             ],
             [
              0.6666666666666666,
              "#ed7953"
             ],
             [
              0.7777777777777778,
              "#fb9f3a"
             ],
             [
              0.8888888888888888,
              "#fdca26"
             ],
             [
              1,
              "#f0f921"
             ]
            ],
            "type": "heatmap"
           }
          ],
          "heatmapgl": [
           {
            "colorbar": {
             "outlinewidth": 0,
             "ticks": ""
            },
            "colorscale": [
             [
              0,
              "#0d0887"
             ],
             [
              0.1111111111111111,
              "#46039f"
             ],
             [
              0.2222222222222222,
              "#7201a8"
             ],
             [
              0.3333333333333333,
              "#9c179e"
             ],
             [
              0.4444444444444444,
              "#bd3786"
             ],
             [
              0.5555555555555556,
              "#d8576b"
             ],
             [
              0.6666666666666666,
              "#ed7953"
             ],
             [
              0.7777777777777778,
              "#fb9f3a"
             ],
             [
              0.8888888888888888,
              "#fdca26"
             ],
             [
              1,
              "#f0f921"
             ]
            ],
            "type": "heatmapgl"
           }
          ],
          "histogram": [
           {
            "marker": {
             "pattern": {
              "fillmode": "overlay",
              "size": 10,
              "solidity": 0.2
             }
            },
            "type": "histogram"
           }
          ],
          "histogram2d": [
           {
            "colorbar": {
             "outlinewidth": 0,
             "ticks": ""
            },
            "colorscale": [
             [
              0,
              "#0d0887"
             ],
             [
              0.1111111111111111,
              "#46039f"
             ],
             [
              0.2222222222222222,
              "#7201a8"
             ],
             [
              0.3333333333333333,
              "#9c179e"
             ],
             [
              0.4444444444444444,
              "#bd3786"
             ],
             [
              0.5555555555555556,
              "#d8576b"
             ],
             [
              0.6666666666666666,
              "#ed7953"
             ],
             [
              0.7777777777777778,
              "#fb9f3a"
             ],
             [
              0.8888888888888888,
              "#fdca26"
             ],
             [
              1,
              "#f0f921"
             ]
            ],
            "type": "histogram2d"
           }
          ],
          "histogram2dcontour": [
           {
            "colorbar": {
             "outlinewidth": 0,
             "ticks": ""
            },
            "colorscale": [
             [
              0,
              "#0d0887"
             ],
             [
              0.1111111111111111,
              "#46039f"
             ],
             [
              0.2222222222222222,
              "#7201a8"
             ],
             [
              0.3333333333333333,
              "#9c179e"
             ],
             [
              0.4444444444444444,
              "#bd3786"
             ],
             [
              0.5555555555555556,
              "#d8576b"
             ],
             [
              0.6666666666666666,
              "#ed7953"
             ],
             [
              0.7777777777777778,
              "#fb9f3a"
             ],
             [
              0.8888888888888888,
              "#fdca26"
             ],
             [
              1,
              "#f0f921"
             ]
            ],
            "type": "histogram2dcontour"
           }
          ],
          "mesh3d": [
           {
            "colorbar": {
             "outlinewidth": 0,
             "ticks": ""
            },
            "type": "mesh3d"
           }
          ],
          "parcoords": [
           {
            "line": {
             "colorbar": {
              "outlinewidth": 0,
              "ticks": ""
             }
            },
            "type": "parcoords"
           }
          ],
          "pie": [
           {
            "automargin": true,
            "type": "pie"
           }
          ],
          "scatter": [
           {
            "marker": {
             "line": {
              "color": "#283442"
             }
            },
            "type": "scatter"
           }
          ],
          "scatter3d": [
           {
            "line": {
             "colorbar": {
              "outlinewidth": 0,
              "ticks": ""
             }
            },
            "marker": {
             "colorbar": {
              "outlinewidth": 0,
              "ticks": ""
             }
            },
            "type": "scatter3d"
           }
          ],
          "scattercarpet": [
           {
            "marker": {
             "colorbar": {
              "outlinewidth": 0,
              "ticks": ""
             }
            },
            "type": "scattercarpet"
           }
          ],
          "scattergeo": [
           {
            "marker": {
             "colorbar": {
              "outlinewidth": 0,
              "ticks": ""
             }
            },
            "type": "scattergeo"
           }
          ],
          "scattergl": [
           {
            "marker": {
             "line": {
              "color": "#283442"
             }
            },
            "type": "scattergl"
           }
          ],
          "scattermapbox": [
           {
            "marker": {
             "colorbar": {
              "outlinewidth": 0,
              "ticks": ""
             }
            },
            "type": "scattermapbox"
           }
          ],
          "scatterpolar": [
           {
            "marker": {
             "colorbar": {
              "outlinewidth": 0,
              "ticks": ""
             }
            },
            "type": "scatterpolar"
           }
          ],
          "scatterpolargl": [
           {
            "marker": {
             "colorbar": {
              "outlinewidth": 0,
              "ticks": ""
             }
            },
            "type": "scatterpolargl"
           }
          ],
          "scatterternary": [
           {
            "marker": {
             "colorbar": {
              "outlinewidth": 0,
              "ticks": ""
             }
            },
            "type": "scatterternary"
           }
          ],
          "surface": [
           {
            "colorbar": {
             "outlinewidth": 0,
             "ticks": ""
            },
            "colorscale": [
             [
              0,
              "#0d0887"
             ],
             [
              0.1111111111111111,
              "#46039f"
             ],
             [
              0.2222222222222222,
              "#7201a8"
             ],
             [
              0.3333333333333333,
              "#9c179e"
             ],
             [
              0.4444444444444444,
              "#bd3786"
             ],
             [
              0.5555555555555556,
              "#d8576b"
             ],
             [
              0.6666666666666666,
              "#ed7953"
             ],
             [
              0.7777777777777778,
              "#fb9f3a"
             ],
             [
              0.8888888888888888,
              "#fdca26"
             ],
             [
              1,
              "#f0f921"
             ]
            ],
            "type": "surface"
           }
          ],
          "table": [
           {
            "cells": {
             "fill": {
              "color": "#506784"
             },
             "line": {
              "color": "rgb(17,17,17)"
             }
            },
            "header": {
             "fill": {
              "color": "#2a3f5f"
             },
             "line": {
              "color": "rgb(17,17,17)"
             }
            },
            "type": "table"
           }
          ]
         },
         "layout": {
          "annotationdefaults": {
           "arrowcolor": "#f2f5fa",
           "arrowhead": 0,
           "arrowwidth": 1
          },
          "autotypenumbers": "strict",
          "coloraxis": {
           "colorbar": {
            "outlinewidth": 0,
            "ticks": ""
           }
          },
          "colorscale": {
           "diverging": [
            [
             0,
             "#8e0152"
            ],
            [
             0.1,
             "#c51b7d"
            ],
            [
             0.2,
             "#de77ae"
            ],
            [
             0.3,
             "#f1b6da"
            ],
            [
             0.4,
             "#fde0ef"
            ],
            [
             0.5,
             "#f7f7f7"
            ],
            [
             0.6,
             "#e6f5d0"
            ],
            [
             0.7,
             "#b8e186"
            ],
            [
             0.8,
             "#7fbc41"
            ],
            [
             0.9,
             "#4d9221"
            ],
            [
             1,
             "#276419"
            ]
           ],
           "sequential": [
            [
             0,
             "#0d0887"
            ],
            [
             0.1111111111111111,
             "#46039f"
            ],
            [
             0.2222222222222222,
             "#7201a8"
            ],
            [
             0.3333333333333333,
             "#9c179e"
            ],
            [
             0.4444444444444444,
             "#bd3786"
            ],
            [
             0.5555555555555556,
             "#d8576b"
            ],
            [
             0.6666666666666666,
             "#ed7953"
            ],
            [
             0.7777777777777778,
             "#fb9f3a"
            ],
            [
             0.8888888888888888,
             "#fdca26"
            ],
            [
             1,
             "#f0f921"
            ]
           ],
           "sequentialminus": [
            [
             0,
             "#0d0887"
            ],
            [
             0.1111111111111111,
             "#46039f"
            ],
            [
             0.2222222222222222,
             "#7201a8"
            ],
            [
             0.3333333333333333,
             "#9c179e"
            ],
            [
             0.4444444444444444,
             "#bd3786"
            ],
            [
             0.5555555555555556,
             "#d8576b"
            ],
            [
             0.6666666666666666,
             "#ed7953"
            ],
            [
             0.7777777777777778,
             "#fb9f3a"
            ],
            [
             0.8888888888888888,
             "#fdca26"
            ],
            [
             1,
             "#f0f921"
            ]
           ]
          },
          "colorway": [
           "#636efa",
           "#EF553B",
           "#00cc96",
           "#ab63fa",
           "#FFA15A",
           "#19d3f3",
           "#FF6692",
           "#B6E880",
           "#FF97FF",
           "#FECB52"
          ],
          "font": {
           "color": "#f2f5fa"
          },
          "geo": {
           "bgcolor": "rgb(17,17,17)",
           "lakecolor": "rgb(17,17,17)",
           "landcolor": "rgb(17,17,17)",
           "showlakes": true,
           "showland": true,
           "subunitcolor": "#506784"
          },
          "hoverlabel": {
           "align": "left"
          },
          "hovermode": "closest",
          "mapbox": {
           "style": "dark"
          },
          "paper_bgcolor": "rgb(17,17,17)",
          "plot_bgcolor": "rgb(17,17,17)",
          "polar": {
           "angularaxis": {
            "gridcolor": "#506784",
            "linecolor": "#506784",
            "ticks": ""
           },
           "bgcolor": "rgb(17,17,17)",
           "radialaxis": {
            "gridcolor": "#506784",
            "linecolor": "#506784",
            "ticks": ""
           }
          },
          "scene": {
           "xaxis": {
            "backgroundcolor": "rgb(17,17,17)",
            "gridcolor": "#506784",
            "gridwidth": 2,
            "linecolor": "#506784",
            "showbackground": true,
            "ticks": "",
            "zerolinecolor": "#C8D4E3"
           },
           "yaxis": {
            "backgroundcolor": "rgb(17,17,17)",
            "gridcolor": "#506784",
            "gridwidth": 2,
            "linecolor": "#506784",
            "showbackground": true,
            "ticks": "",
            "zerolinecolor": "#C8D4E3"
           },
           "zaxis": {
            "backgroundcolor": "rgb(17,17,17)",
            "gridcolor": "#506784",
            "gridwidth": 2,
            "linecolor": "#506784",
            "showbackground": true,
            "ticks": "",
            "zerolinecolor": "#C8D4E3"
           }
          },
          "shapedefaults": {
           "line": {
            "color": "#f2f5fa"
           }
          },
          "sliderdefaults": {
           "bgcolor": "#C8D4E3",
           "bordercolor": "rgb(17,17,17)",
           "borderwidth": 1,
           "tickwidth": 0
          },
          "ternary": {
           "aaxis": {
            "gridcolor": "#506784",
            "linecolor": "#506784",
            "ticks": ""
           },
           "baxis": {
            "gridcolor": "#506784",
            "linecolor": "#506784",
            "ticks": ""
           },
           "bgcolor": "rgb(17,17,17)",
           "caxis": {
            "gridcolor": "#506784",
            "linecolor": "#506784",
            "ticks": ""
           }
          },
          "title": {
           "x": 0.05
          },
          "updatemenudefaults": {
           "bgcolor": "#506784",
           "borderwidth": 0
          },
          "xaxis": {
           "automargin": true,
           "gridcolor": "#283442",
           "linecolor": "#506784",
           "ticks": "",
           "title": {
            "standoff": 15
           },
           "zerolinecolor": "#283442",
           "zerolinewidth": 2
          },
          "yaxis": {
           "automargin": true,
           "gridcolor": "#283442",
           "linecolor": "#506784",
           "ticks": "",
           "title": {
            "standoff": 15
           },
           "zerolinecolor": "#283442",
           "zerolinewidth": 2
          }
         }
        },
        "title": {
         "text": "Top 05 Hashtags by Likes Count"
        },
        "xaxis": {
         "title": {
          "text": "Hashtags"
         }
        },
        "yaxis": {
         "title": {
          "text": "Likes Count"
         }
        }
       }
      }
     },
     "metadata": {},
     "output_type": "display_data"
    },
    {
     "name": "stdout",
     "output_type": "stream",
     "text": [
      "HTML file saved as c:\\Users\\Rameez\\OneDrive\\Dashboard Project\\Assets\\Exploratory Analysis Graphs\\fig_top_05_hashtags_likes_chart.html\n"
     ]
    }
   ],
   "source": [
    "#Sort top 05 hashtags by likes count\n",
    "top_05_hashtags_likes = unique_hashtags_data.sort_values(\n",
    "    by='hash_likes_count', ascending=False).head(5)\n",
    "\n",
    "#Create a bar chart using Plotly with a virdis gradient and y-value numbers on top of the bars\n",
    "fig_top_05_hashtags_likes = go.Figure(data=[\n",
    "    go.Bar(\n",
    "        x=top_05_hashtags_likes['unique hashtags'],\n",
    "        y=top_05_hashtags_likes['hash_likes_count'],\n",
    "        marker=dict(\n",
    "            color=top_05_hashtags_likes['hash_likes_count'], colorscale='viridis'),\n",
    "        text=top_05_hashtags_views['hash_views_count'],\n",
    "        textposition='outside',\n",
    "    )\n",
    "])\n",
    "\n",
    "fig_top_05_hashtags_likes.update_layout(\n",
    "    title='Top 05 Hashtags by Likes Count',\n",
    "    xaxis_title='Hashtags',\n",
    "    yaxis_title='Likes Count',\n",
    "    template='plotly_dark'\n",
    ")\n",
    "\n",
    "fig_top_05_hashtags_likes.show()\n",
    "\n",
    "#Define the HTML file path using the relative path to 'Exploratory Analysis Graphs'\n",
    "html_file_name = 'fig_top_05_hashtags_likes_chart.html'\n",
    "html_file_path = os.path.join(graphs_dir, html_file_name)\n",
    "\n",
    "#Save the Plotly figure as an HTML file\n",
    "fig_top_05_hashtags_likes.write_html(html_file_path)\n",
    "\n",
    "print(f'HTML file saved as {html_file_path}')"
   ]
  },
  {
   "cell_type": "markdown",
   "metadata": {},
   "source": [
    "## Performing Sentiment Analysis to Identify Polarity"
   ]
  },
  {
   "cell_type": "markdown",
   "metadata": {},
   "source": [
    "Get the comments data set"
   ]
  },
  {
   "cell_type": "code",
   "execution_count": 18,
   "metadata": {},
   "outputs": [
    {
     "data": {
      "text/html": [
       "<div>\n",
       "<style scoped>\n",
       "    .dataframe tbody tr th:only-of-type {\n",
       "        vertical-align: middle;\n",
       "    }\n",
       "\n",
       "    .dataframe tbody tr th {\n",
       "        vertical-align: top;\n",
       "    }\n",
       "\n",
       "    .dataframe thead th {\n",
       "        text-align: right;\n",
       "    }\n",
       "</style>\n",
       "<table border=\"1\" class=\"dataframe\">\n",
       "  <thead>\n",
       "    <tr style=\"text-align: right;\">\n",
       "      <th></th>\n",
       "      <th>Video ID</th>\n",
       "      <th>User Name</th>\n",
       "      <th>Comment</th>\n",
       "    </tr>\n",
       "  </thead>\n",
       "  <tbody>\n",
       "    <tr>\n",
       "      <th>0</th>\n",
       "      <td>7XFSkk-FtYw</td>\n",
       "      <td>A1a8l0h5a9d8</td>\n",
       "      <td>I miss those days I wish I could go back then ...</td>\n",
       "    </tr>\n",
       "    <tr>\n",
       "      <th>1</th>\n",
       "      <td>7XFSkk-FtYw</td>\n",
       "      <td>Rohit Bishnoi</td>\n",
       "      <td>Promoting 4k by uploading a 360p video</td>\n",
       "    </tr>\n",
       "    <tr>\n",
       "      <th>2</th>\n",
       "      <td>7XFSkk-FtYw</td>\n",
       "      <td>Steve Skrobot</td>\n",
       "      <td>Where do they get this &amp;#39;Tip &amp;amp; Run&amp;#39;...</td>\n",
       "    </tr>\n",
       "    <tr>\n",
       "      <th>3</th>\n",
       "      <td>7XFSkk-FtYw</td>\n",
       "      <td>Mehedi Hasan</td>\n",
       "      <td>Best  movie i&amp;#39;ve ever seen</td>\n",
       "    </tr>\n",
       "    <tr>\n",
       "      <th>4</th>\n",
       "      <td>7XFSkk-FtYw</td>\n",
       "      <td>Mehedi Hasan</td>\n",
       "      <td>Fox CRICKET is the best❤🏏❤❤</td>\n",
       "    </tr>\n",
       "    <tr>\n",
       "      <th>...</th>\n",
       "      <td>...</td>\n",
       "      <td>...</td>\n",
       "      <td>...</td>\n",
       "    </tr>\n",
       "    <tr>\n",
       "      <th>6103</th>\n",
       "      <td>ekwZCwc59WM</td>\n",
       "      <td>Vëdâñt Mêhtå</td>\n",
       "      <td>kinngg</td>\n",
       "    </tr>\n",
       "    <tr>\n",
       "      <th>6104</th>\n",
       "      <td>ekwZCwc59WM</td>\n",
       "      <td>Eugenie Leduke</td>\n",
       "      <td>I miss your videos terribly. Could you please ...</td>\n",
       "    </tr>\n",
       "    <tr>\n",
       "      <th>6105</th>\n",
       "      <td>ekwZCwc59WM</td>\n",
       "      <td>Tejesh Shetty</td>\n",
       "      <td>Indians like button&amp;gt;&amp;gt;&amp;gt;&amp;gt;</td>\n",
       "    </tr>\n",
       "    <tr>\n",
       "      <th>6106</th>\n",
       "      <td>ekwZCwc59WM</td>\n",
       "      <td>Emma Daggett</td>\n",
       "      <td>Your videos are of great use!👀</td>\n",
       "    </tr>\n",
       "    <tr>\n",
       "      <th>6107</th>\n",
       "      <td>ekwZCwc59WM</td>\n",
       "      <td>Christy Hamphrey</td>\n",
       "      <td>You put your heart and soul into it💝</td>\n",
       "    </tr>\n",
       "  </tbody>\n",
       "</table>\n",
       "<p>6108 rows × 3 columns</p>\n",
       "</div>"
      ],
      "text/plain": [
       "         Video ID         User Name  \\\n",
       "0     7XFSkk-FtYw      A1a8l0h5a9d8   \n",
       "1     7XFSkk-FtYw     Rohit Bishnoi   \n",
       "2     7XFSkk-FtYw     Steve Skrobot   \n",
       "3     7XFSkk-FtYw      Mehedi Hasan   \n",
       "4     7XFSkk-FtYw      Mehedi Hasan   \n",
       "...           ...               ...   \n",
       "6103  ekwZCwc59WM      Vëdâñt Mêhtå   \n",
       "6104  ekwZCwc59WM    Eugenie Leduke   \n",
       "6105  ekwZCwc59WM     Tejesh Shetty   \n",
       "6106  ekwZCwc59WM      Emma Daggett   \n",
       "6107  ekwZCwc59WM  Christy Hamphrey   \n",
       "\n",
       "                                                Comment  \n",
       "0     I miss those days I wish I could go back then ...  \n",
       "1                Promoting 4k by uploading a 360p video  \n",
       "2     Where do they get this &#39;Tip &amp; Run&#39;...  \n",
       "3                        Best  movie i&#39;ve ever seen  \n",
       "4                           Fox CRICKET is the best❤🏏❤❤  \n",
       "...                                                 ...  \n",
       "6103                                             kinngg  \n",
       "6104  I miss your videos terribly. Could you please ...  \n",
       "6105                Indians like button&gt;&gt;&gt;&gt;  \n",
       "6106                     Your videos are of great use!👀  \n",
       "6107               You put your heart and soul into it💝  \n",
       "\n",
       "[6108 rows x 3 columns]"
      ]
     },
     "execution_count": 18,
     "metadata": {},
     "output_type": "execute_result"
    }
   ],
   "source": [
    "#comments data\n",
    "comments_data"
   ]
  },
  {
   "cell_type": "code",
   "execution_count": 19,
   "metadata": {},
   "outputs": [],
   "source": [
    "#Import textblob library for sentiment analysis\n",
    "from textblob import TextBlob"
   ]
  },
  {
   "cell_type": "code",
   "execution_count": 20,
   "metadata": {},
   "outputs": [],
   "source": [
    "#Perform sentiment analysis using TextBlob\n",
    "comments_data['Sentiment'] = comments_data['Comment'].apply(\n",
    "    lambda x: TextBlob(x).sentiment.polarity)"
   ]
  },
  {
   "cell_type": "code",
   "execution_count": 21,
   "metadata": {},
   "outputs": [
    {
     "data": {
      "text/html": [
       "<div>\n",
       "<style scoped>\n",
       "    .dataframe tbody tr th:only-of-type {\n",
       "        vertical-align: middle;\n",
       "    }\n",
       "\n",
       "    .dataframe tbody tr th {\n",
       "        vertical-align: top;\n",
       "    }\n",
       "\n",
       "    .dataframe thead th {\n",
       "        text-align: right;\n",
       "    }\n",
       "</style>\n",
       "<table border=\"1\" class=\"dataframe\">\n",
       "  <thead>\n",
       "    <tr style=\"text-align: right;\">\n",
       "      <th></th>\n",
       "      <th>Video ID</th>\n",
       "      <th>User Name</th>\n",
       "      <th>Comment</th>\n",
       "      <th>Sentiment</th>\n",
       "      <th>Sentiment Label</th>\n",
       "    </tr>\n",
       "  </thead>\n",
       "  <tbody>\n",
       "    <tr>\n",
       "      <th>0</th>\n",
       "      <td>7XFSkk-FtYw</td>\n",
       "      <td>A1a8l0h5a9d8</td>\n",
       "      <td>I miss those days I wish I could go back then ...</td>\n",
       "      <td>0.000000</td>\n",
       "      <td>Neutral</td>\n",
       "    </tr>\n",
       "    <tr>\n",
       "      <th>1</th>\n",
       "      <td>7XFSkk-FtYw</td>\n",
       "      <td>Rohit Bishnoi</td>\n",
       "      <td>Promoting 4k by uploading a 360p video</td>\n",
       "      <td>0.000000</td>\n",
       "      <td>Neutral</td>\n",
       "    </tr>\n",
       "    <tr>\n",
       "      <th>2</th>\n",
       "      <td>7XFSkk-FtYw</td>\n",
       "      <td>Steve Skrobot</td>\n",
       "      <td>Where do they get this &amp;#39;Tip &amp;amp; Run&amp;#39;...</td>\n",
       "      <td>-0.366071</td>\n",
       "      <td>Negative</td>\n",
       "    </tr>\n",
       "    <tr>\n",
       "      <th>3</th>\n",
       "      <td>7XFSkk-FtYw</td>\n",
       "      <td>Mehedi Hasan</td>\n",
       "      <td>Best  movie i&amp;#39;ve ever seen</td>\n",
       "      <td>1.000000</td>\n",
       "      <td>Positive</td>\n",
       "    </tr>\n",
       "    <tr>\n",
       "      <th>4</th>\n",
       "      <td>7XFSkk-FtYw</td>\n",
       "      <td>Mehedi Hasan</td>\n",
       "      <td>Fox CRICKET is the best❤🏏❤❤</td>\n",
       "      <td>0.000000</td>\n",
       "      <td>Neutral</td>\n",
       "    </tr>\n",
       "    <tr>\n",
       "      <th>...</th>\n",
       "      <td>...</td>\n",
       "      <td>...</td>\n",
       "      <td>...</td>\n",
       "      <td>...</td>\n",
       "      <td>...</td>\n",
       "    </tr>\n",
       "    <tr>\n",
       "      <th>6103</th>\n",
       "      <td>ekwZCwc59WM</td>\n",
       "      <td>Vëdâñt Mêhtå</td>\n",
       "      <td>kinngg</td>\n",
       "      <td>0.000000</td>\n",
       "      <td>Neutral</td>\n",
       "    </tr>\n",
       "    <tr>\n",
       "      <th>6104</th>\n",
       "      <td>ekwZCwc59WM</td>\n",
       "      <td>Eugenie Leduke</td>\n",
       "      <td>I miss your videos terribly. Could you please ...</td>\n",
       "      <td>-0.250000</td>\n",
       "      <td>Negative</td>\n",
       "    </tr>\n",
       "    <tr>\n",
       "      <th>6105</th>\n",
       "      <td>ekwZCwc59WM</td>\n",
       "      <td>Tejesh Shetty</td>\n",
       "      <td>Indians like button&amp;gt;&amp;gt;&amp;gt;&amp;gt;</td>\n",
       "      <td>0.000000</td>\n",
       "      <td>Neutral</td>\n",
       "    </tr>\n",
       "    <tr>\n",
       "      <th>6106</th>\n",
       "      <td>ekwZCwc59WM</td>\n",
       "      <td>Emma Daggett</td>\n",
       "      <td>Your videos are of great use!👀</td>\n",
       "      <td>0.800000</td>\n",
       "      <td>Positive</td>\n",
       "    </tr>\n",
       "    <tr>\n",
       "      <th>6107</th>\n",
       "      <td>ekwZCwc59WM</td>\n",
       "      <td>Christy Hamphrey</td>\n",
       "      <td>You put your heart and soul into it💝</td>\n",
       "      <td>0.000000</td>\n",
       "      <td>Neutral</td>\n",
       "    </tr>\n",
       "  </tbody>\n",
       "</table>\n",
       "<p>6108 rows × 5 columns</p>\n",
       "</div>"
      ],
      "text/plain": [
       "         Video ID         User Name  \\\n",
       "0     7XFSkk-FtYw      A1a8l0h5a9d8   \n",
       "1     7XFSkk-FtYw     Rohit Bishnoi   \n",
       "2     7XFSkk-FtYw     Steve Skrobot   \n",
       "3     7XFSkk-FtYw      Mehedi Hasan   \n",
       "4     7XFSkk-FtYw      Mehedi Hasan   \n",
       "...           ...               ...   \n",
       "6103  ekwZCwc59WM      Vëdâñt Mêhtå   \n",
       "6104  ekwZCwc59WM    Eugenie Leduke   \n",
       "6105  ekwZCwc59WM     Tejesh Shetty   \n",
       "6106  ekwZCwc59WM      Emma Daggett   \n",
       "6107  ekwZCwc59WM  Christy Hamphrey   \n",
       "\n",
       "                                                Comment  Sentiment  \\\n",
       "0     I miss those days I wish I could go back then ...   0.000000   \n",
       "1                Promoting 4k by uploading a 360p video   0.000000   \n",
       "2     Where do they get this &#39;Tip &amp; Run&#39;...  -0.366071   \n",
       "3                        Best  movie i&#39;ve ever seen   1.000000   \n",
       "4                           Fox CRICKET is the best❤🏏❤❤   0.000000   \n",
       "...                                                 ...        ...   \n",
       "6103                                             kinngg   0.000000   \n",
       "6104  I miss your videos terribly. Could you please ...  -0.250000   \n",
       "6105                Indians like button&gt;&gt;&gt;&gt;   0.000000   \n",
       "6106                     Your videos are of great use!👀   0.800000   \n",
       "6107               You put your heart and soul into it💝   0.000000   \n",
       "\n",
       "     Sentiment Label  \n",
       "0            Neutral  \n",
       "1            Neutral  \n",
       "2           Negative  \n",
       "3           Positive  \n",
       "4            Neutral  \n",
       "...              ...  \n",
       "6103         Neutral  \n",
       "6104        Negative  \n",
       "6105         Neutral  \n",
       "6106        Positive  \n",
       "6107         Neutral  \n",
       "\n",
       "[6108 rows x 5 columns]"
      ]
     },
     "execution_count": 21,
     "metadata": {},
     "output_type": "execute_result"
    }
   ],
   "source": [
    "#Assign labels to sentiment scores\n",
    "def label_sentiment(score):\n",
    "    if score > 0:\n",
    "        return 'Positive'\n",
    "    elif score < 0:\n",
    "        return 'Negative'\n",
    "    else:\n",
    "        return 'Neutral'\n",
    "\n",
    "\n",
    "comments_data['Sentiment Label'] = comments_data['Sentiment'].apply(\n",
    "    label_sentiment)\n",
    "comments_data"
   ]
  },
  {
   "cell_type": "code",
   "execution_count": 22,
   "metadata": {},
   "outputs": [],
   "source": [
    "#Create the \"sentiment_analysis_data\" DataFrame\n",
    "sentiment_analysis_data = pd.DataFrame(\n",
    "    columns=['Video ID', 'Positive Comments Count', 'Negative Comments Count', 'Neutral Comments Count'])"
   ]
  },
  {
   "cell_type": "code",
   "execution_count": 23,
   "metadata": {},
   "outputs": [],
   "source": [
    "#Calculate counts of each sentiment label for each video ID\n",
    "unique_video_ids = comments_data['Video ID'].unique()"
   ]
  },
  {
   "cell_type": "code",
   "execution_count": 24,
   "metadata": {},
   "outputs": [],
   "source": [
    "#Iterate through the unique video IDs and count the sentiment labels\n",
    "for video_id in unique_video_ids:\n",
    "    video_comments = comments_data[comments_data['Video ID'] == video_id]\n",
    "    positive_count = len(\n",
    "        video_comments[video_comments['Sentiment Label'] == 'Positive'])\n",
    "    negative_count = len(\n",
    "        video_comments[video_comments['Sentiment Label'] == 'Negative'])\n",
    "    neutral_count = len(\n",
    "        video_comments[video_comments['Sentiment Label'] == 'Neutral'])\n",
    "\n",
    "    sentiment_analysis_data = pd.concat([\n",
    "        sentiment_analysis_data,\n",
    "        pd.DataFrame({\n",
    "            'Video ID': [video_id],\n",
    "            'Positive Comments Count': [positive_count],\n",
    "            'Negative Comments Count': [negative_count],\n",
    "            'Neutral Comments Count': [neutral_count]\n",
    "        })\n",
    "    ], ignore_index=True)"
   ]
  },
  {
   "cell_type": "code",
   "execution_count": 25,
   "metadata": {},
   "outputs": [
    {
     "data": {
      "text/html": [
       "<div>\n",
       "<style scoped>\n",
       "    .dataframe tbody tr th:only-of-type {\n",
       "        vertical-align: middle;\n",
       "    }\n",
       "\n",
       "    .dataframe tbody tr th {\n",
       "        vertical-align: top;\n",
       "    }\n",
       "\n",
       "    .dataframe thead th {\n",
       "        text-align: right;\n",
       "    }\n",
       "</style>\n",
       "<table border=\"1\" class=\"dataframe\">\n",
       "  <thead>\n",
       "    <tr style=\"text-align: right;\">\n",
       "      <th></th>\n",
       "      <th>Video ID</th>\n",
       "      <th>Positive Comments Count</th>\n",
       "      <th>Negative Comments Count</th>\n",
       "      <th>Neutral Comments Count</th>\n",
       "    </tr>\n",
       "  </thead>\n",
       "  <tbody>\n",
       "    <tr>\n",
       "      <th>0</th>\n",
       "      <td>7XFSkk-FtYw</td>\n",
       "      <td>2</td>\n",
       "      <td>4</td>\n",
       "      <td>6</td>\n",
       "    </tr>\n",
       "    <tr>\n",
       "      <th>1</th>\n",
       "      <td>W_1bpHPMa2A</td>\n",
       "      <td>10</td>\n",
       "      <td>3</td>\n",
       "      <td>7</td>\n",
       "    </tr>\n",
       "    <tr>\n",
       "      <th>2</th>\n",
       "      <td>n3wBE22Kuvc</td>\n",
       "      <td>48</td>\n",
       "      <td>8</td>\n",
       "      <td>44</td>\n",
       "    </tr>\n",
       "    <tr>\n",
       "      <th>3</th>\n",
       "      <td>udPy-hc7XPI</td>\n",
       "      <td>62</td>\n",
       "      <td>6</td>\n",
       "      <td>32</td>\n",
       "    </tr>\n",
       "    <tr>\n",
       "      <th>4</th>\n",
       "      <td>HdVgr5F7AtQ</td>\n",
       "      <td>2</td>\n",
       "      <td>0</td>\n",
       "      <td>5</td>\n",
       "    </tr>\n",
       "    <tr>\n",
       "      <th>...</th>\n",
       "      <td>...</td>\n",
       "      <td>...</td>\n",
       "      <td>...</td>\n",
       "      <td>...</td>\n",
       "    </tr>\n",
       "    <tr>\n",
       "      <th>167</th>\n",
       "      <td>SuaKWwAscp0</td>\n",
       "      <td>28</td>\n",
       "      <td>12</td>\n",
       "      <td>58</td>\n",
       "    </tr>\n",
       "    <tr>\n",
       "      <th>168</th>\n",
       "      <td>oELP_e8Z3Ro</td>\n",
       "      <td>21</td>\n",
       "      <td>15</td>\n",
       "      <td>46</td>\n",
       "    </tr>\n",
       "    <tr>\n",
       "      <th>169</th>\n",
       "      <td>JgZizKa-5MM</td>\n",
       "      <td>2</td>\n",
       "      <td>2</td>\n",
       "      <td>2</td>\n",
       "    </tr>\n",
       "    <tr>\n",
       "      <th>170</th>\n",
       "      <td>rv2cYvWdjIM</td>\n",
       "      <td>35</td>\n",
       "      <td>13</td>\n",
       "      <td>41</td>\n",
       "    </tr>\n",
       "    <tr>\n",
       "      <th>171</th>\n",
       "      <td>ekwZCwc59WM</td>\n",
       "      <td>13</td>\n",
       "      <td>3</td>\n",
       "      <td>32</td>\n",
       "    </tr>\n",
       "  </tbody>\n",
       "</table>\n",
       "<p>172 rows × 4 columns</p>\n",
       "</div>"
      ],
      "text/plain": [
       "        Video ID Positive Comments Count Negative Comments Count  \\\n",
       "0    7XFSkk-FtYw                       2                       4   \n",
       "1    W_1bpHPMa2A                      10                       3   \n",
       "2    n3wBE22Kuvc                      48                       8   \n",
       "3    udPy-hc7XPI                      62                       6   \n",
       "4    HdVgr5F7AtQ                       2                       0   \n",
       "..           ...                     ...                     ...   \n",
       "167  SuaKWwAscp0                      28                      12   \n",
       "168  oELP_e8Z3Ro                      21                      15   \n",
       "169  JgZizKa-5MM                       2                       2   \n",
       "170  rv2cYvWdjIM                      35                      13   \n",
       "171  ekwZCwc59WM                      13                       3   \n",
       "\n",
       "    Neutral Comments Count  \n",
       "0                        6  \n",
       "1                        7  \n",
       "2                       44  \n",
       "3                       32  \n",
       "4                        5  \n",
       "..                     ...  \n",
       "167                     58  \n",
       "168                     46  \n",
       "169                      2  \n",
       "170                     41  \n",
       "171                     32  \n",
       "\n",
       "[172 rows x 4 columns]"
      ]
     },
     "execution_count": 25,
     "metadata": {},
     "output_type": "execute_result"
    }
   ],
   "source": [
    "sentiment_analysis_data"
   ]
  },
  {
   "cell_type": "code",
   "execution_count": 26,
   "metadata": {},
   "outputs": [],
   "source": [
    "#Calculate the total counts for each sentiment category\n",
    "total_positive_comments = sentiment_analysis_data['Positive Comments Count'].sum(\n",
    ")\n",
    "total_negative_comments = sentiment_analysis_data['Negative Comments Count'].sum(\n",
    ")\n",
    "total_neutral_comments = sentiment_analysis_data['Neutral Comments Count'].sum(\n",
    ")"
   ]
  },
  {
   "cell_type": "markdown",
   "metadata": {},
   "source": [
    "Graph of Overall Sentiment Analysis of the Channel"
   ]
  },
  {
   "cell_type": "code",
   "execution_count": 27,
   "metadata": {},
   "outputs": [
    {
     "data": {
      "application/vnd.plotly.v1+json": {
       "config": {
        "plotlyServerURL": "https://plot.ly"
       },
       "data": [
        {
         "domain": {
          "x": [
           0,
           1
          ],
          "y": [
           0,
           1
          ]
         },
         "hovertemplate": "Sentiment=%{label}<br>Count=%{value}<extra></extra>",
         "labels": [
          "Positive",
          "Negative",
          "Neutral"
         ],
         "legendgroup": "",
         "name": "",
         "showlegend": true,
         "type": "pie",
         "values": [
          2685,
          819,
          2604
         ]
        }
       ],
       "layout": {
        "legend": {
         "tracegroupgap": 0
        },
        "piecolorway": [
         "rgb(0,0,131)",
         "rgb(0,60,170)",
         "rgb(5,255,255)",
         "rgb(255,255,0)",
         "rgb(250,0,0)",
         "rgb(128,0,0)"
        ],
        "template": {
         "data": {
          "bar": [
           {
            "error_x": {
             "color": "#f2f5fa"
            },
            "error_y": {
             "color": "#f2f5fa"
            },
            "marker": {
             "line": {
              "color": "rgb(17,17,17)",
              "width": 0.5
             },
             "pattern": {
              "fillmode": "overlay",
              "size": 10,
              "solidity": 0.2
             }
            },
            "type": "bar"
           }
          ],
          "barpolar": [
           {
            "marker": {
             "line": {
              "color": "rgb(17,17,17)",
              "width": 0.5
             },
             "pattern": {
              "fillmode": "overlay",
              "size": 10,
              "solidity": 0.2
             }
            },
            "type": "barpolar"
           }
          ],
          "carpet": [
           {
            "aaxis": {
             "endlinecolor": "#A2B1C6",
             "gridcolor": "#506784",
             "linecolor": "#506784",
             "minorgridcolor": "#506784",
             "startlinecolor": "#A2B1C6"
            },
            "baxis": {
             "endlinecolor": "#A2B1C6",
             "gridcolor": "#506784",
             "linecolor": "#506784",
             "minorgridcolor": "#506784",
             "startlinecolor": "#A2B1C6"
            },
            "type": "carpet"
           }
          ],
          "choropleth": [
           {
            "colorbar": {
             "outlinewidth": 0,
             "ticks": ""
            },
            "type": "choropleth"
           }
          ],
          "contour": [
           {
            "colorbar": {
             "outlinewidth": 0,
             "ticks": ""
            },
            "colorscale": [
             [
              0,
              "#0d0887"
             ],
             [
              0.1111111111111111,
              "#46039f"
             ],
             [
              0.2222222222222222,
              "#7201a8"
             ],
             [
              0.3333333333333333,
              "#9c179e"
             ],
             [
              0.4444444444444444,
              "#bd3786"
             ],
             [
              0.5555555555555556,
              "#d8576b"
             ],
             [
              0.6666666666666666,
              "#ed7953"
             ],
             [
              0.7777777777777778,
              "#fb9f3a"
             ],
             [
              0.8888888888888888,
              "#fdca26"
             ],
             [
              1,
              "#f0f921"
             ]
            ],
            "type": "contour"
           }
          ],
          "contourcarpet": [
           {
            "colorbar": {
             "outlinewidth": 0,
             "ticks": ""
            },
            "type": "contourcarpet"
           }
          ],
          "heatmap": [
           {
            "colorbar": {
             "outlinewidth": 0,
             "ticks": ""
            },
            "colorscale": [
             [
              0,
              "#0d0887"
             ],
             [
              0.1111111111111111,
              "#46039f"
             ],
             [
              0.2222222222222222,
              "#7201a8"
             ],
             [
              0.3333333333333333,
              "#9c179e"
             ],
             [
              0.4444444444444444,
              "#bd3786"
             ],
             [
              0.5555555555555556,
              "#d8576b"
             ],
             [
              0.6666666666666666,
              "#ed7953"
             ],
             [
              0.7777777777777778,
              "#fb9f3a"
             ],
             [
              0.8888888888888888,
              "#fdca26"
             ],
             [
              1,
              "#f0f921"
             ]
            ],
            "type": "heatmap"
           }
          ],
          "heatmapgl": [
           {
            "colorbar": {
             "outlinewidth": 0,
             "ticks": ""
            },
            "colorscale": [
             [
              0,
              "#0d0887"
             ],
             [
              0.1111111111111111,
              "#46039f"
             ],
             [
              0.2222222222222222,
              "#7201a8"
             ],
             [
              0.3333333333333333,
              "#9c179e"
             ],
             [
              0.4444444444444444,
              "#bd3786"
             ],
             [
              0.5555555555555556,
              "#d8576b"
             ],
             [
              0.6666666666666666,
              "#ed7953"
             ],
             [
              0.7777777777777778,
              "#fb9f3a"
             ],
             [
              0.8888888888888888,
              "#fdca26"
             ],
             [
              1,
              "#f0f921"
             ]
            ],
            "type": "heatmapgl"
           }
          ],
          "histogram": [
           {
            "marker": {
             "pattern": {
              "fillmode": "overlay",
              "size": 10,
              "solidity": 0.2
             }
            },
            "type": "histogram"
           }
          ],
          "histogram2d": [
           {
            "colorbar": {
             "outlinewidth": 0,
             "ticks": ""
            },
            "colorscale": [
             [
              0,
              "#0d0887"
             ],
             [
              0.1111111111111111,
              "#46039f"
             ],
             [
              0.2222222222222222,
              "#7201a8"
             ],
             [
              0.3333333333333333,
              "#9c179e"
             ],
             [
              0.4444444444444444,
              "#bd3786"
             ],
             [
              0.5555555555555556,
              "#d8576b"
             ],
             [
              0.6666666666666666,
              "#ed7953"
             ],
             [
              0.7777777777777778,
              "#fb9f3a"
             ],
             [
              0.8888888888888888,
              "#fdca26"
             ],
             [
              1,
              "#f0f921"
             ]
            ],
            "type": "histogram2d"
           }
          ],
          "histogram2dcontour": [
           {
            "colorbar": {
             "outlinewidth": 0,
             "ticks": ""
            },
            "colorscale": [
             [
              0,
              "#0d0887"
             ],
             [
              0.1111111111111111,
              "#46039f"
             ],
             [
              0.2222222222222222,
              "#7201a8"
             ],
             [
              0.3333333333333333,
              "#9c179e"
             ],
             [
              0.4444444444444444,
              "#bd3786"
             ],
             [
              0.5555555555555556,
              "#d8576b"
             ],
             [
              0.6666666666666666,
              "#ed7953"
             ],
             [
              0.7777777777777778,
              "#fb9f3a"
             ],
             [
              0.8888888888888888,
              "#fdca26"
             ],
             [
              1,
              "#f0f921"
             ]
            ],
            "type": "histogram2dcontour"
           }
          ],
          "mesh3d": [
           {
            "colorbar": {
             "outlinewidth": 0,
             "ticks": ""
            },
            "type": "mesh3d"
           }
          ],
          "parcoords": [
           {
            "line": {
             "colorbar": {
              "outlinewidth": 0,
              "ticks": ""
             }
            },
            "type": "parcoords"
           }
          ],
          "pie": [
           {
            "automargin": true,
            "type": "pie"
           }
          ],
          "scatter": [
           {
            "marker": {
             "line": {
              "color": "#283442"
             }
            },
            "type": "scatter"
           }
          ],
          "scatter3d": [
           {
            "line": {
             "colorbar": {
              "outlinewidth": 0,
              "ticks": ""
             }
            },
            "marker": {
             "colorbar": {
              "outlinewidth": 0,
              "ticks": ""
             }
            },
            "type": "scatter3d"
           }
          ],
          "scattercarpet": [
           {
            "marker": {
             "colorbar": {
              "outlinewidth": 0,
              "ticks": ""
             }
            },
            "type": "scattercarpet"
           }
          ],
          "scattergeo": [
           {
            "marker": {
             "colorbar": {
              "outlinewidth": 0,
              "ticks": ""
             }
            },
            "type": "scattergeo"
           }
          ],
          "scattergl": [
           {
            "marker": {
             "line": {
              "color": "#283442"
             }
            },
            "type": "scattergl"
           }
          ],
          "scattermapbox": [
           {
            "marker": {
             "colorbar": {
              "outlinewidth": 0,
              "ticks": ""
             }
            },
            "type": "scattermapbox"
           }
          ],
          "scatterpolar": [
           {
            "marker": {
             "colorbar": {
              "outlinewidth": 0,
              "ticks": ""
             }
            },
            "type": "scatterpolar"
           }
          ],
          "scatterpolargl": [
           {
            "marker": {
             "colorbar": {
              "outlinewidth": 0,
              "ticks": ""
             }
            },
            "type": "scatterpolargl"
           }
          ],
          "scatterternary": [
           {
            "marker": {
             "colorbar": {
              "outlinewidth": 0,
              "ticks": ""
             }
            },
            "type": "scatterternary"
           }
          ],
          "surface": [
           {
            "colorbar": {
             "outlinewidth": 0,
             "ticks": ""
            },
            "colorscale": [
             [
              0,
              "#0d0887"
             ],
             [
              0.1111111111111111,
              "#46039f"
             ],
             [
              0.2222222222222222,
              "#7201a8"
             ],
             [
              0.3333333333333333,
              "#9c179e"
             ],
             [
              0.4444444444444444,
              "#bd3786"
             ],
             [
              0.5555555555555556,
              "#d8576b"
             ],
             [
              0.6666666666666666,
              "#ed7953"
             ],
             [
              0.7777777777777778,
              "#fb9f3a"
             ],
             [
              0.8888888888888888,
              "#fdca26"
             ],
             [
              1,
              "#f0f921"
             ]
            ],
            "type": "surface"
           }
          ],
          "table": [
           {
            "cells": {
             "fill": {
              "color": "#506784"
             },
             "line": {
              "color": "rgb(17,17,17)"
             }
            },
            "header": {
             "fill": {
              "color": "#2a3f5f"
             },
             "line": {
              "color": "rgb(17,17,17)"
             }
            },
            "type": "table"
           }
          ]
         },
         "layout": {
          "annotationdefaults": {
           "arrowcolor": "#f2f5fa",
           "arrowhead": 0,
           "arrowwidth": 1
          },
          "autotypenumbers": "strict",
          "coloraxis": {
           "colorbar": {
            "outlinewidth": 0,
            "ticks": ""
           }
          },
          "colorscale": {
           "diverging": [
            [
             0,
             "#8e0152"
            ],
            [
             0.1,
             "#c51b7d"
            ],
            [
             0.2,
             "#de77ae"
            ],
            [
             0.3,
             "#f1b6da"
            ],
            [
             0.4,
             "#fde0ef"
            ],
            [
             0.5,
             "#f7f7f7"
            ],
            [
             0.6,
             "#e6f5d0"
            ],
            [
             0.7,
             "#b8e186"
            ],
            [
             0.8,
             "#7fbc41"
            ],
            [
             0.9,
             "#4d9221"
            ],
            [
             1,
             "#276419"
            ]
           ],
           "sequential": [
            [
             0,
             "#0d0887"
            ],
            [
             0.1111111111111111,
             "#46039f"
            ],
            [
             0.2222222222222222,
             "#7201a8"
            ],
            [
             0.3333333333333333,
             "#9c179e"
            ],
            [
             0.4444444444444444,
             "#bd3786"
            ],
            [
             0.5555555555555556,
             "#d8576b"
            ],
            [
             0.6666666666666666,
             "#ed7953"
            ],
            [
             0.7777777777777778,
             "#fb9f3a"
            ],
            [
             0.8888888888888888,
             "#fdca26"
            ],
            [
             1,
             "#f0f921"
            ]
           ],
           "sequentialminus": [
            [
             0,
             "#0d0887"
            ],
            [
             0.1111111111111111,
             "#46039f"
            ],
            [
             0.2222222222222222,
             "#7201a8"
            ],
            [
             0.3333333333333333,
             "#9c179e"
            ],
            [
             0.4444444444444444,
             "#bd3786"
            ],
            [
             0.5555555555555556,
             "#d8576b"
            ],
            [
             0.6666666666666666,
             "#ed7953"
            ],
            [
             0.7777777777777778,
             "#fb9f3a"
            ],
            [
             0.8888888888888888,
             "#fdca26"
            ],
            [
             1,
             "#f0f921"
            ]
           ]
          },
          "colorway": [
           "#636efa",
           "#EF553B",
           "#00cc96",
           "#ab63fa",
           "#FFA15A",
           "#19d3f3",
           "#FF6692",
           "#B6E880",
           "#FF97FF",
           "#FECB52"
          ],
          "font": {
           "color": "#f2f5fa"
          },
          "geo": {
           "bgcolor": "rgb(17,17,17)",
           "lakecolor": "rgb(17,17,17)",
           "landcolor": "rgb(17,17,17)",
           "showlakes": true,
           "showland": true,
           "subunitcolor": "#506784"
          },
          "hoverlabel": {
           "align": "left"
          },
          "hovermode": "closest",
          "mapbox": {
           "style": "dark"
          },
          "paper_bgcolor": "rgb(17,17,17)",
          "plot_bgcolor": "rgb(17,17,17)",
          "polar": {
           "angularaxis": {
            "gridcolor": "#506784",
            "linecolor": "#506784",
            "ticks": ""
           },
           "bgcolor": "rgb(17,17,17)",
           "radialaxis": {
            "gridcolor": "#506784",
            "linecolor": "#506784",
            "ticks": ""
           }
          },
          "scene": {
           "xaxis": {
            "backgroundcolor": "rgb(17,17,17)",
            "gridcolor": "#506784",
            "gridwidth": 2,
            "linecolor": "#506784",
            "showbackground": true,
            "ticks": "",
            "zerolinecolor": "#C8D4E3"
           },
           "yaxis": {
            "backgroundcolor": "rgb(17,17,17)",
            "gridcolor": "#506784",
            "gridwidth": 2,
            "linecolor": "#506784",
            "showbackground": true,
            "ticks": "",
            "zerolinecolor": "#C8D4E3"
           },
           "zaxis": {
            "backgroundcolor": "rgb(17,17,17)",
            "gridcolor": "#506784",
            "gridwidth": 2,
            "linecolor": "#506784",
            "showbackground": true,
            "ticks": "",
            "zerolinecolor": "#C8D4E3"
           }
          },
          "shapedefaults": {
           "line": {
            "color": "#f2f5fa"
           }
          },
          "sliderdefaults": {
           "bgcolor": "#C8D4E3",
           "bordercolor": "rgb(17,17,17)",
           "borderwidth": 1,
           "tickwidth": 0
          },
          "ternary": {
           "aaxis": {
            "gridcolor": "#506784",
            "linecolor": "#506784",
            "ticks": ""
           },
           "baxis": {
            "gridcolor": "#506784",
            "linecolor": "#506784",
            "ticks": ""
           },
           "bgcolor": "rgb(17,17,17)",
           "caxis": {
            "gridcolor": "#506784",
            "linecolor": "#506784",
            "ticks": ""
           }
          },
          "title": {
           "x": 0.05
          },
          "updatemenudefaults": {
           "bgcolor": "#506784",
           "borderwidth": 0
          },
          "xaxis": {
           "automargin": true,
           "gridcolor": "#283442",
           "linecolor": "#506784",
           "ticks": "",
           "title": {
            "standoff": 15
           },
           "zerolinecolor": "#283442",
           "zerolinewidth": 2
          },
          "yaxis": {
           "automargin": true,
           "gridcolor": "#283442",
           "linecolor": "#506784",
           "ticks": "",
           "title": {
            "standoff": 15
           },
           "zerolinecolor": "#283442",
           "zerolinewidth": 2
          }
         }
        },
        "title": {
         "text": "Overall Sentiment Analysis of the Channel"
        }
       }
      }
     },
     "metadata": {},
     "output_type": "display_data"
    },
    {
     "name": "stdout",
     "output_type": "stream",
     "text": [
      "HTML file saved as c:\\Users\\Rameez\\OneDrive\\Dashboard Project\\Assets\\Exploratory Analysis Graphs\\Overall_Sentiment_Analysis_of_the_Channel.html\n"
     ]
    }
   ],
   "source": [
    "import plotly.express as px\n",
    "\n",
    "#Create a new DataFrame for the pie chart\n",
    "channel_sentiment_data = pd.DataFrame({'Sentiment': ['Positive', 'Negative', 'Neutral'],\n",
    "                                       'Count': [total_positive_comments, total_negative_comments, total_neutral_comments]})\n",
    "\n",
    "#Create a pie chart using Plotly Express\n",
    "fig_channel_sentiment_data = px.pie(channel_sentiment_data, names='Sentiment', values='Count', title='Overall Sentiment Analysis of the Channel',\n",
    "                                    color_discrete_sequence=px.colors.sequential.Jet,\n",
    "                                    template='plotly_dark')\n",
    "\n",
    "\n",
    "#Show the chart\n",
    "fig_channel_sentiment_data.show()\n",
    "\n",
    "#Define the HTML file path using the relative path to 'Exploratory Analysis Graphs'\n",
    "html_file_name = 'Overall_Sentiment_Analysis_of_the_Channel.html'\n",
    "html_file_path = os.path.join(graphs_dir, html_file_name)\n",
    "\n",
    "#Save the Plotly figure as an HTML file\n",
    "fig_channel_sentiment_data.write_html(html_file_path)\n",
    "\n",
    "print(f'HTML file saved as {html_file_path}')"
   ]
  },
  {
   "cell_type": "markdown",
   "metadata": {},
   "source": [
    "Evaluating Top 05 Positive Commented Data"
   ]
  },
  {
   "cell_type": "code",
   "execution_count": 28,
   "metadata": {},
   "outputs": [],
   "source": [
    "#Sort the DataFrame by 'Positive Comments Count' in descending order and select the top 5 rows\n",
    "top_05_positive_videos = sentiment_analysis_data.sort_values(\n",
    "    by='Positive Comments Count', ascending=False).head(5)"
   ]
  },
  {
   "cell_type": "code",
   "execution_count": 29,
   "metadata": {},
   "outputs": [
    {
     "data": {
      "application/vnd.plotly.v1+json": {
       "config": {
        "plotlyServerURL": "https://plot.ly"
       },
       "data": [
        {
         "alignmentgroup": "True",
         "hovertemplate": "Video ID=%{x}<br>Positive Comments Count=%{y}<extra></extra>",
         "legendgroup": "",
         "marker": {
          "color": "rgb(255,255,217)",
          "pattern": {
           "shape": ""
          }
         },
         "name": "",
         "offsetgroup": "",
         "orientation": "v",
         "showlegend": false,
         "textposition": "auto",
         "type": "bar",
         "x": [
          "udPy-hc7XPI",
          "GiyCmtFOFF0",
          "XKDi2ekNa8A",
          "faoTxcOCbKg",
          "d_O3MjHFdiI"
         ],
         "xaxis": "x",
         "y": [
          62,
          53,
          51,
          51,
          51
         ],
         "yaxis": "y"
        }
       ],
       "layout": {
        "barmode": "relative",
        "legend": {
         "tracegroupgap": 0
        },
        "template": {
         "data": {
          "bar": [
           {
            "error_x": {
             "color": "#f2f5fa"
            },
            "error_y": {
             "color": "#f2f5fa"
            },
            "marker": {
             "line": {
              "color": "rgb(17,17,17)",
              "width": 0.5
             },
             "pattern": {
              "fillmode": "overlay",
              "size": 10,
              "solidity": 0.2
             }
            },
            "type": "bar"
           }
          ],
          "barpolar": [
           {
            "marker": {
             "line": {
              "color": "rgb(17,17,17)",
              "width": 0.5
             },
             "pattern": {
              "fillmode": "overlay",
              "size": 10,
              "solidity": 0.2
             }
            },
            "type": "barpolar"
           }
          ],
          "carpet": [
           {
            "aaxis": {
             "endlinecolor": "#A2B1C6",
             "gridcolor": "#506784",
             "linecolor": "#506784",
             "minorgridcolor": "#506784",
             "startlinecolor": "#A2B1C6"
            },
            "baxis": {
             "endlinecolor": "#A2B1C6",
             "gridcolor": "#506784",
             "linecolor": "#506784",
             "minorgridcolor": "#506784",
             "startlinecolor": "#A2B1C6"
            },
            "type": "carpet"
           }
          ],
          "choropleth": [
           {
            "colorbar": {
             "outlinewidth": 0,
             "ticks": ""
            },
            "type": "choropleth"
           }
          ],
          "contour": [
           {
            "colorbar": {
             "outlinewidth": 0,
             "ticks": ""
            },
            "colorscale": [
             [
              0,
              "#0d0887"
             ],
             [
              0.1111111111111111,
              "#46039f"
             ],
             [
              0.2222222222222222,
              "#7201a8"
             ],
             [
              0.3333333333333333,
              "#9c179e"
             ],
             [
              0.4444444444444444,
              "#bd3786"
             ],
             [
              0.5555555555555556,
              "#d8576b"
             ],
             [
              0.6666666666666666,
              "#ed7953"
             ],
             [
              0.7777777777777778,
              "#fb9f3a"
             ],
             [
              0.8888888888888888,
              "#fdca26"
             ],
             [
              1,
              "#f0f921"
             ]
            ],
            "type": "contour"
           }
          ],
          "contourcarpet": [
           {
            "colorbar": {
             "outlinewidth": 0,
             "ticks": ""
            },
            "type": "contourcarpet"
           }
          ],
          "heatmap": [
           {
            "colorbar": {
             "outlinewidth": 0,
             "ticks": ""
            },
            "colorscale": [
             [
              0,
              "#0d0887"
             ],
             [
              0.1111111111111111,
              "#46039f"
             ],
             [
              0.2222222222222222,
              "#7201a8"
             ],
             [
              0.3333333333333333,
              "#9c179e"
             ],
             [
              0.4444444444444444,
              "#bd3786"
             ],
             [
              0.5555555555555556,
              "#d8576b"
             ],
             [
              0.6666666666666666,
              "#ed7953"
             ],
             [
              0.7777777777777778,
              "#fb9f3a"
             ],
             [
              0.8888888888888888,
              "#fdca26"
             ],
             [
              1,
              "#f0f921"
             ]
            ],
            "type": "heatmap"
           }
          ],
          "heatmapgl": [
           {
            "colorbar": {
             "outlinewidth": 0,
             "ticks": ""
            },
            "colorscale": [
             [
              0,
              "#0d0887"
             ],
             [
              0.1111111111111111,
              "#46039f"
             ],
             [
              0.2222222222222222,
              "#7201a8"
             ],
             [
              0.3333333333333333,
              "#9c179e"
             ],
             [
              0.4444444444444444,
              "#bd3786"
             ],
             [
              0.5555555555555556,
              "#d8576b"
             ],
             [
              0.6666666666666666,
              "#ed7953"
             ],
             [
              0.7777777777777778,
              "#fb9f3a"
             ],
             [
              0.8888888888888888,
              "#fdca26"
             ],
             [
              1,
              "#f0f921"
             ]
            ],
            "type": "heatmapgl"
           }
          ],
          "histogram": [
           {
            "marker": {
             "pattern": {
              "fillmode": "overlay",
              "size": 10,
              "solidity": 0.2
             }
            },
            "type": "histogram"
           }
          ],
          "histogram2d": [
           {
            "colorbar": {
             "outlinewidth": 0,
             "ticks": ""
            },
            "colorscale": [
             [
              0,
              "#0d0887"
             ],
             [
              0.1111111111111111,
              "#46039f"
             ],
             [
              0.2222222222222222,
              "#7201a8"
             ],
             [
              0.3333333333333333,
              "#9c179e"
             ],
             [
              0.4444444444444444,
              "#bd3786"
             ],
             [
              0.5555555555555556,
              "#d8576b"
             ],
             [
              0.6666666666666666,
              "#ed7953"
             ],
             [
              0.7777777777777778,
              "#fb9f3a"
             ],
             [
              0.8888888888888888,
              "#fdca26"
             ],
             [
              1,
              "#f0f921"
             ]
            ],
            "type": "histogram2d"
           }
          ],
          "histogram2dcontour": [
           {
            "colorbar": {
             "outlinewidth": 0,
             "ticks": ""
            },
            "colorscale": [
             [
              0,
              "#0d0887"
             ],
             [
              0.1111111111111111,
              "#46039f"
             ],
             [
              0.2222222222222222,
              "#7201a8"
             ],
             [
              0.3333333333333333,
              "#9c179e"
             ],
             [
              0.4444444444444444,
              "#bd3786"
             ],
             [
              0.5555555555555556,
              "#d8576b"
             ],
             [
              0.6666666666666666,
              "#ed7953"
             ],
             [
              0.7777777777777778,
              "#fb9f3a"
             ],
             [
              0.8888888888888888,
              "#fdca26"
             ],
             [
              1,
              "#f0f921"
             ]
            ],
            "type": "histogram2dcontour"
           }
          ],
          "mesh3d": [
           {
            "colorbar": {
             "outlinewidth": 0,
             "ticks": ""
            },
            "type": "mesh3d"
           }
          ],
          "parcoords": [
           {
            "line": {
             "colorbar": {
              "outlinewidth": 0,
              "ticks": ""
             }
            },
            "type": "parcoords"
           }
          ],
          "pie": [
           {
            "automargin": true,
            "type": "pie"
           }
          ],
          "scatter": [
           {
            "marker": {
             "line": {
              "color": "#283442"
             }
            },
            "type": "scatter"
           }
          ],
          "scatter3d": [
           {
            "line": {
             "colorbar": {
              "outlinewidth": 0,
              "ticks": ""
             }
            },
            "marker": {
             "colorbar": {
              "outlinewidth": 0,
              "ticks": ""
             }
            },
            "type": "scatter3d"
           }
          ],
          "scattercarpet": [
           {
            "marker": {
             "colorbar": {
              "outlinewidth": 0,
              "ticks": ""
             }
            },
            "type": "scattercarpet"
           }
          ],
          "scattergeo": [
           {
            "marker": {
             "colorbar": {
              "outlinewidth": 0,
              "ticks": ""
             }
            },
            "type": "scattergeo"
           }
          ],
          "scattergl": [
           {
            "marker": {
             "line": {
              "color": "#283442"
             }
            },
            "type": "scattergl"
           }
          ],
          "scattermapbox": [
           {
            "marker": {
             "colorbar": {
              "outlinewidth": 0,
              "ticks": ""
             }
            },
            "type": "scattermapbox"
           }
          ],
          "scatterpolar": [
           {
            "marker": {
             "colorbar": {
              "outlinewidth": 0,
              "ticks": ""
             }
            },
            "type": "scatterpolar"
           }
          ],
          "scatterpolargl": [
           {
            "marker": {
             "colorbar": {
              "outlinewidth": 0,
              "ticks": ""
             }
            },
            "type": "scatterpolargl"
           }
          ],
          "scatterternary": [
           {
            "marker": {
             "colorbar": {
              "outlinewidth": 0,
              "ticks": ""
             }
            },
            "type": "scatterternary"
           }
          ],
          "surface": [
           {
            "colorbar": {
             "outlinewidth": 0,
             "ticks": ""
            },
            "colorscale": [
             [
              0,
              "#0d0887"
             ],
             [
              0.1111111111111111,
              "#46039f"
             ],
             [
              0.2222222222222222,
              "#7201a8"
             ],
             [
              0.3333333333333333,
              "#9c179e"
             ],
             [
              0.4444444444444444,
              "#bd3786"
             ],
             [
              0.5555555555555556,
              "#d8576b"
             ],
             [
              0.6666666666666666,
              "#ed7953"
             ],
             [
              0.7777777777777778,
              "#fb9f3a"
             ],
             [
              0.8888888888888888,
              "#fdca26"
             ],
             [
              1,
              "#f0f921"
             ]
            ],
            "type": "surface"
           }
          ],
          "table": [
           {
            "cells": {
             "fill": {
              "color": "#506784"
             },
             "line": {
              "color": "rgb(17,17,17)"
             }
            },
            "header": {
             "fill": {
              "color": "#2a3f5f"
             },
             "line": {
              "color": "rgb(17,17,17)"
             }
            },
            "type": "table"
           }
          ]
         },
         "layout": {
          "annotationdefaults": {
           "arrowcolor": "#f2f5fa",
           "arrowhead": 0,
           "arrowwidth": 1
          },
          "autotypenumbers": "strict",
          "coloraxis": {
           "colorbar": {
            "outlinewidth": 0,
            "ticks": ""
           }
          },
          "colorscale": {
           "diverging": [
            [
             0,
             "#8e0152"
            ],
            [
             0.1,
             "#c51b7d"
            ],
            [
             0.2,
             "#de77ae"
            ],
            [
             0.3,
             "#f1b6da"
            ],
            [
             0.4,
             "#fde0ef"
            ],
            [
             0.5,
             "#f7f7f7"
            ],
            [
             0.6,
             "#e6f5d0"
            ],
            [
             0.7,
             "#b8e186"
            ],
            [
             0.8,
             "#7fbc41"
            ],
            [
             0.9,
             "#4d9221"
            ],
            [
             1,
             "#276419"
            ]
           ],
           "sequential": [
            [
             0,
             "#0d0887"
            ],
            [
             0.1111111111111111,
             "#46039f"
            ],
            [
             0.2222222222222222,
             "#7201a8"
            ],
            [
             0.3333333333333333,
             "#9c179e"
            ],
            [
             0.4444444444444444,
             "#bd3786"
            ],
            [
             0.5555555555555556,
             "#d8576b"
            ],
            [
             0.6666666666666666,
             "#ed7953"
            ],
            [
             0.7777777777777778,
             "#fb9f3a"
            ],
            [
             0.8888888888888888,
             "#fdca26"
            ],
            [
             1,
             "#f0f921"
            ]
           ],
           "sequentialminus": [
            [
             0,
             "#0d0887"
            ],
            [
             0.1111111111111111,
             "#46039f"
            ],
            [
             0.2222222222222222,
             "#7201a8"
            ],
            [
             0.3333333333333333,
             "#9c179e"
            ],
            [
             0.4444444444444444,
             "#bd3786"
            ],
            [
             0.5555555555555556,
             "#d8576b"
            ],
            [
             0.6666666666666666,
             "#ed7953"
            ],
            [
             0.7777777777777778,
             "#fb9f3a"
            ],
            [
             0.8888888888888888,
             "#fdca26"
            ],
            [
             1,
             "#f0f921"
            ]
           ]
          },
          "colorway": [
           "#636efa",
           "#EF553B",
           "#00cc96",
           "#ab63fa",
           "#FFA15A",
           "#19d3f3",
           "#FF6692",
           "#B6E880",
           "#FF97FF",
           "#FECB52"
          ],
          "font": {
           "color": "#f2f5fa"
          },
          "geo": {
           "bgcolor": "rgb(17,17,17)",
           "lakecolor": "rgb(17,17,17)",
           "landcolor": "rgb(17,17,17)",
           "showlakes": true,
           "showland": true,
           "subunitcolor": "#506784"
          },
          "hoverlabel": {
           "align": "left"
          },
          "hovermode": "closest",
          "mapbox": {
           "style": "dark"
          },
          "paper_bgcolor": "rgb(17,17,17)",
          "plot_bgcolor": "rgb(17,17,17)",
          "polar": {
           "angularaxis": {
            "gridcolor": "#506784",
            "linecolor": "#506784",
            "ticks": ""
           },
           "bgcolor": "rgb(17,17,17)",
           "radialaxis": {
            "gridcolor": "#506784",
            "linecolor": "#506784",
            "ticks": ""
           }
          },
          "scene": {
           "xaxis": {
            "backgroundcolor": "rgb(17,17,17)",
            "gridcolor": "#506784",
            "gridwidth": 2,
            "linecolor": "#506784",
            "showbackground": true,
            "ticks": "",
            "zerolinecolor": "#C8D4E3"
           },
           "yaxis": {
            "backgroundcolor": "rgb(17,17,17)",
            "gridcolor": "#506784",
            "gridwidth": 2,
            "linecolor": "#506784",
            "showbackground": true,
            "ticks": "",
            "zerolinecolor": "#C8D4E3"
           },
           "zaxis": {
            "backgroundcolor": "rgb(17,17,17)",
            "gridcolor": "#506784",
            "gridwidth": 2,
            "linecolor": "#506784",
            "showbackground": true,
            "ticks": "",
            "zerolinecolor": "#C8D4E3"
           }
          },
          "shapedefaults": {
           "line": {
            "color": "#f2f5fa"
           }
          },
          "sliderdefaults": {
           "bgcolor": "#C8D4E3",
           "bordercolor": "rgb(17,17,17)",
           "borderwidth": 1,
           "tickwidth": 0
          },
          "ternary": {
           "aaxis": {
            "gridcolor": "#506784",
            "linecolor": "#506784",
            "ticks": ""
           },
           "baxis": {
            "gridcolor": "#506784",
            "linecolor": "#506784",
            "ticks": ""
           },
           "bgcolor": "rgb(17,17,17)",
           "caxis": {
            "gridcolor": "#506784",
            "linecolor": "#506784",
            "ticks": ""
           }
          },
          "title": {
           "x": 0.05
          },
          "updatemenudefaults": {
           "bgcolor": "#506784",
           "borderwidth": 0
          },
          "xaxis": {
           "automargin": true,
           "gridcolor": "#283442",
           "linecolor": "#506784",
           "ticks": "",
           "title": {
            "standoff": 15
           },
           "zerolinecolor": "#283442",
           "zerolinewidth": 2
          },
          "yaxis": {
           "automargin": true,
           "gridcolor": "#283442",
           "linecolor": "#506784",
           "ticks": "",
           "title": {
            "standoff": 15
           },
           "zerolinecolor": "#283442",
           "zerolinewidth": 2
          }
         }
        },
        "title": {
         "text": "Top 5 Positive Commented Videos"
        },
        "xaxis": {
         "anchor": "y",
         "domain": [
          0,
          1
         ],
         "title": {
          "text": "Video ID"
         }
        },
        "yaxis": {
         "anchor": "x",
         "domain": [
          0,
          1
         ],
         "title": {
          "text": "Positive Comments Count"
         }
        }
       }
      }
     },
     "metadata": {},
     "output_type": "display_data"
    },
    {
     "name": "stdout",
     "output_type": "stream",
     "text": [
      "HTML file saved as c:\\Users\\Rameez\\OneDrive\\Dashboard Project\\Assets\\Exploratory Analysis Graphs\\Top_05_positive_commented_videos.html\n"
     ]
    }
   ],
   "source": [
    "#Create a bar graph using Plotly Express with a dark theme\n",
    "fig_top_05_positive_commented_videos = px.bar(\n",
    "    top_05_positive_videos,\n",
    "    x='Video ID',\n",
    "    y='Positive Comments Count',\n",
    "    title='Top 5 Positive Commented Videos',\n",
    "    template='plotly_dark',\n",
    "    color_discrete_sequence=px.colors.sequential.YlGnBu\n",
    ")\n",
    "\n",
    "#Show the chart\n",
    "fig_top_05_positive_commented_videos.show()\n",
    "\n",
    "#Define the HTML file path using the relative path to 'Exploratory Analysis Graphs'\n",
    "html_file_name = 'Top_05_positive_commented_videos.html'\n",
    "html_file_path = os.path.join(graphs_dir, html_file_name)\n",
    "\n",
    "#Save the Plotly figure as an HTML file\n",
    "fig_top_05_positive_commented_videos.write_html(html_file_path)\n",
    "\n",
    "print(f'HTML file saved as {html_file_path}')"
   ]
  },
  {
   "cell_type": "markdown",
   "metadata": {},
   "source": [
    "# Performing Information Flow Analysis for the Diffusion of Information among Peer Networks"
   ]
  },
  {
   "cell_type": "code",
   "execution_count": 30,
   "metadata": {},
   "outputs": [
    {
     "name": "stdout",
     "output_type": "stream",
     "text": [
      "         Video ID         User Name  \\\n",
      "0     7XFSkk-FtYw      A1a8l0h5a9d8   \n",
      "1     7XFSkk-FtYw     Rohit Bishnoi   \n",
      "2     7XFSkk-FtYw     Steve Skrobot   \n",
      "3     7XFSkk-FtYw      Mehedi Hasan   \n",
      "4     7XFSkk-FtYw      Mehedi Hasan   \n",
      "...           ...               ...   \n",
      "6103  ekwZCwc59WM      Vëdâñt Mêhtå   \n",
      "6104  ekwZCwc59WM    Eugenie Leduke   \n",
      "6105  ekwZCwc59WM     Tejesh Shetty   \n",
      "6106  ekwZCwc59WM      Emma Daggett   \n",
      "6107  ekwZCwc59WM  Christy Hamphrey   \n",
      "\n",
      "                                                Comment  \n",
      "0     I miss those days I wish I could go back then ...  \n",
      "1                Promoting 4k by uploading a 360p video  \n",
      "2     Where do they get this &#39;Tip &amp; Run&#39;...  \n",
      "3                        Best  movie i&#39;ve ever seen  \n",
      "4                           Fox CRICKET is the best❤🏏❤❤  \n",
      "...                                                 ...  \n",
      "6103                                             kinngg  \n",
      "6104  I miss your videos terribly. Could you please ...  \n",
      "6105                Indians like button&gt;&gt;&gt;&gt;  \n",
      "6106                     Your videos are of great use!👀  \n",
      "6107               You put your heart and soul into it💝  \n",
      "\n",
      "[6108 rows x 3 columns]\n"
     ]
    }
   ],
   "source": [
    "#Define the relative path to the CSV file you want to read\n",
    "csv_file_name = 'comments_data.csv'\n",
    "csv_file_path = os.path.join(database_dir, csv_file_name)\n",
    "\n",
    "#Check if the CSV file exists before reading it\n",
    "if os.path.isfile(csv_file_path):\n",
    "    #Read the CSV file into a DataFrame\n",
    "    comments_data = pd.read_csv(csv_file_path)\n",
    "    print(comments_data)\n",
    "else:\n",
    "    print(f\"CSV file '{csv_file_name}' does not exist in the 'Database' folder.\")"
   ]
  },
  {
   "cell_type": "markdown",
   "metadata": {},
   "source": [
    "### Identify the users who are currently involved in the Network"
   ]
  },
  {
   "cell_type": "markdown",
   "metadata": {},
   "source": [
    "Getting All Unique Users"
   ]
  },
  {
   "cell_type": "code",
   "execution_count": 31,
   "metadata": {},
   "outputs": [
    {
     "data": {
      "text/html": [
       "<div>\n",
       "<style scoped>\n",
       "    .dataframe tbody tr th:only-of-type {\n",
       "        vertical-align: middle;\n",
       "    }\n",
       "\n",
       "    .dataframe tbody tr th {\n",
       "        vertical-align: top;\n",
       "    }\n",
       "\n",
       "    .dataframe thead th {\n",
       "        text-align: right;\n",
       "    }\n",
       "</style>\n",
       "<table border=\"1\" class=\"dataframe\">\n",
       "  <thead>\n",
       "    <tr style=\"text-align: right;\">\n",
       "      <th></th>\n",
       "      <th>User Name</th>\n",
       "    </tr>\n",
       "  </thead>\n",
       "  <tbody>\n",
       "    <tr>\n",
       "      <th>0</th>\n",
       "      <td>A1a8l0h5a9d8</td>\n",
       "    </tr>\n",
       "    <tr>\n",
       "      <th>1</th>\n",
       "      <td>Rohit Bishnoi</td>\n",
       "    </tr>\n",
       "    <tr>\n",
       "      <th>2</th>\n",
       "      <td>Steve Skrobot</td>\n",
       "    </tr>\n",
       "    <tr>\n",
       "      <th>3</th>\n",
       "      <td>Mehedi Hasan</td>\n",
       "    </tr>\n",
       "    <tr>\n",
       "      <th>4</th>\n",
       "      <td>Ian Gilliver</td>\n",
       "    </tr>\n",
       "    <tr>\n",
       "      <th>...</th>\n",
       "      <td>...</td>\n",
       "    </tr>\n",
       "    <tr>\n",
       "      <th>5866</th>\n",
       "      <td>Vëdâñt Mêhtå</td>\n",
       "    </tr>\n",
       "    <tr>\n",
       "      <th>5867</th>\n",
       "      <td>Eugenie Leduke</td>\n",
       "    </tr>\n",
       "    <tr>\n",
       "      <th>5868</th>\n",
       "      <td>Tejesh Shetty</td>\n",
       "    </tr>\n",
       "    <tr>\n",
       "      <th>5869</th>\n",
       "      <td>Emma Daggett</td>\n",
       "    </tr>\n",
       "    <tr>\n",
       "      <th>5870</th>\n",
       "      <td>Christy Hamphrey</td>\n",
       "    </tr>\n",
       "  </tbody>\n",
       "</table>\n",
       "<p>5871 rows × 1 columns</p>\n",
       "</div>"
      ],
      "text/plain": [
       "             User Name\n",
       "0         A1a8l0h5a9d8\n",
       "1        Rohit Bishnoi\n",
       "2        Steve Skrobot\n",
       "3         Mehedi Hasan\n",
       "4         Ian Gilliver\n",
       "...                ...\n",
       "5866      Vëdâñt Mêhtå\n",
       "5867    Eugenie Leduke\n",
       "5868     Tejesh Shetty\n",
       "5869      Emma Daggett\n",
       "5870  Christy Hamphrey\n",
       "\n",
       "[5871 rows x 1 columns]"
      ]
     },
     "execution_count": 31,
     "metadata": {},
     "output_type": "execute_result"
    }
   ],
   "source": [
    "#Set of unique users\n",
    "all_unique_users = comments_data['User Name'].unique()\n",
    "\n",
    "#get to a daraframe\n",
    "all_unique_users = pd.DataFrame(all_unique_users, columns=['User Name'])\n",
    "\n",
    "all_unique_users"
   ]
  },
  {
   "cell_type": "code",
   "execution_count": 32,
   "metadata": {},
   "outputs": [],
   "source": [
    "#Import networkx library for creating graphs\n",
    "import networkx as nx"
   ]
  },
  {
   "cell_type": "markdown",
   "metadata": {},
   "source": [
    "User engagment is commenting and replying.\n",
    "Suppose Video IDs and commented Users are the nodes and the commenting scenario is the edge. If any user have commented multiple comments for that particular video, the bond is strong. We can represent that for a weighted edge"
   ]
  },
  {
   "cell_type": "code",
   "execution_count": 33,
   "metadata": {},
   "outputs": [],
   "source": [
    "#Create an empty graph\n",
    "G = nx.Graph()\n",
    "\n",
    "#Iterate through the DataFrame and add nodes and edges\n",
    "for _, row in comments_data.iterrows():\n",
    "    video_id = row['Video ID']\n",
    "    user_name = row['User Name']\n",
    "\n",
    "    #Add nodes for Video ID and User Name\n",
    "    G.add_node(video_id, node_type='video')\n",
    "    G.add_node(user_name, node_type='user')\n",
    "\n",
    "    #Check if an edge already exists\n",
    "    if G.has_edge(video_id, user_name):\n",
    "        #If an edge exists, increment its weight\n",
    "        G[video_id][user_name]['weight'] += 1\n",
    "    else:\n",
    "        #If no edge exists, create a new edge with weight 1\n",
    "        G.add_edge(video_id, user_name, weight=1)\n"
   ]
  },
  {
   "cell_type": "code",
   "execution_count": 34,
   "metadata": {},
   "outputs": [
    {
     "name": "stdout",
     "output_type": "stream",
     "text": [
      "Graph with 6043 nodes and 5871 edges\n"
     ]
    },
    {
     "name": "stderr",
     "output_type": "stream",
     "text": [
      "C:\\Users\\Rameez\\AppData\\Local\\Temp\\ipykernel_6128\\1729690695.py:2: DeprecationWarning:\n",
      "\n",
      "info is deprecated and will be removed in version 3.0.\n",
      "\n",
      "\n"
     ]
    }
   ],
   "source": [
    "#Information about the graph\n",
    "print(nx.info(G))"
   ]
  },
  {
   "cell_type": "markdown",
   "metadata": {},
   "source": [
    "Since drawing a network graph for this mush of nodes and edges is practically un efficient, Filter the nodes which meet the condition weight of the edge > 1.\n",
    "With this filter we can clearly analyse the videos and users who has a significant impact on the channel statistics"
   ]
  },
  {
   "cell_type": "code",
   "execution_count": 35,
   "metadata": {},
   "outputs": [
    {
     "name": "stdout",
     "output_type": "stream",
     "text": [
      "Graph with 296 nodes and 205 edges\n"
     ]
    },
    {
     "name": "stderr",
     "output_type": "stream",
     "text": [
      "C:\\Users\\Rameez\\AppData\\Local\\Temp\\ipykernel_6128\\3274707395.py:14: DeprecationWarning:\n",
      "\n",
      "info is deprecated and will be removed in version 3.0.\n",
      "\n",
      "\n"
     ]
    }
   ],
   "source": [
    "#Create a filtered graph G_filtered\n",
    "G_filtered = nx.Graph()\n",
    "\n",
    "#Iterate through the edges of the original graph G\n",
    "for u, v, data in G.edges(data=True):\n",
    "    # Check if the weight of the edge is more than 1\n",
    "    if data['weight'] > 1:\n",
    "        # Add the nodes and edge to the filtered graph G_filtered\n",
    "        G_filtered.add_node(u, node_type=G.nodes[u]['node_type'])\n",
    "        G_filtered.add_node(v, node_type=G.nodes[v]['node_type'])\n",
    "        G_filtered.add_edge(u, v, weight=data['weight'])\n",
    "\n",
    "#information about the filtered graph\n",
    "print(nx.info(G_filtered))"
   ]
  },
  {
   "cell_type": "code",
   "execution_count": 36,
   "metadata": {},
   "outputs": [
    {
     "name": "stdout",
     "output_type": "stream",
     "text": [
      "Weight: 2 | Count: 180\n",
      "Weight: 3 | Count: 20\n",
      "Weight: 4 | Count: 4\n",
      "Weight: 6 | Count: 1\n"
     ]
    }
   ],
   "source": [
    "#Set of unique weightes and count of their nodes\n",
    "unique_weights = set(nx.get_edge_attributes(G_filtered, 'weight').values())\n",
    "\n",
    "for weight in unique_weights:\n",
    "    print(\n",
    "        f'Weight: {weight} | Count: {len([edge for edge in G_filtered.edges(data=True) if edge[2][\"weight\"] == weight])}')"
   ]
  },
  {
   "cell_type": "code",
   "execution_count": 37,
   "metadata": {},
   "outputs": [
    {
     "data": {
      "text/plain": [
       "{'video': 91, 'user': 205}"
      ]
     },
     "execution_count": 37,
     "metadata": {},
     "output_type": "execute_result"
    }
   ],
   "source": [
    "#Count the number of defined node types\n",
    "node_types = nx.get_node_attributes(G_filtered, 'node_type')\n",
    "node_types_count = {}\n",
    "\n",
    "for node_type in node_types.values():\n",
    "    if node_type in node_types_count:\n",
    "        node_types_count[node_type] += 1\n",
    "    else:\n",
    "        node_types_count[node_type] = 1\n",
    "\n",
    "node_types_count"
   ]
  },
  {
   "cell_type": "markdown",
   "metadata": {},
   "source": [
    "### Important Users who made a  Significant Impact on Channel Statistics"
   ]
  },
  {
   "cell_type": "code",
   "execution_count": 38,
   "metadata": {},
   "outputs": [
    {
     "data": {
      "text/html": [
       "<div>\n",
       "<style scoped>\n",
       "    .dataframe tbody tr th:only-of-type {\n",
       "        vertical-align: middle;\n",
       "    }\n",
       "\n",
       "    .dataframe tbody tr th {\n",
       "        vertical-align: top;\n",
       "    }\n",
       "\n",
       "    .dataframe thead th {\n",
       "        text-align: right;\n",
       "    }\n",
       "</style>\n",
       "<table border=\"1\" class=\"dataframe\">\n",
       "  <thead>\n",
       "    <tr style=\"text-align: right;\">\n",
       "      <th></th>\n",
       "      <th>Important User Name</th>\n",
       "    </tr>\n",
       "  </thead>\n",
       "  <tbody>\n",
       "    <tr>\n",
       "      <th>0</th>\n",
       "      <td>Mehedi Hasan</td>\n",
       "    </tr>\n",
       "    <tr>\n",
       "      <th>1</th>\n",
       "      <td>Badiuz Zaman</td>\n",
       "    </tr>\n",
       "    <tr>\n",
       "      <th>2</th>\n",
       "      <td>chayanika ghosh</td>\n",
       "    </tr>\n",
       "    <tr>\n",
       "      <th>3</th>\n",
       "      <td>Bablu Pal</td>\n",
       "    </tr>\n",
       "    <tr>\n",
       "      <th>4</th>\n",
       "      <td>Mangesh Shinde</td>\n",
       "    </tr>\n",
       "    <tr>\n",
       "      <th>...</th>\n",
       "      <td>...</td>\n",
       "    </tr>\n",
       "    <tr>\n",
       "      <th>200</th>\n",
       "      <td>jazzweather</td>\n",
       "    </tr>\n",
       "    <tr>\n",
       "      <th>201</th>\n",
       "      <td>anocri</td>\n",
       "    </tr>\n",
       "    <tr>\n",
       "      <th>202</th>\n",
       "      <td>harsh shree</td>\n",
       "    </tr>\n",
       "    <tr>\n",
       "      <th>203</th>\n",
       "      <td>Sunil Samantaray</td>\n",
       "    </tr>\n",
       "    <tr>\n",
       "      <th>204</th>\n",
       "      <td>Niraj Kumar</td>\n",
       "    </tr>\n",
       "  </tbody>\n",
       "</table>\n",
       "<p>205 rows × 1 columns</p>\n",
       "</div>"
      ],
      "text/plain": [
       "    Important User Name\n",
       "0          Mehedi Hasan\n",
       "1          Badiuz Zaman\n",
       "2       chayanika ghosh\n",
       "3             Bablu Pal\n",
       "4        Mangesh Shinde\n",
       "..                  ...\n",
       "200         jazzweather\n",
       "201              anocri\n",
       "202         harsh shree\n",
       "203    Sunil Samantaray\n",
       "204         Niraj Kumar\n",
       "\n",
       "[205 rows x 1 columns]"
      ]
     },
     "execution_count": 38,
     "metadata": {},
     "output_type": "execute_result"
    }
   ],
   "source": [
    "#Create a list of important nodes with node type user for G_filered\n",
    "important_users = [node for node in G_filtered.nodes(\n",
    ") if G_filtered.nodes[node]['node_type'] == 'user']\n",
    "\n",
    "#Create a dataframe for important nodes\n",
    "important_users = pd.DataFrame(important_users, columns=['User Name'])\n",
    "\n",
    "#Rename the column as Important User Name\n",
    "important_users.rename(columns={'User Name': 'Important User Name'}, inplace=True)\n",
    "\n",
    "important_users"
   ]
  },
  {
   "cell_type": "markdown",
   "metadata": {},
   "source": [
    "## Diffusion of Information Among Imporant Peer Networks"
   ]
  },
  {
   "cell_type": "markdown",
   "metadata": {},
   "source": [
    "Get the Graph of Network Information Flow of User and Videos who made a significant impact for the Channel Statistics"
   ]
  },
  {
   "cell_type": "code",
   "execution_count": 39,
   "metadata": {},
   "outputs": [
    {
     "data": {
      "application/vnd.plotly.v1+json": {
       "config": {
        "plotlyServerURL": "https://plot.ly"
       },
       "data": [
        {
         "hoverinfo": "none",
         "line": {
          "color": "lightblue",
          "width": 1
         },
         "mode": "lines",
         "type": "scatter",
         "x": [
          -0.06299674804306121,
          -0.0628383654925903,
          null,
          0.7187389755879399,
          0.6771985154673168,
          null,
          -0.17829037105732798,
          -0.19796794083095434,
          null,
          -0.17829037105732798,
          -0.16692652368542604,
          null,
          -0.17829037105732798,
          -0.17646387563664662,
          null,
          0.4511621007579356,
          0.46438447220793644,
          null,
          0.4511621007579356,
          0.42207475394007293,
          null,
          0.8586712846939257,
          0.8457541896351717,
          null,
          -0.32508787913874676,
          -0.2897308037739653,
          null,
          -0.43292818136066674,
          -0.4467558010493167,
          null,
          -0.43292818136066674,
          -0.47237198782344114,
          null,
          -0.43292818136066674,
          -0.4525093018253773,
          null,
          -0.43292818136066674,
          -0.4027759347840643,
          null,
          -0.4200643529605024,
          -0.3951227260820132,
          null,
          -0.4200643529605024,
          -0.44312453401714125,
          null,
          0.5878940852634398,
          0.5543510915518817,
          null,
          0.5878940852634398,
          0.5816322726545136,
          null,
          0.5878940852634398,
          0.6149660754667616,
          null,
          0.5878940852634398,
          0.6288620227975827,
          null,
          0.5878940852634398,
          0.5608050142130601,
          null,
          -0.2601218234047271,
          -0.29024940002171595,
          null,
          -0.2601218234047271,
          -0.2566448605432375,
          null,
          -0.2601218234047271,
          -0.23139977622344282,
          null,
          0.4320655280108741,
          0.4564690490781441,
          null,
          0.5687777060505523,
          0.5372684890483804,
          null,
          0.5687777060505523,
          0.5912655296217679,
          null,
          -0.9432443784969872,
          -0.9707055090061042,
          null,
          -0.09269422405671432,
          -0.06906531458732594,
          null,
          0.3218760689780054,
          0.30660437983981775,
          null,
          -0.30742852895958883,
          -0.29587393687978364,
          null,
          -0.05566496146564987,
          -0.08310657529055882,
          null,
          -0.7682346923868744,
          -0.8102348078356473,
          null,
          -0.7682346923868744,
          -0.7235225340586775,
          null,
          -0.8215511434123733,
          -0.8748041876339452,
          null,
          -0.8215511434123733,
          -0.816774241278165,
          null,
          0.8944197948810106,
          0.9464544317898322,
          null,
          -0.7984348891760854,
          -0.7629342037450184,
          null,
          -0.5591904264090042,
          -0.5689284561622535,
          null,
          -0.8451274537468885,
          -0.830981613773703,
          null,
          -0.6279049897878524,
          -0.647912291569839,
          null,
          0.24363165840413456,
          0.2265975139998359,
          null,
          -0.4513400538417194,
          -0.471175778398944,
          null,
          -0.4513400538417194,
          -0.4292244931186244,
          null,
          -0.4513400538417194,
          -0.42337491644942576,
          null,
          0.045003291147850774,
          0.012310273658508486,
          null,
          0.045003291147850774,
          0.0826269694977815,
          null,
          0.045003291147850774,
          0.07043119373565696,
          null,
          0.045003291147850774,
          0.03341164202419146,
          null,
          0.045003291147850774,
          0.022774076422319718,
          null,
          0.045003291147850774,
          0.05133841529323214,
          null,
          0.045003291147850774,
          0.06349449228736277,
          null,
          0.045003291147850774,
          0.09044153185607505,
          null,
          0.045003291147850774,
          0.025032125408497256,
          null,
          0.045003291147850774,
          0.002992885031464974,
          null,
          0.07451317549388474,
          0.03692748205635699,
          null,
          0.07451317549388474,
          0.09897026305910064,
          null,
          0.07451317549388474,
          0.03949146660793447,
          null,
          0.07451317549388474,
          0.06884423307626791,
          null,
          0.07451317549388474,
          0.10533645062020977,
          null,
          0.07451317549388474,
          0.06306029182093195,
          null,
          0.07451317549388474,
          0.07630140229268047,
          null,
          0.07451317549388474,
          0.11449165069468496,
          null,
          -0.7519701424788997,
          -0.6827464680747515,
          null,
          -0.7519701424788997,
          -0.802590812937171,
          null,
          -0.7519701424788997,
          -0.7984094068488828,
          null,
          -0.8229090878541688,
          -0.8786866483237604,
          null,
          -0.8229090878541688,
          -0.758496175632179,
          null,
          0.41929084770475705,
          0.4264708629445953,
          null,
          0.41929084770475705,
          0.4481320264673558,
          null,
          0.41929084770475705,
          0.3933088890074999,
          null,
          0.16564183983526645,
          0.17726084009620904,
          null,
          0.7707239814546955,
          0.7182171378496428,
          null,
          0.7707239814546955,
          0.7471587309952505,
          null,
          0.7707239814546955,
          0.8188238642422406,
          null,
          0.08779168618402992,
          0.06587240906869253,
          null,
          0.2954365477604276,
          0.3244786445080459,
          null,
          0.2954365477604276,
          0.29874763051500214,
          null,
          0.2954365477604276,
          0.2960312243374524,
          null,
          0.2954365477604276,
          0.2683765370254637,
          null,
          -0.0007969352414761191,
          -0.022633060601019706,
          null,
          -0.0007969352414761191,
          0.005630407886661179,
          null,
          -0.0007969352414761191,
          -0.0016390018360456582,
          null,
          0.5471242274867534,
          0.5845648315475334,
          null,
          0.5471242274867534,
          0.5011512335018437,
          null,
          0.5471242274867534,
          0.5714343424844639,
          null,
          0.49970630262276444,
          0.5185067595371,
          null,
          0.7063908635966072,
          0.6309395147605384,
          null,
          0.7063908635966072,
          0.7405653570277113,
          null,
          0.7063908635966072,
          0.7130146886058386,
          null,
          0.7063908635966072,
          0.7487317254882939,
          null,
          0.7063908635966072,
          0.7639953412426165,
          null,
          0.7063908635966072,
          0.7373148865947289,
          null,
          0.7063908635966072,
          0.767140935209337,
          null,
          0.7063908635966072,
          0.6587872222565748,
          null,
          0.7063908635966072,
          0.7427080634248787,
          null,
          -0.21760864630917887,
          -0.2440115040155002,
          null,
          -0.21760864630917887,
          -0.23164438444758473,
          null,
          -0.21760864630917887,
          -0.19186834639468858,
          null,
          0.4353194596541597,
          0.41194962185803036,
          null,
          0.6746690497343556,
          0.6333694276563818,
          null,
          0.6746690497343556,
          0.6984779049726347,
          null,
          0.47232268321960674,
          0.487940052285206,
          null,
          0.47232268321960674,
          0.43867337218953756,
          null,
          0.9342795195791109,
          0.8822421938027316,
          null,
          0.9342795195791109,
          0.9727411555322966,
          null,
          -0.1467397762019484,
          -0.13336557601413912,
          null,
          -0.1467397762019484,
          -0.16578829783055418,
          null,
          -0.1467397762019484,
          -0.14447322322068412,
          null,
          0.9276369998182394,
          0.8926565639784343,
          null,
          0.9276369998182394,
          0.9522467421131142,
          null,
          0.9276369998182394,
          0.9306010231724905,
          null,
          0.9276369998182394,
          0.9112326823096069,
          null,
          0.9276369998182394,
          0.9828383288229029,
          null,
          0.9276369998182394,
          0.9378970556472366,
          null,
          0.9276369998182394,
          0.9916731130033307,
          null,
          -0.5834649083397169,
          -0.6122213495641766,
          null,
          -0.5834649083397169,
          -0.6323894250773067,
          null,
          0.819692415481595,
          0.753673627728061,
          null,
          0.819692415481595,
          0.8668006815966303,
          null,
          0.819692415481595,
          0.8638643801243872,
          null,
          -0.5182307041629809,
          -0.5261628154575418,
          null,
          -0.5182307041629809,
          -0.5474966031413717,
          null,
          -0.69023591624866,
          -0.6579082306673777,
          null,
          -0.69023591624866,
          -0.7229169563495723,
          null,
          -0.6477636758349545,
          -0.6849197863668788,
          null,
          -0.9511471241760246,
          -0.9422884334503564,
          null,
          -0.8863628292183019,
          -0.8568700940391856,
          null,
          -0.418663241061218,
          -0.4281478446295003,
          null,
          -0.418663241061218,
          -0.45132302105815864,
          null,
          -0.4141603885550308,
          -0.4304252974719611,
          null,
          -0.4141603885550308,
          -0.38746268062720907,
          null,
          0.811532681963545,
          0.8551381855955251,
          null,
          0.811532681963545,
          0.7507575295923071,
          null,
          -0.5355376972026128,
          -0.5538480914595507,
          null,
          -0.5355376972026128,
          -0.5003635987369909,
          null,
          -0.5385579597651792,
          -0.5177697364491627,
          null,
          -0.5385579597651792,
          -0.5642908348980245,
          null,
          0.756480989558062,
          0.733084385463838,
          null,
          0.8480777536280545,
          0.8373615001232129,
          null,
          -0.6237910555955748,
          -0.6524817319444302,
          null,
          -0.6237910555955748,
          -0.6587983249066622,
          null,
          -0.6237910555955748,
          -0.5590204667382908,
          null,
          -0.6237910555955748,
          -0.6311236499476559,
          null,
          -0.6237910555955748,
          -0.6685268477641744,
          null,
          -0.6237910555955748,
          -0.6707676213372274,
          null,
          0.8128253001910966,
          0.786743314490446,
          null,
          0.8128253001910966,
          0.8089294439888223,
          null,
          0.21954289963114926,
          0.2276947570391471,
          null,
          0.6649627454543376,
          0.6958526349249402,
          null,
          -0.7682364974470857,
          -0.7852762298609798,
          null,
          -0.891442843614577,
          -0.8401579986128787,
          null,
          0.4981009041681363,
          0.47794656956117965,
          null,
          0.4981009041681363,
          0.5342140956888922,
          null,
          0.4981009041681363,
          0.4919592162367749,
          null,
          0.4981009041681363,
          0.5201210075082557,
          null,
          0.8906761773369687,
          0.9164988536076867,
          null,
          -0.7662747452686505,
          -0.8172472120626967,
          null,
          -0.7662747452686505,
          -0.7758792057505606,
          null,
          -0.7662747452686505,
          -0.7598758260444638,
          null,
          0.8602818855632995,
          0.8513940071698652,
          null,
          0.8602818855632995,
          0.8552638982111228,
          null,
          -0.8994418658671569,
          -0.9295210131043734,
          null,
          -0.6619005239966435,
          -0.6487566010433056,
          null,
          -0.6619005239966435,
          -0.6333948684649594,
          null,
          0.11163551696358336,
          0.0993877752065827,
          null,
          0.11163551696358336,
          0.13320583608418954,
          null,
          -0.6799640172495339,
          -0.6653114922609497,
          null,
          -0.9506552971197332,
          -0.8996855839914242,
          null,
          0.5021267274496567,
          0.5207887709794417,
          null,
          0.2979585424280979,
          0.27109681491885956,
          null,
          0.2979585424280979,
          0.3285819471627704,
          null,
          0.2979585424280979,
          0.28717376771183123,
          null,
          0.2979585424280979,
          0.31276698539992476,
          null,
          -0.7986590253052237,
          -0.830071020697229,
          null,
          -0.19292486868294392,
          -0.19968845300533805,
          null,
          -0.14701202328260582,
          -0.17649148871427475,
          null,
          -0.14701202328260582,
          -0.13446159081283535,
          null,
          -0.14701202328260582,
          -0.12634195078232907,
          null,
          -0.14701202328260582,
          -0.1621537104463611,
          null,
          0.7386001207891357,
          0.7504938209446506,
          null,
          0.7386001207891357,
          0.7397064225265609,
          null,
          0.7386001207891357,
          0.7826347965087452,
          null,
          0.03493503320081179,
          0.05559758347731805,
          null,
          0.03493503320081179,
          0.014347520099610525,
          null,
          0.03493503320081179,
          0.026250972776765594,
          null,
          -0.7218730132297541,
          -0.7413536123445048,
          null,
          -0.7218730132297541,
          -0.6592712704049861,
          null,
          -0.7218730132297541,
          -0.7772315047786068,
          null,
          -0.7218730132297541,
          -0.6949355823176034,
          null,
          -0.7218730132297541,
          -0.7643305911903333,
          null,
          0.5455258531450652,
          0.5552176143904137,
          null,
          0.09968472113511137,
          0.0909810430129317,
          null,
          0.09968472113511137,
          0.10663036260632144,
          null,
          -0.3231686301509985,
          -0.3558837942593558,
          null,
          -0.3231686301509985,
          -0.3345729396002781,
          null,
          -0.8558564802968394,
          -0.8308816583817621,
          null,
          -0.8558564802968394,
          -0.8180162372428049,
          null,
          -0.8558564802968394,
          -0.9028177583578539,
          null,
          -0.30103631732100056,
          -0.31901894273838344,
          null,
          -0.30103631732100056,
          -0.31264519721659956,
          null,
          -0.7835224027637551,
          -0.7372652419151873,
          null,
          -0.7835224027637551,
          -0.8033478432785096,
          null,
          0.8019058016152786,
          0.8438994300510829,
          null,
          0.8019058016152786,
          0.7710815746099838,
          null,
          0.31804485268128996,
          0.3057894789174809,
          null
         ],
         "y": [
          0.955096330484306,
          0.8972536783178457,
          null,
          -0.7394473574390719,
          -0.6955751140796598,
          null,
          0.7410090768518147,
          0.7592323913156146,
          null,
          0.7410090768518147,
          0.7775255653635076,
          null,
          0.7410090768518147,
          0.7079406056167498,
          null,
          -0.8283215552966283,
          -0.8035429118619039,
          null,
          -0.8283215552966283,
          -0.8218658155236872,
          null,
          -0.33154528129047167,
          -0.3483991528768865,
          null,
          -0.8022962605756587,
          -0.8071937794834768,
          null,
          -0.6369400436457567,
          -0.6711352753225098,
          null,
          -0.6369400436457567,
          -0.6403177830172747,
          null,
          -0.6369400436457567,
          -0.6423465156590777,
          null,
          -0.6369400436457567,
          -0.6172983727777304,
          null,
          0.46554589683223263,
          0.47567242086153483,
          null,
          0.46554589683223263,
          0.47975455662791644,
          null,
          -0.49095755530004787,
          -0.501208147566239,
          null,
          -0.49095755530004787,
          -0.45372197151892874,
          null,
          -0.49095755530004787,
          -0.52837288901586,
          null,
          -0.49095755530004787,
          -0.5054431051414742,
          null,
          -0.49095755530004787,
          -0.4733480204749011,
          null,
          0.8161693096831218,
          0.8092197267172027,
          null,
          0.8161693096831218,
          0.8440031965084662,
          null,
          0.8161693096831218,
          0.8246177372993614,
          null,
          -0.9339570019874568,
          -0.9332320765915244,
          null,
          0.5726823564146991,
          0.5373584041015234,
          null,
          0.5726823564146991,
          0.6006789846649039,
          null,
          -0.13899240648172514,
          -0.1437761443441007,
          null,
          -0.9763246483011653,
          -0.9553645093962584,
          null,
          -0.7370088366025327,
          -0.701587033900294,
          null,
          -0.8101418605043096,
          -0.778385854207891,
          null,
          -0.9713527376724521,
          -0.9495851607145868,
          null,
          -0.04392431876845446,
          -0.04814726927561774,
          null,
          -0.04392431876845446,
          -0.03914907829137381,
          null,
          -0.3158504514035552,
          -0.3407178864968803,
          null,
          -0.3158504514035552,
          -0.2952995295464775,
          null,
          -0.03201460366184318,
          -0.03227736877280852,
          null,
          0.31737904669902,
          0.30581396725792753,
          null,
          0.7036407771057556,
          0.6842418147006142,
          null,
          -0.47013464163558777,
          -0.48910514681307143,
          null,
          0.6516566565106281,
          0.6246625047376261,
          null,
          0.8489407803490329,
          0.8634414727366544,
          null,
          0.7842739479826287,
          0.8070194517655527,
          null,
          0.7842739479826287,
          0.7446618273735163,
          null,
          0.7842739479826287,
          0.7867083709947448,
          null,
          0.21410345242363035,
          0.22175658852040414,
          null,
          0.21410345242363035,
          0.23635583931458254,
          null,
          0.21410345242363035,
          0.19366796603375896,
          null,
          0.21410345242363035,
          0.2600456878346525,
          null,
          0.21410345242363035,
          0.24193445354799895,
          null,
          0.21410345242363035,
          0.1805708819055184,
          null,
          0.21410345242363035,
          0.2555163614802199,
          null,
          0.21410345242363035,
          0.20761047356147316,
          null,
          0.21410345242363035,
          0.1765085406799406,
          null,
          0.21410345242363035,
          0.19858048180165325,
          null,
          -0.5800928720301459,
          -0.5693133883466958,
          null,
          -0.5800928720301459,
          -0.551620368622169,
          null,
          -0.5800928720301459,
          -0.6043907860182026,
          null,
          -0.5800928720301459,
          -0.6037302494251278,
          null,
          -0.5800928720301459,
          -0.6105843951043325,
          null,
          -0.5800928720301459,
          -0.5467942300760416,
          null,
          -0.5800928720301459,
          -0.6286580132856326,
          null,
          -0.5800928720301459,
          -0.5792131683030313,
          null,
          0.3722846236839131,
          0.3395884098711735,
          null,
          0.3722846236839131,
          0.4033505395547422,
          null,
          0.3722846236839131,
          0.38212129414719753,
          null,
          0.15128872685806746,
          0.16372623205417544,
          null,
          0.15128872685806746,
          0.13774474583366075,
          null,
          0.6584212911982171,
          0.7026752511839097,
          null,
          0.6584212911982171,
          0.6896306608836554,
          null,
          0.6584212911982171,
          0.6052032694263904,
          null,
          0.8431728107681289,
          0.8984247494278665,
          null,
          -0.41482043138043484,
          -0.37573644107662774,
          null,
          -0.41482043138043484,
          -0.4294934528705639,
          null,
          -0.41482043138043484,
          -0.44548543133589596,
          null,
          0.9616641726992805,
          0.9712896465504979,
          null,
          0.7174544729969246,
          0.7553570749171852,
          null,
          0.7174544729969246,
          0.760971601743617,
          null,
          0.7174544729969246,
          0.6804795296924141,
          null,
          0.7174544729969246,
          0.676333950951985,
          null,
          0.8636050045243863,
          0.8669104110448295,
          null,
          0.8636050045243863,
          0.9177075071986833,
          null,
          0.8636050045243863,
          0.827823385057771,
          null,
          -0.6204320072927751,
          -0.6623820227975824,
          null,
          -0.6204320072927751,
          -0.575100495874537,
          null,
          -0.6204320072927751,
          -0.6304511706693274,
          null,
          -0.6906941971450468,
          -0.7053689467433238,
          null,
          0.44424192544577423,
          0.3962378310342557,
          null,
          0.44424192544577423,
          0.4773029351575967,
          null,
          0.44424192544577423,
          0.4880377439240279,
          null,
          0.44424192544577423,
          0.4563180007734174,
          null,
          0.44424192544577423,
          0.4788753515632483,
          null,
          0.44424192544577423,
          0.4963502207928546,
          null,
          0.44424192544577423,
          0.44960367703548265,
          null,
          0.44424192544577423,
          0.4149488053909606,
          null,
          0.44424192544577423,
          0.42763968447190764,
          null,
          -0.08932585282726196,
          -0.1094953896249495,
          null,
          -0.08932585282726196,
          -0.06247352969823881,
          null,
          -0.08932585282726196,
          -0.1045985055763119,
          null,
          -0.739421047088503,
          -0.701668712854237,
          null,
          0.6396700561486022,
          0.585458806349123,
          null,
          0.6396700561486022,
          0.6784869573029829,
          null,
          0.910246584334069,
          0.9401581232288017,
          null,
          0.910246584334069,
          0.8466984972111555,
          null,
          0.30474692881622906,
          0.28686699873615157,
          null,
          0.30474692881622906,
          0.31974903249372616,
          null,
          0.9388860676537969,
          0.8478060101547359,
          null,
          0.9388860676537969,
          0.9928062830448092,
          null,
          0.9388860676537969,
          0.999892728511014,
          null,
          -0.06817667989447732,
          -0.08498280054007219,
          null,
          -0.06817667989447732,
          -0.09458017071992894,
          null,
          -0.06817667989447732,
          -0.10735565625826395,
          null,
          -0.06817667989447732,
          -0.03802995452868051,
          null,
          -0.06817667989447732,
          -0.0596915941537532,
          null,
          -0.06817667989447732,
          -0.02317646394871972,
          null,
          -0.06817667989447732,
          -0.0828058109094613,
          null,
          -0.6270570760494866,
          -0.6714729131725848,
          null,
          -0.6270570760494866,
          -0.6610516671309982,
          null,
          0.06378842447758634,
          0.053346591648819414,
          null,
          0.06378842447758634,
          0.08300205075016427,
          null,
          0.06378842447758634,
          0.05941062500336937,
          null,
          -0.7876252674496621,
          -0.7634580706804764,
          null,
          -0.7876252674496621,
          -0.830866162460718,
          null,
          -0.2971591586250705,
          -0.28445520833455834,
          null,
          -0.2971591586250705,
          -0.3109130945890918,
          null,
          0.5360441517611755,
          0.566010468313892,
          null,
          -0.017795713204317772,
          0.015889035655577442,
          null,
          0.29377796647084015,
          0.28480399906806264,
          null,
          0.8371732332038496,
          0.8843672098093441,
          null,
          0.8371732332038496,
          0.8752466653064098,
          null,
          -0.7481224594869859,
          -0.7254495080029958,
          null,
          -0.7481224594869859,
          -0.7173895282876999,
          null,
          -0.6022996039050583,
          -0.634238443528441,
          null,
          -0.6022996039050583,
          -0.5572291769163888,
          null,
          0.7555245015724867,
          0.773259627526515,
          null,
          0.7555245015724867,
          0.7080437889759605,
          null,
          -0.5422494073616116,
          -0.5559810505672232,
          null,
          -0.5422494073616116,
          -0.5451459324411266,
          null,
          0.6613044846555705,
          0.6366971122685466,
          null,
          -0.16792001396489148,
          -0.18701826857846163,
          null,
          -0.4495350795962205,
          -0.49487447651017263,
          null,
          -0.4495350795962205,
          -0.43794561932397286,
          null,
          -0.4495350795962205,
          -0.40247612053050524,
          null,
          -0.4495350795962205,
          -0.4875300481803045,
          null,
          -0.4495350795962205,
          -0.48115708626092546,
          null,
          -0.4495350795962205,
          -0.4600030622388705,
          null,
          -0.2678855020407602,
          -0.2779446609586619,
          null,
          -0.2678855020407602,
          -0.24227392476167592,
          null,
          -0.9252403678672853,
          -0.9635962120134599,
          null,
          -0.38131142552321606,
          -0.40735832507399183,
          null,
          0.6152986519879832,
          0.602824377668915,
          null,
          -0.12918725614736964,
          -0.1206737110424466,
          null,
          -0.08230751413567815,
          -0.09555941508333558,
          null,
          -0.08230751413567815,
          -0.07405982186171417,
          null,
          -0.08230751413567815,
          -0.05558232524215566,
          null,
          -0.08230751413567815,
          -0.11022956043935785,
          null,
          -0.3843165270562021,
          -0.3963904506377071,
          null,
          0.22252890309032575,
          0.23387808791192138,
          null,
          0.22252890309032575,
          0.19922057164720983,
          null,
          0.22252890309032575,
          0.24756672576102787,
          null,
          0.2361401739072515,
          0.21112805649116803,
          null,
          0.2361401739072515,
          0.2585911160583149,
          null,
          -0.2551605439875144,
          -0.26551838213108253,
          null,
          0.6791452333848014,
          0.7037122064410976,
          null,
          0.6791452333848014,
          0.6389790733615986,
          null,
          -0.9087638539750879,
          -0.8730726535516102,
          null,
          -0.9087638539750879,
          -0.9068891802176754,
          null,
          -0.1482119408784186,
          -0.1556936563358057,
          null,
          -0.0009477851816986592,
          -0.004874413629740093,
          null,
          0.7161966996289035,
          0.7043503054123842,
          null,
          -0.8646216739830739,
          -0.7958794585381812,
          null,
          -0.8646216739830739,
          -0.9058145459181697,
          null,
          -0.8646216739830739,
          -0.8904861728493626,
          null,
          -0.8646216739830739,
          -0.9243559604664252,
          null,
          -0.1991453205622638,
          -0.20715327863311353,
          null,
          -0.9688673624568604,
          -1,
          null,
          -0.7952872801955507,
          -0.7928149800627995,
          null,
          -0.7952872801955507,
          -0.830898851515333,
          null,
          -0.7952872801955507,
          -0.781139779716616,
          null,
          -0.7952872801955507,
          -0.8443262814353649,
          null,
          0.1682828941925991,
          0.19664369509910198,
          null,
          0.1682828941925991,
          0.14142069993567127,
          null,
          0.1682828941925991,
          0.17233383723055673,
          null,
          -0.9657870839799054,
          -0.9900345024423175,
          null,
          -0.9657870839799054,
          -0.9827618043938404,
          null,
          -0.9657870839799054,
          -0.9156765979074394,
          null,
          0.4834310149395458,
          0.46443546417410553,
          null,
          0.4834310149395458,
          0.4510174432883573,
          null,
          0.4834310149395458,
          0.5025369237611392,
          null,
          0.4834310149395458,
          0.4702728423687572,
          null,
          0.4834310149395458,
          0.5209802516003444,
          null,
          0.6756597450470109,
          0.65680339165934,
          null,
          0.8169564397589104,
          0.7626451086208418,
          null,
          0.8169564397589104,
          0.8642894506241067,
          null,
          -0.8724040813085647,
          -0.919618696156915,
          null,
          -0.8724040813085647,
          -0.9285725845065008,
          null,
          0.07755025651981808,
          0.054830607239787416,
          null,
          0.07755025651981808,
          0.08141966786225707,
          null,
          0.07755025651981808,
          0.08565400210618819,
          null,
          0.8732043594242597,
          0.9350042575008102,
          null,
          0.8732043594242597,
          0.9050991642285475,
          null,
          -0.48590570136979583,
          -0.44145319478310924,
          null,
          -0.48590570136979583,
          -0.5203694589443921,
          null,
          0.32384600581168876,
          0.34636532054336455,
          null,
          0.32384600581168876,
          0.30584636069756077,
          null,
          0.8856570143039421,
          0.8500464569545022,
          null
         ]
        },
        {
         "hoverinfo": "text",
         "marker": {
          "colorbar": {
           "thickness": 2,
           "title": {
            "side": "right",
            "text": "Node Connections"
           },
           "xanchor": "left"
          },
          "colorscale": [
           [
            0,
            "#e2d9e2"
           ],
           [
            0.1111111111111111,
            "#9ebbc9"
           ],
           [
            0.2222222222222222,
            "#6785be"
           ],
           [
            0.3333333333333333,
            "#5e43a5"
           ],
           [
            0.4444444444444444,
            "#421257"
           ],
           [
            0.5555555555555556,
            "#471340"
           ],
           [
            0.6666666666666666,
            "#8e2c50"
           ],
           [
            0.7777777777777778,
            "#ba6657"
           ],
           [
            0.8888888888888888,
            "#ceac94"
           ],
           [
            1,
            "#e2d9e2"
           ]
          ],
          "line": {
           "width": 0
          },
          "showscale": true,
          "size": 4
         },
         "mode": "markers",
         "text": [
          "7XFSkk-FtYw",
          "Mehedi Hasan",
          "Z6-drL_ozN8",
          "Badiuz Zaman",
          "I22_uGyb194",
          "chayanika ghosh",
          "Bablu Pal",
          "Mangesh Shinde",
          "j0a1R0-bFC0",
          "Selvendran Selva",
          "Avinandan Bhadra",
          "o_qTJi4Rk8Q",
          "RunnyNose",
          "Z4_S3SSh-wM",
          "Animesh Skr",
          "XKDi2ekNa8A",
          "N L",
          "Cameron Fay",
          "Gazman Melb",
          "Joash Johnston",
          "KQGxaEdCIBw",
          "Soham Das",
          "ashik luthuphy",
          "SQfEWmpSPd8",
          "Lalit Sapra",
          "Muhammad Faizan",
          "yahooo oooo",
          "Salman Khan",
          "Easy and Healthy",
          "VIwsNaWizjU",
          "Yaekos",
          "Fountain Abshaar",
          "Loxxov Voxxol",
          "nwJFDANjDcU",
          "M akbar HUSSAIN",
          "3JmpKjp6Fbo",
          "Sohail Akbar",
          "Abdullah Azim Shah",
          "feYjR22rPOE",
          "Amer Muzamil",
          "bR69UyNwYkc",
          "Javk Osborne",
          "MPHeXuWn3II",
          "Anonymous Guy",
          "BkfCx8jf2VM",
          "jroddy.kenfrm41",
          "Z8DCO3YPwAM",
          "Logan WarLock",
          "Kk1P_91DaBI",
          "Foysal Mia",
          "Legend AbdullahYT",
          "hLldTJApR4s",
          "rahul jaz",
          "Adheel Crawage",
          "SB3VMRHGNT0",
          "UK Production 2.0",
          "iE5lNxD66C8",
          "Aarav Worah",
          "6hQZYtmsuSI",
          "Skate on my tricks",
          "Ga9HIkTXQJk",
          "xGSx Flux",
          "dVgLIPS8BsA",
          "Hem_28",
          "Qz6zGqE1xA8",
          "Lawson Brooks",
          "3sUMaRqoPmI",
          "Sana Sana",
          "Raja SohaiL Azhar Awan",
          "Mohammed Aabid",
          "sf2FYWPbBfo",
          "Mr Kipling",
          "Nikhil Verma",
          "Calisthenics India",
          "Football talk",
          "Akash mishra",
          "Advait Dhamnaskar",
          "Subham Singh",
          "Premier League Freak",
          "Muhammad Mustafa Navid",
          "the cricket fan official",
          "INCGRqXVLdw",
          "UMANG KANCHAN",
          "amolchaitanya",
          "Haris Asif",
          "sanay kamble",
          "Sudhir Deshmukh",
          "Sleepy Joe",
          "Neil",
          "SKR Entertainment House",
          "QhXNQgTOX60",
          "Drake",
          "Seema Rana",
          "Nishit Shriyan",
          "lFck_Oad5V4",
          "Tariq Sheikh",
          "CFL",
          "jZ2qmkGp8z4",
          "amey nichal",
          "Robeson",
          "v s",
          "pBm10LZuugU",
          "RJ",
          "-oCSBez8COg",
          "Kannadasan Kannadasan",
          "Sonu Soni",
          "Abhishek Sharma OFFICIAL ",
          "eP6OurR0jgU",
          "Shmibby Bibby",
          "f0zW8RMoS6I",
          "Roy Bennett",
          "Mr Handsome",
          "daniel raj",
          "Behinrst1@",
          "kj915gHIg0A",
          "Vazir Vazir",
          "Sanu P",
          "Shreyas Sarangi",
          "n6xz1AYVklg",
          "Chandan Kumar",
          "Shalini Balagopal",
          "wisecracker",
          "2MVgzptK9qA",
          "stalluri11",
          "P7BkIa3l-a0",
          "Vishal meena geet",
          "Mario Basler",
          "shubham raj",
          "Biki Kalita",
          "Mahendra Singh",
          "Luke Allison",
          "abcd",
          "Dylan o'berry",
          "king_has_no_cloths kul",
          "lTUDwDtBshk",
          "Rahul Mallik",
          "Rahul Menon",
          "Amiy Shrivastava",
          "kiy3w_-SRHI",
          "Dhaanush",
          "faoTxcOCbKg",
          "Sam Nigam",
          "Chaitanya Bade",
          "hw0DyGdUPE8",
          "Harish Sivaramakrishnan",
          "Abdul Qadeer",
          "aBLYmkAvy7w",
          "Stefan the Sailor",
          "RP69",
          "HZEysoHgeD4",
          "muhammad ashraf",
          "Atif Khan Afridi",
          "Jason Kyle",
          "apotlOc6jd4",
          "Imran Ali",
          "Minhal Haider",
          "Secret SuperStar.007",
          "JAANTARIQ",
          "ARG Cric Buzz",
          "Bannedone 3ice",
          "Affan Afridi",
          "s0jAynhc0JY",
          "Assie Van der Westhuizen",
          "Raja Zubair.",
          "XoAgXMRwamM",
          "Lindsay Kelly",
          "Everest Slaying The Game",
          "north melbourne",
          "uuZIu_FiWuU",
          "ANIK PAUL",
          "Spread love , peace and humanity",
          "ZiOLJ6ajIwE",
          "flash",
          "जय हिंद 🇮🇳",
          "JY-Fx-9tm8g",
          "Jake Howie",
          "ZLBdS53Hg3s",
          "sir John",
          "-6-rikAz2Rw",
          "swapna KAR",
          "OLkzBSPvkwQ",
          "Shivian124",
          "Kevin Christopher",
          "dDD371tK7Ns",
          "VNR Updates",
          "Abdullah Imran6215 you tv",
          "6GUKBe6Y0dw",
          "Imtiaz Alam Hanfi",
          "Creativity",
          "Oi2SdV3DF0s",
          "Sajid Kazi",
          "Zeeshan Ali",
          "cQORhPzUUw8",
          "S D",
          "Abhishek paithankar",
          "okvbbkWUbg4",
          "V SPORTS NETWORK",
          "eoOajHWxMkA",
          "GOD of car sounds 🚘",
          "hFM4ZhOvQmI",
          "Ayan Auto",
          "Rishabh T",
          "Naveen Prakash",
          "Banjul Pathak",
          "Fateh Najamuddin",
          "Sk",
          "gN_tYrp1XiI",
          "Islamic Shorts",
          "Vibhuti Srivastava",
          "S4gmAzxJ3Bk",
          "Amrit Randhawa",
          "OVafwiQ_x-Q",
          "ESSA AND DANI",
          "kkPOYDkVqIo",
          "DJ ShugGa-a After5Radio",
          "skwr29y-2p4",
          "MDA",
          "YeR8u20cxCA",
          "sushanta biswal",
          "Athena",
          "Binuraj S",
          "Richpo Sports",
          "nlSrLGxkt-w",
          "Music biz",
          "GiyCmtFOFF0",
          "Roy 3.16",
          "SOUMIK PAUL",
          "Mark Wick",
          "XukgvD5cq5A",
          "Mark Newbold",
          "Angus beef",
          "QANuyDAM6xE",
          "Santanu Maity",
          "LZhEuHhFe20",
          "Abhishek Priyadarshi",
          "Black Hole",
          "yQ1szIKuK2k",
          "Pat1",
          "Royal Mint",
          "U0IU671jEfA",
          "Andy Watson",
          "lqM0k6YQu8I",
          "Mayechi Savali",
          "7iNkXRPnf9Q",
          "gbthrylos",
          "sNUIxybTGyk",
          "RAVI SAHAR",
          "Al-Huda Rahman",
          "anand kishore",
          "Aditya Vora",
          "fNWFPvDAd54",
          "CR",
          "MWIjKgojjT0",
          "pv tests",
          "oH9mnAfXp_k",
          "🛣️ road",
          "Laksh",
          "free speech",
          "DEEP SHANKAR Karmakar",
          "H1qaecQZGl4",
          "Dass",
          "DM Sports guy",
          "Kabir Abrol",
          "4973MQard9o",
          "hardik parbhakar",
          "PandiyanRevathi",
          "Mark Clarke",
          "d_O3MjHFdiI",
          "John 8:44",
          "dani rana",
          "Richard Martins",
          "Duncan Mackenzie",
          "Adam",
          "jBf7Ly_NxTE",
          "james keays",
          "Eo_LU0UXMbI",
          "Trevor Crook",
          "Nightwatchman",
          "eCyvX68xdCQ",
          "Antony Steel",
          "The Truth",
          "A0wLx721tDs",
          "Ankit Chaurasia",
          "Ian McClory",
          "Dinesh Basfore",
          "SuaKWwAscp0",
          "Rajnish kumar Tiwari",
          "Appy",
          "oELP_e8Z3Ro",
          "jazzweather",
          "anocri",
          "rv2cYvWdjIM",
          "harsh shree",
          "Sunil Samantaray",
          "ekwZCwc59WM",
          "Niraj Kumar"
         ],
         "type": "scatter",
         "x": [
          -0.06299674804306121,
          -0.0628383654925903,
          0.7187389755879399,
          0.6771985154673168,
          -0.17829037105732798,
          -0.19796794083095434,
          -0.16692652368542604,
          -0.17646387563664662,
          0.4511621007579356,
          0.46438447220793644,
          0.42207475394007293,
          0.8586712846939257,
          0.8457541896351717,
          -0.32508787913874676,
          -0.2897308037739653,
          -0.43292818136066674,
          -0.4467558010493167,
          -0.47237198782344114,
          -0.4525093018253773,
          -0.4027759347840643,
          -0.4200643529605024,
          -0.3951227260820132,
          -0.44312453401714125,
          0.5878940852634398,
          0.5543510915518817,
          0.5816322726545136,
          0.6149660754667616,
          0.6288620227975827,
          0.5608050142130601,
          -0.2601218234047271,
          -0.29024940002171595,
          -0.2566448605432375,
          -0.23139977622344282,
          0.4320655280108741,
          0.4564690490781441,
          0.5687777060505523,
          0.5372684890483804,
          0.5912655296217679,
          -0.9432443784969872,
          -0.9707055090061042,
          -0.09269422405671432,
          -0.06906531458732594,
          0.3218760689780054,
          0.30660437983981775,
          -0.30742852895958883,
          -0.29587393687978364,
          -0.05566496146564987,
          -0.08310657529055882,
          -0.7682346923868744,
          -0.8102348078356473,
          -0.7235225340586775,
          -0.8215511434123733,
          -0.8748041876339452,
          -0.816774241278165,
          0.8944197948810106,
          0.9464544317898322,
          -0.7984348891760854,
          -0.7629342037450184,
          -0.5591904264090042,
          -0.5689284561622535,
          -0.8451274537468885,
          -0.830981613773703,
          -0.6279049897878524,
          -0.647912291569839,
          0.24363165840413456,
          0.2265975139998359,
          -0.4513400538417194,
          -0.471175778398944,
          -0.4292244931186244,
          -0.42337491644942576,
          0.045003291147850774,
          0.012310273658508486,
          0.0826269694977815,
          0.07043119373565696,
          0.03341164202419146,
          0.022774076422319718,
          0.05133841529323214,
          0.06349449228736277,
          0.09044153185607505,
          0.025032125408497256,
          0.002992885031464974,
          0.07451317549388474,
          0.03692748205635699,
          0.09897026305910064,
          0.03949146660793447,
          0.06884423307626791,
          0.10533645062020977,
          0.06306029182093195,
          0.07630140229268047,
          0.11449165069468496,
          -0.7519701424788997,
          -0.6827464680747515,
          -0.802590812937171,
          -0.7984094068488828,
          -0.8229090878541688,
          -0.8786866483237604,
          -0.758496175632179,
          0.41929084770475705,
          0.4264708629445953,
          0.4481320264673558,
          0.3933088890074999,
          0.16564183983526645,
          0.17726084009620904,
          0.7707239814546955,
          0.7182171378496428,
          0.7471587309952505,
          0.8188238642422406,
          0.08779168618402992,
          0.06587240906869253,
          0.2954365477604276,
          0.3244786445080459,
          0.29874763051500214,
          0.2960312243374524,
          0.2683765370254637,
          -0.0007969352414761191,
          -0.022633060601019706,
          0.005630407886661179,
          -0.0016390018360456582,
          0.5471242274867534,
          0.5845648315475334,
          0.5011512335018437,
          0.5714343424844639,
          0.49970630262276444,
          0.5185067595371,
          0.7063908635966072,
          0.6309395147605384,
          0.7405653570277113,
          0.7130146886058386,
          0.7487317254882939,
          0.7639953412426165,
          0.7373148865947289,
          0.767140935209337,
          0.6587872222565748,
          0.7427080634248787,
          -0.21760864630917887,
          -0.2440115040155002,
          -0.23164438444758473,
          -0.19186834639468858,
          0.4353194596541597,
          0.41194962185803036,
          0.6746690497343556,
          0.6333694276563818,
          0.6984779049726347,
          0.47232268321960674,
          0.487940052285206,
          0.43867337218953756,
          0.9342795195791109,
          0.8822421938027316,
          0.9727411555322966,
          -0.1467397762019484,
          -0.13336557601413912,
          -0.16578829783055418,
          -0.14447322322068412,
          0.9276369998182394,
          0.8926565639784343,
          0.9522467421131142,
          0.9306010231724905,
          0.9112326823096069,
          0.9828383288229029,
          0.9378970556472366,
          0.9916731130033307,
          -0.5834649083397169,
          -0.6122213495641766,
          -0.6323894250773067,
          0.819692415481595,
          0.753673627728061,
          0.8668006815966303,
          0.8638643801243872,
          -0.5182307041629809,
          -0.5261628154575418,
          -0.5474966031413717,
          -0.69023591624866,
          -0.6579082306673777,
          -0.7229169563495723,
          -0.6477636758349545,
          -0.6849197863668788,
          -0.9511471241760246,
          -0.9422884334503564,
          -0.8863628292183019,
          -0.8568700940391856,
          -0.418663241061218,
          -0.4281478446295003,
          -0.45132302105815864,
          -0.4141603885550308,
          -0.4304252974719611,
          -0.38746268062720907,
          0.811532681963545,
          0.8551381855955251,
          0.7507575295923071,
          -0.5355376972026128,
          -0.5538480914595507,
          -0.5003635987369909,
          -0.5385579597651792,
          -0.5177697364491627,
          -0.5642908348980245,
          0.756480989558062,
          0.733084385463838,
          0.8480777536280545,
          0.8373615001232129,
          -0.6237910555955748,
          -0.6524817319444302,
          -0.6587983249066622,
          -0.5590204667382908,
          -0.6311236499476559,
          -0.6685268477641744,
          -0.6707676213372274,
          0.8128253001910966,
          0.786743314490446,
          0.8089294439888223,
          0.21954289963114926,
          0.2276947570391471,
          0.6649627454543376,
          0.6958526349249402,
          -0.7682364974470857,
          -0.7852762298609798,
          -0.891442843614577,
          -0.8401579986128787,
          0.4981009041681363,
          0.47794656956117965,
          0.5342140956888922,
          0.4919592162367749,
          0.5201210075082557,
          0.8906761773369687,
          0.9164988536076867,
          -0.7662747452686505,
          -0.8172472120626967,
          -0.7758792057505606,
          -0.7598758260444638,
          0.8602818855632995,
          0.8513940071698652,
          0.8552638982111228,
          -0.8994418658671569,
          -0.9295210131043734,
          -0.6619005239966435,
          -0.6487566010433056,
          -0.6333948684649594,
          0.11163551696358336,
          0.0993877752065827,
          0.13320583608418954,
          -0.6799640172495339,
          -0.6653114922609497,
          -0.9506552971197332,
          -0.8996855839914242,
          0.5021267274496567,
          0.5207887709794417,
          0.2979585424280979,
          0.27109681491885956,
          0.3285819471627704,
          0.28717376771183123,
          0.31276698539992476,
          -0.7986590253052237,
          -0.830071020697229,
          -0.19292486868294392,
          -0.19968845300533805,
          -0.14701202328260582,
          -0.17649148871427475,
          -0.13446159081283535,
          -0.12634195078232907,
          -0.1621537104463611,
          0.7386001207891357,
          0.7504938209446506,
          0.7397064225265609,
          0.7826347965087452,
          0.03493503320081179,
          0.05559758347731805,
          0.014347520099610525,
          0.026250972776765594,
          -0.7218730132297541,
          -0.7413536123445048,
          -0.6592712704049861,
          -0.7772315047786068,
          -0.6949355823176034,
          -0.7643305911903333,
          0.5455258531450652,
          0.5552176143904137,
          0.09968472113511137,
          0.0909810430129317,
          0.10663036260632144,
          -0.3231686301509985,
          -0.3558837942593558,
          -0.3345729396002781,
          -0.8558564802968394,
          -0.8308816583817621,
          -0.8180162372428049,
          -0.9028177583578539,
          -0.30103631732100056,
          -0.31901894273838344,
          -0.31264519721659956,
          -0.7835224027637551,
          -0.7372652419151873,
          -0.8033478432785096,
          0.8019058016152786,
          0.8438994300510829,
          0.7710815746099838,
          0.31804485268128996,
          0.3057894789174809
         ],
         "y": [
          0.955096330484306,
          0.8972536783178457,
          -0.7394473574390719,
          -0.6955751140796598,
          0.7410090768518147,
          0.7592323913156146,
          0.7775255653635076,
          0.7079406056167498,
          -0.8283215552966283,
          -0.8035429118619039,
          -0.8218658155236872,
          -0.33154528129047167,
          -0.3483991528768865,
          -0.8022962605756587,
          -0.8071937794834768,
          -0.6369400436457567,
          -0.6711352753225098,
          -0.6403177830172747,
          -0.6423465156590777,
          -0.6172983727777304,
          0.46554589683223263,
          0.47567242086153483,
          0.47975455662791644,
          -0.49095755530004787,
          -0.501208147566239,
          -0.45372197151892874,
          -0.52837288901586,
          -0.5054431051414742,
          -0.4733480204749011,
          0.8161693096831218,
          0.8092197267172027,
          0.8440031965084662,
          0.8246177372993614,
          -0.9339570019874568,
          -0.9332320765915244,
          0.5726823564146991,
          0.5373584041015234,
          0.6006789846649039,
          -0.13899240648172514,
          -0.1437761443441007,
          -0.9763246483011653,
          -0.9553645093962584,
          -0.7370088366025327,
          -0.701587033900294,
          -0.8101418605043096,
          -0.778385854207891,
          -0.9713527376724521,
          -0.9495851607145868,
          -0.04392431876845446,
          -0.04814726927561774,
          -0.03914907829137381,
          -0.3158504514035552,
          -0.3407178864968803,
          -0.2952995295464775,
          -0.03201460366184318,
          -0.03227736877280852,
          0.31737904669902,
          0.30581396725792753,
          0.7036407771057556,
          0.6842418147006142,
          -0.47013464163558777,
          -0.48910514681307143,
          0.6516566565106281,
          0.6246625047376261,
          0.8489407803490329,
          0.8634414727366544,
          0.7842739479826287,
          0.8070194517655527,
          0.7446618273735163,
          0.7867083709947448,
          0.21410345242363035,
          0.22175658852040414,
          0.23635583931458254,
          0.19366796603375896,
          0.2600456878346525,
          0.24193445354799895,
          0.1805708819055184,
          0.2555163614802199,
          0.20761047356147316,
          0.1765085406799406,
          0.19858048180165325,
          -0.5800928720301459,
          -0.5693133883466958,
          -0.551620368622169,
          -0.6043907860182026,
          -0.6037302494251278,
          -0.6105843951043325,
          -0.5467942300760416,
          -0.6286580132856326,
          -0.5792131683030313,
          0.3722846236839131,
          0.3395884098711735,
          0.4033505395547422,
          0.38212129414719753,
          0.15128872685806746,
          0.16372623205417544,
          0.13774474583366075,
          0.6584212911982171,
          0.7026752511839097,
          0.6896306608836554,
          0.6052032694263904,
          0.8431728107681289,
          0.8984247494278665,
          -0.41482043138043484,
          -0.37573644107662774,
          -0.4294934528705639,
          -0.44548543133589596,
          0.9616641726992805,
          0.9712896465504979,
          0.7174544729969246,
          0.7553570749171852,
          0.760971601743617,
          0.6804795296924141,
          0.676333950951985,
          0.8636050045243863,
          0.8669104110448295,
          0.9177075071986833,
          0.827823385057771,
          -0.6204320072927751,
          -0.6623820227975824,
          -0.575100495874537,
          -0.6304511706693274,
          -0.6906941971450468,
          -0.7053689467433238,
          0.44424192544577423,
          0.3962378310342557,
          0.4773029351575967,
          0.4880377439240279,
          0.4563180007734174,
          0.4788753515632483,
          0.4963502207928546,
          0.44960367703548265,
          0.4149488053909606,
          0.42763968447190764,
          -0.08932585282726196,
          -0.1094953896249495,
          -0.06247352969823881,
          -0.1045985055763119,
          -0.739421047088503,
          -0.701668712854237,
          0.6396700561486022,
          0.585458806349123,
          0.6784869573029829,
          0.910246584334069,
          0.9401581232288017,
          0.8466984972111555,
          0.30474692881622906,
          0.28686699873615157,
          0.31974903249372616,
          0.9388860676537969,
          0.8478060101547359,
          0.9928062830448092,
          0.999892728511014,
          -0.06817667989447732,
          -0.08498280054007219,
          -0.09458017071992894,
          -0.10735565625826395,
          -0.03802995452868051,
          -0.0596915941537532,
          -0.02317646394871972,
          -0.0828058109094613,
          -0.6270570760494866,
          -0.6714729131725848,
          -0.6610516671309982,
          0.06378842447758634,
          0.053346591648819414,
          0.08300205075016427,
          0.05941062500336937,
          -0.7876252674496621,
          -0.7634580706804764,
          -0.830866162460718,
          -0.2971591586250705,
          -0.28445520833455834,
          -0.3109130945890918,
          0.5360441517611755,
          0.566010468313892,
          -0.017795713204317772,
          0.015889035655577442,
          0.29377796647084015,
          0.28480399906806264,
          0.8371732332038496,
          0.8843672098093441,
          0.8752466653064098,
          -0.7481224594869859,
          -0.7254495080029958,
          -0.7173895282876999,
          -0.6022996039050583,
          -0.634238443528441,
          -0.5572291769163888,
          0.7555245015724867,
          0.773259627526515,
          0.7080437889759605,
          -0.5422494073616116,
          -0.5559810505672232,
          -0.5451459324411266,
          0.6613044846555705,
          0.6366971122685466,
          -0.16792001396489148,
          -0.18701826857846163,
          -0.4495350795962205,
          -0.49487447651017263,
          -0.43794561932397286,
          -0.40247612053050524,
          -0.4875300481803045,
          -0.48115708626092546,
          -0.4600030622388705,
          -0.2678855020407602,
          -0.2779446609586619,
          -0.24227392476167592,
          -0.9252403678672853,
          -0.9635962120134599,
          -0.38131142552321606,
          -0.40735832507399183,
          0.6152986519879832,
          0.602824377668915,
          -0.12918725614736964,
          -0.1206737110424466,
          -0.08230751413567815,
          -0.09555941508333558,
          -0.07405982186171417,
          -0.05558232524215566,
          -0.11022956043935785,
          -0.3843165270562021,
          -0.3963904506377071,
          0.22252890309032575,
          0.23387808791192138,
          0.19922057164720983,
          0.24756672576102787,
          0.2361401739072515,
          0.21112805649116803,
          0.2585911160583149,
          -0.2551605439875144,
          -0.26551838213108253,
          0.6791452333848014,
          0.7037122064410976,
          0.6389790733615986,
          -0.9087638539750879,
          -0.8730726535516102,
          -0.9068891802176754,
          -0.1482119408784186,
          -0.1556936563358057,
          -0.0009477851816986592,
          -0.004874413629740093,
          0.7161966996289035,
          0.7043503054123842,
          -0.8646216739830739,
          -0.7958794585381812,
          -0.9058145459181697,
          -0.8904861728493626,
          -0.9243559604664252,
          -0.1991453205622638,
          -0.20715327863311353,
          -0.9688673624568604,
          -1,
          -0.7952872801955507,
          -0.7928149800627995,
          -0.830898851515333,
          -0.781139779716616,
          -0.8443262814353649,
          0.1682828941925991,
          0.19664369509910198,
          0.14142069993567127,
          0.17233383723055673,
          -0.9657870839799054,
          -0.9900345024423175,
          -0.9827618043938404,
          -0.9156765979074394,
          0.4834310149395458,
          0.46443546417410553,
          0.4510174432883573,
          0.5025369237611392,
          0.4702728423687572,
          0.5209802516003444,
          0.6756597450470109,
          0.65680339165934,
          0.8169564397589104,
          0.7626451086208418,
          0.8642894506241067,
          -0.8724040813085647,
          -0.919618696156915,
          -0.9285725845065008,
          0.07755025651981808,
          0.054830607239787416,
          0.08141966786225707,
          0.08565400210618819,
          0.8732043594242597,
          0.9350042575008102,
          0.9050991642285475,
          -0.48590570136979583,
          -0.44145319478310924,
          -0.5203694589443921,
          0.32384600581168876,
          0.34636532054336455,
          0.30584636069756077,
          0.8856570143039421,
          0.8500464569545022
         ]
        }
       ],
       "layout": {
        "hovermode": "closest",
        "margin": {
         "b": 0,
         "l": 0,
         "r": 0,
         "t": 60
        },
        "paper_bgcolor": "black",
        "plot_bgcolor": "black",
        "showlegend": false,
        "template": {
         "data": {
          "bar": [
           {
            "error_x": {
             "color": "#2a3f5f"
            },
            "error_y": {
             "color": "#2a3f5f"
            },
            "marker": {
             "line": {
              "color": "#E5ECF6",
              "width": 0.5
             },
             "pattern": {
              "fillmode": "overlay",
              "size": 10,
              "solidity": 0.2
             }
            },
            "type": "bar"
           }
          ],
          "barpolar": [
           {
            "marker": {
             "line": {
              "color": "#E5ECF6",
              "width": 0.5
             },
             "pattern": {
              "fillmode": "overlay",
              "size": 10,
              "solidity": 0.2
             }
            },
            "type": "barpolar"
           }
          ],
          "carpet": [
           {
            "aaxis": {
             "endlinecolor": "#2a3f5f",
             "gridcolor": "white",
             "linecolor": "white",
             "minorgridcolor": "white",
             "startlinecolor": "#2a3f5f"
            },
            "baxis": {
             "endlinecolor": "#2a3f5f",
             "gridcolor": "white",
             "linecolor": "white",
             "minorgridcolor": "white",
             "startlinecolor": "#2a3f5f"
            },
            "type": "carpet"
           }
          ],
          "choropleth": [
           {
            "colorbar": {
             "outlinewidth": 0,
             "ticks": ""
            },
            "type": "choropleth"
           }
          ],
          "contour": [
           {
            "colorbar": {
             "outlinewidth": 0,
             "ticks": ""
            },
            "colorscale": [
             [
              0,
              "#0d0887"
             ],
             [
              0.1111111111111111,
              "#46039f"
             ],
             [
              0.2222222222222222,
              "#7201a8"
             ],
             [
              0.3333333333333333,
              "#9c179e"
             ],
             [
              0.4444444444444444,
              "#bd3786"
             ],
             [
              0.5555555555555556,
              "#d8576b"
             ],
             [
              0.6666666666666666,
              "#ed7953"
             ],
             [
              0.7777777777777778,
              "#fb9f3a"
             ],
             [
              0.8888888888888888,
              "#fdca26"
             ],
             [
              1,
              "#f0f921"
             ]
            ],
            "type": "contour"
           }
          ],
          "contourcarpet": [
           {
            "colorbar": {
             "outlinewidth": 0,
             "ticks": ""
            },
            "type": "contourcarpet"
           }
          ],
          "heatmap": [
           {
            "colorbar": {
             "outlinewidth": 0,
             "ticks": ""
            },
            "colorscale": [
             [
              0,
              "#0d0887"
             ],
             [
              0.1111111111111111,
              "#46039f"
             ],
             [
              0.2222222222222222,
              "#7201a8"
             ],
             [
              0.3333333333333333,
              "#9c179e"
             ],
             [
              0.4444444444444444,
              "#bd3786"
             ],
             [
              0.5555555555555556,
              "#d8576b"
             ],
             [
              0.6666666666666666,
              "#ed7953"
             ],
             [
              0.7777777777777778,
              "#fb9f3a"
             ],
             [
              0.8888888888888888,
              "#fdca26"
             ],
             [
              1,
              "#f0f921"
             ]
            ],
            "type": "heatmap"
           }
          ],
          "heatmapgl": [
           {
            "colorbar": {
             "outlinewidth": 0,
             "ticks": ""
            },
            "colorscale": [
             [
              0,
              "#0d0887"
             ],
             [
              0.1111111111111111,
              "#46039f"
             ],
             [
              0.2222222222222222,
              "#7201a8"
             ],
             [
              0.3333333333333333,
              "#9c179e"
             ],
             [
              0.4444444444444444,
              "#bd3786"
             ],
             [
              0.5555555555555556,
              "#d8576b"
             ],
             [
              0.6666666666666666,
              "#ed7953"
             ],
             [
              0.7777777777777778,
              "#fb9f3a"
             ],
             [
              0.8888888888888888,
              "#fdca26"
             ],
             [
              1,
              "#f0f921"
             ]
            ],
            "type": "heatmapgl"
           }
          ],
          "histogram": [
           {
            "marker": {
             "pattern": {
              "fillmode": "overlay",
              "size": 10,
              "solidity": 0.2
             }
            },
            "type": "histogram"
           }
          ],
          "histogram2d": [
           {
            "colorbar": {
             "outlinewidth": 0,
             "ticks": ""
            },
            "colorscale": [
             [
              0,
              "#0d0887"
             ],
             [
              0.1111111111111111,
              "#46039f"
             ],
             [
              0.2222222222222222,
              "#7201a8"
             ],
             [
              0.3333333333333333,
              "#9c179e"
             ],
             [
              0.4444444444444444,
              "#bd3786"
             ],
             [
              0.5555555555555556,
              "#d8576b"
             ],
             [
              0.6666666666666666,
              "#ed7953"
             ],
             [
              0.7777777777777778,
              "#fb9f3a"
             ],
             [
              0.8888888888888888,
              "#fdca26"
             ],
             [
              1,
              "#f0f921"
             ]
            ],
            "type": "histogram2d"
           }
          ],
          "histogram2dcontour": [
           {
            "colorbar": {
             "outlinewidth": 0,
             "ticks": ""
            },
            "colorscale": [
             [
              0,
              "#0d0887"
             ],
             [
              0.1111111111111111,
              "#46039f"
             ],
             [
              0.2222222222222222,
              "#7201a8"
             ],
             [
              0.3333333333333333,
              "#9c179e"
             ],
             [
              0.4444444444444444,
              "#bd3786"
             ],
             [
              0.5555555555555556,
              "#d8576b"
             ],
             [
              0.6666666666666666,
              "#ed7953"
             ],
             [
              0.7777777777777778,
              "#fb9f3a"
             ],
             [
              0.8888888888888888,
              "#fdca26"
             ],
             [
              1,
              "#f0f921"
             ]
            ],
            "type": "histogram2dcontour"
           }
          ],
          "mesh3d": [
           {
            "colorbar": {
             "outlinewidth": 0,
             "ticks": ""
            },
            "type": "mesh3d"
           }
          ],
          "parcoords": [
           {
            "line": {
             "colorbar": {
              "outlinewidth": 0,
              "ticks": ""
             }
            },
            "type": "parcoords"
           }
          ],
          "pie": [
           {
            "automargin": true,
            "type": "pie"
           }
          ],
          "scatter": [
           {
            "fillpattern": {
             "fillmode": "overlay",
             "size": 10,
             "solidity": 0.2
            },
            "type": "scatter"
           }
          ],
          "scatter3d": [
           {
            "line": {
             "colorbar": {
              "outlinewidth": 0,
              "ticks": ""
             }
            },
            "marker": {
             "colorbar": {
              "outlinewidth": 0,
              "ticks": ""
             }
            },
            "type": "scatter3d"
           }
          ],
          "scattercarpet": [
           {
            "marker": {
             "colorbar": {
              "outlinewidth": 0,
              "ticks": ""
             }
            },
            "type": "scattercarpet"
           }
          ],
          "scattergeo": [
           {
            "marker": {
             "colorbar": {
              "outlinewidth": 0,
              "ticks": ""
             }
            },
            "type": "scattergeo"
           }
          ],
          "scattergl": [
           {
            "marker": {
             "colorbar": {
              "outlinewidth": 0,
              "ticks": ""
             }
            },
            "type": "scattergl"
           }
          ],
          "scattermapbox": [
           {
            "marker": {
             "colorbar": {
              "outlinewidth": 0,
              "ticks": ""
             }
            },
            "type": "scattermapbox"
           }
          ],
          "scatterpolar": [
           {
            "marker": {
             "colorbar": {
              "outlinewidth": 0,
              "ticks": ""
             }
            },
            "type": "scatterpolar"
           }
          ],
          "scatterpolargl": [
           {
            "marker": {
             "colorbar": {
              "outlinewidth": 0,
              "ticks": ""
             }
            },
            "type": "scatterpolargl"
           }
          ],
          "scatterternary": [
           {
            "marker": {
             "colorbar": {
              "outlinewidth": 0,
              "ticks": ""
             }
            },
            "type": "scatterternary"
           }
          ],
          "surface": [
           {
            "colorbar": {
             "outlinewidth": 0,
             "ticks": ""
            },
            "colorscale": [
             [
              0,
              "#0d0887"
             ],
             [
              0.1111111111111111,
              "#46039f"
             ],
             [
              0.2222222222222222,
              "#7201a8"
             ],
             [
              0.3333333333333333,
              "#9c179e"
             ],
             [
              0.4444444444444444,
              "#bd3786"
             ],
             [
              0.5555555555555556,
              "#d8576b"
             ],
             [
              0.6666666666666666,
              "#ed7953"
             ],
             [
              0.7777777777777778,
              "#fb9f3a"
             ],
             [
              0.8888888888888888,
              "#fdca26"
             ],
             [
              1,
              "#f0f921"
             ]
            ],
            "type": "surface"
           }
          ],
          "table": [
           {
            "cells": {
             "fill": {
              "color": "#EBF0F8"
             },
             "line": {
              "color": "white"
             }
            },
            "header": {
             "fill": {
              "color": "#C8D4E3"
             },
             "line": {
              "color": "white"
             }
            },
            "type": "table"
           }
          ]
         },
         "layout": {
          "annotationdefaults": {
           "arrowcolor": "#2a3f5f",
           "arrowhead": 0,
           "arrowwidth": 1
          },
          "autotypenumbers": "strict",
          "coloraxis": {
           "colorbar": {
            "outlinewidth": 0,
            "ticks": ""
           }
          },
          "colorscale": {
           "diverging": [
            [
             0,
             "#8e0152"
            ],
            [
             0.1,
             "#c51b7d"
            ],
            [
             0.2,
             "#de77ae"
            ],
            [
             0.3,
             "#f1b6da"
            ],
            [
             0.4,
             "#fde0ef"
            ],
            [
             0.5,
             "#f7f7f7"
            ],
            [
             0.6,
             "#e6f5d0"
            ],
            [
             0.7,
             "#b8e186"
            ],
            [
             0.8,
             "#7fbc41"
            ],
            [
             0.9,
             "#4d9221"
            ],
            [
             1,
             "#276419"
            ]
           ],
           "sequential": [
            [
             0,
             "#0d0887"
            ],
            [
             0.1111111111111111,
             "#46039f"
            ],
            [
             0.2222222222222222,
             "#7201a8"
            ],
            [
             0.3333333333333333,
             "#9c179e"
            ],
            [
             0.4444444444444444,
             "#bd3786"
            ],
            [
             0.5555555555555556,
             "#d8576b"
            ],
            [
             0.6666666666666666,
             "#ed7953"
            ],
            [
             0.7777777777777778,
             "#fb9f3a"
            ],
            [
             0.8888888888888888,
             "#fdca26"
            ],
            [
             1,
             "#f0f921"
            ]
           ],
           "sequentialminus": [
            [
             0,
             "#0d0887"
            ],
            [
             0.1111111111111111,
             "#46039f"
            ],
            [
             0.2222222222222222,
             "#7201a8"
            ],
            [
             0.3333333333333333,
             "#9c179e"
            ],
            [
             0.4444444444444444,
             "#bd3786"
            ],
            [
             0.5555555555555556,
             "#d8576b"
            ],
            [
             0.6666666666666666,
             "#ed7953"
            ],
            [
             0.7777777777777778,
             "#fb9f3a"
            ],
            [
             0.8888888888888888,
             "#fdca26"
            ],
            [
             1,
             "#f0f921"
            ]
           ]
          },
          "colorway": [
           "#636efa",
           "#EF553B",
           "#00cc96",
           "#ab63fa",
           "#FFA15A",
           "#19d3f3",
           "#FF6692",
           "#B6E880",
           "#FF97FF",
           "#FECB52"
          ],
          "font": {
           "color": "#2a3f5f"
          },
          "geo": {
           "bgcolor": "white",
           "lakecolor": "white",
           "landcolor": "#E5ECF6",
           "showlakes": true,
           "showland": true,
           "subunitcolor": "white"
          },
          "hoverlabel": {
           "align": "left"
          },
          "hovermode": "closest",
          "mapbox": {
           "style": "light"
          },
          "paper_bgcolor": "white",
          "plot_bgcolor": "#E5ECF6",
          "polar": {
           "angularaxis": {
            "gridcolor": "white",
            "linecolor": "white",
            "ticks": ""
           },
           "bgcolor": "#E5ECF6",
           "radialaxis": {
            "gridcolor": "white",
            "linecolor": "white",
            "ticks": ""
           }
          },
          "scene": {
           "xaxis": {
            "backgroundcolor": "#E5ECF6",
            "gridcolor": "white",
            "gridwidth": 2,
            "linecolor": "white",
            "showbackground": true,
            "ticks": "",
            "zerolinecolor": "white"
           },
           "yaxis": {
            "backgroundcolor": "#E5ECF6",
            "gridcolor": "white",
            "gridwidth": 2,
            "linecolor": "white",
            "showbackground": true,
            "ticks": "",
            "zerolinecolor": "white"
           },
           "zaxis": {
            "backgroundcolor": "#E5ECF6",
            "gridcolor": "white",
            "gridwidth": 2,
            "linecolor": "white",
            "showbackground": true,
            "ticks": "",
            "zerolinecolor": "white"
           }
          },
          "shapedefaults": {
           "line": {
            "color": "#2a3f5f"
           }
          },
          "ternary": {
           "aaxis": {
            "gridcolor": "white",
            "linecolor": "white",
            "ticks": ""
           },
           "baxis": {
            "gridcolor": "white",
            "linecolor": "white",
            "ticks": ""
           },
           "bgcolor": "#E5ECF6",
           "caxis": {
            "gridcolor": "white",
            "linecolor": "white",
            "ticks": ""
           }
          },
          "title": {
           "x": 0.05
          },
          "xaxis": {
           "automargin": true,
           "gridcolor": "white",
           "linecolor": "white",
           "ticks": "",
           "title": {
            "standoff": 15
           },
           "zerolinecolor": "white",
           "zerolinewidth": 2
          },
          "yaxis": {
           "automargin": true,
           "gridcolor": "white",
           "linecolor": "white",
           "ticks": "",
           "title": {
            "standoff": 15
           },
           "zerolinecolor": "white",
           "zerolinewidth": 2
          }
         }
        },
        "title": {
         "font": {
          "color": "white",
          "size": 18
         },
         "text": "Information Flow Graph for Nodes that Weight > 1"
        },
        "xaxis": {
         "showgrid": false,
         "showticklabels": false,
         "zeroline": false
        },
        "yaxis": {
         "showgrid": false,
         "showticklabels": false,
         "zeroline": false
        }
       }
      }
     },
     "metadata": {},
     "output_type": "display_data"
    },
    {
     "name": "stdout",
     "output_type": "stream",
     "text": [
      "HTML file saved as c:\\Users\\Rameez\\OneDrive\\Dashboard Project\\Assets\\Exploratory Analysis Graphs\\Information_Flow_Graph_for_Nodes_that_Weight_gt_1.html\n"
     ]
    }
   ],
   "source": [
    "#Create lists of nodes and edges based on weights\n",
    "edges_weight_gt_1 = [(u, v) for u, v, d in G_filtered.edges(\n",
    "    data=True) if d['weight'] > 1]\n",
    "\n",
    "#Create lists of nodes for video and user types\n",
    "video_nodes = [node for node, data in G_filtered.nodes(\n",
    "    data=True) if data['node_type'] == 'video']\n",
    "user_nodes = [node for node, data in G_filtered.nodes(\n",
    "    data=True) if data['node_type'] == 'user']\n",
    "\n",
    "#Create a layout for the nodes\n",
    "pos = nx.spring_layout(G_filtered, k=0.09)\n",
    "\n",
    "#Create Plotly nodes and edges\n",
    "edge_trace = go.Scatter(\n",
    "    x=[],\n",
    "    y=[],\n",
    "    line=dict(width=1, color='lightblue'),\n",
    "    hoverinfo='none',\n",
    "    mode='lines')\n",
    "\n",
    "for edge in edges_weight_gt_1:\n",
    "    x0, y0 = pos[edge[0]]\n",
    "    x1, y1 = pos[edge[1]]\n",
    "    edge_trace['x'] += tuple([x0, x1, None])\n",
    "    edge_trace['y'] += tuple([y0, y1, None])\n",
    "\n",
    "node_trace = go.Scatter(\n",
    "    x=[],\n",
    "    y=[],\n",
    "    text=[],\n",
    "    mode='markers',\n",
    "    hoverinfo='text',\n",
    "    marker=dict(\n",
    "        showscale=True,\n",
    "        colorscale='twilight',\n",
    "        size=4,\n",
    "        colorbar=dict(\n",
    "            thickness=2,\n",
    "            title='Node Connections',\n",
    "            xanchor='left',\n",
    "            titleside='right'\n",
    "        ),\n",
    "        line_width=0))\n",
    "\n",
    "for node in G_filtered.nodes():\n",
    "    x, y = pos[node]\n",
    "    node_trace['x'] += tuple([x])\n",
    "    node_trace['y'] += tuple([y])\n",
    "    node_trace['text'] += tuple([node])\n",
    "\n",
    "#Create Plotly figure\n",
    "fig_info_flow_weight_gt_1 = go.Figure(data=[edge_trace, node_trace],\n",
    "                                      layout=go.Layout(\n",
    "    showlegend=False,\n",
    "    hovermode='closest',\n",
    "    title=\"Information Flow Graph for Nodes that Weight > 1\",\n",
    "    titlefont=dict(size=18, color='white'),\n",
    "    margin=dict(b=0, l=0, r=0, t=60),\n",
    "    xaxis=dict(showgrid=False, zeroline=False,\n",
    "               showticklabels=False),\n",
    "    yaxis=dict(showgrid=False, zeroline=False,\n",
    "               showticklabels=False),\n",
    "    paper_bgcolor='black',\n",
    "    plot_bgcolor='black'))\n",
    "\n",
    "#Show the figure\n",
    "fig_info_flow_weight_gt_1.show()\n",
    "\n",
    "#Define the HTML file path using the relative path to 'Exploratory Analysis Graphs'\n",
    "html_file_name = 'Information_Flow_Graph_for_Nodes_that_Weight_gt_1.html'\n",
    "html_file_path = os.path.join(graphs_dir, html_file_name)\n",
    "\n",
    "#Save the Plotly figure as an HTML file\n",
    "fig_info_flow_weight_gt_1.write_html(html_file_path)\n",
    "\n",
    "print(f'HTML file saved as {html_file_path}')"
   ]
  },
  {
   "cell_type": "markdown",
   "metadata": {},
   "source": [
    "## Identify Communities"
   ]
  },
  {
   "cell_type": "markdown",
   "metadata": {},
   "source": [
    "In this case, we only consider the communities who can have a significant impact on the channel statistics. For that purpose, we can a anlyse the previsouly well filtered Network"
   ]
  },
  {
   "cell_type": "code",
   "execution_count": 40,
   "metadata": {},
   "outputs": [],
   "source": [
    "#Create a list of user nodes\n",
    "user_nodes = [node for node, data in G_filtered.nodes(\n",
    "    data=True) if data['node_type'] == 'user']"
   ]
  },
  {
   "cell_type": "markdown",
   "metadata": {},
   "source": [
    "Eigne Vector Centrality is chosesn for the network analysis"
   ]
  },
  {
   "cell_type": "code",
   "execution_count": 41,
   "metadata": {},
   "outputs": [],
   "source": [
    "#Calculate eigen vector centrality for user nodes\n",
    "eigen_vector_centrality = nx.eigenvector_centrality(\n",
    "    G_filtered, max_iter=500, nstart=None, weight=None, tol=1e-06)"
   ]
  },
  {
   "cell_type": "code",
   "execution_count": 42,
   "metadata": {},
   "outputs": [],
   "source": [
    "#Create a DataFrame to store user nodes and their eigen vector centrality values\n",
    "eigen_vector_df = pd.DataFrame({\n",
    "    'User Node': user_nodes,\n",
    "    'Eigen Vector Centrality': [eigen_vector_centrality[node] for node in user_nodes]\n",
    "})"
   ]
  },
  {
   "cell_type": "markdown",
   "metadata": {},
   "source": [
    "K-Means Clustering Approach is used to find clusters via eigen vector centrality"
   ]
  },
  {
   "cell_type": "code",
   "execution_count": 43,
   "metadata": {},
   "outputs": [
    {
     "name": "stderr",
     "output_type": "stream",
     "text": [
      "c:\\Users\\Rameez\\anaconda3\\lib\\site-packages\\sklearn\\utils\\validation.py:767: FutureWarning:\n",
      "\n",
      "is_sparse is deprecated and will be removed in a future version. Check `isinstance(dtype, pd.SparseDtype)` instead.\n",
      "\n",
      "c:\\Users\\Rameez\\anaconda3\\lib\\site-packages\\sklearn\\utils\\validation.py:605: FutureWarning:\n",
      "\n",
      "is_sparse is deprecated and will be removed in a future version. Check `isinstance(dtype, pd.SparseDtype)` instead.\n",
      "\n",
      "c:\\Users\\Rameez\\anaconda3\\lib\\site-packages\\sklearn\\utils\\validation.py:614: FutureWarning:\n",
      "\n",
      "is_sparse is deprecated and will be removed in a future version. Check `isinstance(dtype, pd.SparseDtype)` instead.\n",
      "\n",
      "c:\\Users\\Rameez\\anaconda3\\lib\\site-packages\\sklearn\\cluster\\_kmeans.py:870: FutureWarning:\n",
      "\n",
      "The default value of `n_init` will change from 10 to 'auto' in 1.4. Set the value of `n_init` explicitly to suppress the warning\n",
      "\n",
      "c:\\Users\\Rameez\\anaconda3\\lib\\site-packages\\sklearn\\cluster\\_kmeans.py:1382: UserWarning:\n",
      "\n",
      "KMeans is known to have a memory leak on Windows with MKL, when there are less chunks than available threads. You can avoid it by setting the environment variable OMP_NUM_THREADS=1.\n",
      "\n"
     ]
    }
   ],
   "source": [
    "from sklearn.cluster import KMeans\n",
    "\n",
    "#Perform K-means clustering\n",
    "kmeans = KMeans(n_clusters=4, random_state=0)\n",
    "eigen_vector_df['Cluster'] = kmeans.fit_predict(\n",
    "    eigen_vector_df[['Eigen Vector Centrality']])\n",
    "\n",
    "#Group users by cluster\n",
    "clustered_users = eigen_vector_df.groupby(\n",
    "    'Cluster')['User Node'].apply(list).reset_index()\n",
    "clustered_users['Number of Users'] = clustered_users['User Node'].apply(len)\n",
    "clustered_users = clustered_users.rename(columns={'User Node': 'Users'})"
   ]
  },
  {
   "cell_type": "markdown",
   "metadata": {},
   "source": [
    "Get the Output of Clustors that we identified as Communities"
   ]
  },
  {
   "cell_type": "code",
   "execution_count": 44,
   "metadata": {},
   "outputs": [
    {
     "data": {
      "text/html": [
       "<div>\n",
       "<style scoped>\n",
       "    .dataframe tbody tr th:only-of-type {\n",
       "        vertical-align: middle;\n",
       "    }\n",
       "\n",
       "    .dataframe tbody tr th {\n",
       "        vertical-align: top;\n",
       "    }\n",
       "\n",
       "    .dataframe thead th {\n",
       "        text-align: right;\n",
       "    }\n",
       "</style>\n",
       "<table border=\"1\" class=\"dataframe\">\n",
       "  <thead>\n",
       "    <tr style=\"text-align: right;\">\n",
       "      <th></th>\n",
       "      <th>Cluster</th>\n",
       "      <th>Users</th>\n",
       "      <th>Number of Users</th>\n",
       "    </tr>\n",
       "  </thead>\n",
       "  <tbody>\n",
       "    <tr>\n",
       "      <th>0</th>\n",
       "      <td>0</td>\n",
       "      <td>[Mehedi Hasan, Badiuz Zaman, chayanika ghosh, ...</td>\n",
       "      <td>178</td>\n",
       "    </tr>\n",
       "    <tr>\n",
       "      <th>1</th>\n",
       "      <td>1</td>\n",
       "      <td>[Mr Kipling, Nikhil Verma, Calisthenics India,...</td>\n",
       "      <td>10</td>\n",
       "    </tr>\n",
       "    <tr>\n",
       "      <th>2</th>\n",
       "      <td>2</td>\n",
       "      <td>[Vishal meena geet, Mario Basler, shubham raj,...</td>\n",
       "      <td>9</td>\n",
       "    </tr>\n",
       "    <tr>\n",
       "      <th>3</th>\n",
       "      <td>3</td>\n",
       "      <td>[UMANG KANCHAN, amolchaitanya, Haris Asif, san...</td>\n",
       "      <td>8</td>\n",
       "    </tr>\n",
       "  </tbody>\n",
       "</table>\n",
       "</div>"
      ],
      "text/plain": [
       "   Cluster                                              Users  Number of Users\n",
       "0        0  [Mehedi Hasan, Badiuz Zaman, chayanika ghosh, ...              178\n",
       "1        1  [Mr Kipling, Nikhil Verma, Calisthenics India,...               10\n",
       "2        2  [Vishal meena geet, Mario Basler, shubham raj,...                9\n",
       "3        3  [UMANG KANCHAN, amolchaitanya, Haris Asif, san...                8"
      ]
     },
     "execution_count": 44,
     "metadata": {},
     "output_type": "execute_result"
    }
   ],
   "source": [
    "#Dataframe with clustors\n",
    "clustered_users"
   ]
  },
  {
   "cell_type": "markdown",
   "metadata": {},
   "source": [
    "## Creating a Cross Posting Schedule"
   ]
  },
  {
   "cell_type": "markdown",
   "metadata": {},
   "source": [
    "Since Youtube API V3 doesnt support for crossposting. Let's create a model that can do predications."
   ]
  },
  {
   "cell_type": "code",
   "execution_count": 45,
   "metadata": {},
   "outputs": [
    {
     "data": {
      "text/html": [
       "<div>\n",
       "<style scoped>\n",
       "    .dataframe tbody tr th:only-of-type {\n",
       "        vertical-align: middle;\n",
       "    }\n",
       "\n",
       "    .dataframe tbody tr th {\n",
       "        vertical-align: top;\n",
       "    }\n",
       "\n",
       "    .dataframe thead th {\n",
       "        text-align: right;\n",
       "    }\n",
       "</style>\n",
       "<table border=\"1\" class=\"dataframe\">\n",
       "  <thead>\n",
       "    <tr style=\"text-align: right;\">\n",
       "      <th></th>\n",
       "      <th>Video ID</th>\n",
       "      <th>Video Title</th>\n",
       "      <th>Published Date</th>\n",
       "      <th>Published Time</th>\n",
       "      <th>Views Count</th>\n",
       "      <th>Comments Count</th>\n",
       "      <th>Likes Count</th>\n",
       "      <th>Hashtags</th>\n",
       "      <th>Is Private</th>\n",
       "    </tr>\n",
       "  </thead>\n",
       "  <tbody>\n",
       "    <tr>\n",
       "      <th>0</th>\n",
       "      <td>7XFSkk-FtYw</td>\n",
       "      <td>Fox Cricket: Behind the Scenes</td>\n",
       "      <td>2018-11-07</td>\n",
       "      <td>00:47:49Z</td>\n",
       "      <td>24315</td>\n",
       "      <td>13</td>\n",
       "      <td>423</td>\n",
       "      <td>['fox sports', 'australia', 'sports', 'cricket...</td>\n",
       "      <td>False</td>\n",
       "    </tr>\n",
       "    <tr>\n",
       "      <th>1</th>\n",
       "      <td>W_1bpHPMa2A</td>\n",
       "      <td>2 Nations, 1 Obsession</td>\n",
       "      <td>2018-11-20</td>\n",
       "      <td>06:26:15Z</td>\n",
       "      <td>21164</td>\n",
       "      <td>40</td>\n",
       "      <td>462</td>\n",
       "      <td>['fox sports', 'australia', 'sports', 'cricket...</td>\n",
       "      <td>False</td>\n",
       "    </tr>\n",
       "    <tr>\n",
       "      <th>2</th>\n",
       "      <td>n3wBE22Kuvc</td>\n",
       "      <td>Would You Rather...? with Mitchell Starc and A...</td>\n",
       "      <td>2018-12-28</td>\n",
       "      <td>00:16:32Z</td>\n",
       "      <td>1298832</td>\n",
       "      <td>431</td>\n",
       "      <td>21341</td>\n",
       "      <td>['fox sports', 'australia', 'sports', 'comedy'...</td>\n",
       "      <td>False</td>\n",
       "    </tr>\n",
       "    <tr>\n",
       "      <th>3</th>\n",
       "      <td>udPy-hc7XPI</td>\n",
       "      <td>Steve Smith | The Cricket Tragic</td>\n",
       "      <td>2019-04-10</td>\n",
       "      <td>22:00:04Z</td>\n",
       "      <td>163450</td>\n",
       "      <td>316</td>\n",
       "      <td>3465</td>\n",
       "      <td>['fox sports', 'australia', 'sports', 'cricket...</td>\n",
       "      <td>False</td>\n",
       "    </tr>\n",
       "    <tr>\n",
       "      <th>4</th>\n",
       "      <td>HdVgr5F7AtQ</td>\n",
       "      <td>The Gilded Age of Indian Cricket | Cricket Emp...</td>\n",
       "      <td>2019-05-03</td>\n",
       "      <td>05:10:35Z</td>\n",
       "      <td>14429</td>\n",
       "      <td>7</td>\n",
       "      <td>244</td>\n",
       "      <td>['fox sports', 'australia', 'sports', 'india',...</td>\n",
       "      <td>False</td>\n",
       "    </tr>\n",
       "    <tr>\n",
       "      <th>...</th>\n",
       "      <td>...</td>\n",
       "      <td>...</td>\n",
       "      <td>...</td>\n",
       "      <td>...</td>\n",
       "      <td>...</td>\n",
       "      <td>...</td>\n",
       "      <td>...</td>\n",
       "      <td>...</td>\n",
       "      <td>...</td>\n",
       "    </tr>\n",
       "    <tr>\n",
       "      <th>164</th>\n",
       "      <td>A0wLx721tDs</td>\n",
       "      <td>'They won't back down from a fight' - Uzzie op...</td>\n",
       "      <td>2023-09-29</td>\n",
       "      <td>05:58:05Z</td>\n",
       "      <td>47019</td>\n",
       "      <td>71</td>\n",
       "      <td>682</td>\n",
       "      <td>['fox cricket', 'cricket', 'fox sports austral...</td>\n",
       "      <td>False</td>\n",
       "    </tr>\n",
       "    <tr>\n",
       "      <th>165</th>\n",
       "      <td>SuaKWwAscp0</td>\n",
       "      <td>Australia pick their ODI World XI | Top Order</td>\n",
       "      <td>2023-09-30</td>\n",
       "      <td>06:00:17Z</td>\n",
       "      <td>1651477</td>\n",
       "      <td>1896</td>\n",
       "      <td>35083</td>\n",
       "      <td>['fox cricket', 'cricket', 'fox sports austral...</td>\n",
       "      <td>False</td>\n",
       "    </tr>\n",
       "    <tr>\n",
       "      <th>166</th>\n",
       "      <td>JgZizKa-5MM</td>\n",
       "      <td>Warner's WC Preview: Can Aus outshine India's ...</td>\n",
       "      <td>2023-10-05</td>\n",
       "      <td>20:00:05Z</td>\n",
       "      <td>13379</td>\n",
       "      <td>17</td>\n",
       "      <td>246</td>\n",
       "      <td>['fox cricket', 'cricket', 'fox sports austral...</td>\n",
       "      <td>False</td>\n",
       "    </tr>\n",
       "    <tr>\n",
       "      <th>167</th>\n",
       "      <td>rv2cYvWdjIM</td>\n",
       "      <td>Australia pick their ODI World XI | Middle Order</td>\n",
       "      <td>2023-10-06</td>\n",
       "      <td>07:00:32Z</td>\n",
       "      <td>204062</td>\n",
       "      <td>458</td>\n",
       "      <td>4182</td>\n",
       "      <td>['fox cricket', 'cricket', 'fox sports austral...</td>\n",
       "      <td>False</td>\n",
       "    </tr>\n",
       "    <tr>\n",
       "      <th>168</th>\n",
       "      <td>ekwZCwc59WM</td>\n",
       "      <td>Australia picks their World XI | Tail-end</td>\n",
       "      <td>2023-10-10</td>\n",
       "      <td>06:00:26Z</td>\n",
       "      <td>37859</td>\n",
       "      <td>109</td>\n",
       "      <td>1225</td>\n",
       "      <td>['fox cricket', 'cricket', 'fox sports austral...</td>\n",
       "      <td>False</td>\n",
       "    </tr>\n",
       "  </tbody>\n",
       "</table>\n",
       "<p>169 rows × 9 columns</p>\n",
       "</div>"
      ],
      "text/plain": [
       "        Video ID                                        Video Title  \\\n",
       "0    7XFSkk-FtYw                     Fox Cricket: Behind the Scenes   \n",
       "1    W_1bpHPMa2A                             2 Nations, 1 Obsession   \n",
       "2    n3wBE22Kuvc  Would You Rather...? with Mitchell Starc and A...   \n",
       "3    udPy-hc7XPI                   Steve Smith | The Cricket Tragic   \n",
       "4    HdVgr5F7AtQ  The Gilded Age of Indian Cricket | Cricket Emp...   \n",
       "..           ...                                                ...   \n",
       "164  A0wLx721tDs  'They won't back down from a fight' - Uzzie op...   \n",
       "165  SuaKWwAscp0      Australia pick their ODI World XI | Top Order   \n",
       "166  JgZizKa-5MM  Warner's WC Preview: Can Aus outshine India's ...   \n",
       "167  rv2cYvWdjIM   Australia pick their ODI World XI | Middle Order   \n",
       "168  ekwZCwc59WM          Australia picks their World XI | Tail-end   \n",
       "\n",
       "    Published Date Published Time  Views Count  Comments Count  Likes Count  \\\n",
       "0       2018-11-07      00:47:49Z        24315              13          423   \n",
       "1       2018-11-20      06:26:15Z        21164              40          462   \n",
       "2       2018-12-28      00:16:32Z      1298832             431        21341   \n",
       "3       2019-04-10      22:00:04Z       163450             316         3465   \n",
       "4       2019-05-03      05:10:35Z        14429               7          244   \n",
       "..             ...            ...          ...             ...          ...   \n",
       "164     2023-09-29      05:58:05Z        47019              71          682   \n",
       "165     2023-09-30      06:00:17Z      1651477            1896        35083   \n",
       "166     2023-10-05      20:00:05Z        13379              17          246   \n",
       "167     2023-10-06      07:00:32Z       204062             458         4182   \n",
       "168     2023-10-10      06:00:26Z        37859             109         1225   \n",
       "\n",
       "                                              Hashtags  Is Private  \n",
       "0    ['fox sports', 'australia', 'sports', 'cricket...       False  \n",
       "1    ['fox sports', 'australia', 'sports', 'cricket...       False  \n",
       "2    ['fox sports', 'australia', 'sports', 'comedy'...       False  \n",
       "3    ['fox sports', 'australia', 'sports', 'cricket...       False  \n",
       "4    ['fox sports', 'australia', 'sports', 'india',...       False  \n",
       "..                                                 ...         ...  \n",
       "164  ['fox cricket', 'cricket', 'fox sports austral...       False  \n",
       "165  ['fox cricket', 'cricket', 'fox sports austral...       False  \n",
       "166  ['fox cricket', 'cricket', 'fox sports austral...       False  \n",
       "167  ['fox cricket', 'cricket', 'fox sports austral...       False  \n",
       "168  ['fox cricket', 'cricket', 'fox sports austral...       False  \n",
       "\n",
       "[169 rows x 9 columns]"
      ]
     },
     "execution_count": 45,
     "metadata": {},
     "output_type": "execute_result"
    }
   ],
   "source": [
    "video_data"
   ]
  },
  {
   "cell_type": "markdown",
   "metadata": {},
   "source": [
    "Preprocessing the Data"
   ]
  },
  {
   "cell_type": "code",
   "execution_count": 46,
   "metadata": {},
   "outputs": [
    {
     "data": {
      "text/html": [
       "<div>\n",
       "<style scoped>\n",
       "    .dataframe tbody tr th:only-of-type {\n",
       "        vertical-align: middle;\n",
       "    }\n",
       "\n",
       "    .dataframe tbody tr th {\n",
       "        vertical-align: top;\n",
       "    }\n",
       "\n",
       "    .dataframe thead th {\n",
       "        text-align: right;\n",
       "    }\n",
       "</style>\n",
       "<table border=\"1\" class=\"dataframe\">\n",
       "  <thead>\n",
       "    <tr style=\"text-align: right;\">\n",
       "      <th></th>\n",
       "      <th>Video ID</th>\n",
       "      <th>Video Title</th>\n",
       "      <th>Published Date</th>\n",
       "      <th>Published Time</th>\n",
       "      <th>Views Count</th>\n",
       "      <th>Comments Count</th>\n",
       "      <th>Likes Count</th>\n",
       "      <th>Hashtags</th>\n",
       "      <th>Is Private</th>\n",
       "    </tr>\n",
       "  </thead>\n",
       "  <tbody>\n",
       "    <tr>\n",
       "      <th>0</th>\n",
       "      <td>7XFSkk-FtYw</td>\n",
       "      <td>Fox Cricket: Behind the Scenes</td>\n",
       "      <td>2018-11-07</td>\n",
       "      <td>00:47:49Z</td>\n",
       "      <td>24315</td>\n",
       "      <td>13</td>\n",
       "      <td>423</td>\n",
       "      <td>['fox sports', 'australia', 'sports', 'cricket...</td>\n",
       "      <td>False</td>\n",
       "    </tr>\n",
       "    <tr>\n",
       "      <th>1</th>\n",
       "      <td>W_1bpHPMa2A</td>\n",
       "      <td>2 Nations, 1 Obsession</td>\n",
       "      <td>2018-11-20</td>\n",
       "      <td>06:26:15Z</td>\n",
       "      <td>21164</td>\n",
       "      <td>40</td>\n",
       "      <td>462</td>\n",
       "      <td>['fox sports', 'australia', 'sports', 'cricket...</td>\n",
       "      <td>False</td>\n",
       "    </tr>\n",
       "    <tr>\n",
       "      <th>2</th>\n",
       "      <td>n3wBE22Kuvc</td>\n",
       "      <td>Would You Rather...? with Mitchell Starc and A...</td>\n",
       "      <td>2018-12-28</td>\n",
       "      <td>00:16:32Z</td>\n",
       "      <td>1298832</td>\n",
       "      <td>431</td>\n",
       "      <td>21341</td>\n",
       "      <td>['fox sports', 'australia', 'sports', 'comedy'...</td>\n",
       "      <td>False</td>\n",
       "    </tr>\n",
       "    <tr>\n",
       "      <th>3</th>\n",
       "      <td>udPy-hc7XPI</td>\n",
       "      <td>Steve Smith | The Cricket Tragic</td>\n",
       "      <td>2019-04-10</td>\n",
       "      <td>22:00:04Z</td>\n",
       "      <td>163450</td>\n",
       "      <td>316</td>\n",
       "      <td>3465</td>\n",
       "      <td>['fox sports', 'australia', 'sports', 'cricket...</td>\n",
       "      <td>False</td>\n",
       "    </tr>\n",
       "    <tr>\n",
       "      <th>4</th>\n",
       "      <td>HdVgr5F7AtQ</td>\n",
       "      <td>The Gilded Age of Indian Cricket | Cricket Emp...</td>\n",
       "      <td>2019-05-03</td>\n",
       "      <td>05:10:35Z</td>\n",
       "      <td>14429</td>\n",
       "      <td>7</td>\n",
       "      <td>244</td>\n",
       "      <td>['fox sports', 'australia', 'sports', 'india',...</td>\n",
       "      <td>False</td>\n",
       "    </tr>\n",
       "    <tr>\n",
       "      <th>...</th>\n",
       "      <td>...</td>\n",
       "      <td>...</td>\n",
       "      <td>...</td>\n",
       "      <td>...</td>\n",
       "      <td>...</td>\n",
       "      <td>...</td>\n",
       "      <td>...</td>\n",
       "      <td>...</td>\n",
       "      <td>...</td>\n",
       "    </tr>\n",
       "    <tr>\n",
       "      <th>164</th>\n",
       "      <td>A0wLx721tDs</td>\n",
       "      <td>'They won't back down from a fight' - Uzzie op...</td>\n",
       "      <td>2023-09-29</td>\n",
       "      <td>05:58:05Z</td>\n",
       "      <td>47019</td>\n",
       "      <td>71</td>\n",
       "      <td>682</td>\n",
       "      <td>['fox cricket', 'cricket', 'fox sports austral...</td>\n",
       "      <td>False</td>\n",
       "    </tr>\n",
       "    <tr>\n",
       "      <th>165</th>\n",
       "      <td>SuaKWwAscp0</td>\n",
       "      <td>Australia pick their ODI World XI | Top Order</td>\n",
       "      <td>2023-09-30</td>\n",
       "      <td>06:00:17Z</td>\n",
       "      <td>1651477</td>\n",
       "      <td>1896</td>\n",
       "      <td>35083</td>\n",
       "      <td>['fox cricket', 'cricket', 'fox sports austral...</td>\n",
       "      <td>False</td>\n",
       "    </tr>\n",
       "    <tr>\n",
       "      <th>166</th>\n",
       "      <td>JgZizKa-5MM</td>\n",
       "      <td>Warner's WC Preview: Can Aus outshine India's ...</td>\n",
       "      <td>2023-10-05</td>\n",
       "      <td>20:00:05Z</td>\n",
       "      <td>13379</td>\n",
       "      <td>17</td>\n",
       "      <td>246</td>\n",
       "      <td>['fox cricket', 'cricket', 'fox sports austral...</td>\n",
       "      <td>False</td>\n",
       "    </tr>\n",
       "    <tr>\n",
       "      <th>167</th>\n",
       "      <td>rv2cYvWdjIM</td>\n",
       "      <td>Australia pick their ODI World XI | Middle Order</td>\n",
       "      <td>2023-10-06</td>\n",
       "      <td>07:00:32Z</td>\n",
       "      <td>204062</td>\n",
       "      <td>458</td>\n",
       "      <td>4182</td>\n",
       "      <td>['fox cricket', 'cricket', 'fox sports austral...</td>\n",
       "      <td>False</td>\n",
       "    </tr>\n",
       "    <tr>\n",
       "      <th>168</th>\n",
       "      <td>ekwZCwc59WM</td>\n",
       "      <td>Australia picks their World XI | Tail-end</td>\n",
       "      <td>2023-10-10</td>\n",
       "      <td>06:00:26Z</td>\n",
       "      <td>37859</td>\n",
       "      <td>109</td>\n",
       "      <td>1225</td>\n",
       "      <td>['fox cricket', 'cricket', 'fox sports austral...</td>\n",
       "      <td>False</td>\n",
       "    </tr>\n",
       "  </tbody>\n",
       "</table>\n",
       "<p>169 rows × 9 columns</p>\n",
       "</div>"
      ],
      "text/plain": [
       "        Video ID                                        Video Title  \\\n",
       "0    7XFSkk-FtYw                     Fox Cricket: Behind the Scenes   \n",
       "1    W_1bpHPMa2A                             2 Nations, 1 Obsession   \n",
       "2    n3wBE22Kuvc  Would You Rather...? with Mitchell Starc and A...   \n",
       "3    udPy-hc7XPI                   Steve Smith | The Cricket Tragic   \n",
       "4    HdVgr5F7AtQ  The Gilded Age of Indian Cricket | Cricket Emp...   \n",
       "..           ...                                                ...   \n",
       "164  A0wLx721tDs  'They won't back down from a fight' - Uzzie op...   \n",
       "165  SuaKWwAscp0      Australia pick their ODI World XI | Top Order   \n",
       "166  JgZizKa-5MM  Warner's WC Preview: Can Aus outshine India's ...   \n",
       "167  rv2cYvWdjIM   Australia pick their ODI World XI | Middle Order   \n",
       "168  ekwZCwc59WM          Australia picks their World XI | Tail-end   \n",
       "\n",
       "    Published Date Published Time  Views Count  Comments Count  Likes Count  \\\n",
       "0       2018-11-07      00:47:49Z        24315              13          423   \n",
       "1       2018-11-20      06:26:15Z        21164              40          462   \n",
       "2       2018-12-28      00:16:32Z      1298832             431        21341   \n",
       "3       2019-04-10      22:00:04Z       163450             316         3465   \n",
       "4       2019-05-03      05:10:35Z        14429               7          244   \n",
       "..             ...            ...          ...             ...          ...   \n",
       "164     2023-09-29      05:58:05Z        47019              71          682   \n",
       "165     2023-09-30      06:00:17Z      1651477            1896        35083   \n",
       "166     2023-10-05      20:00:05Z        13379              17          246   \n",
       "167     2023-10-06      07:00:32Z       204062             458         4182   \n",
       "168     2023-10-10      06:00:26Z        37859             109         1225   \n",
       "\n",
       "                                              Hashtags  Is Private  \n",
       "0    ['fox sports', 'australia', 'sports', 'cricket...       False  \n",
       "1    ['fox sports', 'australia', 'sports', 'cricket...       False  \n",
       "2    ['fox sports', 'australia', 'sports', 'comedy'...       False  \n",
       "3    ['fox sports', 'australia', 'sports', 'cricket...       False  \n",
       "4    ['fox sports', 'australia', 'sports', 'india',...       False  \n",
       "..                                                 ...         ...  \n",
       "164  ['fox cricket', 'cricket', 'fox sports austral...       False  \n",
       "165  ['fox cricket', 'cricket', 'fox sports austral...       False  \n",
       "166  ['fox cricket', 'cricket', 'fox sports austral...       False  \n",
       "167  ['fox cricket', 'cricket', 'fox sports austral...       False  \n",
       "168  ['fox cricket', 'cricket', 'fox sports austral...       False  \n",
       "\n",
       "[169 rows x 9 columns]"
      ]
     },
     "execution_count": 46,
     "metadata": {},
     "output_type": "execute_result"
    }
   ],
   "source": [
    "import pandas as pd\n",
    "\n",
    "#Sort the DataFrame by 'Published Date'\n",
    "video_data['Published Date'] = pd.to_datetime(video_data['Published Date'])\n",
    "video_data.sort_values(by='Published Date', inplace=True)\n",
    "video_data.reset_index(drop=True, inplace=True)\n",
    "video_data"
   ]
  },
  {
   "cell_type": "code",
   "execution_count": 47,
   "metadata": {},
   "outputs": [],
   "source": [
    "#Calculate the 'Prevideo Views,' 'Prevideo Likes,' and 'Prevideo Comments' columns\n",
    "video_data['Prevideo Views'] = video_data['Views Count'].shift(1)\n",
    "video_data['Prevideo Likes'] = video_data['Likes Count'].shift(1)\n",
    "video_data['Prevideo Comments'] = video_data['Comments Count'].shift(1)\n",
    "\n",
    "#Replace NaN values in the new columns with appropriate values (e.g., 0 if it's the first video)\n",
    "video_data['Prevideo Views'].fillna(0, inplace=True)\n",
    "video_data['Prevideo Likes'].fillna(0, inplace=True)\n",
    "video_data['Prevideo Comments'].fillna(0, inplace=True)"
   ]
  },
  {
   "cell_type": "code",
   "execution_count": 48,
   "metadata": {},
   "outputs": [
    {
     "name": "stderr",
     "output_type": "stream",
     "text": [
      "C:\\Users\\Rameez\\AppData\\Local\\Temp\\ipykernel_6128\\28355402.py:5: UserWarning:\n",
      "\n",
      "Could not infer format, so each element will be parsed individually, falling back to `dateutil`. To ensure parsing is consistent and as-expected, please specify a format.\n",
      "\n"
     ]
    }
   ],
   "source": [
    "#Create a new column for the weekday (1 for Monday, 2 for Tuesday, etc.)\n",
    "video_data['Weekday'] = video_data['Published Date'].dt.dayofweek + 1\n",
    "\n",
    "#Convert 'Published Time' to datetime\n",
    "video_data['Published Time'] = pd.to_datetime(video_data['Published Time'])\n",
    "\n",
    "#Create a new column for the half-hour of the day (ranging from 1 to 48)\n",
    "video_data['Half Hour of the Day'] = (video_data['Published Time'].dt.hour * 2) + (video_data['Published Time'].dt.minute // 30) + 1"
   ]
  },
  {
   "cell_type": "code",
   "execution_count": 49,
   "metadata": {},
   "outputs": [
    {
     "data": {
      "text/html": [
       "<div>\n",
       "<style scoped>\n",
       "    .dataframe tbody tr th:only-of-type {\n",
       "        vertical-align: middle;\n",
       "    }\n",
       "\n",
       "    .dataframe tbody tr th {\n",
       "        vertical-align: top;\n",
       "    }\n",
       "\n",
       "    .dataframe thead th {\n",
       "        text-align: right;\n",
       "    }\n",
       "</style>\n",
       "<table border=\"1\" class=\"dataframe\">\n",
       "  <thead>\n",
       "    <tr style=\"text-align: right;\">\n",
       "      <th></th>\n",
       "      <th>Video ID</th>\n",
       "      <th>Views Count</th>\n",
       "      <th>Likes Count</th>\n",
       "      <th>Comments Count</th>\n",
       "      <th>Prevideo Views</th>\n",
       "      <th>Prevideo Likes</th>\n",
       "      <th>Prevideo Comments</th>\n",
       "      <th>Weekday</th>\n",
       "      <th>Half Hour of the Day</th>\n",
       "    </tr>\n",
       "  </thead>\n",
       "  <tbody>\n",
       "    <tr>\n",
       "      <th>0</th>\n",
       "      <td>7XFSkk-FtYw</td>\n",
       "      <td>24315</td>\n",
       "      <td>423</td>\n",
       "      <td>13</td>\n",
       "      <td>0.0</td>\n",
       "      <td>0.0</td>\n",
       "      <td>0.0</td>\n",
       "      <td>3</td>\n",
       "      <td>2</td>\n",
       "    </tr>\n",
       "    <tr>\n",
       "      <th>1</th>\n",
       "      <td>W_1bpHPMa2A</td>\n",
       "      <td>21164</td>\n",
       "      <td>462</td>\n",
       "      <td>40</td>\n",
       "      <td>24315.0</td>\n",
       "      <td>423.0</td>\n",
       "      <td>13.0</td>\n",
       "      <td>2</td>\n",
       "      <td>13</td>\n",
       "    </tr>\n",
       "    <tr>\n",
       "      <th>2</th>\n",
       "      <td>n3wBE22Kuvc</td>\n",
       "      <td>1298832</td>\n",
       "      <td>21341</td>\n",
       "      <td>431</td>\n",
       "      <td>21164.0</td>\n",
       "      <td>462.0</td>\n",
       "      <td>40.0</td>\n",
       "      <td>5</td>\n",
       "      <td>1</td>\n",
       "    </tr>\n",
       "    <tr>\n",
       "      <th>3</th>\n",
       "      <td>udPy-hc7XPI</td>\n",
       "      <td>163450</td>\n",
       "      <td>3465</td>\n",
       "      <td>316</td>\n",
       "      <td>1298832.0</td>\n",
       "      <td>21341.0</td>\n",
       "      <td>431.0</td>\n",
       "      <td>3</td>\n",
       "      <td>45</td>\n",
       "    </tr>\n",
       "    <tr>\n",
       "      <th>4</th>\n",
       "      <td>HdVgr5F7AtQ</td>\n",
       "      <td>14429</td>\n",
       "      <td>244</td>\n",
       "      <td>7</td>\n",
       "      <td>163450.0</td>\n",
       "      <td>3465.0</td>\n",
       "      <td>316.0</td>\n",
       "      <td>5</td>\n",
       "      <td>11</td>\n",
       "    </tr>\n",
       "    <tr>\n",
       "      <th>...</th>\n",
       "      <td>...</td>\n",
       "      <td>...</td>\n",
       "      <td>...</td>\n",
       "      <td>...</td>\n",
       "      <td>...</td>\n",
       "      <td>...</td>\n",
       "      <td>...</td>\n",
       "      <td>...</td>\n",
       "      <td>...</td>\n",
       "    </tr>\n",
       "    <tr>\n",
       "      <th>164</th>\n",
       "      <td>A0wLx721tDs</td>\n",
       "      <td>47019</td>\n",
       "      <td>682</td>\n",
       "      <td>71</td>\n",
       "      <td>25727.0</td>\n",
       "      <td>198.0</td>\n",
       "      <td>246.0</td>\n",
       "      <td>5</td>\n",
       "      <td>12</td>\n",
       "    </tr>\n",
       "    <tr>\n",
       "      <th>165</th>\n",
       "      <td>SuaKWwAscp0</td>\n",
       "      <td>1651477</td>\n",
       "      <td>35083</td>\n",
       "      <td>1896</td>\n",
       "      <td>47019.0</td>\n",
       "      <td>682.0</td>\n",
       "      <td>71.0</td>\n",
       "      <td>6</td>\n",
       "      <td>13</td>\n",
       "    </tr>\n",
       "    <tr>\n",
       "      <th>166</th>\n",
       "      <td>JgZizKa-5MM</td>\n",
       "      <td>13379</td>\n",
       "      <td>246</td>\n",
       "      <td>17</td>\n",
       "      <td>1651477.0</td>\n",
       "      <td>35083.0</td>\n",
       "      <td>1896.0</td>\n",
       "      <td>4</td>\n",
       "      <td>41</td>\n",
       "    </tr>\n",
       "    <tr>\n",
       "      <th>167</th>\n",
       "      <td>rv2cYvWdjIM</td>\n",
       "      <td>204062</td>\n",
       "      <td>4182</td>\n",
       "      <td>458</td>\n",
       "      <td>13379.0</td>\n",
       "      <td>246.0</td>\n",
       "      <td>17.0</td>\n",
       "      <td>5</td>\n",
       "      <td>15</td>\n",
       "    </tr>\n",
       "    <tr>\n",
       "      <th>168</th>\n",
       "      <td>ekwZCwc59WM</td>\n",
       "      <td>37859</td>\n",
       "      <td>1225</td>\n",
       "      <td>109</td>\n",
       "      <td>204062.0</td>\n",
       "      <td>4182.0</td>\n",
       "      <td>458.0</td>\n",
       "      <td>2</td>\n",
       "      <td>13</td>\n",
       "    </tr>\n",
       "  </tbody>\n",
       "</table>\n",
       "<p>169 rows × 9 columns</p>\n",
       "</div>"
      ],
      "text/plain": [
       "        Video ID  Views Count  Likes Count  Comments Count  Prevideo Views  \\\n",
       "0    7XFSkk-FtYw        24315          423              13             0.0   \n",
       "1    W_1bpHPMa2A        21164          462              40         24315.0   \n",
       "2    n3wBE22Kuvc      1298832        21341             431         21164.0   \n",
       "3    udPy-hc7XPI       163450         3465             316       1298832.0   \n",
       "4    HdVgr5F7AtQ        14429          244               7        163450.0   \n",
       "..           ...          ...          ...             ...             ...   \n",
       "164  A0wLx721tDs        47019          682              71         25727.0   \n",
       "165  SuaKWwAscp0      1651477        35083            1896         47019.0   \n",
       "166  JgZizKa-5MM        13379          246              17       1651477.0   \n",
       "167  rv2cYvWdjIM       204062         4182             458         13379.0   \n",
       "168  ekwZCwc59WM        37859         1225             109        204062.0   \n",
       "\n",
       "     Prevideo Likes  Prevideo Comments  Weekday  Half Hour of the Day  \n",
       "0               0.0                0.0        3                     2  \n",
       "1             423.0               13.0        2                    13  \n",
       "2             462.0               40.0        5                     1  \n",
       "3           21341.0              431.0        3                    45  \n",
       "4            3465.0              316.0        5                    11  \n",
       "..              ...                ...      ...                   ...  \n",
       "164           198.0              246.0        5                    12  \n",
       "165           682.0               71.0        6                    13  \n",
       "166         35083.0             1896.0        4                    41  \n",
       "167           246.0               17.0        5                    15  \n",
       "168          4182.0              458.0        2                    13  \n",
       "\n",
       "[169 rows x 9 columns]"
      ]
     },
     "execution_count": 49,
     "metadata": {},
     "output_type": "execute_result"
    }
   ],
   "source": [
    "#Get the model dataframe\n",
    "video_pred_model_data=video_data[['Video ID','Views Count','Likes Count','Comments Count','Prevideo Views','Prevideo Likes','Prevideo Comments','Weekday','Half Hour of the Day']]\n",
    "\n",
    "video_pred_model_data"
   ]
  },
  {
   "cell_type": "markdown",
   "metadata": {},
   "source": [
    "Creating the Model"
   ]
  },
  {
   "cell_type": "code",
   "execution_count": 50,
   "metadata": {},
   "outputs": [],
   "source": [
    "#import libraries\n",
    "import pandas as pd\n",
    "import matplotlib.pyplot as plt\n",
    "from sklearn.model_selection import train_test_split\n",
    "from sklearn.model_selection import cross_val_score, KFold\n",
    "from sklearn.linear_model import LinearRegression\n",
    "from sklearn.tree import DecisionTreeRegressor\n",
    "from sklearn.metrics import mean_squared_error, r2_score\n",
    "import numpy as np"
   ]
  },
  {
   "cell_type": "code",
   "execution_count": 51,
   "metadata": {},
   "outputs": [],
   "source": [
    "#Define the features (independent variables) and the target variable (Views Count)\n",
    "X = video_pred_model_data[['Prevideo Views', 'Prevideo Likes', 'Prevideo Comments', 'Weekday', 'Half Hour of the Day']]\n",
    "y = video_pred_model_data['Views Count']"
   ]
  },
  {
   "cell_type": "code",
   "execution_count": 52,
   "metadata": {},
   "outputs": [
    {
     "name": "stderr",
     "output_type": "stream",
     "text": [
      "c:\\Users\\Rameez\\anaconda3\\lib\\site-packages\\sklearn\\utils\\validation.py:767: FutureWarning:\n",
      "\n",
      "is_sparse is deprecated and will be removed in a future version. Check `isinstance(dtype, pd.SparseDtype)` instead.\n",
      "\n",
      "c:\\Users\\Rameez\\anaconda3\\lib\\site-packages\\sklearn\\utils\\validation.py:605: FutureWarning:\n",
      "\n",
      "is_sparse is deprecated and will be removed in a future version. Check `isinstance(dtype, pd.SparseDtype)` instead.\n",
      "\n",
      "c:\\Users\\Rameez\\anaconda3\\lib\\site-packages\\sklearn\\utils\\validation.py:614: FutureWarning:\n",
      "\n",
      "is_sparse is deprecated and will be removed in a future version. Check `isinstance(dtype, pd.SparseDtype)` instead.\n",
      "\n",
      "c:\\Users\\Rameez\\anaconda3\\lib\\site-packages\\sklearn\\utils\\validation.py:605: FutureWarning:\n",
      "\n",
      "is_sparse is deprecated and will be removed in a future version. Check `isinstance(dtype, pd.SparseDtype)` instead.\n",
      "\n",
      "c:\\Users\\Rameez\\anaconda3\\lib\\site-packages\\sklearn\\utils\\validation.py:614: FutureWarning:\n",
      "\n",
      "is_sparse is deprecated and will be removed in a future version. Check `isinstance(dtype, pd.SparseDtype)` instead.\n",
      "\n"
     ]
    },
    {
     "name": "stdout",
     "output_type": "stream",
     "text": [
      "Mean Squared Error: 246918470363.32114\n",
      "R-squared: -0.6013494860774411\n"
     ]
    },
    {
     "name": "stderr",
     "output_type": "stream",
     "text": [
      "c:\\Users\\Rameez\\anaconda3\\lib\\site-packages\\sklearn\\utils\\validation.py:767: FutureWarning:\n",
      "\n",
      "is_sparse is deprecated and will be removed in a future version. Check `isinstance(dtype, pd.SparseDtype)` instead.\n",
      "\n",
      "c:\\Users\\Rameez\\anaconda3\\lib\\site-packages\\sklearn\\utils\\validation.py:605: FutureWarning:\n",
      "\n",
      "is_sparse is deprecated and will be removed in a future version. Check `isinstance(dtype, pd.SparseDtype)` instead.\n",
      "\n",
      "c:\\Users\\Rameez\\anaconda3\\lib\\site-packages\\sklearn\\utils\\validation.py:614: FutureWarning:\n",
      "\n",
      "is_sparse is deprecated and will be removed in a future version. Check `isinstance(dtype, pd.SparseDtype)` instead.\n",
      "\n",
      "c:\\Users\\Rameez\\anaconda3\\lib\\site-packages\\sklearn\\utils\\validation.py:605: FutureWarning:\n",
      "\n",
      "is_sparse is deprecated and will be removed in a future version. Check `isinstance(dtype, pd.SparseDtype)` instead.\n",
      "\n",
      "c:\\Users\\Rameez\\anaconda3\\lib\\site-packages\\sklearn\\utils\\validation.py:614: FutureWarning:\n",
      "\n",
      "is_sparse is deprecated and will be removed in a future version. Check `isinstance(dtype, pd.SparseDtype)` instead.\n",
      "\n",
      "c:\\Users\\Rameez\\anaconda3\\lib\\site-packages\\sklearn\\utils\\validation.py:605: FutureWarning:\n",
      "\n",
      "is_sparse is deprecated and will be removed in a future version. Check `isinstance(dtype, pd.SparseDtype)` instead.\n",
      "\n",
      "c:\\Users\\Rameez\\anaconda3\\lib\\site-packages\\sklearn\\utils\\validation.py:614: FutureWarning:\n",
      "\n",
      "is_sparse is deprecated and will be removed in a future version. Check `isinstance(dtype, pd.SparseDtype)` instead.\n",
      "\n"
     ]
    }
   ],
   "source": [
    "# Split the data into training and testing sets\n",
    "X_train, X_test, y_train, y_test = train_test_split(X, y, test_size=0.35, random_state=42)\n",
    "\n",
    "# Create a Linear Regression model\n",
    "model = LinearRegression()\n",
    "\n",
    "# Train the model on the training data\n",
    "model.fit(X_train, y_train)\n",
    "\n",
    "# Make predictions on the test data\n",
    "y_pred = model.predict(X_test)\n",
    "\n",
    "# Evaluate the model's performance\n",
    "mse = mean_squared_error(y_test, y_pred)\n",
    "r2 = r2_score(y_test, y_pred)\n",
    "\n",
    "print(\"Mean Squared Error:\", mse)\n",
    "print(\"R-squared:\", r2)"
   ]
  },
  {
   "cell_type": "code",
   "execution_count": 53,
   "metadata": {},
   "outputs": [
    {
     "data": {
      "image/png": "[encoded data removed]",
      "text/plain": [
       "<Figure size 1000x600 with 1 Axes>"
      ]
     },
     "metadata": {},
     "output_type": "display_data"
    }
   ],
   "source": [
    "# Create a scatter plot to compare predicted vs. actual values\n",
    "plt.figure(figsize=(10, 6))\n",
    "plt.scatter(y_test, y_pred, alpha=0.5)\n",
    "plt.xlabel('Actual Views Count')\n",
    "plt.ylabel('Predicted Views Count')\n",
    "plt.title('Actual vs. Predicted Views Count')\n",
    "plt.grid(True)\n",
    "\n",
    "# Add a diagonal line to visualize perfect predictions\n",
    "plt.plot([min(y_test), max(y_test)], [min(y_test), max(y_test)], color='red', linestyle='--', linewidth=2)\n",
    "\n",
    "plt.show()"
   ]
  },
  {
   "cell_type": "markdown",
   "metadata": {},
   "source": [
    "Since our predictive model approach is not fit, Let's try another approach"
   ]
  },
  {
   "cell_type": "markdown",
   "metadata": {},
   "source": [
    "Since our intention is to find a suitable date and time to get higher engaged posts, Let's consider Published Weekday and Time Only"
   ]
  },
  {
   "cell_type": "code",
   "execution_count": 54,
   "metadata": {},
   "outputs": [],
   "source": [
    "video_new_model_data=video_data[['Video ID','Views Count','Likes Count','Weekday','Half Hour of the Day']]"
   ]
  },
  {
   "cell_type": "code",
   "execution_count": 55,
   "metadata": {},
   "outputs": [
    {
     "name": "stderr",
     "output_type": "stream",
     "text": [
      "C:\\Users\\Rameez\\AppData\\Local\\Temp\\ipykernel_6128\\774469108.py:13: SettingWithCopyWarning:\n",
      "\n",
      "\n",
      "A value is trying to be set on a copy of a slice from a DataFrame.\n",
      "Try using .loc[row_indexer,col_indexer] = value instead\n",
      "\n",
      "See the caveats in the documentation: https://pandas.pydata.org/pandas-docs/stable/user_guide/indexing.html#returning-a-view-versus-a-copy\n",
      "\n",
      "C:\\Users\\Rameez\\AppData\\Local\\Temp\\ipykernel_6128\\774469108.py:68: SettingWithCopyWarning:\n",
      "\n",
      "\n",
      "A value is trying to be set on a copy of a slice from a DataFrame.\n",
      "Try using .loc[row_indexer,col_indexer] = value instead\n",
      "\n",
      "See the caveats in the documentation: https://pandas.pydata.org/pandas-docs/stable/user_guide/indexing.html#returning-a-view-versus-a-copy\n",
      "\n"
     ]
    }
   ],
   "source": [
    "#Create a dictionary to map numeric weekday values to full weekday names\n",
    "weekday_mapping = {\n",
    "    1: \"Monday\",\n",
    "    2: \"Tuesday\",\n",
    "    3: \"Wednesday\",\n",
    "    4: \"Thursday\",\n",
    "    5: \"Friday\",\n",
    "    6: \"Saturday\",\n",
    "    7: \"Sunday\",\n",
    "}\n",
    "\n",
    "#Apply the mapping to the \"Weekday\" column\n",
    "video_new_model_data['Weekday'] = video_new_model_data['Weekday'].map(weekday_mapping)\n",
    "\n",
    "#Create a dictionary to map numeric values to descriptive time ranges\n",
    "time_range_mapping = {\n",
    "    1: \"12:00 AM to 12:30 AM\",\n",
    "    2: \"12:30 AM to 1:00 AM\",\n",
    "    3: \"1:00 AM to 1:30 AM\",\n",
    "    4: \"1:30 AM to 2:00 AM\",\n",
    "    5: \"2:00 AM to 2:30 AM\",\n",
    "    6: \"2:30 AM to 3:00 AM\",\n",
    "    7: \"3:00 AM to 3:30 AM\",\n",
    "    8: \"3:30 AM to 4:00 AM\",\n",
    "    9: \"4:00 AM to 4:30 AM\",\n",
    "    10: \"4:30 AM to 5:00 AM\",\n",
    "    11: \"5:00 AM to 5:30 AM\",\n",
    "    12: \"5:30 AM to 6:00 AM\",\n",
    "    13: \"6:00 AM to 6:30 AM\",\n",
    "    14: \"6:30 AM to 7:00 AM\",\n",
    "    15: \"7:00 AM to 7:30 AM\",\n",
    "    16: \"7:30 AM to 8:00 AM\",\n",
    "    17: \"8:00 AM to 8:30 AM\",\n",
    "    18: \"8:30 AM to 9:00 AM\",\n",
    "    19: \"9:00 AM to 9:30 AM\",\n",
    "    20: \"9:30 AM to 10:00 AM\",\n",
    "    21: \"10:00 AM to 10:30 AM\",\n",
    "    22: \"10:30 AM to 11:00 AM\",\n",
    "    23: \"11:00 AM to 11:30 AM\",\n",
    "    24: \"11:30 AM to 12:00 PM\",\n",
    "    25: \"12:00 PM to 12:30 PM\",\n",
    "    26: \"12:30 PM to 1:00 PM\",\n",
    "    27: \"1:00 PM to 1:30 PM\",\n",
    "    28: \"1:30 PM to 2:00 PM\",\n",
    "    29: \"2:00 PM to 2:30 PM\",\n",
    "    30: \"2:30 PM to 3:00 PM\",\n",
    "    31: \"3:00 PM to 3:30 PM\",\n",
    "    32: \"3:30 PM to 4:00 PM\",\n",
    "    33: \"4:00 PM to 4:30 PM\",\n",
    "    34: \"4:30 PM to 5:00 PM\",\n",
    "    35: \"5:00 PM to 5:30 PM\",\n",
    "    36: \"5:30 PM to 6:00 PM\",\n",
    "    37: \"6:00 PM to 6:30 PM\",\n",
    "    38: \"6:30 PM to 7:00 PM\",\n",
    "    39: \"7:00 PM to 7:30 PM\",\n",
    "    40: \"7:30 PM to 8:00 PM\",\n",
    "    41: \"8:00 PM to 8:30 PM\",\n",
    "    42: \"8:30 PM to 9:00 PM\",\n",
    "    43: \"9:00 PM to 9:30 PM\",\n",
    "    44: \"9:30 PM to 10:00 PM\",\n",
    "    45: \"10:00 PM to 10:30 PM\",\n",
    "    46: \"10:30 PM to 11:00 PM\",\n",
    "    47: \"11:00 PM to 11:30 PM\",\n",
    "    48: \"11:30 PM to 12:00 AM\",\n",
    "}\n",
    "\n",
    "#Apply the mapping to the \"Half Hour of the Day\" column\n",
    "video_new_model_data['Half Hour of the Day'] = video_new_model_data['Half Hour of the Day'].map(time_range_mapping)\n"
   ]
  },
  {
   "cell_type": "code",
   "execution_count": 56,
   "metadata": {},
   "outputs": [
    {
     "data": {
      "text/html": [
       "<div>\n",
       "<style scoped>\n",
       "    .dataframe tbody tr th:only-of-type {\n",
       "        vertical-align: middle;\n",
       "    }\n",
       "\n",
       "    .dataframe tbody tr th {\n",
       "        vertical-align: top;\n",
       "    }\n",
       "\n",
       "    .dataframe thead th {\n",
       "        text-align: right;\n",
       "    }\n",
       "</style>\n",
       "<table border=\"1\" class=\"dataframe\">\n",
       "  <thead>\n",
       "    <tr style=\"text-align: right;\">\n",
       "      <th></th>\n",
       "      <th>Video ID</th>\n",
       "      <th>Views Count</th>\n",
       "      <th>Likes Count</th>\n",
       "      <th>Weekday</th>\n",
       "      <th>Half Hour of the Day</th>\n",
       "    </tr>\n",
       "  </thead>\n",
       "  <tbody>\n",
       "    <tr>\n",
       "      <th>0</th>\n",
       "      <td>7XFSkk-FtYw</td>\n",
       "      <td>24315</td>\n",
       "      <td>423</td>\n",
       "      <td>Wednesday</td>\n",
       "      <td>12:30 AM to 1:00 AM</td>\n",
       "    </tr>\n",
       "    <tr>\n",
       "      <th>1</th>\n",
       "      <td>W_1bpHPMa2A</td>\n",
       "      <td>21164</td>\n",
       "      <td>462</td>\n",
       "      <td>Tuesday</td>\n",
       "      <td>6:00 AM to 6:30 AM</td>\n",
       "    </tr>\n",
       "    <tr>\n",
       "      <th>2</th>\n",
       "      <td>n3wBE22Kuvc</td>\n",
       "      <td>1298832</td>\n",
       "      <td>21341</td>\n",
       "      <td>Friday</td>\n",
       "      <td>12:00 AM to 12:30 AM</td>\n",
       "    </tr>\n",
       "    <tr>\n",
       "      <th>3</th>\n",
       "      <td>udPy-hc7XPI</td>\n",
       "      <td>163450</td>\n",
       "      <td>3465</td>\n",
       "      <td>Wednesday</td>\n",
       "      <td>10:00 PM to 10:30 PM</td>\n",
       "    </tr>\n",
       "    <tr>\n",
       "      <th>4</th>\n",
       "      <td>HdVgr5F7AtQ</td>\n",
       "      <td>14429</td>\n",
       "      <td>244</td>\n",
       "      <td>Friday</td>\n",
       "      <td>5:00 AM to 5:30 AM</td>\n",
       "    </tr>\n",
       "    <tr>\n",
       "      <th>...</th>\n",
       "      <td>...</td>\n",
       "      <td>...</td>\n",
       "      <td>...</td>\n",
       "      <td>...</td>\n",
       "      <td>...</td>\n",
       "    </tr>\n",
       "    <tr>\n",
       "      <th>164</th>\n",
       "      <td>A0wLx721tDs</td>\n",
       "      <td>47019</td>\n",
       "      <td>682</td>\n",
       "      <td>Friday</td>\n",
       "      <td>5:30 AM to 6:00 AM</td>\n",
       "    </tr>\n",
       "    <tr>\n",
       "      <th>165</th>\n",
       "      <td>SuaKWwAscp0</td>\n",
       "      <td>1651477</td>\n",
       "      <td>35083</td>\n",
       "      <td>Saturday</td>\n",
       "      <td>6:00 AM to 6:30 AM</td>\n",
       "    </tr>\n",
       "    <tr>\n",
       "      <th>166</th>\n",
       "      <td>JgZizKa-5MM</td>\n",
       "      <td>13379</td>\n",
       "      <td>246</td>\n",
       "      <td>Thursday</td>\n",
       "      <td>8:00 PM to 8:30 PM</td>\n",
       "    </tr>\n",
       "    <tr>\n",
       "      <th>167</th>\n",
       "      <td>rv2cYvWdjIM</td>\n",
       "      <td>204062</td>\n",
       "      <td>4182</td>\n",
       "      <td>Friday</td>\n",
       "      <td>7:00 AM to 7:30 AM</td>\n",
       "    </tr>\n",
       "    <tr>\n",
       "      <th>168</th>\n",
       "      <td>ekwZCwc59WM</td>\n",
       "      <td>37859</td>\n",
       "      <td>1225</td>\n",
       "      <td>Tuesday</td>\n",
       "      <td>6:00 AM to 6:30 AM</td>\n",
       "    </tr>\n",
       "  </tbody>\n",
       "</table>\n",
       "<p>169 rows × 5 columns</p>\n",
       "</div>"
      ],
      "text/plain": [
       "        Video ID  Views Count  Likes Count    Weekday  Half Hour of the Day\n",
       "0    7XFSkk-FtYw        24315          423  Wednesday   12:30 AM to 1:00 AM\n",
       "1    W_1bpHPMa2A        21164          462    Tuesday    6:00 AM to 6:30 AM\n",
       "2    n3wBE22Kuvc      1298832        21341     Friday  12:00 AM to 12:30 AM\n",
       "3    udPy-hc7XPI       163450         3465  Wednesday  10:00 PM to 10:30 PM\n",
       "4    HdVgr5F7AtQ        14429          244     Friday    5:00 AM to 5:30 AM\n",
       "..           ...          ...          ...        ...                   ...\n",
       "164  A0wLx721tDs        47019          682     Friday    5:30 AM to 6:00 AM\n",
       "165  SuaKWwAscp0      1651477        35083   Saturday    6:00 AM to 6:30 AM\n",
       "166  JgZizKa-5MM        13379          246   Thursday    8:00 PM to 8:30 PM\n",
       "167  rv2cYvWdjIM       204062         4182     Friday    7:00 AM to 7:30 AM\n",
       "168  ekwZCwc59WM        37859         1225    Tuesday    6:00 AM to 6:30 AM\n",
       "\n",
       "[169 rows x 5 columns]"
      ]
     },
     "execution_count": 56,
     "metadata": {},
     "output_type": "execute_result"
    }
   ],
   "source": [
    "video_new_model_data"
   ]
  },
  {
   "cell_type": "code",
   "execution_count": 57,
   "metadata": {},
   "outputs": [
    {
     "data": {
      "text/html": [
       "<div>\n",
       "<style scoped>\n",
       "    .dataframe tbody tr th:only-of-type {\n",
       "        vertical-align: middle;\n",
       "    }\n",
       "\n",
       "    .dataframe tbody tr th {\n",
       "        vertical-align: top;\n",
       "    }\n",
       "\n",
       "    .dataframe thead th {\n",
       "        text-align: right;\n",
       "    }\n",
       "</style>\n",
       "<table border=\"1\" class=\"dataframe\">\n",
       "  <thead>\n",
       "    <tr style=\"text-align: right;\">\n",
       "      <th></th>\n",
       "      <th>Video ID</th>\n",
       "      <th>Views Count</th>\n",
       "      <th>Likes Count</th>\n",
       "      <th>Weekday</th>\n",
       "      <th>Half Hour of the Day</th>\n",
       "      <th>Video Count Published in Half Hour</th>\n",
       "      <th>Video Count Published in Week Day</th>\n",
       "    </tr>\n",
       "  </thead>\n",
       "  <tbody>\n",
       "    <tr>\n",
       "      <th>0</th>\n",
       "      <td>7XFSkk-FtYw</td>\n",
       "      <td>24315</td>\n",
       "      <td>423</td>\n",
       "      <td>Wednesday</td>\n",
       "      <td>12:30 AM to 1:00 AM</td>\n",
       "      <td>5</td>\n",
       "      <td>28</td>\n",
       "    </tr>\n",
       "    <tr>\n",
       "      <th>1</th>\n",
       "      <td>W_1bpHPMa2A</td>\n",
       "      <td>21164</td>\n",
       "      <td>462</td>\n",
       "      <td>Tuesday</td>\n",
       "      <td>6:00 AM to 6:30 AM</td>\n",
       "      <td>12</td>\n",
       "      <td>18</td>\n",
       "    </tr>\n",
       "    <tr>\n",
       "      <th>2</th>\n",
       "      <td>n3wBE22Kuvc</td>\n",
       "      <td>1298832</td>\n",
       "      <td>21341</td>\n",
       "      <td>Friday</td>\n",
       "      <td>12:00 AM to 12:30 AM</td>\n",
       "      <td>6</td>\n",
       "      <td>29</td>\n",
       "    </tr>\n",
       "    <tr>\n",
       "      <th>3</th>\n",
       "      <td>udPy-hc7XPI</td>\n",
       "      <td>163450</td>\n",
       "      <td>3465</td>\n",
       "      <td>Wednesday</td>\n",
       "      <td>10:00 PM to 10:30 PM</td>\n",
       "      <td>7</td>\n",
       "      <td>28</td>\n",
       "    </tr>\n",
       "    <tr>\n",
       "      <th>4</th>\n",
       "      <td>HdVgr5F7AtQ</td>\n",
       "      <td>14429</td>\n",
       "      <td>244</td>\n",
       "      <td>Friday</td>\n",
       "      <td>5:00 AM to 5:30 AM</td>\n",
       "      <td>10</td>\n",
       "      <td>29</td>\n",
       "    </tr>\n",
       "    <tr>\n",
       "      <th>...</th>\n",
       "      <td>...</td>\n",
       "      <td>...</td>\n",
       "      <td>...</td>\n",
       "      <td>...</td>\n",
       "      <td>...</td>\n",
       "      <td>...</td>\n",
       "      <td>...</td>\n",
       "    </tr>\n",
       "    <tr>\n",
       "      <th>164</th>\n",
       "      <td>A0wLx721tDs</td>\n",
       "      <td>47019</td>\n",
       "      <td>682</td>\n",
       "      <td>Friday</td>\n",
       "      <td>5:30 AM to 6:00 AM</td>\n",
       "      <td>8</td>\n",
       "      <td>29</td>\n",
       "    </tr>\n",
       "    <tr>\n",
       "      <th>165</th>\n",
       "      <td>SuaKWwAscp0</td>\n",
       "      <td>1651477</td>\n",
       "      <td>35083</td>\n",
       "      <td>Saturday</td>\n",
       "      <td>6:00 AM to 6:30 AM</td>\n",
       "      <td>12</td>\n",
       "      <td>15</td>\n",
       "    </tr>\n",
       "    <tr>\n",
       "      <th>166</th>\n",
       "      <td>JgZizKa-5MM</td>\n",
       "      <td>13379</td>\n",
       "      <td>246</td>\n",
       "      <td>Thursday</td>\n",
       "      <td>8:00 PM to 8:30 PM</td>\n",
       "      <td>1</td>\n",
       "      <td>34</td>\n",
       "    </tr>\n",
       "    <tr>\n",
       "      <th>167</th>\n",
       "      <td>rv2cYvWdjIM</td>\n",
       "      <td>204062</td>\n",
       "      <td>4182</td>\n",
       "      <td>Friday</td>\n",
       "      <td>7:00 AM to 7:30 AM</td>\n",
       "      <td>7</td>\n",
       "      <td>29</td>\n",
       "    </tr>\n",
       "    <tr>\n",
       "      <th>168</th>\n",
       "      <td>ekwZCwc59WM</td>\n",
       "      <td>37859</td>\n",
       "      <td>1225</td>\n",
       "      <td>Tuesday</td>\n",
       "      <td>6:00 AM to 6:30 AM</td>\n",
       "      <td>12</td>\n",
       "      <td>18</td>\n",
       "    </tr>\n",
       "  </tbody>\n",
       "</table>\n",
       "<p>169 rows × 7 columns</p>\n",
       "</div>"
      ],
      "text/plain": [
       "        Video ID  Views Count  Likes Count    Weekday  Half Hour of the Day  \\\n",
       "0    7XFSkk-FtYw        24315          423  Wednesday   12:30 AM to 1:00 AM   \n",
       "1    W_1bpHPMa2A        21164          462    Tuesday    6:00 AM to 6:30 AM   \n",
       "2    n3wBE22Kuvc      1298832        21341     Friday  12:00 AM to 12:30 AM   \n",
       "3    udPy-hc7XPI       163450         3465  Wednesday  10:00 PM to 10:30 PM   \n",
       "4    HdVgr5F7AtQ        14429          244     Friday    5:00 AM to 5:30 AM   \n",
       "..           ...          ...          ...        ...                   ...   \n",
       "164  A0wLx721tDs        47019          682     Friday    5:30 AM to 6:00 AM   \n",
       "165  SuaKWwAscp0      1651477        35083   Saturday    6:00 AM to 6:30 AM   \n",
       "166  JgZizKa-5MM        13379          246   Thursday    8:00 PM to 8:30 PM   \n",
       "167  rv2cYvWdjIM       204062         4182     Friday    7:00 AM to 7:30 AM   \n",
       "168  ekwZCwc59WM        37859         1225    Tuesday    6:00 AM to 6:30 AM   \n",
       "\n",
       "     Video Count Published in Half Hour  Video Count Published in Week Day  \n",
       "0                                     5                                 28  \n",
       "1                                    12                                 18  \n",
       "2                                     6                                 29  \n",
       "3                                     7                                 28  \n",
       "4                                    10                                 29  \n",
       "..                                  ...                                ...  \n",
       "164                                   8                                 29  \n",
       "165                                  12                                 15  \n",
       "166                                   1                                 34  \n",
       "167                                   7                                 29  \n",
       "168                                  12                                 18  \n",
       "\n",
       "[169 rows x 7 columns]"
      ]
     },
     "execution_count": 57,
     "metadata": {},
     "output_type": "execute_result"
    }
   ],
   "source": [
    "#Calculate the count of videos published in each half-hour time range\n",
    "half_hour_counts = video_new_model_data.groupby('Half Hour of the Day').size().reset_index()\n",
    "half_hour_counts.columns = ['Half Hour of the Day', 'Video Count Published in Half Hour']\n",
    "\n",
    "#Calculate the count of videos published on each weekday\n",
    "weekday_counts = video_new_model_data.groupby('Weekday').size().reset_index()\n",
    "weekday_counts.columns = ['Weekday', 'Video Count Published in Week Day']\n",
    "\n",
    "# Merge the counts back into the original DataFrame\n",
    "video_new_model_data = pd.merge(video_new_model_data, half_hour_counts, on='Half Hour of the Day', how='left')\n",
    "video_new_model_data = pd.merge(video_new_model_data, weekday_counts, on='Weekday', how='left')\n",
    "\n",
    "#Fill NaN values with 0 in the new columns\n",
    "video_new_model_data['Video Count Published in Half Hour'].fillna(0, inplace=True)\n",
    "\n",
    "video_new_model_data\n"
   ]
  },
  {
   "cell_type": "code",
   "execution_count": 58,
   "metadata": {},
   "outputs": [],
   "source": [
    "import pandas as pd\n",
    "\n",
    "#Calculate the total view count for each weekday\n",
    "weekday_view_count = video_new_model_data.groupby('Weekday')['Views Count'].sum().reset_index()\n",
    "weekday_view_count.columns = ['Weekday', 'View Count of Week Day']\n",
    "\n",
    "#Calculate the total view count for each half-hour time range\n",
    "half_hour_view_count = video_new_model_data.groupby('Half Hour of the Day')['Views Count'].sum().reset_index()\n",
    "half_hour_view_count.columns = ['Half Hour of the Day', 'View Count of Half Hour']\n",
    "\n",
    "#Calculate the weekday view index\n",
    "video_index_weekday_data = pd.merge(weekday_view_count, video_new_model_data[['Weekday', 'Video Count Published in Week Day']].drop_duplicates(), on='Weekday', how='left')\n",
    "video_index_weekday_data['Weekday View Index'] = video_index_weekday_data['View Count of Week Day'] / video_index_weekday_data['Video Count Published in Week Day']\n",
    "\n",
    "#Calculate the half-hour view index\n",
    "video_index_halfhour_data = pd.merge(half_hour_view_count, video_new_model_data[['Half Hour of the Day', 'Video Count Published in Half Hour']].drop_duplicates(), on='Half Hour of the Day', how='left')\n",
    "video_index_halfhour_data['Half Hour View Index'] = video_index_halfhour_data['View Count of Half Hour'] / video_index_halfhour_data['Video Count Published in Half Hour']"
   ]
  },
  {
   "cell_type": "code",
   "execution_count": 59,
   "metadata": {},
   "outputs": [],
   "source": [
    "#Fill NaN values with 0 in the new columns\n",
    "video_index_weekday_data['Weekday View Index'].fillna(0, inplace=True)\n",
    "video_index_halfhour_data['Half Hour View Index'].fillna(0, inplace=True)"
   ]
  },
  {
   "cell_type": "code",
   "execution_count": 60,
   "metadata": {},
   "outputs": [
    {
     "data": {
      "text/html": [
       "<div>\n",
       "<style scoped>\n",
       "    .dataframe tbody tr th:only-of-type {\n",
       "        vertical-align: middle;\n",
       "    }\n",
       "\n",
       "    .dataframe tbody tr th {\n",
       "        vertical-align: top;\n",
       "    }\n",
       "\n",
       "    .dataframe thead th {\n",
       "        text-align: right;\n",
       "    }\n",
       "</style>\n",
       "<table border=\"1\" class=\"dataframe\">\n",
       "  <thead>\n",
       "    <tr style=\"text-align: right;\">\n",
       "      <th></th>\n",
       "      <th>Weekday</th>\n",
       "      <th>View Count of Week Day</th>\n",
       "      <th>Video Count Published in Week Day</th>\n",
       "      <th>Weekday View Index</th>\n",
       "    </tr>\n",
       "  </thead>\n",
       "  <tbody>\n",
       "    <tr>\n",
       "      <th>0</th>\n",
       "      <td>Friday</td>\n",
       "      <td>5156584</td>\n",
       "      <td>29</td>\n",
       "      <td>177813.241379</td>\n",
       "    </tr>\n",
       "    <tr>\n",
       "      <th>1</th>\n",
       "      <td>Monday</td>\n",
       "      <td>10241364</td>\n",
       "      <td>23</td>\n",
       "      <td>445276.695652</td>\n",
       "    </tr>\n",
       "    <tr>\n",
       "      <th>2</th>\n",
       "      <td>Saturday</td>\n",
       "      <td>5593341</td>\n",
       "      <td>15</td>\n",
       "      <td>372889.400000</td>\n",
       "    </tr>\n",
       "    <tr>\n",
       "      <th>3</th>\n",
       "      <td>Sunday</td>\n",
       "      <td>1544352</td>\n",
       "      <td>22</td>\n",
       "      <td>70197.818182</td>\n",
       "    </tr>\n",
       "    <tr>\n",
       "      <th>4</th>\n",
       "      <td>Thursday</td>\n",
       "      <td>16185958</td>\n",
       "      <td>34</td>\n",
       "      <td>476057.588235</td>\n",
       "    </tr>\n",
       "    <tr>\n",
       "      <th>5</th>\n",
       "      <td>Tuesday</td>\n",
       "      <td>3435832</td>\n",
       "      <td>18</td>\n",
       "      <td>190879.555556</td>\n",
       "    </tr>\n",
       "    <tr>\n",
       "      <th>6</th>\n",
       "      <td>Wednesday</td>\n",
       "      <td>3954764</td>\n",
       "      <td>28</td>\n",
       "      <td>141241.571429</td>\n",
       "    </tr>\n",
       "  </tbody>\n",
       "</table>\n",
       "</div>"
      ],
      "text/plain": [
       "     Weekday  View Count of Week Day  Video Count Published in Week Day  \\\n",
       "0     Friday                 5156584                                 29   \n",
       "1     Monday                10241364                                 23   \n",
       "2   Saturday                 5593341                                 15   \n",
       "3     Sunday                 1544352                                 22   \n",
       "4   Thursday                16185958                                 34   \n",
       "5    Tuesday                 3435832                                 18   \n",
       "6  Wednesday                 3954764                                 28   \n",
       "\n",
       "   Weekday View Index  \n",
       "0       177813.241379  \n",
       "1       445276.695652  \n",
       "2       372889.400000  \n",
       "3        70197.818182  \n",
       "4       476057.588235  \n",
       "5       190879.555556  \n",
       "6       141241.571429  "
      ]
     },
     "execution_count": 60,
     "metadata": {},
     "output_type": "execute_result"
    }
   ],
   "source": [
    "video_index_weekday_data"
   ]
  },
  {
   "cell_type": "code",
   "execution_count": 61,
   "metadata": {},
   "outputs": [
    {
     "data": {
      "text/html": [
       "<div>\n",
       "<style scoped>\n",
       "    .dataframe tbody tr th:only-of-type {\n",
       "        vertical-align: middle;\n",
       "    }\n",
       "\n",
       "    .dataframe tbody tr th {\n",
       "        vertical-align: top;\n",
       "    }\n",
       "\n",
       "    .dataframe thead th {\n",
       "        text-align: right;\n",
       "    }\n",
       "</style>\n",
       "<table border=\"1\" class=\"dataframe\">\n",
       "  <thead>\n",
       "    <tr style=\"text-align: right;\">\n",
       "      <th></th>\n",
       "      <th>Half Hour of the Day</th>\n",
       "      <th>View Count of Half Hour</th>\n",
       "      <th>Video Count Published in Half Hour</th>\n",
       "      <th>Half Hour View Index</th>\n",
       "    </tr>\n",
       "  </thead>\n",
       "  <tbody>\n",
       "    <tr>\n",
       "      <th>0</th>\n",
       "      <td>10:00 AM to 10:30 AM</td>\n",
       "      <td>238069</td>\n",
       "      <td>2</td>\n",
       "      <td>1.190345e+05</td>\n",
       "    </tr>\n",
       "    <tr>\n",
       "      <th>1</th>\n",
       "      <td>10:00 PM to 10:30 PM</td>\n",
       "      <td>1124517</td>\n",
       "      <td>7</td>\n",
       "      <td>1.606453e+05</td>\n",
       "    </tr>\n",
       "    <tr>\n",
       "      <th>2</th>\n",
       "      <td>10:30 PM to 11:00 PM</td>\n",
       "      <td>15881</td>\n",
       "      <td>2</td>\n",
       "      <td>7.940500e+03</td>\n",
       "    </tr>\n",
       "    <tr>\n",
       "      <th>3</th>\n",
       "      <td>11:00 PM to 11:30 PM</td>\n",
       "      <td>260032</td>\n",
       "      <td>3</td>\n",
       "      <td>8.667733e+04</td>\n",
       "    </tr>\n",
       "    <tr>\n",
       "      <th>4</th>\n",
       "      <td>11:30 AM to 12:00 PM</td>\n",
       "      <td>1997446</td>\n",
       "      <td>5</td>\n",
       "      <td>3.994892e+05</td>\n",
       "    </tr>\n",
       "    <tr>\n",
       "      <th>5</th>\n",
       "      <td>11:30 PM to 12:00 AM</td>\n",
       "      <td>131692</td>\n",
       "      <td>7</td>\n",
       "      <td>1.881314e+04</td>\n",
       "    </tr>\n",
       "    <tr>\n",
       "      <th>6</th>\n",
       "      <td>12:00 AM to 12:30 AM</td>\n",
       "      <td>8008363</td>\n",
       "      <td>6</td>\n",
       "      <td>1.334727e+06</td>\n",
       "    </tr>\n",
       "    <tr>\n",
       "      <th>7</th>\n",
       "      <td>12:00 PM to 12:30 PM</td>\n",
       "      <td>257133</td>\n",
       "      <td>3</td>\n",
       "      <td>8.571100e+04</td>\n",
       "    </tr>\n",
       "    <tr>\n",
       "      <th>8</th>\n",
       "      <td>12:30 AM to 1:00 AM</td>\n",
       "      <td>49692</td>\n",
       "      <td>5</td>\n",
       "      <td>9.938400e+03</td>\n",
       "    </tr>\n",
       "    <tr>\n",
       "      <th>9</th>\n",
       "      <td>12:30 PM to 1:00 PM</td>\n",
       "      <td>32401</td>\n",
       "      <td>2</td>\n",
       "      <td>1.620050e+04</td>\n",
       "    </tr>\n",
       "    <tr>\n",
       "      <th>10</th>\n",
       "      <td>1:00 AM to 1:30 AM</td>\n",
       "      <td>1203702</td>\n",
       "      <td>3</td>\n",
       "      <td>4.012340e+05</td>\n",
       "    </tr>\n",
       "    <tr>\n",
       "      <th>11</th>\n",
       "      <td>1:00 PM to 1:30 PM</td>\n",
       "      <td>91924</td>\n",
       "      <td>2</td>\n",
       "      <td>4.596200e+04</td>\n",
       "    </tr>\n",
       "    <tr>\n",
       "      <th>12</th>\n",
       "      <td>1:30 AM to 2:00 AM</td>\n",
       "      <td>531723</td>\n",
       "      <td>6</td>\n",
       "      <td>8.862050e+04</td>\n",
       "    </tr>\n",
       "    <tr>\n",
       "      <th>13</th>\n",
       "      <td>2:00 AM to 2:30 AM</td>\n",
       "      <td>72431</td>\n",
       "      <td>5</td>\n",
       "      <td>1.448620e+04</td>\n",
       "    </tr>\n",
       "    <tr>\n",
       "      <th>14</th>\n",
       "      <td>2:30 AM to 3:00 AM</td>\n",
       "      <td>1554180</td>\n",
       "      <td>11</td>\n",
       "      <td>1.412891e+05</td>\n",
       "    </tr>\n",
       "    <tr>\n",
       "      <th>15</th>\n",
       "      <td>3:00 AM to 3:30 AM</td>\n",
       "      <td>1038968</td>\n",
       "      <td>10</td>\n",
       "      <td>1.038968e+05</td>\n",
       "    </tr>\n",
       "    <tr>\n",
       "      <th>16</th>\n",
       "      <td>3:00 PM to 3:30 PM</td>\n",
       "      <td>325736</td>\n",
       "      <td>1</td>\n",
       "      <td>3.257360e+05</td>\n",
       "    </tr>\n",
       "    <tr>\n",
       "      <th>17</th>\n",
       "      <td>3:30 AM to 4:00 AM</td>\n",
       "      <td>15995401</td>\n",
       "      <td>12</td>\n",
       "      <td>1.332950e+06</td>\n",
       "    </tr>\n",
       "    <tr>\n",
       "      <th>18</th>\n",
       "      <td>4:00 AM to 4:30 AM</td>\n",
       "      <td>92978</td>\n",
       "      <td>2</td>\n",
       "      <td>4.648900e+04</td>\n",
       "    </tr>\n",
       "    <tr>\n",
       "      <th>19</th>\n",
       "      <td>4:30 AM to 5:00 AM</td>\n",
       "      <td>1582887</td>\n",
       "      <td>9</td>\n",
       "      <td>1.758763e+05</td>\n",
       "    </tr>\n",
       "    <tr>\n",
       "      <th>20</th>\n",
       "      <td>5:00 AM to 5:30 AM</td>\n",
       "      <td>705249</td>\n",
       "      <td>10</td>\n",
       "      <td>7.052490e+04</td>\n",
       "    </tr>\n",
       "    <tr>\n",
       "      <th>21</th>\n",
       "      <td>5:30 AM to 6:00 AM</td>\n",
       "      <td>1997424</td>\n",
       "      <td>8</td>\n",
       "      <td>2.496780e+05</td>\n",
       "    </tr>\n",
       "    <tr>\n",
       "      <th>22</th>\n",
       "      <td>6:00 AM to 6:30 AM</td>\n",
       "      <td>2705303</td>\n",
       "      <td>12</td>\n",
       "      <td>2.254419e+05</td>\n",
       "    </tr>\n",
       "    <tr>\n",
       "      <th>23</th>\n",
       "      <td>6:30 AM to 7:00 AM</td>\n",
       "      <td>85084</td>\n",
       "      <td>3</td>\n",
       "      <td>2.836133e+04</td>\n",
       "    </tr>\n",
       "    <tr>\n",
       "      <th>24</th>\n",
       "      <td>7:00 AM to 7:30 AM</td>\n",
       "      <td>3339291</td>\n",
       "      <td>7</td>\n",
       "      <td>4.770416e+05</td>\n",
       "    </tr>\n",
       "    <tr>\n",
       "      <th>25</th>\n",
       "      <td>7:00 PM to 7:30 PM</td>\n",
       "      <td>9457</td>\n",
       "      <td>1</td>\n",
       "      <td>9.457000e+03</td>\n",
       "    </tr>\n",
       "    <tr>\n",
       "      <th>26</th>\n",
       "      <td>7:30 AM to 8:00 AM</td>\n",
       "      <td>1715555</td>\n",
       "      <td>4</td>\n",
       "      <td>4.288888e+05</td>\n",
       "    </tr>\n",
       "    <tr>\n",
       "      <th>27</th>\n",
       "      <td>8:00 AM to 8:30 AM</td>\n",
       "      <td>129258</td>\n",
       "      <td>2</td>\n",
       "      <td>6.462900e+04</td>\n",
       "    </tr>\n",
       "    <tr>\n",
       "      <th>28</th>\n",
       "      <td>8:00 PM to 8:30 PM</td>\n",
       "      <td>13379</td>\n",
       "      <td>1</td>\n",
       "      <td>1.337900e+04</td>\n",
       "    </tr>\n",
       "    <tr>\n",
       "      <th>29</th>\n",
       "      <td>8:30 AM to 9:00 AM</td>\n",
       "      <td>337565</td>\n",
       "      <td>4</td>\n",
       "      <td>8.439125e+04</td>\n",
       "    </tr>\n",
       "    <tr>\n",
       "      <th>30</th>\n",
       "      <td>9:00 AM to 9:30 AM</td>\n",
       "      <td>306155</td>\n",
       "      <td>6</td>\n",
       "      <td>5.102583e+04</td>\n",
       "    </tr>\n",
       "    <tr>\n",
       "      <th>31</th>\n",
       "      <td>9:00 PM to 9:30 PM</td>\n",
       "      <td>65446</td>\n",
       "      <td>6</td>\n",
       "      <td>1.090767e+04</td>\n",
       "    </tr>\n",
       "    <tr>\n",
       "      <th>32</th>\n",
       "      <td>9:30 AM to 10:00 AM</td>\n",
       "      <td>97873</td>\n",
       "      <td>2</td>\n",
       "      <td>4.893650e+04</td>\n",
       "    </tr>\n",
       "  </tbody>\n",
       "</table>\n",
       "</div>"
      ],
      "text/plain": [
       "    Half Hour of the Day  View Count of Half Hour  \\\n",
       "0   10:00 AM to 10:30 AM                   238069   \n",
       "1   10:00 PM to 10:30 PM                  1124517   \n",
       "2   10:30 PM to 11:00 PM                    15881   \n",
       "3   11:00 PM to 11:30 PM                   260032   \n",
       "4   11:30 AM to 12:00 PM                  1997446   \n",
       "5   11:30 PM to 12:00 AM                   131692   \n",
       "6   12:00 AM to 12:30 AM                  8008363   \n",
       "7   12:00 PM to 12:30 PM                   257133   \n",
       "8    12:30 AM to 1:00 AM                    49692   \n",
       "9    12:30 PM to 1:00 PM                    32401   \n",
       "10    1:00 AM to 1:30 AM                  1203702   \n",
       "11    1:00 PM to 1:30 PM                    91924   \n",
       "12    1:30 AM to 2:00 AM                   531723   \n",
       "13    2:00 AM to 2:30 AM                    72431   \n",
       "14    2:30 AM to 3:00 AM                  1554180   \n",
       "15    3:00 AM to 3:30 AM                  1038968   \n",
       "16    3:00 PM to 3:30 PM                   325736   \n",
       "17    3:30 AM to 4:00 AM                 15995401   \n",
       "18    4:00 AM to 4:30 AM                    92978   \n",
       "19    4:30 AM to 5:00 AM                  1582887   \n",
       "20    5:00 AM to 5:30 AM                   705249   \n",
       "21    5:30 AM to 6:00 AM                  1997424   \n",
       "22    6:00 AM to 6:30 AM                  2705303   \n",
       "23    6:30 AM to 7:00 AM                    85084   \n",
       "24    7:00 AM to 7:30 AM                  3339291   \n",
       "25    7:00 PM to 7:30 PM                     9457   \n",
       "26    7:30 AM to 8:00 AM                  1715555   \n",
       "27    8:00 AM to 8:30 AM                   129258   \n",
       "28    8:00 PM to 8:30 PM                    13379   \n",
       "29    8:30 AM to 9:00 AM                   337565   \n",
       "30    9:00 AM to 9:30 AM                   306155   \n",
       "31    9:00 PM to 9:30 PM                    65446   \n",
       "32   9:30 AM to 10:00 AM                    97873   \n",
       "\n",
       "    Video Count Published in Half Hour  Half Hour View Index  \n",
       "0                                    2          1.190345e+05  \n",
       "1                                    7          1.606453e+05  \n",
       "2                                    2          7.940500e+03  \n",
       "3                                    3          8.667733e+04  \n",
       "4                                    5          3.994892e+05  \n",
       "5                                    7          1.881314e+04  \n",
       "6                                    6          1.334727e+06  \n",
       "7                                    3          8.571100e+04  \n",
       "8                                    5          9.938400e+03  \n",
       "9                                    2          1.620050e+04  \n",
       "10                                   3          4.012340e+05  \n",
       "11                                   2          4.596200e+04  \n",
       "12                                   6          8.862050e+04  \n",
       "13                                   5          1.448620e+04  \n",
       "14                                  11          1.412891e+05  \n",
       "15                                  10          1.038968e+05  \n",
       "16                                   1          3.257360e+05  \n",
       "17                                  12          1.332950e+06  \n",
       "18                                   2          4.648900e+04  \n",
       "19                                   9          1.758763e+05  \n",
       "20                                  10          7.052490e+04  \n",
       "21                                   8          2.496780e+05  \n",
       "22                                  12          2.254419e+05  \n",
       "23                                   3          2.836133e+04  \n",
       "24                                   7          4.770416e+05  \n",
       "25                                   1          9.457000e+03  \n",
       "26                                   4          4.288888e+05  \n",
       "27                                   2          6.462900e+04  \n",
       "28                                   1          1.337900e+04  \n",
       "29                                   4          8.439125e+04  \n",
       "30                                   6          5.102583e+04  \n",
       "31                                   6          1.090767e+04  \n",
       "32                                   2          4.893650e+04  "
      ]
     },
     "execution_count": 61,
     "metadata": {},
     "output_type": "execute_result"
    }
   ],
   "source": [
    "video_index_halfhour_data"
   ]
  },
  {
   "cell_type": "code",
   "execution_count": 62,
   "metadata": {},
   "outputs": [],
   "source": [
    "#Define the relative path to the 'Cross Posting Helper' folder\n",
    "cross_posting_dir = os.path.join(dashboard_project_dir, 'Assets', 'Cross Posting Helper')\n"
   ]
  },
  {
   "cell_type": "code",
   "execution_count": 63,
   "metadata": {},
   "outputs": [
    {
     "data": {
      "application/vnd.plotly.v1+json": {
       "config": {
        "plotlyServerURL": "https://plot.ly"
       },
       "data": [
        {
         "alignmentgroup": "True",
         "hovertemplate": "Weekday=%{x}<br>Weekday View Index=%{y}<extra></extra>",
         "legendgroup": "",
         "marker": {
          "color": "#636efa",
          "pattern": {
           "shape": ""
          }
         },
         "name": "",
         "offsetgroup": "",
         "orientation": "v",
         "showlegend": false,
         "textposition": "auto",
         "type": "bar",
         "x": [
          "Friday",
          "Monday",
          "Saturday",
          "Sunday",
          "Thursday",
          "Tuesday",
          "Wednesday"
         ],
         "xaxis": "x",
         "y": [
          177813.24137931035,
          445276.6956521739,
          372889.4,
          70197.81818181818,
          476057.5882352941,
          190879.55555555556,
          141241.57142857142
         ],
         "yaxis": "y"
        }
       ],
       "layout": {
        "barmode": "relative",
        "legend": {
         "tracegroupgap": 0
        },
        "template": {
         "data": {
          "bar": [
           {
            "error_x": {
             "color": "#f2f5fa"
            },
            "error_y": {
             "color": "#f2f5fa"
            },
            "marker": {
             "line": {
              "color": "rgb(17,17,17)",
              "width": 0.5
             },
             "pattern": {
              "fillmode": "overlay",
              "size": 10,
              "solidity": 0.2
             }
            },
            "type": "bar"
           }
          ],
          "barpolar": [
           {
            "marker": {
             "line": {
              "color": "rgb(17,17,17)",
              "width": 0.5
             },
             "pattern": {
              "fillmode": "overlay",
              "size": 10,
              "solidity": 0.2
             }
            },
            "type": "barpolar"
           }
          ],
          "carpet": [
           {
            "aaxis": {
             "endlinecolor": "#A2B1C6",
             "gridcolor": "#506784",
             "linecolor": "#506784",
             "minorgridcolor": "#506784",
             "startlinecolor": "#A2B1C6"
            },
            "baxis": {
             "endlinecolor": "#A2B1C6",
             "gridcolor": "#506784",
             "linecolor": "#506784",
             "minorgridcolor": "#506784",
             "startlinecolor": "#A2B1C6"
            },
            "type": "carpet"
           }
          ],
          "choropleth": [
           {
            "colorbar": {
             "outlinewidth": 0,
             "ticks": ""
            },
            "type": "choropleth"
           }
          ],
          "contour": [
           {
            "colorbar": {
             "outlinewidth": 0,
             "ticks": ""
            },
            "colorscale": [
             [
              0,
              "#0d0887"
             ],
             [
              0.1111111111111111,
              "#46039f"
             ],
             [
              0.2222222222222222,
              "#7201a8"
             ],
             [
              0.3333333333333333,
              "#9c179e"
             ],
             [
              0.4444444444444444,
              "#bd3786"
             ],
             [
              0.5555555555555556,
              "#d8576b"
             ],
             [
              0.6666666666666666,
              "#ed7953"
             ],
             [
              0.7777777777777778,
              "#fb9f3a"
             ],
             [
              0.8888888888888888,
              "#fdca26"
             ],
             [
              1,
              "#f0f921"
             ]
            ],
            "type": "contour"
           }
          ],
          "contourcarpet": [
           {
            "colorbar": {
             "outlinewidth": 0,
             "ticks": ""
            },
            "type": "contourcarpet"
           }
          ],
          "heatmap": [
           {
            "colorbar": {
             "outlinewidth": 0,
             "ticks": ""
            },
            "colorscale": [
             [
              0,
              "#0d0887"
             ],
             [
              0.1111111111111111,
              "#46039f"
             ],
             [
              0.2222222222222222,
              "#7201a8"
             ],
             [
              0.3333333333333333,
              "#9c179e"
             ],
             [
              0.4444444444444444,
              "#bd3786"
             ],
             [
              0.5555555555555556,
              "#d8576b"
             ],
             [
              0.6666666666666666,
              "#ed7953"
             ],
             [
              0.7777777777777778,
              "#fb9f3a"
             ],
             [
              0.8888888888888888,
              "#fdca26"
             ],
             [
              1,
              "#f0f921"
             ]
            ],
            "type": "heatmap"
           }
          ],
          "heatmapgl": [
           {
            "colorbar": {
             "outlinewidth": 0,
             "ticks": ""
            },
            "colorscale": [
             [
              0,
              "#0d0887"
             ],
             [
              0.1111111111111111,
              "#46039f"
             ],
             [
              0.2222222222222222,
              "#7201a8"
             ],
             [
              0.3333333333333333,
              "#9c179e"
             ],
             [
              0.4444444444444444,
              "#bd3786"
             ],
             [
              0.5555555555555556,
              "#d8576b"
             ],
             [
              0.6666666666666666,
              "#ed7953"
             ],
             [
              0.7777777777777778,
              "#fb9f3a"
             ],
             [
              0.8888888888888888,
              "#fdca26"
             ],
             [
              1,
              "#f0f921"
             ]
            ],
            "type": "heatmapgl"
           }
          ],
          "histogram": [
           {
            "marker": {
             "pattern": {
              "fillmode": "overlay",
              "size": 10,
              "solidity": 0.2
             }
            },
            "type": "histogram"
           }
          ],
          "histogram2d": [
           {
            "colorbar": {
             "outlinewidth": 0,
             "ticks": ""
            },
            "colorscale": [
             [
              0,
              "#0d0887"
             ],
             [
              0.1111111111111111,
              "#46039f"
             ],
             [
              0.2222222222222222,
              "#7201a8"
             ],
             [
              0.3333333333333333,
              "#9c179e"
             ],
             [
              0.4444444444444444,
              "#bd3786"
             ],
             [
              0.5555555555555556,
              "#d8576b"
             ],
             [
              0.6666666666666666,
              "#ed7953"
             ],
             [
              0.7777777777777778,
              "#fb9f3a"
             ],
             [
              0.8888888888888888,
              "#fdca26"
             ],
             [
              1,
              "#f0f921"
             ]
            ],
            "type": "histogram2d"
           }
          ],
          "histogram2dcontour": [
           {
            "colorbar": {
             "outlinewidth": 0,
             "ticks": ""
            },
            "colorscale": [
             [
              0,
              "#0d0887"
             ],
             [
              0.1111111111111111,
              "#46039f"
             ],
             [
              0.2222222222222222,
              "#7201a8"
             ],
             [
              0.3333333333333333,
              "#9c179e"
             ],
             [
              0.4444444444444444,
              "#bd3786"
             ],
             [
              0.5555555555555556,
              "#d8576b"
             ],
             [
              0.6666666666666666,
              "#ed7953"
             ],
             [
              0.7777777777777778,
              "#fb9f3a"
             ],
             [
              0.8888888888888888,
              "#fdca26"
             ],
             [
              1,
              "#f0f921"
             ]
            ],
            "type": "histogram2dcontour"
           }
          ],
          "mesh3d": [
           {
            "colorbar": {
             "outlinewidth": 0,
             "ticks": ""
            },
            "type": "mesh3d"
           }
          ],
          "parcoords": [
           {
            "line": {
             "colorbar": {
              "outlinewidth": 0,
              "ticks": ""
             }
            },
            "type": "parcoords"
           }
          ],
          "pie": [
           {
            "automargin": true,
            "type": "pie"
           }
          ],
          "scatter": [
           {
            "marker": {
             "line": {
              "color": "#283442"
             }
            },
            "type": "scatter"
           }
          ],
          "scatter3d": [
           {
            "line": {
             "colorbar": {
              "outlinewidth": 0,
              "ticks": ""
             }
            },
            "marker": {
             "colorbar": {
              "outlinewidth": 0,
              "ticks": ""
             }
            },
            "type": "scatter3d"
           }
          ],
          "scattercarpet": [
           {
            "marker": {
             "colorbar": {
              "outlinewidth": 0,
              "ticks": ""
             }
            },
            "type": "scattercarpet"
           }
          ],
          "scattergeo": [
           {
            "marker": {
             "colorbar": {
              "outlinewidth": 0,
              "ticks": ""
             }
            },
            "type": "scattergeo"
           }
          ],
          "scattergl": [
           {
            "marker": {
             "line": {
              "color": "#283442"
             }
            },
            "type": "scattergl"
           }
          ],
          "scattermapbox": [
           {
            "marker": {
             "colorbar": {
              "outlinewidth": 0,
              "ticks": ""
             }
            },
            "type": "scattermapbox"
           }
          ],
          "scatterpolar": [
           {
            "marker": {
             "colorbar": {
              "outlinewidth": 0,
              "ticks": ""
             }
            },
            "type": "scatterpolar"
           }
          ],
          "scatterpolargl": [
           {
            "marker": {
             "colorbar": {
              "outlinewidth": 0,
              "ticks": ""
             }
            },
            "type": "scatterpolargl"
           }
          ],
          "scatterternary": [
           {
            "marker": {
             "colorbar": {
              "outlinewidth": 0,
              "ticks": ""
             }
            },
            "type": "scatterternary"
           }
          ],
          "surface": [
           {
            "colorbar": {
             "outlinewidth": 0,
             "ticks": ""
            },
            "colorscale": [
             [
              0,
              "#0d0887"
             ],
             [
              0.1111111111111111,
              "#46039f"
             ],
             [
              0.2222222222222222,
              "#7201a8"
             ],
             [
              0.3333333333333333,
              "#9c179e"
             ],
             [
              0.4444444444444444,
              "#bd3786"
             ],
             [
              0.5555555555555556,
              "#d8576b"
             ],
             [
              0.6666666666666666,
              "#ed7953"
             ],
             [
              0.7777777777777778,
              "#fb9f3a"
             ],
             [
              0.8888888888888888,
              "#fdca26"
             ],
             [
              1,
              "#f0f921"
             ]
            ],
            "type": "surface"
           }
          ],
          "table": [
           {
            "cells": {
             "fill": {
              "color": "#506784"
             },
             "line": {
              "color": "rgb(17,17,17)"
             }
            },
            "header": {
             "fill": {
              "color": "#2a3f5f"
             },
             "line": {
              "color": "rgb(17,17,17)"
             }
            },
            "type": "table"
           }
          ]
         },
         "layout": {
          "annotationdefaults": {
           "arrowcolor": "#f2f5fa",
           "arrowhead": 0,
           "arrowwidth": 1
          },
          "autotypenumbers": "strict",
          "coloraxis": {
           "colorbar": {
            "outlinewidth": 0,
            "ticks": ""
           }
          },
          "colorscale": {
           "diverging": [
            [
             0,
             "#8e0152"
            ],
            [
             0.1,
             "#c51b7d"
            ],
            [
             0.2,
             "#de77ae"
            ],
            [
             0.3,
             "#f1b6da"
            ],
            [
             0.4,
             "#fde0ef"
            ],
            [
             0.5,
             "#f7f7f7"
            ],
            [
             0.6,
             "#e6f5d0"
            ],
            [
             0.7,
             "#b8e186"
            ],
            [
             0.8,
             "#7fbc41"
            ],
            [
             0.9,
             "#4d9221"
            ],
            [
             1,
             "#276419"
            ]
           ],
           "sequential": [
            [
             0,
             "#0d0887"
            ],
            [
             0.1111111111111111,
             "#46039f"
            ],
            [
             0.2222222222222222,
             "#7201a8"
            ],
            [
             0.3333333333333333,
             "#9c179e"
            ],
            [
             0.4444444444444444,
             "#bd3786"
            ],
            [
             0.5555555555555556,
             "#d8576b"
            ],
            [
             0.6666666666666666,
             "#ed7953"
            ],
            [
             0.7777777777777778,
             "#fb9f3a"
            ],
            [
             0.8888888888888888,
             "#fdca26"
            ],
            [
             1,
             "#f0f921"
            ]
           ],
           "sequentialminus": [
            [
             0,
             "#0d0887"
            ],
            [
             0.1111111111111111,
             "#46039f"
            ],
            [
             0.2222222222222222,
             "#7201a8"
            ],
            [
             0.3333333333333333,
             "#9c179e"
            ],
            [
             0.4444444444444444,
             "#bd3786"
            ],
            [
             0.5555555555555556,
             "#d8576b"
            ],
            [
             0.6666666666666666,
             "#ed7953"
            ],
            [
             0.7777777777777778,
             "#fb9f3a"
            ],
            [
             0.8888888888888888,
             "#fdca26"
            ],
            [
             1,
             "#f0f921"
            ]
           ]
          },
          "colorway": [
           "#636efa",
           "#EF553B",
           "#00cc96",
           "#ab63fa",
           "#FFA15A",
           "#19d3f3",
           "#FF6692",
           "#B6E880",
           "#FF97FF",
           "#FECB52"
          ],
          "font": {
           "color": "#f2f5fa"
          },
          "geo": {
           "bgcolor": "rgb(17,17,17)",
           "lakecolor": "rgb(17,17,17)",
           "landcolor": "rgb(17,17,17)",
           "showlakes": true,
           "showland": true,
           "subunitcolor": "#506784"
          },
          "hoverlabel": {
           "align": "left"
          },
          "hovermode": "closest",
          "mapbox": {
           "style": "dark"
          },
          "paper_bgcolor": "rgb(17,17,17)",
          "plot_bgcolor": "rgb(17,17,17)",
          "polar": {
           "angularaxis": {
            "gridcolor": "#506784",
            "linecolor": "#506784",
            "ticks": ""
           },
           "bgcolor": "rgb(17,17,17)",
           "radialaxis": {
            "gridcolor": "#506784",
            "linecolor": "#506784",
            "ticks": ""
           }
          },
          "scene": {
           "xaxis": {
            "backgroundcolor": "rgb(17,17,17)",
            "gridcolor": "#506784",
            "gridwidth": 2,
            "linecolor": "#506784",
            "showbackground": true,
            "ticks": "",
            "zerolinecolor": "#C8D4E3"
           },
           "yaxis": {
            "backgroundcolor": "rgb(17,17,17)",
            "gridcolor": "#506784",
            "gridwidth": 2,
            "linecolor": "#506784",
            "showbackground": true,
            "ticks": "",
            "zerolinecolor": "#C8D4E3"
           },
           "zaxis": {
            "backgroundcolor": "rgb(17,17,17)",
            "gridcolor": "#506784",
            "gridwidth": 2,
            "linecolor": "#506784",
            "showbackground": true,
            "ticks": "",
            "zerolinecolor": "#C8D4E3"
           }
          },
          "shapedefaults": {
           "line": {
            "color": "#f2f5fa"
           }
          },
          "sliderdefaults": {
           "bgcolor": "#C8D4E3",
           "bordercolor": "rgb(17,17,17)",
           "borderwidth": 1,
           "tickwidth": 0
          },
          "ternary": {
           "aaxis": {
            "gridcolor": "#506784",
            "linecolor": "#506784",
            "ticks": ""
           },
           "baxis": {
            "gridcolor": "#506784",
            "linecolor": "#506784",
            "ticks": ""
           },
           "bgcolor": "rgb(17,17,17)",
           "caxis": {
            "gridcolor": "#506784",
            "linecolor": "#506784",
            "ticks": ""
           }
          },
          "title": {
           "x": 0.05
          },
          "updatemenudefaults": {
           "bgcolor": "#506784",
           "borderwidth": 0
          },
          "xaxis": {
           "automargin": true,
           "gridcolor": "#283442",
           "linecolor": "#506784",
           "ticks": "",
           "title": {
            "standoff": 15
           },
           "zerolinecolor": "#283442",
           "zerolinewidth": 2
          },
          "yaxis": {
           "automargin": true,
           "gridcolor": "#283442",
           "linecolor": "#506784",
           "ticks": "",
           "title": {
            "standoff": 15
           },
           "zerolinecolor": "#283442",
           "zerolinewidth": 2
          }
         }
        },
        "title": {
         "text": "Weekday View Index"
        },
        "xaxis": {
         "anchor": "y",
         "categoryarray": [
          "Monday",
          "Tuesday",
          "Wednesday",
          "Thursday",
          "Friday",
          "Saturday",
          "Sunday"
         ],
         "categoryorder": "array",
         "domain": [
          0,
          1
         ],
         "title": {
          "text": "Weekday"
         }
        },
        "yaxis": {
         "anchor": "x",
         "domain": [
          0,
          1
         ],
         "title": {
          "text": "Weekday View Index"
         }
        }
       }
      }
     },
     "metadata": {},
     "output_type": "display_data"
    },
    {
     "name": "stdout",
     "output_type": "stream",
     "text": [
      "HTML file saved as c:\\Users\\Rameez\\OneDrive\\Dashboard Project\\Assets\\Cross Posting Helper\\Weekday_View_Index.html\n"
     ]
    }
   ],
   "source": [
    "import plotly.express as px\n",
    "\n",
    "#Define the order of weekdays\n",
    "weekday_order = [\"Monday\", \"Tuesday\", \"Wednesday\", \"Thursday\", \"Friday\", \"Saturday\", \"Sunday\"]\n",
    "\n",
    "#Create the figure with a dark mode template\n",
    "fig_video_index_weekday = px.bar(\n",
    "    video_index_weekday_data,\n",
    "    x='Weekday',\n",
    "    y='Weekday View Index',\n",
    "    title='Weekday View Index',\n",
    "    labels={'Weekday View Index': 'Weekday View Index'},\n",
    "    template='plotly_dark',\n",
    ")\n",
    "\n",
    "#Set the order of weekdays on the x-axis\n",
    "fig_video_index_weekday.update_xaxes(categoryorder='array', categoryarray=weekday_order)\n",
    "\n",
    "#Show the plot\n",
    "fig_video_index_weekday.show()\n",
    "\n",
    "#Define the HTML file path using the relative path to 'Exploratory Analysis Graphs'\n",
    "html_file_name = 'Weekday_View_Index.html'\n",
    "html_file_path = os.path.join(cross_posting_dir, html_file_name)\n",
    "\n",
    "#Save the Plotly figure as an HTML file\n",
    "fig_video_index_weekday.write_html(html_file_path)\n",
    "\n",
    "print(f'HTML file saved as {html_file_path}')"
   ]
  },
  {
   "cell_type": "code",
   "execution_count": 64,
   "metadata": {},
   "outputs": [
    {
     "data": {
      "application/vnd.plotly.v1+json": {
       "config": {
        "plotlyServerURL": "https://plot.ly"
       },
       "data": [
        {
         "alignmentgroup": "True",
         "hovertemplate": "Half Hour of the Day=%{x}<br>Half Hour View Index=%{y}<extra></extra>",
         "legendgroup": "",
         "marker": {
          "color": "#636efa",
          "pattern": {
           "shape": ""
          }
         },
         "name": "",
         "offsetgroup": "",
         "orientation": "v",
         "showlegend": false,
         "textposition": "auto",
         "type": "bar",
         "x": [
          "10:00 AM to 10:30 AM",
          "10:00 PM to 10:30 PM",
          "10:30 PM to 11:00 PM",
          "11:00 PM to 11:30 PM",
          "11:30 AM to 12:00 PM",
          "11:30 PM to 12:00 AM",
          "12:00 AM to 12:30 AM",
          "12:00 PM to 12:30 PM",
          "12:30 AM to 1:00 AM",
          "12:30 PM to 1:00 PM",
          "1:00 AM to 1:30 AM",
          "1:00 PM to 1:30 PM",
          "1:30 AM to 2:00 AM",
          "2:00 AM to 2:30 AM",
          "2:30 AM to 3:00 AM",
          "3:00 AM to 3:30 AM",
          "3:00 PM to 3:30 PM",
          "3:30 AM to 4:00 AM",
          "4:00 AM to 4:30 AM",
          "4:30 AM to 5:00 AM",
          "5:00 AM to 5:30 AM",
          "5:30 AM to 6:00 AM",
          "6:00 AM to 6:30 AM",
          "6:30 AM to 7:00 AM",
          "7:00 AM to 7:30 AM",
          "7:00 PM to 7:30 PM",
          "7:30 AM to 8:00 AM",
          "8:00 AM to 8:30 AM",
          "8:00 PM to 8:30 PM",
          "8:30 AM to 9:00 AM",
          "9:00 AM to 9:30 AM",
          "9:00 PM to 9:30 PM",
          "9:30 AM to 10:00 AM"
         ],
         "xaxis": "x",
         "y": [
          119034.5,
          160645.2857142857,
          7940.5,
          86677.33333333333,
          399489.2,
          18813.14285714286,
          1334727.1666666667,
          85711,
          9938.4,
          16200.5,
          401234,
          45962,
          88620.5,
          14486.2,
          141289.0909090909,
          103896.8,
          325736,
          1332950.0833333333,
          46489,
          175876.33333333334,
          70524.9,
          249678,
          225441.91666666666,
          28361.333333333332,
          477041.5714285714,
          9457,
          428888.75,
          64629,
          13379,
          84391.25,
          51025.833333333336,
          10907.666666666666,
          48936.5
         ],
         "yaxis": "y"
        }
       ],
       "layout": {
        "barmode": "relative",
        "legend": {
         "tracegroupgap": 0
        },
        "template": {
         "data": {
          "bar": [
           {
            "error_x": {
             "color": "#f2f5fa"
            },
            "error_y": {
             "color": "#f2f5fa"
            },
            "marker": {
             "line": {
              "color": "rgb(17,17,17)",
              "width": 0.5
             },
             "pattern": {
              "fillmode": "overlay",
              "size": 10,
              "solidity": 0.2
             }
            },
            "type": "bar"
           }
          ],
          "barpolar": [
           {
            "marker": {
             "line": {
              "color": "rgb(17,17,17)",
              "width": 0.5
             },
             "pattern": {
              "fillmode": "overlay",
              "size": 10,
              "solidity": 0.2
             }
            },
            "type": "barpolar"
           }
          ],
          "carpet": [
           {
            "aaxis": {
             "endlinecolor": "#A2B1C6",
             "gridcolor": "#506784",
             "linecolor": "#506784",
             "minorgridcolor": "#506784",
             "startlinecolor": "#A2B1C6"
            },
            "baxis": {
             "endlinecolor": "#A2B1C6",
             "gridcolor": "#506784",
             "linecolor": "#506784",
             "minorgridcolor": "#506784",
             "startlinecolor": "#A2B1C6"
            },
            "type": "carpet"
           }
          ],
          "choropleth": [
           {
            "colorbar": {
             "outlinewidth": 0,
             "ticks": ""
            },
            "type": "choropleth"
           }
          ],
          "contour": [
           {
            "colorbar": {
             "outlinewidth": 0,
             "ticks": ""
            },
            "colorscale": [
             [
              0,
              "#0d0887"
             ],
             [
              0.1111111111111111,
              "#46039f"
             ],
             [
              0.2222222222222222,
              "#7201a8"
             ],
             [
              0.3333333333333333,
              "#9c179e"
             ],
             [
              0.4444444444444444,
              "#bd3786"
             ],
             [
              0.5555555555555556,
              "#d8576b"
             ],
             [
              0.6666666666666666,
              "#ed7953"
             ],
             [
              0.7777777777777778,
              "#fb9f3a"
             ],
             [
              0.8888888888888888,
              "#fdca26"
             ],
             [
              1,
              "#f0f921"
             ]
            ],
            "type": "contour"
           }
          ],
          "contourcarpet": [
           {
            "colorbar": {
             "outlinewidth": 0,
             "ticks": ""
            },
            "type": "contourcarpet"
           }
          ],
          "heatmap": [
           {
            "colorbar": {
             "outlinewidth": 0,
             "ticks": ""
            },
            "colorscale": [
             [
              0,
              "#0d0887"
             ],
             [
              0.1111111111111111,
              "#46039f"
             ],
             [
              0.2222222222222222,
              "#7201a8"
             ],
             [
              0.3333333333333333,
              "#9c179e"
             ],
             [
              0.4444444444444444,
              "#bd3786"
             ],
             [
              0.5555555555555556,
              "#d8576b"
             ],
             [
              0.6666666666666666,
              "#ed7953"
             ],
             [
              0.7777777777777778,
              "#fb9f3a"
             ],
             [
              0.8888888888888888,
              "#fdca26"
             ],
             [
              1,
              "#f0f921"
             ]
            ],
            "type": "heatmap"
           }
          ],
          "heatmapgl": [
           {
            "colorbar": {
             "outlinewidth": 0,
             "ticks": ""
            },
            "colorscale": [
             [
              0,
              "#0d0887"
             ],
             [
              0.1111111111111111,
              "#46039f"
             ],
             [
              0.2222222222222222,
              "#7201a8"
             ],
             [
              0.3333333333333333,
              "#9c179e"
             ],
             [
              0.4444444444444444,
              "#bd3786"
             ],
             [
              0.5555555555555556,
              "#d8576b"
             ],
             [
              0.6666666666666666,
              "#ed7953"
             ],
             [
              0.7777777777777778,
              "#fb9f3a"
             ],
             [
              0.8888888888888888,
              "#fdca26"
             ],
             [
              1,
              "#f0f921"
             ]
            ],
            "type": "heatmapgl"
           }
          ],
          "histogram": [
           {
            "marker": {
             "pattern": {
              "fillmode": "overlay",
              "size": 10,
              "solidity": 0.2
             }
            },
            "type": "histogram"
           }
          ],
          "histogram2d": [
           {
            "colorbar": {
             "outlinewidth": 0,
             "ticks": ""
            },
            "colorscale": [
             [
              0,
              "#0d0887"
             ],
             [
              0.1111111111111111,
              "#46039f"
             ],
             [
              0.2222222222222222,
              "#7201a8"
             ],
             [
              0.3333333333333333,
              "#9c179e"
             ],
             [
              0.4444444444444444,
              "#bd3786"
             ],
             [
              0.5555555555555556,
              "#d8576b"
             ],
             [
              0.6666666666666666,
              "#ed7953"
             ],
             [
              0.7777777777777778,
              "#fb9f3a"
             ],
             [
              0.8888888888888888,
              "#fdca26"
             ],
             [
              1,
              "#f0f921"
             ]
            ],
            "type": "histogram2d"
           }
          ],
          "histogram2dcontour": [
           {
            "colorbar": {
             "outlinewidth": 0,
             "ticks": ""
            },
            "colorscale": [
             [
              0,
              "#0d0887"
             ],
             [
              0.1111111111111111,
              "#46039f"
             ],
             [
              0.2222222222222222,
              "#7201a8"
             ],
             [
              0.3333333333333333,
              "#9c179e"
             ],
             [
              0.4444444444444444,
              "#bd3786"
             ],
             [
              0.5555555555555556,
              "#d8576b"
             ],
             [
              0.6666666666666666,
              "#ed7953"
             ],
             [
              0.7777777777777778,
              "#fb9f3a"
             ],
             [
              0.8888888888888888,
              "#fdca26"
             ],
             [
              1,
              "#f0f921"
             ]
            ],
            "type": "histogram2dcontour"
           }
          ],
          "mesh3d": [
           {
            "colorbar": {
             "outlinewidth": 0,
             "ticks": ""
            },
            "type": "mesh3d"
           }
          ],
          "parcoords": [
           {
            "line": {
             "colorbar": {
              "outlinewidth": 0,
              "ticks": ""
             }
            },
            "type": "parcoords"
           }
          ],
          "pie": [
           {
            "automargin": true,
            "type": "pie"
           }
          ],
          "scatter": [
           {
            "marker": {
             "line": {
              "color": "#283442"
             }
            },
            "type": "scatter"
           }
          ],
          "scatter3d": [
           {
            "line": {
             "colorbar": {
              "outlinewidth": 0,
              "ticks": ""
             }
            },
            "marker": {
             "colorbar": {
              "outlinewidth": 0,
              "ticks": ""
             }
            },
            "type": "scatter3d"
           }
          ],
          "scattercarpet": [
           {
            "marker": {
             "colorbar": {
              "outlinewidth": 0,
              "ticks": ""
             }
            },
            "type": "scattercarpet"
           }
          ],
          "scattergeo": [
           {
            "marker": {
             "colorbar": {
              "outlinewidth": 0,
              "ticks": ""
             }
            },
            "type": "scattergeo"
           }
          ],
          "scattergl": [
           {
            "marker": {
             "line": {
              "color": "#283442"
             }
            },
            "type": "scattergl"
           }
          ],
          "scattermapbox": [
           {
            "marker": {
             "colorbar": {
              "outlinewidth": 0,
              "ticks": ""
             }
            },
            "type": "scattermapbox"
           }
          ],
          "scatterpolar": [
           {
            "marker": {
             "colorbar": {
              "outlinewidth": 0,
              "ticks": ""
             }
            },
            "type": "scatterpolar"
           }
          ],
          "scatterpolargl": [
           {
            "marker": {
             "colorbar": {
              "outlinewidth": 0,
              "ticks": ""
             }
            },
            "type": "scatterpolargl"
           }
          ],
          "scatterternary": [
           {
            "marker": {
             "colorbar": {
              "outlinewidth": 0,
              "ticks": ""
             }
            },
            "type": "scatterternary"
           }
          ],
          "surface": [
           {
            "colorbar": {
             "outlinewidth": 0,
             "ticks": ""
            },
            "colorscale": [
             [
              0,
              "#0d0887"
             ],
             [
              0.1111111111111111,
              "#46039f"
             ],
             [
              0.2222222222222222,
              "#7201a8"
             ],
             [
              0.3333333333333333,
              "#9c179e"
             ],
             [
              0.4444444444444444,
              "#bd3786"
             ],
             [
              0.5555555555555556,
              "#d8576b"
             ],
             [
              0.6666666666666666,
              "#ed7953"
             ],
             [
              0.7777777777777778,
              "#fb9f3a"
             ],
             [
              0.8888888888888888,
              "#fdca26"
             ],
             [
              1,
              "#f0f921"
             ]
            ],
            "type": "surface"
           }
          ],
          "table": [
           {
            "cells": {
             "fill": {
              "color": "#506784"
             },
             "line": {
              "color": "rgb(17,17,17)"
             }
            },
            "header": {
             "fill": {
              "color": "#2a3f5f"
             },
             "line": {
              "color": "rgb(17,17,17)"
             }
            },
            "type": "table"
           }
          ]
         },
         "layout": {
          "annotationdefaults": {
           "arrowcolor": "#f2f5fa",
           "arrowhead": 0,
           "arrowwidth": 1
          },
          "autotypenumbers": "strict",
          "coloraxis": {
           "colorbar": {
            "outlinewidth": 0,
            "ticks": ""
           }
          },
          "colorscale": {
           "diverging": [
            [
             0,
             "#8e0152"
            ],
            [
             0.1,
             "#c51b7d"
            ],
            [
             0.2,
             "#de77ae"
            ],
            [
             0.3,
             "#f1b6da"
            ],
            [
             0.4,
             "#fde0ef"
            ],
            [
             0.5,
             "#f7f7f7"
            ],
            [
             0.6,
             "#e6f5d0"
            ],
            [
             0.7,
             "#b8e186"
            ],
            [
             0.8,
             "#7fbc41"
            ],
            [
             0.9,
             "#4d9221"
            ],
            [
             1,
             "#276419"
            ]
           ],
           "sequential": [
            [
             0,
             "#0d0887"
            ],
            [
             0.1111111111111111,
             "#46039f"
            ],
            [
             0.2222222222222222,
             "#7201a8"
            ],
            [
             0.3333333333333333,
             "#9c179e"
            ],
            [
             0.4444444444444444,
             "#bd3786"
            ],
            [
             0.5555555555555556,
             "#d8576b"
            ],
            [
             0.6666666666666666,
             "#ed7953"
            ],
            [
             0.7777777777777778,
             "#fb9f3a"
            ],
            [
             0.8888888888888888,
             "#fdca26"
            ],
            [
             1,
             "#f0f921"
            ]
           ],
           "sequentialminus": [
            [
             0,
             "#0d0887"
            ],
            [
             0.1111111111111111,
             "#46039f"
            ],
            [
             0.2222222222222222,
             "#7201a8"
            ],
            [
             0.3333333333333333,
             "#9c179e"
            ],
            [
             0.4444444444444444,
             "#bd3786"
            ],
            [
             0.5555555555555556,
             "#d8576b"
            ],
            [
             0.6666666666666666,
             "#ed7953"
            ],
            [
             0.7777777777777778,
             "#fb9f3a"
            ],
            [
             0.8888888888888888,
             "#fdca26"
            ],
            [
             1,
             "#f0f921"
            ]
           ]
          },
          "colorway": [
           "#636efa",
           "#EF553B",
           "#00cc96",
           "#ab63fa",
           "#FFA15A",
           "#19d3f3",
           "#FF6692",
           "#B6E880",
           "#FF97FF",
           "#FECB52"
          ],
          "font": {
           "color": "#f2f5fa"
          },
          "geo": {
           "bgcolor": "rgb(17,17,17)",
           "lakecolor": "rgb(17,17,17)",
           "landcolor": "rgb(17,17,17)",
           "showlakes": true,
           "showland": true,
           "subunitcolor": "#506784"
          },
          "hoverlabel": {
           "align": "left"
          },
          "hovermode": "closest",
          "mapbox": {
           "style": "dark"
          },
          "paper_bgcolor": "rgb(17,17,17)",
          "plot_bgcolor": "rgb(17,17,17)",
          "polar": {
           "angularaxis": {
            "gridcolor": "#506784",
            "linecolor": "#506784",
            "ticks": ""
           },
           "bgcolor": "rgb(17,17,17)",
           "radialaxis": {
            "gridcolor": "#506784",
            "linecolor": "#506784",
            "ticks": ""
           }
          },
          "scene": {
           "xaxis": {
            "backgroundcolor": "rgb(17,17,17)",
            "gridcolor": "#506784",
            "gridwidth": 2,
            "linecolor": "#506784",
            "showbackground": true,
            "ticks": "",
            "zerolinecolor": "#C8D4E3"
           },
           "yaxis": {
            "backgroundcolor": "rgb(17,17,17)",
            "gridcolor": "#506784",
            "gridwidth": 2,
            "linecolor": "#506784",
            "showbackground": true,
            "ticks": "",
            "zerolinecolor": "#C8D4E3"
           },
           "zaxis": {
            "backgroundcolor": "rgb(17,17,17)",
            "gridcolor": "#506784",
            "gridwidth": 2,
            "linecolor": "#506784",
            "showbackground": true,
            "ticks": "",
            "zerolinecolor": "#C8D4E3"
           }
          },
          "shapedefaults": {
           "line": {
            "color": "#f2f5fa"
           }
          },
          "sliderdefaults": {
           "bgcolor": "#C8D4E3",
           "bordercolor": "rgb(17,17,17)",
           "borderwidth": 1,
           "tickwidth": 0
          },
          "ternary": {
           "aaxis": {
            "gridcolor": "#506784",
            "linecolor": "#506784",
            "ticks": ""
           },
           "baxis": {
            "gridcolor": "#506784",
            "linecolor": "#506784",
            "ticks": ""
           },
           "bgcolor": "rgb(17,17,17)",
           "caxis": {
            "gridcolor": "#506784",
            "linecolor": "#506784",
            "ticks": ""
           }
          },
          "title": {
           "x": 0.05
          },
          "updatemenudefaults": {
           "bgcolor": "#506784",
           "borderwidth": 0
          },
          "xaxis": {
           "automargin": true,
           "gridcolor": "#283442",
           "linecolor": "#506784",
           "ticks": "",
           "title": {
            "standoff": 15
           },
           "zerolinecolor": "#283442",
           "zerolinewidth": 2
          },
          "yaxis": {
           "automargin": true,
           "gridcolor": "#283442",
           "linecolor": "#506784",
           "ticks": "",
           "title": {
            "standoff": 15
           },
           "zerolinecolor": "#283442",
           "zerolinewidth": 2
          }
         }
        },
        "title": {
         "text": "Half Hour View Index"
        },
        "xaxis": {
         "anchor": "y",
         "categoryarray": [
          "12:00 AM to 12:30 AM",
          "12:30 AM to 1:00 AM",
          "1:00 AM to 1:30 AM",
          "1:30 AM to 2:00 AM",
          "2:00 AM to 2:30 AM",
          "2:30 AM to 3:00 AM",
          "3:00 AM to 3:30 AM",
          "3:30 AM to 4:00 AM",
          "4:00 AM to 4:30 AM",
          "4:30 AM to 5:00 AM",
          "5:00 AM to 5:30 AM",
          "5:30 AM to 6:00 AM",
          "6:00 AM to 6:30 AM",
          "6:30 AM to 7:00 AM",
          "7:00 AM to 7:30 AM",
          "7:30 AM to 8:00 AM",
          "8:00 AM to 8:30 AM",
          "8:30 AM to 9:00 AM",
          "9:00 AM to 9:30 AM",
          "9:30 AM to 10:00 AM",
          "10:00 AM to 10:30 AM",
          "10:30 AM to 11:00 AM",
          "11:00 AM to 11:30 AM",
          "11:30 AM to 12:00 PM",
          "12:00 PM to 12:30 PM",
          "12:30 PM to 1:00 PM",
          "1:00 PM to 1:30 PM",
          "1:30 PM to 2:00 PM",
          "2:00 PM to 2:30 PM",
          "2:30 PM to 3:00 PM",
          "3:00 PM to 3:30 PM",
          "3:30 PM to 4:00 PM",
          "4:00 PM to 4:30 PM",
          "4:30 PM to 5:00 PM",
          "5:00 PM to 5:30 PM",
          "5:30 PM to 6:00 PM",
          "6:00 PM to 6:30 PM",
          "6:30 PM to 7:00 PM",
          "7:00 PM to 7:30 PM",
          "7:30 PM to 8:00 PM",
          "8:00 PM to 8:30 PM",
          "8:30 PM to 9:00 PM",
          "9:00 PM to 9:30 PM",
          "9:30 PM to 10:00 PM",
          "10:00 PM to 10:30 PM",
          "10:30 PM to 11:00 PM",
          "11:00 PM to 11:30 PM",
          "11:30 PM to 12:00 AM"
         ],
         "categoryorder": "array",
         "domain": [
          0,
          1
         ],
         "title": {
          "text": "Half Hour of the Day"
         }
        },
        "yaxis": {
         "anchor": "x",
         "domain": [
          0,
          1
         ],
         "title": {
          "text": "Half Hour View Index"
         }
        }
       }
      }
     },
     "metadata": {},
     "output_type": "display_data"
    },
    {
     "name": "stdout",
     "output_type": "stream",
     "text": [
      "HTML file saved as c:\\Users\\Rameez\\OneDrive\\Dashboard Project\\Assets\\Cross Posting Helper\\Half_Hour_View_Index.html\n"
     ]
    }
   ],
   "source": [
    "#Define the order of half-hour time ranges\n",
    "time_range_order = [\n",
    "    \"12:00 AM to 12:30 AM\", \"12:30 AM to 1:00 AM\", \"1:00 AM to 1:30 AM\", \"1:30 AM to 2:00 AM\",\n",
    "    \"2:00 AM to 2:30 AM\", \"2:30 AM to 3:00 AM\", \"3:00 AM to 3:30 AM\", \"3:30 AM to 4:00 AM\",\n",
    "    \"4:00 AM to 4:30 AM\", \"4:30 AM to 5:00 AM\", \"5:00 AM to 5:30 AM\", \"5:30 AM to 6:00 AM\",\n",
    "    \"6:00 AM to 6:30 AM\", \"6:30 AM to 7:00 AM\", \"7:00 AM to 7:30 AM\", \"7:30 AM to 8:00 AM\",\n",
    "    \"8:00 AM to 8:30 AM\", \"8:30 AM to 9:00 AM\", \"9:00 AM to 9:30 AM\", \"9:30 AM to 10:00 AM\",\n",
    "    \"10:00 AM to 10:30 AM\", \"10:30 AM to 11:00 AM\", \"11:00 AM to 11:30 AM\", \"11:30 AM to 12:00 PM\",\n",
    "    \"12:00 PM to 12:30 PM\", \"12:30 PM to 1:00 PM\", \"1:00 PM to 1:30 PM\", \"1:30 PM to 2:00 PM\",\n",
    "    \"2:00 PM to 2:30 PM\", \"2:30 PM to 3:00 PM\", \"3:00 PM to 3:30 PM\", \"3:30 PM to 4:00 PM\",\n",
    "    \"4:00 PM to 4:30 PM\", \"4:30 PM to 5:00 PM\", \"5:00 PM to 5:30 PM\", \"5:30 PM to 6:00 PM\",\n",
    "    \"6:00 PM to 6:30 PM\", \"6:30 PM to 7:00 PM\", \"7:00 PM to 7:30 PM\", \"7:30 PM to 8:00 PM\",\n",
    "    \"8:00 PM to 8:30 PM\", \"8:30 PM to 9:00 PM\", \"9:00 PM to 9:30 PM\", \"9:30 PM to 10:00 PM\",\n",
    "    \"10:00 PM to 10:30 PM\", \"10:30 PM to 11:00 PM\", \"11:00 PM to 11:30 PM\", \"11:30 PM to 12:00 AM\"\n",
    "]\n",
    "\n",
    "#Create the figure with a dark mode template\n",
    "fig_view_index_halfhour = px.bar(\n",
    "    video_index_halfhour_data,\n",
    "    x='Half Hour of the Day',\n",
    "    y='Half Hour View Index',\n",
    "    title='Half Hour View Index',\n",
    "    labels={'Half Hour View Index': 'Half Hour View Index'},\n",
    "    template='plotly_dark',\n",
    ")\n",
    "#Set the order of half-hour time ranges on the x-axis\n",
    "fig_view_index_halfhour.update_xaxes(categoryorder='array', categoryarray=time_range_order)\n",
    "\n",
    "#Show the plot\n",
    "fig_view_index_halfhour.show()\n",
    "\n",
    "#Define the HTML file path using the relative path to 'Exploratory Analysis Graphs'\n",
    "html_file_name = 'Half_Hour_View_Index.html'\n",
    "html_file_path = os.path.join(cross_posting_dir, html_file_name)\n",
    "\n",
    "#Save the Plotly figure as an HTML file\n",
    "fig_view_index_halfhour.write_html(html_file_path)\n",
    "\n",
    "print(f'HTML file saved as {html_file_path}')"
   ]
  },
  {
   "cell_type": "markdown",
   "metadata": {},
   "source": [
    "Since you can clearly see from these graphs, we can get an idea of the ideal weekday and ideal half hour to post"
   ]
  },
  {
   "cell_type": "code",
   "execution_count": 65,
   "metadata": {},
   "outputs": [
    {
     "name": "stdout",
     "output_type": "stream",
     "text": [
      "\u001b[1m\u001b[96m\u001b[4mPredictor : Ideal Weekday and Ideal Half Hour of the Day for Publishing Videos\u001b[0m\n",
      "Ideal Weekdays to Post the Videos are Thursday & Monday\n",
      "Ideal Half Hours to Post the Videos are 12:00 AM to 12:30 AM & 3:30 AM to 4:00 AM in Universal Time Zone\n",
      "HTML file saved as c:\\Users\\Rameez\\OneDrive\\Dashboard Project\\Assets\\Cross Posting Helper\\Ideal_Weekday_and_Ideal_Half_Hour_of_the_Day_for_Publishing_Videos.html\n"
     ]
    }
   ],
   "source": [
    "#Select the two highest values for \"Weekday View Index\" from video_index_weekday_data\n",
    "top_weekdays = video_index_weekday_data.nlargest(2, 'Weekday View Index')['Weekday'].tolist()\n",
    "\n",
    "#Select the two highest values for \"Half Hour View Index\" from video_index_halfhour_data\n",
    "top_halfhours = video_index_halfhour_data.nlargest(2, 'Half Hour View Index')['Half Hour of the Day'].tolist()\n",
    "\n",
    "#Print the header in large font size\n",
    "print(\"\\033[1m\\033[96m\\033[4mPredictor : Ideal Weekday and Ideal Half Hour of the Day for Publishing Videos\\033[0m\")\n",
    "\n",
    "#Print the output\n",
    "print(f\"Ideal Weekdays to Post the Videos are {top_weekdays[0]} & {top_weekdays[1]}\")\n",
    "print(f\"Ideal Half Hours to Post the Videos are {top_halfhours[0]} & {top_halfhours[1]} in Universal Time Zone\")\n",
    "\n",
    "#Define the HTML file path using the relative path to 'Exploratory Analysis Graphs'\n",
    "html_file_name = 'Ideal_Weekday_and_Ideal_Half_Hour_of_the_Day_for_Publishing_Videos.html'\n",
    "html_file_path = os.path.join(cross_posting_dir, html_file_name)\n",
    "\n",
    "#Content to write to the HTML file\n",
    "html_content = f\"<h1>Ideal Weekdays to Post the Videos are {top_weekdays[0]} & {top_weekdays[1]}</h1>\"\n",
    "html_content += f\"<h1>Ideal Half Hours to Post the Videos are {top_halfhours[0]} & {top_halfhours[1]} in Universal Time Zone</h1>\"\n",
    "\n",
    "#Save the content to the HTML file\n",
    "with open(html_file_path, 'w') as f:\n",
    "    f.write(html_content)\n",
    "\n",
    "print(f'HTML file saved as {html_file_path}')\n"
   ]
  }
 ],
 "metadata": {
  "kernelspec": {
   "display_name": "base",
   "language": "python",
   "name": "python3"
  },
  "language_info": {
   "codemirror_mode": {
    "name": "ipython",
    "version": 3
   },
   "file_extension": ".py",
   "mimetype": "text/x-python",
   "name": "python",
   "nbconvert_exporter": "python",
   "pygments_lexer": "ipython3",
   "version": "3.10.9"
  }
 },
 "nbformat": 4,
 "nbformat_minor": 2
}
