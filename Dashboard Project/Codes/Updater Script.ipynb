{
 "cells": [
  {
   "cell_type": "markdown",
   "metadata": {},
   "source": [
    "# Creating a Schdular to update the database and dashboard"
   ]
  },
  {
   "cell_type": "code",
   "execution_count": 2,
   "metadata": {},
   "outputs": [],
   "source": [
    "#import the libraries\n",
    "import schedule\n",
    "import time\n",
    "import subprocess"
   ]
  },
  {
   "cell_type": "code",
   "execution_count": 3,
   "metadata": {},
   "outputs": [],
   "source": [
    "#Define a function for the job\n",
    "def run_notebooks():\n",
    "    notebooks = [\n",
    "        \"C:\\\\Users\\\\Rameez\\\\OneDrive\\\\MSc Data Science\\\\Assignment\\\\Dashboard Project\\\\Codes\\\\Data Extracting.ipynb\",\n",
    "        \"C:\\\\Users\\\\Rameez\\\\OneDrive\\\\MSc Data Science\\\\Assignment\\\\Dashboard Project\\\\Codes\\\\Data Analysing.ipynb\",\n",
    "        \"C:\\\\Users\\\\Rameez\\\\OneDrive\\\\MSc Data Science\\\\Assignment\\\\Dashboard Project\\\\Codes\\\\Dash Board.ipynb\",\n",
    "    ]\n",
    "\n",
    "    for notebook in notebooks:\n",
    "        subprocess.run(['jupyter', 'nbconvert', '--to', 'notebook', '--execute', notebook])"
   ]
  },
  {
   "cell_type": "code",
   "execution_count": 4,
   "metadata": {},
   "outputs": [
    {
     "data": {
      "text/plain": [
       "Every 1 day at 00:00:00 do run_notebooks() (last run: [never], next run: 2023-10-09 00:00:00)"
      ]
     },
     "execution_count": 4,
     "metadata": {},
     "output_type": "execute_result"
    }
   ],
   "source": [
    "#Schedule the script to run daily at midnight\n",
    "schedule.every().day.at(\"00:00\").do(run_notebooks)"
   ]
  },
  {
   "cell_type": "code",
   "execution_count": null,
   "metadata": {},
   "outputs": [],
   "source": [
    "#Infinite loop to keep the script running\n",
    "while True:\n",
    "    schedule.run_pending()\n",
    "    time.sleep(1)"
   ]
  }
 ],
 "metadata": {
  "kernelspec": {
   "display_name": "base",
   "language": "python",
   "name": "python3"
  },
  "language_info": {
   "codemirror_mode": {
    "name": "ipython",
    "version": 3
   },
   "file_extension": ".py",
   "mimetype": "text/x-python",
   "name": "python",
   "nbconvert_exporter": "python",
   "pygments_lexer": "ipython3",
   "version": "3.10.9"
  }
 },
 "nbformat": 4,
 "nbformat_minor": 2
}
