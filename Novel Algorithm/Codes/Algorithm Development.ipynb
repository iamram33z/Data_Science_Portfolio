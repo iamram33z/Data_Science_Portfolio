{
 "cells": [
  {
   "cell_type": "markdown",
   "metadata": {},
   "source": [
    "## Cleaning the Data Set"
   ]
  },
  {
   "cell_type": "code",
   "execution_count": 2,
   "metadata": {},
   "outputs": [],
   "source": [
    "#import os\n",
    "import os"
   ]
  },
  {
   "cell_type": "code",
   "execution_count": 3,
   "metadata": {},
   "outputs": [
    {
     "name": "stdout",
     "output_type": "stream",
     "text": [
      "e:\\Git\\Data_Science_Portfolio\\Novel Algorithm\\Codes\n",
      "e:\\Git\\Data_Science_Portfolio\\Novel Algorithm\n",
      "e:\\Git\\Data_Science_Portfolio\\Novel Algorithm\\Data Sets\n"
     ]
    }
   ],
   "source": [
    "#Define directories\n",
    "current_dir = os.getcwd()\n",
    "novel_algorithm_dir = os.path.dirname(current_dir)\n",
    "data_sets_dir = os.path.join(novel_algorithm_dir, 'Data Sets')\n",
    "\n",
    "print (current_dir)\n",
    "print (novel_algorithm_dir)\n",
    "print (data_sets_dir)"
   ]
  },
  {
   "cell_type": "code",
   "execution_count": 4,
   "metadata": {},
   "outputs": [],
   "source": [
    "#Import pandas\n",
    "import pandas as pd"
   ]
  },
  {
   "cell_type": "code",
   "execution_count": 5,
   "metadata": {},
   "outputs": [
    {
     "name": "stdout",
     "output_type": "stream",
     "text": [
      "      id  candidate_id            tweet_id  polarity  subjectivity  \\\n",
      "0  57486             3  770728672433143808  0.000000      0.000000   \n",
      "1  57536             3  770729424207618048  0.000000      0.000000   \n",
      "2  57586             3  770730086978977796 -0.472222      0.555556   \n",
      "3  57632             2  770748036972773376  0.000000      0.000000   \n",
      "4  57682             1  770748065531723778 -0.125000      0.375000   \n",
      "\n",
      "   retweet_count  favorite_count  device  retweeted_status_id lang state  \\\n",
      "0              0               0       1                  NaN   tr   NaN   \n",
      "1              0               0       1                  NaN   en   NaN   \n",
      "2              0               0       1                  NaN   en   NaN   \n",
      "3              0               0       0                  NaN   en   NaN   \n",
      "4              0               0       5                  NaN   en   NaN   \n",
      "\n",
      "                                          tweet_text           created_at  \\\n",
      "0  Ne farkınız var DAIŞ, El-Kaide, El Nusra, YPG ...  2016-08-30 21:03:29   \n",
      "1  @BarackObama the way you showed up in Louisian...  2016-08-30 21:06:28   \n",
      "2  White house not taking tax avoid seriously! Ap...  2016-08-30 21:09:06   \n",
      "3  politico: .realDonaldTrump, HillaryClinton ple...  2016-08-30 22:20:26   \n",
      "4  She's over due by 250 days. https://t.co/IfOO9...  2016-08-30 22:20:33   \n",
      "\n",
      "           inserted_at           updated_at  tw_user_id  latitude  longitude  \n",
      "0  2016-08-30 21:03:29  2016-08-30 21:03:29         NaN       NaN        NaN  \n",
      "1  2016-08-30 21:06:29  2016-08-30 21:06:29         NaN       NaN        NaN  \n",
      "2  2016-08-30 21:09:07  2016-08-30 21:09:07         NaN       NaN        NaN  \n",
      "3  2016-08-30 22:20:26  2016-08-30 22:20:26         NaN       NaN        NaN  \n",
      "4  2016-08-30 22:20:33  2016-08-30 22:20:33         NaN       NaN        NaN  \n"
     ]
    }
   ],
   "source": [
    "#Define the relative path to the CSV file\n",
    "csv_file_name = '2016_US_election_tweets_100k.csv'\n",
    "csv_file_path = os.path.join(data_sets_dir, csv_file_name)\n",
    "\n",
    "#Check if the CSV file exists before reading it\n",
    "if os.path.isfile(csv_file_path):\n",
    "    #Read the CSV file into a DataFrame\n",
    "    tweets_data = pd.read_csv(csv_file_path)\n",
    "    print(tweets_data.head())\n",
    "else:\n",
    "    print(f\"CSV file '{csv_file_name}' does not exist in the 'Database' folder.\")"
   ]
  },
  {
   "cell_type": "code",
   "execution_count": 6,
   "metadata": {},
   "outputs": [
    {
     "data": {
      "text/html": [
       "<div>\n",
       "<style scoped>\n",
       "    .dataframe tbody tr th:only-of-type {\n",
       "        vertical-align: middle;\n",
       "    }\n",
       "\n",
       "    .dataframe tbody tr th {\n",
       "        vertical-align: top;\n",
       "    }\n",
       "\n",
       "    .dataframe thead th {\n",
       "        text-align: right;\n",
       "    }\n",
       "</style>\n",
       "<table border=\"1\" class=\"dataframe\">\n",
       "  <thead>\n",
       "    <tr style=\"text-align: right;\">\n",
       "      <th></th>\n",
       "      <th>polarity</th>\n",
       "      <th>subjectivity</th>\n",
       "    </tr>\n",
       "  </thead>\n",
       "  <tbody>\n",
       "    <tr>\n",
       "      <th>2</th>\n",
       "      <td>-0.472222</td>\n",
       "      <td>0.555556</td>\n",
       "    </tr>\n",
       "    <tr>\n",
       "      <th>4</th>\n",
       "      <td>-0.125000</td>\n",
       "      <td>0.375000</td>\n",
       "    </tr>\n",
       "    <tr>\n",
       "      <th>5</th>\n",
       "      <td>0.100000</td>\n",
       "      <td>0.400000</td>\n",
       "    </tr>\n",
       "    <tr>\n",
       "      <th>6</th>\n",
       "      <td>0.200000</td>\n",
       "      <td>0.500000</td>\n",
       "    </tr>\n",
       "    <tr>\n",
       "      <th>7</th>\n",
       "      <td>-0.406250</td>\n",
       "      <td>0.843750</td>\n",
       "    </tr>\n",
       "    <tr>\n",
       "      <th>...</th>\n",
       "      <td>...</td>\n",
       "      <td>...</td>\n",
       "    </tr>\n",
       "    <tr>\n",
       "      <th>99991</th>\n",
       "      <td>0.000000</td>\n",
       "      <td>1.000000</td>\n",
       "    </tr>\n",
       "    <tr>\n",
       "      <th>99993</th>\n",
       "      <td>0.800000</td>\n",
       "      <td>0.750000</td>\n",
       "    </tr>\n",
       "    <tr>\n",
       "      <th>99994</th>\n",
       "      <td>-0.266667</td>\n",
       "      <td>0.733333</td>\n",
       "    </tr>\n",
       "    <tr>\n",
       "      <th>99996</th>\n",
       "      <td>-0.150000</td>\n",
       "      <td>0.200000</td>\n",
       "    </tr>\n",
       "    <tr>\n",
       "      <th>99998</th>\n",
       "      <td>0.800000</td>\n",
       "      <td>0.750000</td>\n",
       "    </tr>\n",
       "  </tbody>\n",
       "</table>\n",
       "<p>50912 rows × 2 columns</p>\n",
       "</div>"
      ],
      "text/plain": [
       "       polarity  subjectivity\n",
       "2     -0.472222      0.555556\n",
       "4     -0.125000      0.375000\n",
       "5      0.100000      0.400000\n",
       "6      0.200000      0.500000\n",
       "7     -0.406250      0.843750\n",
       "...         ...           ...\n",
       "99991  0.000000      1.000000\n",
       "99993  0.800000      0.750000\n",
       "99994 -0.266667      0.733333\n",
       "99996 -0.150000      0.200000\n",
       "99998  0.800000      0.750000\n",
       "\n",
       "[50912 rows x 2 columns]"
      ]
     },
     "execution_count": 6,
     "metadata": {},
     "output_type": "execute_result"
    }
   ],
   "source": [
    "#Get disired columns\n",
    "df = tweets_data[['polarity','subjectivity']]\n",
    "df\n",
    "\n",
    "#remove rows with zero values for both columns\n",
    "df = df[(df.T != 0).any()]\n",
    "df"
   ]
  },
  {
   "cell_type": "code",
   "execution_count": 7,
   "metadata": {},
   "outputs": [],
   "source": [
    "df_old = df.copy()\n",
    "df_new = df.copy()"
   ]
  },
  {
   "cell_type": "markdown",
   "metadata": {},
   "source": [
    "## Traditional K-means Clustering for Community Detection"
   ]
  },
  {
   "cell_type": "code",
   "execution_count": 8,
   "metadata": {},
   "outputs": [
    {
     "data": {
      "text/html": [
       "<div>\n",
       "<style scoped>\n",
       "    .dataframe tbody tr th:only-of-type {\n",
       "        vertical-align: middle;\n",
       "    }\n",
       "\n",
       "    .dataframe tbody tr th {\n",
       "        vertical-align: top;\n",
       "    }\n",
       "\n",
       "    .dataframe thead th {\n",
       "        text-align: right;\n",
       "    }\n",
       "</style>\n",
       "<table border=\"1\" class=\"dataframe\">\n",
       "  <thead>\n",
       "    <tr style=\"text-align: right;\">\n",
       "      <th></th>\n",
       "      <th>polarity</th>\n",
       "      <th>subjectivity</th>\n",
       "    </tr>\n",
       "  </thead>\n",
       "  <tbody>\n",
       "    <tr>\n",
       "      <th>2</th>\n",
       "      <td>-0.472222</td>\n",
       "      <td>0.555556</td>\n",
       "    </tr>\n",
       "    <tr>\n",
       "      <th>4</th>\n",
       "      <td>-0.125000</td>\n",
       "      <td>0.375000</td>\n",
       "    </tr>\n",
       "    <tr>\n",
       "      <th>5</th>\n",
       "      <td>0.100000</td>\n",
       "      <td>0.400000</td>\n",
       "    </tr>\n",
       "    <tr>\n",
       "      <th>6</th>\n",
       "      <td>0.200000</td>\n",
       "      <td>0.500000</td>\n",
       "    </tr>\n",
       "    <tr>\n",
       "      <th>7</th>\n",
       "      <td>-0.406250</td>\n",
       "      <td>0.843750</td>\n",
       "    </tr>\n",
       "    <tr>\n",
       "      <th>...</th>\n",
       "      <td>...</td>\n",
       "      <td>...</td>\n",
       "    </tr>\n",
       "    <tr>\n",
       "      <th>99991</th>\n",
       "      <td>0.000000</td>\n",
       "      <td>1.000000</td>\n",
       "    </tr>\n",
       "    <tr>\n",
       "      <th>99993</th>\n",
       "      <td>0.800000</td>\n",
       "      <td>0.750000</td>\n",
       "    </tr>\n",
       "    <tr>\n",
       "      <th>99994</th>\n",
       "      <td>-0.266667</td>\n",
       "      <td>0.733333</td>\n",
       "    </tr>\n",
       "    <tr>\n",
       "      <th>99996</th>\n",
       "      <td>-0.150000</td>\n",
       "      <td>0.200000</td>\n",
       "    </tr>\n",
       "    <tr>\n",
       "      <th>99998</th>\n",
       "      <td>0.800000</td>\n",
       "      <td>0.750000</td>\n",
       "    </tr>\n",
       "  </tbody>\n",
       "</table>\n",
       "<p>50912 rows × 2 columns</p>\n",
       "</div>"
      ],
      "text/plain": [
       "       polarity  subjectivity\n",
       "2     -0.472222      0.555556\n",
       "4     -0.125000      0.375000\n",
       "5      0.100000      0.400000\n",
       "6      0.200000      0.500000\n",
       "7     -0.406250      0.843750\n",
       "...         ...           ...\n",
       "99991  0.000000      1.000000\n",
       "99993  0.800000      0.750000\n",
       "99994 -0.266667      0.733333\n",
       "99996 -0.150000      0.200000\n",
       "99998  0.800000      0.750000\n",
       "\n",
       "[50912 rows x 2 columns]"
      ]
     },
     "execution_count": 8,
     "metadata": {},
     "output_type": "execute_result"
    }
   ],
   "source": [
    "df_old"
   ]
  },
  {
   "cell_type": "code",
   "execution_count": 9,
   "metadata": {},
   "outputs": [],
   "source": [
    "import pandas as pd\n",
    "import numpy as np\n",
    "from sklearn.cluster import KMeans\n",
    "from sklearn.preprocessing import StandardScaler"
   ]
  },
  {
   "cell_type": "code",
   "execution_count": 10,
   "metadata": {},
   "outputs": [],
   "source": [
    "#Custom Euclidean distance function\n",
    "def euclidean_distance(point1, point2):\n",
    "    return np.linalg.norm(point1 - point2)"
   ]
  },
  {
   "cell_type": "code",
   "execution_count": 11,
   "metadata": {},
   "outputs": [],
   "source": [
    "#Custom KMeans class\n",
    "class CustomKMeans(KMeans):\n",
    "    def _transform(self, X):\n",
    "        return np.array([euclidean_distance(X, center) for center in self.cluster_centers_])"
   ]
  },
  {
   "cell_type": "code",
   "execution_count": 12,
   "metadata": {},
   "outputs": [
    {
     "name": "stderr",
     "output_type": "stream",
     "text": [
      "c:\\ProgramData\\anaconda3\\Lib\\site-packages\\sklearn\\cluster\\_kmeans.py:870: FutureWarning: The default value of `n_init` will change from 10 to 'auto' in 1.4. Set the value of `n_init` explicitly to suppress the warning\n",
      "  warnings.warn(\n"
     ]
    },
    {
     "name": "stdout",
     "output_type": "stream",
     "text": [
      "       polarity  subjectivity  cluster\n",
      "2     -0.472222      0.555556        2\n",
      "4     -0.125000      0.375000        1\n",
      "5      0.100000      0.400000        1\n",
      "6      0.200000      0.500000        1\n",
      "7     -0.406250      0.843750        0\n",
      "...         ...           ...      ...\n",
      "99991  0.000000      1.000000        2\n",
      "99993  0.800000      0.750000        3\n",
      "99994 -0.266667      0.733333        2\n",
      "99996 -0.150000      0.200000        1\n",
      "99998  0.800000      0.750000        3\n",
      "\n",
      "[50912 rows x 3 columns]\n"
     ]
    }
   ],
   "source": [
    "#Specify the number of clusters\n",
    "k = 4  \n",
    "\n",
    "#Initialize the custom K-means\n",
    "kmeans_old = CustomKMeans(n_clusters=k, init='random', random_state=0)\n",
    "\n",
    "#Fit K-means to the data\n",
    "kmeans_old.fit(df_old)\n",
    "\n",
    "#Add cluster labels to the DataFrame\n",
    "df_old['cluster'] = kmeans_old.labels_\n",
    "\n",
    "#Access the cluster assignments in the 'cluster' column\n",
    "print(df_old)"
   ]
  },
  {
   "cell_type": "code",
   "execution_count": 13,
   "metadata": {},
   "outputs": [
    {
     "name": "stdout",
     "output_type": "stream",
     "text": [
      "Silhouette Score: 0.7471416860185163\n",
      "Calinski-Harabasz Index: 326325.9562386966\n",
      "Davies-Bouldin Index: 0.3735642685219846\n",
      "Inertia: 3062.5300119627705\n"
     ]
    }
   ],
   "source": [
    "from sklearn.metrics import silhouette_score, calinski_harabasz_score, davies_bouldin_score\n",
    "\n",
    "#Silhouette Score\n",
    "silhouette_avg = silhouette_score(df_old, kmeans_old.labels_)\n",
    "print(f\"Silhouette Score: {silhouette_avg}\")\n",
    "\n",
    "#Calinski-Harabasz Index\n",
    "calinski_harabasz = calinski_harabasz_score(df_old, kmeans_old.labels_)\n",
    "print(f\"Calinski-Harabasz Index: {calinski_harabasz}\")\n",
    "\n",
    "#Davies-Bouldin Index\n",
    "davies_bouldin = davies_bouldin_score(df_old, kmeans_old.labels_)\n",
    "print(f\"Davies-Bouldin Index: {davies_bouldin}\")\n",
    "\n",
    "#Inertia\n",
    "inertia = kmeans_old.inertia_\n",
    "print(f\"Inertia: {inertia}\")"
   ]
  },
  {
   "cell_type": "markdown",
   "metadata": {},
   "source": [
    "## New Algorithm Methodolgy of K-means Clustering for Community Detection"
   ]
  },
  {
   "cell_type": "code",
   "execution_count": 14,
   "metadata": {},
   "outputs": [
    {
     "data": {
      "text/html": [
       "<div>\n",
       "<style scoped>\n",
       "    .dataframe tbody tr th:only-of-type {\n",
       "        vertical-align: middle;\n",
       "    }\n",
       "\n",
       "    .dataframe tbody tr th {\n",
       "        vertical-align: top;\n",
       "    }\n",
       "\n",
       "    .dataframe thead th {\n",
       "        text-align: right;\n",
       "    }\n",
       "</style>\n",
       "<table border=\"1\" class=\"dataframe\">\n",
       "  <thead>\n",
       "    <tr style=\"text-align: right;\">\n",
       "      <th></th>\n",
       "      <th>polarity</th>\n",
       "      <th>subjectivity</th>\n",
       "    </tr>\n",
       "  </thead>\n",
       "  <tbody>\n",
       "    <tr>\n",
       "      <th>2</th>\n",
       "      <td>-0.472222</td>\n",
       "      <td>0.555556</td>\n",
       "    </tr>\n",
       "    <tr>\n",
       "      <th>4</th>\n",
       "      <td>-0.125000</td>\n",
       "      <td>0.375000</td>\n",
       "    </tr>\n",
       "    <tr>\n",
       "      <th>5</th>\n",
       "      <td>0.100000</td>\n",
       "      <td>0.400000</td>\n",
       "    </tr>\n",
       "    <tr>\n",
       "      <th>6</th>\n",
       "      <td>0.200000</td>\n",
       "      <td>0.500000</td>\n",
       "    </tr>\n",
       "    <tr>\n",
       "      <th>7</th>\n",
       "      <td>-0.406250</td>\n",
       "      <td>0.843750</td>\n",
       "    </tr>\n",
       "    <tr>\n",
       "      <th>...</th>\n",
       "      <td>...</td>\n",
       "      <td>...</td>\n",
       "    </tr>\n",
       "    <tr>\n",
       "      <th>99991</th>\n",
       "      <td>0.000000</td>\n",
       "      <td>1.000000</td>\n",
       "    </tr>\n",
       "    <tr>\n",
       "      <th>99993</th>\n",
       "      <td>0.800000</td>\n",
       "      <td>0.750000</td>\n",
       "    </tr>\n",
       "    <tr>\n",
       "      <th>99994</th>\n",
       "      <td>-0.266667</td>\n",
       "      <td>0.733333</td>\n",
       "    </tr>\n",
       "    <tr>\n",
       "      <th>99996</th>\n",
       "      <td>-0.150000</td>\n",
       "      <td>0.200000</td>\n",
       "    </tr>\n",
       "    <tr>\n",
       "      <th>99998</th>\n",
       "      <td>0.800000</td>\n",
       "      <td>0.750000</td>\n",
       "    </tr>\n",
       "  </tbody>\n",
       "</table>\n",
       "<p>50912 rows × 2 columns</p>\n",
       "</div>"
      ],
      "text/plain": [
       "       polarity  subjectivity\n",
       "2     -0.472222      0.555556\n",
       "4     -0.125000      0.375000\n",
       "5      0.100000      0.400000\n",
       "6      0.200000      0.500000\n",
       "7     -0.406250      0.843750\n",
       "...         ...           ...\n",
       "99991  0.000000      1.000000\n",
       "99993  0.800000      0.750000\n",
       "99994 -0.266667      0.733333\n",
       "99996 -0.150000      0.200000\n",
       "99998  0.800000      0.750000\n",
       "\n",
       "[50912 rows x 2 columns]"
      ]
     },
     "execution_count": 14,
     "metadata": {},
     "output_type": "execute_result"
    }
   ],
   "source": [
    "df_new"
   ]
  },
  {
   "cell_type": "code",
   "execution_count": 15,
   "metadata": {},
   "outputs": [],
   "source": [
    "import pandas as pd\n",
    "import numpy as np\n",
    "from sklearn.preprocessing import StandardScaler"
   ]
  },
  {
   "cell_type": "code",
   "execution_count": 16,
   "metadata": {},
   "outputs": [],
   "source": [
    "#Custom Katz distance function\n",
    "def katz_distance(point1, point2, A, beta=0.5):\n",
    "    S = np.linalg.inv(np.eye(A.shape[0]) - beta * A)\n",
    "    katz_distance = S[point1, point2]\n",
    "    return katz_distance"
   ]
  },
  {
   "cell_type": "code",
   "execution_count": 17,
   "metadata": {},
   "outputs": [],
   "source": [
    "#Custom KMeans class\n",
    "class CustomKMeans(KMeans):\n",
    "    def _transform(self, X):\n",
    "        return np.array([katz_distance(X, center, A, beta=0.5) for center in self.cluster_centers_])"
   ]
  },
  {
   "cell_type": "code",
   "execution_count": 18,
   "metadata": {},
   "outputs": [],
   "source": [
    "#specify the number of clusters\n",
    "k = 4"
   ]
  },
  {
   "cell_type": "code",
   "execution_count": 19,
   "metadata": {},
   "outputs": [],
   "source": [
    "#Initialize the custom K-means with spectral clustering results\n",
    "kmeans_new = CustomKMeans(n_clusters=k, init='k-means++', random_state=0)"
   ]
  },
  {
   "cell_type": "code",
   "execution_count": 20,
   "metadata": {},
   "outputs": [
    {
     "name": "stderr",
     "output_type": "stream",
     "text": [
      "c:\\ProgramData\\anaconda3\\Lib\\site-packages\\sklearn\\cluster\\_kmeans.py:870: FutureWarning: The default value of `n_init` will change from 10 to 'auto' in 1.4. Set the value of `n_init` explicitly to suppress the warning\n",
      "  warnings.warn(\n"
     ]
    },
    {
     "data": {
      "text/html": [
       "<style>#sk-container-id-1 {color: black;background-color: white;}#sk-container-id-1 pre{padding: 0;}#sk-container-id-1 div.sk-toggleable {background-color: white;}#sk-container-id-1 label.sk-toggleable__label {cursor: pointer;display: block;width: 100%;margin-bottom: 0;padding: 0.3em;box-sizing: border-box;text-align: center;}#sk-container-id-1 label.sk-toggleable__label-arrow:before {content: \"▸\";float: left;margin-right: 0.25em;color: #696969;}#sk-container-id-1 label.sk-toggleable__label-arrow:hover:before {color: black;}#sk-container-id-1 div.sk-estimator:hover label.sk-toggleable__label-arrow:before {color: black;}#sk-container-id-1 div.sk-toggleable__content {max-height: 0;max-width: 0;overflow: hidden;text-align: left;background-color: #f0f8ff;}#sk-container-id-1 div.sk-toggleable__content pre {margin: 0.2em;color: black;border-radius: 0.25em;background-color: #f0f8ff;}#sk-container-id-1 input.sk-toggleable__control:checked~div.sk-toggleable__content {max-height: 200px;max-width: 100%;overflow: auto;}#sk-container-id-1 input.sk-toggleable__control:checked~label.sk-toggleable__label-arrow:before {content: \"▾\";}#sk-container-id-1 div.sk-estimator input.sk-toggleable__control:checked~label.sk-toggleable__label {background-color: #d4ebff;}#sk-container-id-1 div.sk-label input.sk-toggleable__control:checked~label.sk-toggleable__label {background-color: #d4ebff;}#sk-container-id-1 input.sk-hidden--visually {border: 0;clip: rect(1px 1px 1px 1px);clip: rect(1px, 1px, 1px, 1px);height: 1px;margin: -1px;overflow: hidden;padding: 0;position: absolute;width: 1px;}#sk-container-id-1 div.sk-estimator {font-family: monospace;background-color: #f0f8ff;border: 1px dotted black;border-radius: 0.25em;box-sizing: border-box;margin-bottom: 0.5em;}#sk-container-id-1 div.sk-estimator:hover {background-color: #d4ebff;}#sk-container-id-1 div.sk-parallel-item::after {content: \"\";width: 100%;border-bottom: 1px solid gray;flex-grow: 1;}#sk-container-id-1 div.sk-label:hover label.sk-toggleable__label {background-color: #d4ebff;}#sk-container-id-1 div.sk-serial::before {content: \"\";position: absolute;border-left: 1px solid gray;box-sizing: border-box;top: 0;bottom: 0;left: 50%;z-index: 0;}#sk-container-id-1 div.sk-serial {display: flex;flex-direction: column;align-items: center;background-color: white;padding-right: 0.2em;padding-left: 0.2em;position: relative;}#sk-container-id-1 div.sk-item {position: relative;z-index: 1;}#sk-container-id-1 div.sk-parallel {display: flex;align-items: stretch;justify-content: center;background-color: white;position: relative;}#sk-container-id-1 div.sk-item::before, #sk-container-id-1 div.sk-parallel-item::before {content: \"\";position: absolute;border-left: 1px solid gray;box-sizing: border-box;top: 0;bottom: 0;left: 50%;z-index: -1;}#sk-container-id-1 div.sk-parallel-item {display: flex;flex-direction: column;z-index: 1;position: relative;background-color: white;}#sk-container-id-1 div.sk-parallel-item:first-child::after {align-self: flex-end;width: 50%;}#sk-container-id-1 div.sk-parallel-item:last-child::after {align-self: flex-start;width: 50%;}#sk-container-id-1 div.sk-parallel-item:only-child::after {width: 0;}#sk-container-id-1 div.sk-dashed-wrapped {border: 1px dashed gray;margin: 0 0.4em 0.5em 0.4em;box-sizing: border-box;padding-bottom: 0.4em;background-color: white;}#sk-container-id-1 div.sk-label label {font-family: monospace;font-weight: bold;display: inline-block;line-height: 1.2em;}#sk-container-id-1 div.sk-label-container {text-align: center;}#sk-container-id-1 div.sk-container {/* jupyter's `normalize.less` sets `[hidden] { display: none; }` but bootstrap.min.css set `[hidden] { display: none !important; }` so we also need the `!important` here to be able to override the default hidden behavior on the sphinx rendered scikit-learn.org. See: https://github.com/scikit-learn/scikit-learn/issues/21755 */display: inline-block !important;position: relative;}#sk-container-id-1 div.sk-text-repr-fallback {display: none;}</style><div id=\"sk-container-id-1\" class=\"sk-top-container\"><div class=\"sk-text-repr-fallback\"><pre>CustomKMeans(n_clusters=4, random_state=0)</pre><b>In a Jupyter environment, please rerun this cell to show the HTML representation or trust the notebook. <br />On GitHub, the HTML representation is unable to render, please try loading this page with nbviewer.org.</b></div><div class=\"sk-container\" hidden><div class=\"sk-item\"><div class=\"sk-estimator sk-toggleable\"><input class=\"sk-toggleable__control sk-hidden--visually\" id=\"sk-estimator-id-1\" type=\"checkbox\" checked><label for=\"sk-estimator-id-1\" class=\"sk-toggleable__label sk-toggleable__label-arrow\">CustomKMeans</label><div class=\"sk-toggleable__content\"><pre>CustomKMeans(n_clusters=4, random_state=0)</pre></div></div></div></div></div>"
      ],
      "text/plain": [
       "CustomKMeans(n_clusters=4, random_state=0)"
      ]
     },
     "execution_count": 20,
     "metadata": {},
     "output_type": "execute_result"
    }
   ],
   "source": [
    "#Fit K-means to the data\n",
    "kmeans_new.fit(df_new)"
   ]
  },
  {
   "cell_type": "code",
   "execution_count": 21,
   "metadata": {},
   "outputs": [
    {
     "name": "stdout",
     "output_type": "stream",
     "text": [
      "       polarity  subjectivity  cluster\n",
      "2     -0.472222      0.555556        3\n",
      "4     -0.125000      0.375000        2\n",
      "5      0.100000      0.400000        2\n",
      "6      0.200000      0.500000        2\n",
      "7     -0.406250      0.843750        0\n",
      "...         ...           ...      ...\n",
      "99991  0.000000      1.000000        3\n",
      "99993  0.800000      0.750000        1\n",
      "99994 -0.266667      0.733333        3\n",
      "99996 -0.150000      0.200000        2\n",
      "99998  0.800000      0.750000        1\n",
      "\n",
      "[50912 rows x 3 columns]\n"
     ]
    }
   ],
   "source": [
    "\n",
    "#Add cluster labels to the DataFrame\n",
    "df_new['cluster'] = kmeans_new.labels_\n",
    "\n",
    "#Access the cluster assignments in the 'cluster' column\n",
    "print(df_new)"
   ]
  },
  {
   "cell_type": "code",
   "execution_count": 22,
   "metadata": {},
   "outputs": [
    {
     "name": "stdout",
     "output_type": "stream",
     "text": [
      "Silhouette Score: 0.7471060313989988\n",
      "Calinski-Harabasz Index: 299860.37213536917\n",
      "Davies-Bouldin Index: 0.36555131212671843\n",
      "Inertia: 3062.5363355000295\n"
     ]
    }
   ],
   "source": [
    "from sklearn.metrics import silhouette_score, calinski_harabasz_score, davies_bouldin_score\n",
    "\n",
    "#Silhouette Score\n",
    "silhouette_avg = silhouette_score(df_new, kmeans_new.labels_)\n",
    "print(f\"Silhouette Score: {silhouette_avg}\")\n",
    "\n",
    "#Calinski-Harabasz Index\n",
    "calinski_harabasz = calinski_harabasz_score(df_new, kmeans_new.labels_)\n",
    "print(f\"Calinski-Harabasz Index: {calinski_harabasz}\")\n",
    "\n",
    "#Davies-Bouldin Index\n",
    "davies_bouldin = davies_bouldin_score(df_new, kmeans_new.labels_)\n",
    "print(f\"Davies-Bouldin Index: {davies_bouldin}\")\n",
    "\n",
    "#Inertia\n",
    "inertia = kmeans_new.inertia_\n",
    "print(f\"Inertia: {inertia}\")"
   ]
  }
 ],
 "metadata": {
  "kernelspec": {
   "display_name": "base",
   "language": "python",
   "name": "python3"
  },
  "language_info": {
   "codemirror_mode": {
    "name": "ipython",
    "version": 3
   },
   "file_extension": ".py",
   "mimetype": "text/x-python",
   "name": "python",
   "nbconvert_exporter": "python",
   "pygments_lexer": "ipython3",
   "version": "3.11.7"
  }
 },
 "nbformat": 4,
 "nbformat_minor": 2
}
