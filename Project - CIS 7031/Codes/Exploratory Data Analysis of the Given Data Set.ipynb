{
 "cells": [
  {
   "cell_type": "markdown",
   "metadata": {},
   "source": [
    "# Exploratory Data Analysis of the Given Data Set (Before Cleaning)"
   ]
  },
  {
   "cell_type": "markdown",
   "metadata": {},
   "source": [
    "## Read the Data Sets"
   ]
  },
  {
   "cell_type": "markdown",
   "metadata": {},
   "source": [
    "Import initial libraries"
   ]
  },
  {
   "cell_type": "code",
   "execution_count": 18,
   "metadata": {},
   "outputs": [],
   "source": [
    "#import pandas\n",
    "import pandas as pd\n",
    "\n",
    "#import os\n",
    "import os"
   ]
  },
  {
   "cell_type": "markdown",
   "metadata": {},
   "source": [
    "Initiate with relative paths"
   ]
  },
  {
   "cell_type": "code",
   "execution_count": 19,
   "metadata": {},
   "outputs": [
    {
     "name": "stdout",
     "output_type": "stream",
     "text": [
      "c:\\Users\\Rameez\\OneDrive\\MSc Data Science\\Assignment - CIS 7031 Programming for Data Analysis\\Project - CIS 7031\\Codes\n",
      "c:\\Users\\Rameez\\OneDrive\\MSc Data Science\\Assignment - CIS 7031 Programming for Data Analysis\\Project - CIS 7031\n",
      "c:\\Users\\Rameez\\OneDrive\\MSc Data Science\\Assignment - CIS 7031 Programming for Data Analysis\\Project - CIS 7031\\Data_Base\\Data_Set_2023 - CIS 7031\n",
      "c:\\Users\\Rameez\\OneDrive\\MSc Data Science\\Assignment - CIS 7031 Programming for Data Analysis\\Project - CIS 7031\\Data_Base\\Cleaned_Data_Set\n"
     ]
    }
   ],
   "source": [
    "#Define directories\n",
    "current_dir = os.getcwd()\n",
    "project_dir = os.path.dirname(current_dir)\n",
    "data_sets_dir = os.path.join(project_dir,'Data_Base', 'Data_Set_2023 - CIS 7031')\n",
    "cleaned_data_sets_dir = os.path.join(project_dir,'Data_Base', 'Cleaned_Data_Set')\n",
    "\n",
    "print (current_dir)\n",
    "print (project_dir)\n",
    "print (data_sets_dir)\n",
    "print (cleaned_data_sets_dir)"
   ]
  },
  {
   "cell_type": "markdown",
   "metadata": {},
   "source": [
    "Read data from csv files to Python environment for processing"
   ]
  },
  {
   "cell_type": "code",
   "execution_count": 20,
   "metadata": {},
   "outputs": [],
   "source": [
    "#Define the CSV files\n",
    "employee_csv_file = 'Employee.csv'\n",
    "fields_csv_file = 'Fields.csv'\n",
    "workcode_csv_file = 'WorkCode.csv'\n",
    "workdetails_csv_file = 'WorkDetails.csv'\n",
    "\n",
    "#Define the relative path to the CSV files\n",
    "employee_csv_path = os.path.join(data_sets_dir, employee_csv_file)\n",
    "fields_csv_path = os.path.join(data_sets_dir, fields_csv_file)\n",
    "workcode_csv_path = os.path.join(data_sets_dir, workcode_csv_file)\n",
    "workdetails_csv_path = os.path.join(data_sets_dir, workdetails_csv_file)"
   ]
  },
  {
   "cell_type": "code",
   "execution_count": 21,
   "metadata": {},
   "outputs": [],
   "source": [
    "#Read the CSV files\n",
    "Employee_df = pd.read_csv(employee_csv_path)\n",
    "Fields_df = pd.read_csv(fields_csv_path)\n",
    "WorkCode_df = pd.read_csv(workcode_csv_path)\n",
    "WorkDetails_df = pd.read_csv(workdetails_csv_path)"
   ]
  },
  {
   "cell_type": "markdown",
   "metadata": {},
   "source": [
    "## Detailed description of each datasets, their properties and relationships"
   ]
  },
  {
   "cell_type": "markdown",
   "metadata": {},
   "source": [
    "Employee Data Set"
   ]
  },
  {
   "cell_type": "code",
   "execution_count": 22,
   "metadata": {},
   "outputs": [
    {
     "data": {
      "text/html": [
       "<div>\n",
       "<style scoped>\n",
       "    .dataframe tbody tr th:only-of-type {\n",
       "        vertical-align: middle;\n",
       "    }\n",
       "\n",
       "    .dataframe tbody tr th {\n",
       "        vertical-align: top;\n",
       "    }\n",
       "\n",
       "    .dataframe thead th {\n",
       "        text-align: right;\n",
       "    }\n",
       "</style>\n",
       "<table border=\"1\" class=\"dataframe\">\n",
       "  <thead>\n",
       "    <tr style=\"text-align: right;\">\n",
       "      <th></th>\n",
       "      <th>Estate</th>\n",
       "      <th>Division</th>\n",
       "      <th>EmpCode</th>\n",
       "      <th>Gender</th>\n",
       "      <th>DateofJoin</th>\n",
       "      <th>PAMACT</th>\n",
       "    </tr>\n",
       "  </thead>\n",
       "  <tbody>\n",
       "    <tr>\n",
       "      <th>0</th>\n",
       "      <td>EST</td>\n",
       "      <td>HO</td>\n",
       "      <td>2727</td>\n",
       "      <td>F</td>\n",
       "      <td>1/1/1972</td>\n",
       "      <td>A</td>\n",
       "    </tr>\n",
       "    <tr>\n",
       "      <th>1</th>\n",
       "      <td>EST</td>\n",
       "      <td>HO</td>\n",
       "      <td>11211</td>\n",
       "      <td>M</td>\n",
       "      <td>2/27/1975</td>\n",
       "      <td>T</td>\n",
       "    </tr>\n",
       "    <tr>\n",
       "      <th>2</th>\n",
       "      <td>EST</td>\n",
       "      <td>HO</td>\n",
       "      <td>29593</td>\n",
       "      <td>F</td>\n",
       "      <td>11/9/1972</td>\n",
       "      <td>A</td>\n",
       "    </tr>\n",
       "    <tr>\n",
       "      <th>3</th>\n",
       "      <td>EST</td>\n",
       "      <td>HO</td>\n",
       "      <td>37774</td>\n",
       "      <td>F</td>\n",
       "      <td>5/2/1973</td>\n",
       "      <td>A</td>\n",
       "    </tr>\n",
       "    <tr>\n",
       "      <th>4</th>\n",
       "      <td>EST</td>\n",
       "      <td>HO</td>\n",
       "      <td>37875</td>\n",
       "      <td>F</td>\n",
       "      <td>5/2/1973</td>\n",
       "      <td>A</td>\n",
       "    </tr>\n",
       "    <tr>\n",
       "      <th>...</th>\n",
       "      <td>...</td>\n",
       "      <td>...</td>\n",
       "      <td>...</td>\n",
       "      <td>...</td>\n",
       "      <td>...</td>\n",
       "      <td>...</td>\n",
       "    </tr>\n",
       "    <tr>\n",
       "      <th>2010</th>\n",
       "      <td>EST</td>\n",
       "      <td>UD</td>\n",
       "      <td>6063939</td>\n",
       "      <td>M</td>\n",
       "      <td>NaN</td>\n",
       "      <td>T</td>\n",
       "    </tr>\n",
       "    <tr>\n",
       "      <th>2011</th>\n",
       "      <td>EST</td>\n",
       "      <td>UD</td>\n",
       "      <td>6064040</td>\n",
       "      <td>M</td>\n",
       "      <td>NaN</td>\n",
       "      <td>A</td>\n",
       "    </tr>\n",
       "    <tr>\n",
       "      <th>2012</th>\n",
       "      <td>EST</td>\n",
       "      <td>UD</td>\n",
       "      <td>6064141</td>\n",
       "      <td>M</td>\n",
       "      <td>NaN</td>\n",
       "      <td>A</td>\n",
       "    </tr>\n",
       "    <tr>\n",
       "      <th>2013</th>\n",
       "      <td>EST</td>\n",
       "      <td>UD</td>\n",
       "      <td>6064242</td>\n",
       "      <td>M</td>\n",
       "      <td>NaN</td>\n",
       "      <td>T</td>\n",
       "    </tr>\n",
       "    <tr>\n",
       "      <th>2014</th>\n",
       "      <td>EST</td>\n",
       "      <td>UD</td>\n",
       "      <td>6064848</td>\n",
       "      <td>M</td>\n",
       "      <td>NaN</td>\n",
       "      <td>A</td>\n",
       "    </tr>\n",
       "  </tbody>\n",
       "</table>\n",
       "<p>2015 rows × 6 columns</p>\n",
       "</div>"
      ],
      "text/plain": [
       "     Estate Division  EmpCode Gender DateofJoin PAMACT\n",
       "0       EST       HO     2727      F   1/1/1972      A\n",
       "1       EST       HO    11211      M  2/27/1975      T\n",
       "2       EST       HO    29593      F  11/9/1972      A\n",
       "3       EST       HO    37774      F   5/2/1973      A\n",
       "4       EST       HO    37875      F   5/2/1973      A\n",
       "...     ...      ...      ...    ...        ...    ...\n",
       "2010    EST       UD  6063939      M        NaN      T\n",
       "2011    EST       UD  6064040      M        NaN      A\n",
       "2012    EST       UD  6064141      M        NaN      A\n",
       "2013    EST       UD  6064242      M        NaN      T\n",
       "2014    EST       UD  6064848      M        NaN      A\n",
       "\n",
       "[2015 rows x 6 columns]"
      ]
     },
     "execution_count": 22,
     "metadata": {},
     "output_type": "execute_result"
    }
   ],
   "source": [
    "Employee_df"
   ]
  },
  {
   "cell_type": "code",
   "execution_count": 23,
   "metadata": {},
   "outputs": [
    {
     "name": "stdout",
     "output_type": "stream",
     "text": [
      "<class 'pandas.core.frame.DataFrame'>\n",
      "RangeIndex: 2015 entries, 0 to 2014\n",
      "Data columns (total 6 columns):\n",
      " #   Column      Non-Null Count  Dtype \n",
      "---  ------      --------------  ----- \n",
      " 0   Estate      2015 non-null   object\n",
      " 1   Division    2015 non-null   object\n",
      " 2   EmpCode     2015 non-null   int64 \n",
      " 3   Gender      2015 non-null   object\n",
      " 4   DateofJoin  1847 non-null   object\n",
      " 5   PAMACT      2009 non-null   object\n",
      "dtypes: int64(1), object(5)\n",
      "memory usage: 94.6+ KB\n"
     ]
    }
   ],
   "source": [
    "Employee_df.info()"
   ]
  },
  {
   "cell_type": "code",
   "execution_count": 24,
   "metadata": {},
   "outputs": [
    {
     "data": {
      "text/plain": [
       "Estate           1\n",
       "Division         5\n",
       "EmpCode       1932\n",
       "Gender           2\n",
       "DateofJoin     733\n",
       "PAMACT           4\n",
       "dtype: int64"
      ]
     },
     "execution_count": 24,
     "metadata": {},
     "output_type": "execute_result"
    }
   ],
   "source": [
    "#Count No of unique values in each columns of Employee data set\n",
    "Employee_df.nunique()"
   ]
  },
  {
   "cell_type": "code",
   "execution_count": 25,
   "metadata": {},
   "outputs": [
    {
     "data": {
      "text/plain": [
       "Division\n",
       "UD    596\n",
       "HO    487\n",
       "MD    377\n",
       "ST    318\n",
       "LD    237\n",
       "Name: count, dtype: int64"
      ]
     },
     "execution_count": 25,
     "metadata": {},
     "output_type": "execute_result"
    }
   ],
   "source": [
    "#No of Employees in each Division\n",
    "Employee_df['Division'].value_counts()"
   ]
  },
  {
   "cell_type": "code",
   "execution_count": 26,
   "metadata": {},
   "outputs": [
    {
     "data": {
      "image/png": "[encoded data removed]",
      "text/plain": [
       "<Figure size 640x480 with 1 Axes>"
      ]
     },
     "metadata": {},
     "output_type": "display_data"
    }
   ],
   "source": [
    "#import matplotlib\n",
    "import matplotlib.pyplot as plt\n",
    "\n",
    "#Plot the No of Employees in each Division\n",
    "Employee_df['Division'].value_counts().plot(kind='bar')\n",
    "plt.xlabel('Division')\n",
    "plt.ylabel('No of Employees')\n",
    "plt.title('No of Employees in each Division')\n",
    "plt.show()"
   ]
  },
  {
   "cell_type": "markdown",
   "metadata": {},
   "source": [
    "Fields Data Set"
   ]
  },
  {
   "cell_type": "code",
   "execution_count": 27,
   "metadata": {},
   "outputs": [
    {
     "data": {
      "text/html": [
       "<div>\n",
       "<style scoped>\n",
       "    .dataframe tbody tr th:only-of-type {\n",
       "        vertical-align: middle;\n",
       "    }\n",
       "\n",
       "    .dataframe tbody tr th {\n",
       "        vertical-align: top;\n",
       "    }\n",
       "\n",
       "    .dataframe thead th {\n",
       "        text-align: right;\n",
       "    }\n",
       "</style>\n",
       "<table border=\"1\" class=\"dataframe\">\n",
       "  <thead>\n",
       "    <tr style=\"text-align: right;\">\n",
       "      <th></th>\n",
       "      <th>ID</th>\n",
       "      <th>EState</th>\n",
       "      <th>Division</th>\n",
       "      <th>CropType</th>\n",
       "      <th>Field</th>\n",
       "      <th>Area (Ha)</th>\n",
       "      <th>NumberOfTree</th>\n",
       "      <th>Type</th>\n",
       "    </tr>\n",
       "  </thead>\n",
       "  <tbody>\n",
       "    <tr>\n",
       "      <th>0</th>\n",
       "      <td>2727</td>\n",
       "      <td>EST</td>\n",
       "      <td>HO</td>\n",
       "      <td>T</td>\n",
       "      <td>6A</td>\n",
       "      <td>0.8</td>\n",
       "      <td>9302</td>\n",
       "      <td>R</td>\n",
       "    </tr>\n",
       "    <tr>\n",
       "      <th>1</th>\n",
       "      <td>11211</td>\n",
       "      <td>EST</td>\n",
       "      <td>HO</td>\n",
       "      <td>T</td>\n",
       "      <td>3A</td>\n",
       "      <td>3.3</td>\n",
       "      <td>48100</td>\n",
       "      <td>R</td>\n",
       "    </tr>\n",
       "    <tr>\n",
       "      <th>2</th>\n",
       "      <td>29593</td>\n",
       "      <td>EST</td>\n",
       "      <td>HO</td>\n",
       "      <td>T</td>\n",
       "      <td>19</td>\n",
       "      <td>5.8</td>\n",
       "      <td>30015</td>\n",
       "      <td>R</td>\n",
       "    </tr>\n",
       "    <tr>\n",
       "      <th>3</th>\n",
       "      <td>37774</td>\n",
       "      <td>EST</td>\n",
       "      <td>HO</td>\n",
       "      <td>T</td>\n",
       "      <td>4B</td>\n",
       "      <td>2.5</td>\n",
       "      <td>14308</td>\n",
       "      <td>R</td>\n",
       "    </tr>\n",
       "    <tr>\n",
       "      <th>4</th>\n",
       "      <td>37875</td>\n",
       "      <td>EST</td>\n",
       "      <td>HO</td>\n",
       "      <td>T</td>\n",
       "      <td>FW1</td>\n",
       "      <td>0.3</td>\n",
       "      <td>4500</td>\n",
       "      <td>C</td>\n",
       "    </tr>\n",
       "    <tr>\n",
       "      <th>...</th>\n",
       "      <td>...</td>\n",
       "      <td>...</td>\n",
       "      <td>...</td>\n",
       "      <td>...</td>\n",
       "      <td>...</td>\n",
       "      <td>...</td>\n",
       "      <td>...</td>\n",
       "      <td>...</td>\n",
       "    </tr>\n",
       "    <tr>\n",
       "      <th>1927</th>\n",
       "      <td>6063939</td>\n",
       "      <td>EST</td>\n",
       "      <td>UD</td>\n",
       "      <td>T</td>\n",
       "      <td>GEN</td>\n",
       "      <td>3.0</td>\n",
       "      <td>17631</td>\n",
       "      <td>R</td>\n",
       "    </tr>\n",
       "    <tr>\n",
       "      <th>1928</th>\n",
       "      <td>6064040</td>\n",
       "      <td>EST</td>\n",
       "      <td>UD</td>\n",
       "      <td>T</td>\n",
       "      <td>OTH</td>\n",
       "      <td>0.8</td>\n",
       "      <td>9257</td>\n",
       "      <td>O</td>\n",
       "    </tr>\n",
       "    <tr>\n",
       "      <th>1929</th>\n",
       "      <td>6064141</td>\n",
       "      <td>EST</td>\n",
       "      <td>UD</td>\n",
       "      <td>T</td>\n",
       "      <td>5</td>\n",
       "      <td>5.0</td>\n",
       "      <td>31505</td>\n",
       "      <td>R</td>\n",
       "    </tr>\n",
       "    <tr>\n",
       "      <th>1930</th>\n",
       "      <td>6064242</td>\n",
       "      <td>EST</td>\n",
       "      <td>UD</td>\n",
       "      <td>T</td>\n",
       "      <td>9</td>\n",
       "      <td>6.3</td>\n",
       "      <td>48919</td>\n",
       "      <td>R</td>\n",
       "    </tr>\n",
       "    <tr>\n",
       "      <th>1931</th>\n",
       "      <td>6064848</td>\n",
       "      <td>EST</td>\n",
       "      <td>UD</td>\n",
       "      <td>T</td>\n",
       "      <td>6B</td>\n",
       "      <td>0.8</td>\n",
       "      <td>9257</td>\n",
       "      <td>R</td>\n",
       "    </tr>\n",
       "  </tbody>\n",
       "</table>\n",
       "<p>1932 rows × 8 columns</p>\n",
       "</div>"
      ],
      "text/plain": [
       "           ID EState Division CropType Field  Area (Ha)  NumberOfTree Type\n",
       "0        2727    EST       HO        T    6A        0.8          9302    R\n",
       "1       11211    EST       HO        T    3A        3.3         48100    R\n",
       "2       29593    EST       HO        T    19        5.8         30015    R\n",
       "3       37774    EST       HO        T    4B        2.5         14308    R\n",
       "4       37875    EST       HO        T   FW1        0.3          4500    C\n",
       "...       ...    ...      ...      ...   ...        ...           ...  ...\n",
       "1927  6063939    EST       UD        T   GEN        3.0         17631    R\n",
       "1928  6064040    EST       UD        T   OTH        0.8          9257    O\n",
       "1929  6064141    EST       UD        T     5        5.0         31505    R\n",
       "1930  6064242    EST       UD        T     9        6.3         48919    R\n",
       "1931  6064848    EST       UD        T    6B        0.8          9257    R\n",
       "\n",
       "[1932 rows x 8 columns]"
      ]
     },
     "execution_count": 27,
     "metadata": {},
     "output_type": "execute_result"
    }
   ],
   "source": [
    "Fields_df"
   ]
  },
  {
   "cell_type": "code",
   "execution_count": 28,
   "metadata": {},
   "outputs": [
    {
     "name": "stdout",
     "output_type": "stream",
     "text": [
      "<class 'pandas.core.frame.DataFrame'>\n",
      "RangeIndex: 1932 entries, 0 to 1931\n",
      "Data columns (total 8 columns):\n",
      " #   Column        Non-Null Count  Dtype  \n",
      "---  ------        --------------  -----  \n",
      " 0   ID            1932 non-null   int64  \n",
      " 1   EState        1932 non-null   object \n",
      " 2   Division      1932 non-null   object \n",
      " 3   CropType      1932 non-null   object \n",
      " 4   Field         1932 non-null   object \n",
      " 5   Area (Ha)     1932 non-null   float64\n",
      " 6   NumberOfTree  1932 non-null   int64  \n",
      " 7   Type          1932 non-null   object \n",
      "dtypes: float64(1), int64(2), object(5)\n",
      "memory usage: 120.9+ KB\n"
     ]
    }
   ],
   "source": [
    "Fields_df.info()"
   ]
  },
  {
   "cell_type": "code",
   "execution_count": 29,
   "metadata": {},
   "outputs": [
    {
     "data": {
      "text/plain": [
       "ID              1932\n",
       "EState             1\n",
       "Division           5\n",
       "CropType           3\n",
       "Field             63\n",
       "Area (Ha)         18\n",
       "NumberOfTree      34\n",
       "Type               3\n",
       "dtype: int64"
      ]
     },
     "execution_count": 29,
     "metadata": {},
     "output_type": "execute_result"
    }
   ],
   "source": [
    "#Unique values in each columns of Fields data set\n",
    "Fields_df.nunique()"
   ]
  },
  {
   "cell_type": "code",
   "execution_count": 30,
   "metadata": {},
   "outputs": [
    {
     "data": {
      "image/png": "[encoded data removed]",
      "text/plain": [
       "<Figure size 1000x300 with 1 Axes>"
      ]
     },
     "metadata": {},
     "output_type": "display_data"
    }
   ],
   "source": [
    "#Plot Total NumberOfTree for each Field Verticle X labels\n",
    "Fields_df.groupby('Field')['NumberOfTree'].sum().plot(kind='bar', color='green', figsize=(10, 3), rot=0, align='center')\n",
    "plt.xlabel('Field')\n",
    "plt.xticks(fontsize=6,rotation=90)\n",
    "plt.ylabel('Total Number Of Trees')\n",
    "plt.title('Total Number Of Trees for each Field')\n",
    "plt.show()"
   ]
  },
  {
   "cell_type": "markdown",
   "metadata": {},
   "source": [
    "Work Code Data Set"
   ]
  },
  {
   "cell_type": "code",
   "execution_count": 31,
   "metadata": {},
   "outputs": [
    {
     "data": {
      "text/html": [
       "<div>\n",
       "<style scoped>\n",
       "    .dataframe tbody tr th:only-of-type {\n",
       "        vertical-align: middle;\n",
       "    }\n",
       "\n",
       "    .dataframe tbody tr th {\n",
       "        vertical-align: top;\n",
       "    }\n",
       "\n",
       "    .dataframe thead th {\n",
       "        text-align: right;\n",
       "    }\n",
       "</style>\n",
       "<table border=\"1\" class=\"dataframe\">\n",
       "  <thead>\n",
       "    <tr style=\"text-align: right;\">\n",
       "      <th></th>\n",
       "      <th>WorCode</th>\n",
       "      <th>Crop</th>\n",
       "      <th>Type</th>\n",
       "    </tr>\n",
       "  </thead>\n",
       "  <tbody>\n",
       "    <tr>\n",
       "      <th>0</th>\n",
       "      <td>CHC</td>\n",
       "      <td>T</td>\n",
       "      <td>R</td>\n",
       "    </tr>\n",
       "    <tr>\n",
       "      <th>1</th>\n",
       "      <td>TPR</td>\n",
       "      <td>T</td>\n",
       "      <td>R</td>\n",
       "    </tr>\n",
       "    <tr>\n",
       "      <th>2</th>\n",
       "      <td>MUS</td>\n",
       "      <td>T</td>\n",
       "      <td>R</td>\n",
       "    </tr>\n",
       "    <tr>\n",
       "      <th>3</th>\n",
       "      <td>WBN</td>\n",
       "      <td>T</td>\n",
       "      <td>R</td>\n",
       "    </tr>\n",
       "    <tr>\n",
       "      <th>4</th>\n",
       "      <td>EFD</td>\n",
       "      <td>T</td>\n",
       "      <td>R</td>\n",
       "    </tr>\n",
       "    <tr>\n",
       "      <th>...</th>\n",
       "      <td>...</td>\n",
       "      <td>...</td>\n",
       "      <td>...</td>\n",
       "    </tr>\n",
       "    <tr>\n",
       "      <th>478</th>\n",
       "      <td>FIG</td>\n",
       "      <td>T</td>\n",
       "      <td>C</td>\n",
       "    </tr>\n",
       "    <tr>\n",
       "      <th>479</th>\n",
       "      <td>FWW</td>\n",
       "      <td>T</td>\n",
       "      <td>O</td>\n",
       "    </tr>\n",
       "    <tr>\n",
       "      <th>480</th>\n",
       "      <td>ITP</td>\n",
       "      <td>T</td>\n",
       "      <td>R</td>\n",
       "    </tr>\n",
       "    <tr>\n",
       "      <th>481</th>\n",
       "      <td>RNO</td>\n",
       "      <td>T</td>\n",
       "      <td>O</td>\n",
       "    </tr>\n",
       "    <tr>\n",
       "      <th>482</th>\n",
       "      <td>HBU</td>\n",
       "      <td>T</td>\n",
       "      <td>O</td>\n",
       "    </tr>\n",
       "  </tbody>\n",
       "</table>\n",
       "<p>483 rows × 3 columns</p>\n",
       "</div>"
      ],
      "text/plain": [
       "    WorCode Crop Type\n",
       "0       CHC    T    R\n",
       "1       TPR    T    R\n",
       "2       MUS    T    R\n",
       "3       WBN    T    R\n",
       "4       EFD    T    R\n",
       "..      ...  ...  ...\n",
       "478     FIG    T    C\n",
       "479     FWW    T    O\n",
       "480     ITP    T    R\n",
       "481     RNO    T    O\n",
       "482     HBU    T    O\n",
       "\n",
       "[483 rows x 3 columns]"
      ]
     },
     "execution_count": 31,
     "metadata": {},
     "output_type": "execute_result"
    }
   ],
   "source": [
    "WorkCode_df"
   ]
  },
  {
   "cell_type": "code",
   "execution_count": 32,
   "metadata": {},
   "outputs": [
    {
     "name": "stdout",
     "output_type": "stream",
     "text": [
      "<class 'pandas.core.frame.DataFrame'>\n",
      "RangeIndex: 483 entries, 0 to 482\n",
      "Data columns (total 3 columns):\n",
      " #   Column   Non-Null Count  Dtype \n",
      "---  ------   --------------  ----- \n",
      " 0   WorCode  483 non-null    object\n",
      " 1   Crop     483 non-null    object\n",
      " 2   Type     479 non-null    object\n",
      "dtypes: object(3)\n",
      "memory usage: 11.4+ KB\n"
     ]
    }
   ],
   "source": [
    "WorkCode_df.info()"
   ]
  },
  {
   "cell_type": "code",
   "execution_count": 33,
   "metadata": {},
   "outputs": [
    {
     "data": {
      "text/plain": [
       "WorCode    481\n",
       "Crop         1\n",
       "Type         3\n",
       "dtype: int64"
      ]
     },
     "execution_count": 33,
     "metadata": {},
     "output_type": "execute_result"
    }
   ],
   "source": [
    "#Unique values in each columns of WorkCode data set\n",
    "WorkCode_df.nunique()"
   ]
  },
  {
   "cell_type": "code",
   "execution_count": 34,
   "metadata": {},
   "outputs": [
    {
     "data": {
      "image/png": "[encoded data removed]",
      "text/plain": [
       "<Figure size 1000x100 with 1 Axes>"
      ]
     },
     "metadata": {},
     "output_type": "display_data"
    }
   ],
   "source": [
    "#Plot horizontal bar graph the Number of WorkCode for each Type\n",
    "WorkCode_df['Type'].value_counts().plot(kind='barh',figsize=(10, 1), rot=0, align='center',color='Grey')\n",
    "plt.xlabel('Number of WorkCodes')\n",
    "plt.ylabel('Type')\n",
    "plt.title('Number of WorkCodes for each Type')\n",
    "plt.show()"
   ]
  },
  {
   "cell_type": "markdown",
   "metadata": {},
   "source": [
    "Work Details Data Set"
   ]
  },
  {
   "cell_type": "code",
   "execution_count": 35,
   "metadata": {},
   "outputs": [
    {
     "data": {
      "text/html": [
       "<div>\n",
       "<style scoped>\n",
       "    .dataframe tbody tr th:only-of-type {\n",
       "        vertical-align: middle;\n",
       "    }\n",
       "\n",
       "    .dataframe tbody tr th {\n",
       "        vertical-align: top;\n",
       "    }\n",
       "\n",
       "    .dataframe thead th {\n",
       "        text-align: right;\n",
       "    }\n",
       "</style>\n",
       "<table border=\"1\" class=\"dataframe\">\n",
       "  <thead>\n",
       "    <tr style=\"text-align: right;\">\n",
       "      <th></th>\n",
       "      <th>Year</th>\n",
       "      <th>Month</th>\n",
       "      <th>Day</th>\n",
       "      <th>Estate</th>\n",
       "      <th>Division</th>\n",
       "      <th>EmpCode</th>\n",
       "      <th>Work</th>\n",
       "      <th>Workdayfraction</th>\n",
       "      <th>Qty</th>\n",
       "      <th>ExtraKilos</th>\n",
       "    </tr>\n",
       "  </thead>\n",
       "  <tbody>\n",
       "    <tr>\n",
       "      <th>0</th>\n",
       "      <td>2012</td>\n",
       "      <td>6</td>\n",
       "      <td>20</td>\n",
       "      <td>EST</td>\n",
       "      <td>HO</td>\n",
       "      <td>41107</td>\n",
       "      <td>ABS</td>\n",
       "      <td>1.0</td>\n",
       "      <td>22.0</td>\n",
       "      <td>0.0</td>\n",
       "    </tr>\n",
       "    <tr>\n",
       "      <th>1</th>\n",
       "      <td>2012</td>\n",
       "      <td>7</td>\n",
       "      <td>9</td>\n",
       "      <td>EST</td>\n",
       "      <td>HO</td>\n",
       "      <td>41309</td>\n",
       "      <td>PLK</td>\n",
       "      <td>1.0</td>\n",
       "      <td>22.0</td>\n",
       "      <td>0.0</td>\n",
       "    </tr>\n",
       "    <tr>\n",
       "      <th>2</th>\n",
       "      <td>2012</td>\n",
       "      <td>9</td>\n",
       "      <td>27</td>\n",
       "      <td>EST</td>\n",
       "      <td>HO</td>\n",
       "      <td>41309</td>\n",
       "      <td>PLK</td>\n",
       "      <td>1.0</td>\n",
       "      <td>22.0</td>\n",
       "      <td>0.0</td>\n",
       "    </tr>\n",
       "    <tr>\n",
       "      <th>3</th>\n",
       "      <td>2014</td>\n",
       "      <td>1</td>\n",
       "      <td>10</td>\n",
       "      <td>EST</td>\n",
       "      <td>HO</td>\n",
       "      <td>41309</td>\n",
       "      <td>PLK</td>\n",
       "      <td>1.0</td>\n",
       "      <td>22.0</td>\n",
       "      <td>0.0</td>\n",
       "    </tr>\n",
       "    <tr>\n",
       "      <th>4</th>\n",
       "      <td>2013</td>\n",
       "      <td>2</td>\n",
       "      <td>25</td>\n",
       "      <td>EST</td>\n",
       "      <td>HO</td>\n",
       "      <td>41309</td>\n",
       "      <td>PLK</td>\n",
       "      <td>1.5</td>\n",
       "      <td>22.0</td>\n",
       "      <td>0.0</td>\n",
       "    </tr>\n",
       "    <tr>\n",
       "      <th>...</th>\n",
       "      <td>...</td>\n",
       "      <td>...</td>\n",
       "      <td>...</td>\n",
       "      <td>...</td>\n",
       "      <td>...</td>\n",
       "      <td>...</td>\n",
       "      <td>...</td>\n",
       "      <td>...</td>\n",
       "      <td>...</td>\n",
       "      <td>...</td>\n",
       "    </tr>\n",
       "    <tr>\n",
       "      <th>1048570</th>\n",
       "      <td>2012</td>\n",
       "      <td>6</td>\n",
       "      <td>29</td>\n",
       "      <td>EST</td>\n",
       "      <td>UD</td>\n",
       "      <td>6065353</td>\n",
       "      <td>XXX</td>\n",
       "      <td>1.0</td>\n",
       "      <td>NaN</td>\n",
       "      <td>NaN</td>\n",
       "    </tr>\n",
       "    <tr>\n",
       "      <th>1048571</th>\n",
       "      <td>2012</td>\n",
       "      <td>3</td>\n",
       "      <td>31</td>\n",
       "      <td>EST</td>\n",
       "      <td>UD</td>\n",
       "      <td>6065353</td>\n",
       "      <td>XXX</td>\n",
       "      <td>1.0</td>\n",
       "      <td>NaN</td>\n",
       "      <td>NaN</td>\n",
       "    </tr>\n",
       "    <tr>\n",
       "      <th>1048572</th>\n",
       "      <td>2015</td>\n",
       "      <td>8</td>\n",
       "      <td>13</td>\n",
       "      <td>EST</td>\n",
       "      <td>UD</td>\n",
       "      <td>6065353</td>\n",
       "      <td>XXX</td>\n",
       "      <td>1.0</td>\n",
       "      <td>NaN</td>\n",
       "      <td>NaN</td>\n",
       "    </tr>\n",
       "    <tr>\n",
       "      <th>1048573</th>\n",
       "      <td>2015</td>\n",
       "      <td>8</td>\n",
       "      <td>14</td>\n",
       "      <td>EST</td>\n",
       "      <td>UD</td>\n",
       "      <td>6065353</td>\n",
       "      <td>XXX</td>\n",
       "      <td>1.0</td>\n",
       "      <td>NaN</td>\n",
       "      <td>NaN</td>\n",
       "    </tr>\n",
       "    <tr>\n",
       "      <th>1048574</th>\n",
       "      <td>2015</td>\n",
       "      <td>1</td>\n",
       "      <td>15</td>\n",
       "      <td>EST</td>\n",
       "      <td>UD</td>\n",
       "      <td>6065353</td>\n",
       "      <td>XXX</td>\n",
       "      <td>1.0</td>\n",
       "      <td>NaN</td>\n",
       "      <td>NaN</td>\n",
       "    </tr>\n",
       "  </tbody>\n",
       "</table>\n",
       "<p>1048575 rows × 10 columns</p>\n",
       "</div>"
      ],
      "text/plain": [
       "         Year  Month  Day Estate Division  EmpCode Work  Workdayfraction  \\\n",
       "0        2012      6   20    EST       HO    41107  ABS              1.0   \n",
       "1        2012      7    9    EST       HO    41309  PLK              1.0   \n",
       "2        2012      9   27    EST       HO    41309  PLK              1.0   \n",
       "3        2014      1   10    EST       HO    41309  PLK              1.0   \n",
       "4        2013      2   25    EST       HO    41309  PLK              1.5   \n",
       "...       ...    ...  ...    ...      ...      ...  ...              ...   \n",
       "1048570  2012      6   29    EST       UD  6065353  XXX              1.0   \n",
       "1048571  2012      3   31    EST       UD  6065353  XXX              1.0   \n",
       "1048572  2015      8   13    EST       UD  6065353  XXX              1.0   \n",
       "1048573  2015      8   14    EST       UD  6065353  XXX              1.0   \n",
       "1048574  2015      1   15    EST       UD  6065353  XXX              1.0   \n",
       "\n",
       "          Qty  ExtraKilos  \n",
       "0        22.0         0.0  \n",
       "1        22.0         0.0  \n",
       "2        22.0         0.0  \n",
       "3        22.0         0.0  \n",
       "4        22.0         0.0  \n",
       "...       ...         ...  \n",
       "1048570   NaN         NaN  \n",
       "1048571   NaN         NaN  \n",
       "1048572   NaN         NaN  \n",
       "1048573   NaN         NaN  \n",
       "1048574   NaN         NaN  \n",
       "\n",
       "[1048575 rows x 10 columns]"
      ]
     },
     "execution_count": 35,
     "metadata": {},
     "output_type": "execute_result"
    }
   ],
   "source": [
    "WorkDetails_df"
   ]
  },
  {
   "cell_type": "code",
   "execution_count": 36,
   "metadata": {},
   "outputs": [
    {
     "name": "stdout",
     "output_type": "stream",
     "text": [
      "<class 'pandas.core.frame.DataFrame'>\n",
      "RangeIndex: 1048575 entries, 0 to 1048574\n",
      "Data columns (total 10 columns):\n",
      " #   Column           Non-Null Count    Dtype  \n",
      "---  ------           --------------    -----  \n",
      " 0   Year             1048575 non-null  int64  \n",
      " 1   Month            1048575 non-null  int64  \n",
      " 2   Day              1048575 non-null  int64  \n",
      " 3   Estate           1048575 non-null  object \n",
      " 4   Division         1048575 non-null  object \n",
      " 5   EmpCode          1048575 non-null  int64  \n",
      " 6   Work             1048575 non-null  object \n",
      " 7   Workdayfraction  1048575 non-null  float64\n",
      " 8   Qty              907547 non-null   float64\n",
      " 9   ExtraKilos       949751 non-null   float64\n",
      "dtypes: float64(3), int64(4), object(3)\n",
      "memory usage: 80.0+ MB\n"
     ]
    }
   ],
   "source": [
    "WorkDetails_df.info()"
   ]
  },
  {
   "cell_type": "code",
   "execution_count": 37,
   "metadata": {},
   "outputs": [
    {
     "data": {
      "text/plain": [
       "Year                  4\n",
       "Month                12\n",
       "Day                  31\n",
       "Estate                1\n",
       "Division              5\n",
       "EmpCode            1561\n",
       "Work                137\n",
       "Workdayfraction       4\n",
       "Qty                2411\n",
       "ExtraKilos          428\n",
       "dtype: int64"
      ]
     },
     "execution_count": 37,
     "metadata": {},
     "output_type": "execute_result"
    }
   ],
   "source": [
    "#Unique values in each columns of WorkDetails data set\n",
    "WorkDetails_df.nunique()"
   ]
  },
  {
   "cell_type": "code",
   "execution_count": 38,
   "metadata": {},
   "outputs": [
    {
     "data": {
      "image/png": "[encoded data removed]",
      "text/plain": [
       "<Figure size 400x300 with 1 Axes>"
      ]
     },
     "metadata": {},
     "output_type": "display_data"
    }
   ],
   "source": [
    "#Plot Total Number of Qty for each Year\n",
    "WorkDetails_df.groupby('Year')['Qty'].sum().plot(kind='bar', color='DarkRed', figsize=(4, 3), rot=0, align='center')\n",
    "plt.xlabel('Year')\n",
    "plt.ylabel('Total Number of Qty')\n",
    "plt.title('Total Number of Qty for each Year')\n",
    "plt.show()"
   ]
  },
  {
   "cell_type": "code",
   "execution_count": 39,
   "metadata": {},
   "outputs": [
    {
     "data": {
      "image/png": "[encoded data removed]",
      "text/plain": [
       "<Figure size 1000x300 with 1 Axes>"
      ]
     },
     "metadata": {},
     "output_type": "display_data"
    }
   ],
   "source": [
    "#Plot Total Number of Qty for each Month\n",
    "WorkDetails_df.groupby('Month')['Qty'].sum().plot(kind='bar', color='#2c4055', figsize=(10, 3), rot=0, align='center')\n",
    "plt.xlabel('Month')\n",
    "plt.ylabel('Total Number of Qty')\n",
    "plt.title('Total Number of Qty for each Month')\n",
    "plt.show()"
   ]
  },
  {
   "cell_type": "code",
   "execution_count": 40,
   "metadata": {},
   "outputs": [
    {
     "data": {
      "image/png": "[encoded data removed]",
      "text/plain": [
       "<Figure size 1000x300 with 1 Axes>"
      ]
     },
     "metadata": {},
     "output_type": "display_data"
    }
   ],
   "source": [
    "#Plot Total Number of Qty for each Day of the Month\n",
    "WorkDetails_df.groupby('Day')['Qty'].sum().plot(kind='bar', color='DarkBlue', figsize=(10, 3), rot=0, align='center')\n",
    "plt.xlabel('Day')\n",
    "plt.ylabel('Total Number of Qty')\n",
    "plt.title('Total Number of Qty for each Day')\n",
    "plt.show()"
   ]
  },
  {
   "cell_type": "code",
   "execution_count": 41,
   "metadata": {},
   "outputs": [
    {
     "data": {
      "image/png": "[encoded data removed]",
      "text/plain": [
       "<Figure size 1000x600 with 1 Axes>"
      ]
     },
     "metadata": {},
     "output_type": "display_data"
    }
   ],
   "source": [
    "from matplotlib.colors import LinearSegmentedColormap\n",
    "\n",
    "#Plot the percentage of total qty for each division\n",
    "division_quantity_sum = WorkDetails_df.groupby('Division')['Qty'].sum()\n",
    "division_quantity_percentage = division_quantity_sum / division_quantity_sum.sum() * 100\n",
    "\n",
    "#Create a dark color gradient for the pie chart\n",
    "dark_colors = ['#6c8093','#566a7f','#40556b','#2c4055','#192937']\n",
    "dark_cmap = LinearSegmentedColormap.from_list('dark_cmap', dark_colors)\n",
    "\n",
    "#Create a pie chart of the percentage of total quantity for each division\n",
    "fig, ax = plt.subplots(figsize=(10, 6))\n",
    "wedges, texts, autotexts = ax.pie(division_quantity_percentage, labels=division_quantity_percentage.index, autopct='%1.1f%%')\n",
    "\n",
    "#Set the pie chart colors\n",
    "for i in range(len(wedges)):\n",
    "    wedges[i].set_color(dark_cmap(i / len(wedges)))\n",
    "\n",
    "#Set the pie chart title\n",
    "ax.set_title('Percentage of Total Quantity for Each Division')\n",
    "\n",
    "#Show the plot\n",
    "plt.show()"
   ]
  }
 ],
 "metadata": {
  "kernelspec": {
   "display_name": "base",
   "language": "python",
   "name": "python3"
  },
  "language_info": {
   "codemirror_mode": {
    "name": "ipython",
    "version": 3
   },
   "file_extension": ".py",
   "mimetype": "text/x-python",
   "name": "python",
   "nbconvert_exporter": "python",
   "pygments_lexer": "ipython3",
   "version": "3.10.9"
  }
 },
 "nbformat": 4,
 "nbformat_minor": 2
}
