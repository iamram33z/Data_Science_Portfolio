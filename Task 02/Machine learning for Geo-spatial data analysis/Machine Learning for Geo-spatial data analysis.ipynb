{
 "cells": [
  {
   "cell_type": "code",
   "execution_count": 233,
   "metadata": {},
   "outputs": [],
   "source": [
    "import pandas as pd\n",
    "import geopandas as gpd\n",
    "import os\n",
    "import matplotlib.pyplot as plt\n",
    "import seaborn as sns\n",
    "from sklearn.model_selection import train_test_split\n",
    "from sklearn.preprocessing import LabelEncoder\n",
    "from sklearn.ensemble import RandomForestClassifier\n",
    "from sklearn.metrics import accuracy_score, confusion_matrix, classification_report\n",
    "import plotly.express as px\n",
    "import numpy as np"
   ]
  },
  {
   "cell_type": "code",
   "execution_count": 234,
   "metadata": {},
   "outputs": [],
   "source": [
    "#Update the Database with relative paths\n",
    "current_dir = os.getcwd()\n",
    "WaterQualityData = pd.read_csv(os.path.join(current_dir, 'waterquality.csv'), encoding='latin1')"
   ]
  },
  {
   "cell_type": "code",
   "execution_count": 235,
   "metadata": {},
   "outputs": [
    {
     "data": {
      "text/html": [
       "<div>\n",
       "<style scoped>\n",
       "    .dataframe tbody tr th:only-of-type {\n",
       "        vertical-align: middle;\n",
       "    }\n",
       "\n",
       "    .dataframe tbody tr th {\n",
       "        vertical-align: top;\n",
       "    }\n",
       "\n",
       "    .dataframe thead th {\n",
       "        text-align: right;\n",
       "    }\n",
       "</style>\n",
       "<table border=\"1\" class=\"dataframe\">\n",
       "  <thead>\n",
       "    <tr style=\"text-align: right;\">\n",
       "      <th></th>\n",
       "      <th>STATION CODE</th>\n",
       "      <th>LOCATIONS</th>\n",
       "      <th>STATE</th>\n",
       "      <th>TEMP</th>\n",
       "      <th>DO</th>\n",
       "      <th>pH</th>\n",
       "      <th>CONDUCTIVITY</th>\n",
       "      <th>BOD</th>\n",
       "      <th>NITRATE_N_NITRITE_N</th>\n",
       "      <th>FECAL_COLIFORM</th>\n",
       "      <th>TOTAL_COLIFORM</th>\n",
       "    </tr>\n",
       "  </thead>\n",
       "  <tbody>\n",
       "    <tr>\n",
       "      <th>0</th>\n",
       "      <td>1312</td>\n",
       "      <td>GODAVARI AT JAYAKWADI DAM, AURNAGABAD,MAHARASHTRA</td>\n",
       "      <td>MAHARASHTRA</td>\n",
       "      <td>29.2</td>\n",
       "      <td>6.4</td>\n",
       "      <td>8.1</td>\n",
       "      <td>735.0</td>\n",
       "      <td>3.4</td>\n",
       "      <td>2.00</td>\n",
       "      <td>3.0</td>\n",
       "      <td>73.0</td>\n",
       "    </tr>\n",
       "    <tr>\n",
       "      <th>1</th>\n",
       "      <td>2177</td>\n",
       "      <td>GODAVARI RIVER NEAR SOMESHWAR TEMPLE.</td>\n",
       "      <td>MAHARASHTRA</td>\n",
       "      <td>24.5</td>\n",
       "      <td>6.0</td>\n",
       "      <td>8.0</td>\n",
       "      <td>270.0</td>\n",
       "      <td>3.1</td>\n",
       "      <td>2.00</td>\n",
       "      <td>72.0</td>\n",
       "      <td>182.0</td>\n",
       "    </tr>\n",
       "    <tr>\n",
       "      <th>2</th>\n",
       "      <td>2182</td>\n",
       "      <td>GODAVARI RIVER AT SAIKHEDA.</td>\n",
       "      <td>MAHARASHTRA</td>\n",
       "      <td>25.8</td>\n",
       "      <td>5.5</td>\n",
       "      <td>7.8</td>\n",
       "      <td>355.0</td>\n",
       "      <td>4.2</td>\n",
       "      <td>9.00</td>\n",
       "      <td>59.0</td>\n",
       "      <td>133.0</td>\n",
       "    </tr>\n",
       "    <tr>\n",
       "      <th>3</th>\n",
       "      <td>2179</td>\n",
       "      <td>GODAVARI RIVER AT HANUMAN GHAT, NASHIK CITY.</td>\n",
       "      <td>MAHARASHTRA</td>\n",
       "      <td>24.8</td>\n",
       "      <td>5.5</td>\n",
       "      <td>7.8</td>\n",
       "      <td>371.0</td>\n",
       "      <td>5.6</td>\n",
       "      <td>3.55</td>\n",
       "      <td>90.0</td>\n",
       "      <td>283.0</td>\n",
       "    </tr>\n",
       "    <tr>\n",
       "      <th>4</th>\n",
       "      <td>2183</td>\n",
       "      <td>GODAVARI RIVER AT NANDUR- MADMESHWAR DAM.</td>\n",
       "      <td>MAHARASHTRA</td>\n",
       "      <td>25.7</td>\n",
       "      <td>5.7</td>\n",
       "      <td>7.9</td>\n",
       "      <td>294.0</td>\n",
       "      <td>3.2</td>\n",
       "      <td>2.69</td>\n",
       "      <td>45.0</td>\n",
       "      <td>132.0</td>\n",
       "    </tr>\n",
       "    <tr>\n",
       "      <th>...</th>\n",
       "      <td>...</td>\n",
       "      <td>...</td>\n",
       "      <td>...</td>\n",
       "      <td>...</td>\n",
       "      <td>...</td>\n",
       "      <td>...</td>\n",
       "      <td>...</td>\n",
       "      <td>...</td>\n",
       "      <td>...</td>\n",
       "      <td>...</td>\n",
       "      <td>...</td>\n",
       "    </tr>\n",
       "    <tr>\n",
       "      <th>529</th>\n",
       "      <td>2940</td>\n",
       "      <td>GAPE- SAGAR LAKE, DUNGARPUR, RAJASTHAN</td>\n",
       "      <td>RAJASTHAN</td>\n",
       "      <td>23.2</td>\n",
       "      <td>4.4</td>\n",
       "      <td>8.1</td>\n",
       "      <td>538.0</td>\n",
       "      <td>1.2</td>\n",
       "      <td>1.00</td>\n",
       "      <td>5.0</td>\n",
       "      <td>14.0</td>\n",
       "    </tr>\n",
       "    <tr>\n",
       "      <th>530</th>\n",
       "      <td>2941</td>\n",
       "      <td>LAKE JAISAMAND, SALUMBER, UDAIPUR, POINT NO. 1...</td>\n",
       "      <td>RAJASTHAN</td>\n",
       "      <td>22.9</td>\n",
       "      <td>5.6</td>\n",
       "      <td>8.4</td>\n",
       "      <td>591.0</td>\n",
       "      <td>1.1</td>\n",
       "      <td>3.00</td>\n",
       "      <td>4.0</td>\n",
       "      <td>8.0</td>\n",
       "    </tr>\n",
       "    <tr>\n",
       "      <th>531</th>\n",
       "      <td>2942</td>\n",
       "      <td>LAKE JAISAMAND, SALUMBER, UDAIPUR, POINT NO. 2...</td>\n",
       "      <td>RAJASTHAN</td>\n",
       "      <td>22.9</td>\n",
       "      <td>5.8</td>\n",
       "      <td>8.5</td>\n",
       "      <td>588.0</td>\n",
       "      <td>1.2</td>\n",
       "      <td>3.00</td>\n",
       "      <td>4.0</td>\n",
       "      <td>6.0</td>\n",
       "    </tr>\n",
       "    <tr>\n",
       "      <th>532</th>\n",
       "      <td>2943</td>\n",
       "      <td>LODHA TALAB, BANSWARA- DUNGARPUR ROAD, BANSWAR...</td>\n",
       "      <td>RAJASTHAN</td>\n",
       "      <td>28.7</td>\n",
       "      <td>4.1</td>\n",
       "      <td>7.9</td>\n",
       "      <td>1133.0</td>\n",
       "      <td>2.3</td>\n",
       "      <td>2.00</td>\n",
       "      <td>7.0</td>\n",
       "      <td>67.0</td>\n",
       "    </tr>\n",
       "    <tr>\n",
       "      <th>533</th>\n",
       "      <td>2944</td>\n",
       "      <td>JALMAHAL, JAIPUR, RAJASTHAN</td>\n",
       "      <td>RAJASTHAN</td>\n",
       "      <td>24.3</td>\n",
       "      <td>3.5</td>\n",
       "      <td>8.9</td>\n",
       "      <td>2004.0</td>\n",
       "      <td>6.5</td>\n",
       "      <td>1.00</td>\n",
       "      <td>13.0</td>\n",
       "      <td>248.0</td>\n",
       "    </tr>\n",
       "  </tbody>\n",
       "</table>\n",
       "<p>534 rows × 11 columns</p>\n",
       "</div>"
      ],
      "text/plain": [
       "     STATION CODE                                          LOCATIONS  \\\n",
       "0            1312  GODAVARI AT JAYAKWADI DAM, AURNAGABAD,MAHARASHTRA   \n",
       "1            2177              GODAVARI RIVER NEAR SOMESHWAR TEMPLE.   \n",
       "2            2182                        GODAVARI RIVER AT SAIKHEDA.   \n",
       "3            2179       GODAVARI RIVER AT HANUMAN GHAT, NASHIK CITY.   \n",
       "4            2183          GODAVARI RIVER AT NANDUR- MADMESHWAR DAM.   \n",
       "..            ...                                                ...   \n",
       "529          2940             GAPE- SAGAR LAKE, DUNGARPUR, RAJASTHAN   \n",
       "530          2941  LAKE JAISAMAND, SALUMBER, UDAIPUR, POINT NO. 1...   \n",
       "531          2942  LAKE JAISAMAND, SALUMBER, UDAIPUR, POINT NO. 2...   \n",
       "532          2943  LODHA TALAB, BANSWARA- DUNGARPUR ROAD, BANSWAR...   \n",
       "533          2944                        JALMAHAL, JAIPUR, RAJASTHAN   \n",
       "\n",
       "           STATE  TEMP   DO   pH  CONDUCTIVITY  BOD  NITRATE_N_NITRITE_N  \\\n",
       "0    MAHARASHTRA  29.2  6.4  8.1         735.0  3.4                 2.00   \n",
       "1    MAHARASHTRA  24.5  6.0  8.0         270.0  3.1                 2.00   \n",
       "2    MAHARASHTRA  25.8  5.5  7.8         355.0  4.2                 9.00   \n",
       "3    MAHARASHTRA  24.8  5.5  7.8         371.0  5.6                 3.55   \n",
       "4    MAHARASHTRA  25.7  5.7  7.9         294.0  3.2                 2.69   \n",
       "..           ...   ...  ...  ...           ...  ...                  ...   \n",
       "529    RAJASTHAN  23.2  4.4  8.1         538.0  1.2                 1.00   \n",
       "530    RAJASTHAN  22.9  5.6  8.4         591.0  1.1                 3.00   \n",
       "531    RAJASTHAN  22.9  5.8  8.5         588.0  1.2                 3.00   \n",
       "532    RAJASTHAN  28.7  4.1  7.9        1133.0  2.3                 2.00   \n",
       "533    RAJASTHAN  24.3  3.5  8.9        2004.0  6.5                 1.00   \n",
       "\n",
       "     FECAL_COLIFORM  TOTAL_COLIFORM  \n",
       "0               3.0            73.0  \n",
       "1              72.0           182.0  \n",
       "2              59.0           133.0  \n",
       "3              90.0           283.0  \n",
       "4              45.0           132.0  \n",
       "..              ...             ...  \n",
       "529             5.0            14.0  \n",
       "530             4.0             8.0  \n",
       "531             4.0             6.0  \n",
       "532             7.0            67.0  \n",
       "533            13.0           248.0  \n",
       "\n",
       "[534 rows x 11 columns]"
      ]
     },
     "execution_count": 235,
     "metadata": {},
     "output_type": "execute_result"
    }
   ],
   "source": [
    "WaterQualityData"
   ]
  },
  {
   "cell_type": "code",
   "execution_count": 236,
   "metadata": {},
   "outputs": [
    {
     "data": {
      "text/html": [
       "<div>\n",
       "<style scoped>\n",
       "    .dataframe tbody tr th:only-of-type {\n",
       "        vertical-align: middle;\n",
       "    }\n",
       "\n",
       "    .dataframe tbody tr th {\n",
       "        vertical-align: top;\n",
       "    }\n",
       "\n",
       "    .dataframe thead th {\n",
       "        text-align: right;\n",
       "    }\n",
       "</style>\n",
       "<table border=\"1\" class=\"dataframe\">\n",
       "  <thead>\n",
       "    <tr style=\"text-align: right;\">\n",
       "      <th></th>\n",
       "      <th>STATE</th>\n",
       "      <th>TEMP</th>\n",
       "      <th>DO</th>\n",
       "      <th>pH</th>\n",
       "      <th>CONDUCTIVITY</th>\n",
       "      <th>BOD</th>\n",
       "      <th>NITRATE_N_NITRITE_N</th>\n",
       "      <th>FECAL_COLIFORM</th>\n",
       "      <th>TOTAL_COLIFORM</th>\n",
       "    </tr>\n",
       "  </thead>\n",
       "  <tbody>\n",
       "    <tr>\n",
       "      <th>0</th>\n",
       "      <td>MAHARASHTRA</td>\n",
       "      <td>29.2</td>\n",
       "      <td>6.4</td>\n",
       "      <td>8.1</td>\n",
       "      <td>735.0</td>\n",
       "      <td>3.4</td>\n",
       "      <td>2.00</td>\n",
       "      <td>3.0</td>\n",
       "      <td>73.0</td>\n",
       "    </tr>\n",
       "    <tr>\n",
       "      <th>1</th>\n",
       "      <td>MAHARASHTRA</td>\n",
       "      <td>24.5</td>\n",
       "      <td>6.0</td>\n",
       "      <td>8.0</td>\n",
       "      <td>270.0</td>\n",
       "      <td>3.1</td>\n",
       "      <td>2.00</td>\n",
       "      <td>72.0</td>\n",
       "      <td>182.0</td>\n",
       "    </tr>\n",
       "    <tr>\n",
       "      <th>2</th>\n",
       "      <td>MAHARASHTRA</td>\n",
       "      <td>25.8</td>\n",
       "      <td>5.5</td>\n",
       "      <td>7.8</td>\n",
       "      <td>355.0</td>\n",
       "      <td>4.2</td>\n",
       "      <td>9.00</td>\n",
       "      <td>59.0</td>\n",
       "      <td>133.0</td>\n",
       "    </tr>\n",
       "    <tr>\n",
       "      <th>3</th>\n",
       "      <td>MAHARASHTRA</td>\n",
       "      <td>24.8</td>\n",
       "      <td>5.5</td>\n",
       "      <td>7.8</td>\n",
       "      <td>371.0</td>\n",
       "      <td>5.6</td>\n",
       "      <td>3.55</td>\n",
       "      <td>90.0</td>\n",
       "      <td>283.0</td>\n",
       "    </tr>\n",
       "    <tr>\n",
       "      <th>4</th>\n",
       "      <td>MAHARASHTRA</td>\n",
       "      <td>25.7</td>\n",
       "      <td>5.7</td>\n",
       "      <td>7.9</td>\n",
       "      <td>294.0</td>\n",
       "      <td>3.2</td>\n",
       "      <td>2.69</td>\n",
       "      <td>45.0</td>\n",
       "      <td>132.0</td>\n",
       "    </tr>\n",
       "    <tr>\n",
       "      <th>...</th>\n",
       "      <td>...</td>\n",
       "      <td>...</td>\n",
       "      <td>...</td>\n",
       "      <td>...</td>\n",
       "      <td>...</td>\n",
       "      <td>...</td>\n",
       "      <td>...</td>\n",
       "      <td>...</td>\n",
       "      <td>...</td>\n",
       "    </tr>\n",
       "    <tr>\n",
       "      <th>529</th>\n",
       "      <td>RAJASTHAN</td>\n",
       "      <td>23.2</td>\n",
       "      <td>4.4</td>\n",
       "      <td>8.1</td>\n",
       "      <td>538.0</td>\n",
       "      <td>1.2</td>\n",
       "      <td>1.00</td>\n",
       "      <td>5.0</td>\n",
       "      <td>14.0</td>\n",
       "    </tr>\n",
       "    <tr>\n",
       "      <th>530</th>\n",
       "      <td>RAJASTHAN</td>\n",
       "      <td>22.9</td>\n",
       "      <td>5.6</td>\n",
       "      <td>8.4</td>\n",
       "      <td>591.0</td>\n",
       "      <td>1.1</td>\n",
       "      <td>3.00</td>\n",
       "      <td>4.0</td>\n",
       "      <td>8.0</td>\n",
       "    </tr>\n",
       "    <tr>\n",
       "      <th>531</th>\n",
       "      <td>RAJASTHAN</td>\n",
       "      <td>22.9</td>\n",
       "      <td>5.8</td>\n",
       "      <td>8.5</td>\n",
       "      <td>588.0</td>\n",
       "      <td>1.2</td>\n",
       "      <td>3.00</td>\n",
       "      <td>4.0</td>\n",
       "      <td>6.0</td>\n",
       "    </tr>\n",
       "    <tr>\n",
       "      <th>532</th>\n",
       "      <td>RAJASTHAN</td>\n",
       "      <td>28.7</td>\n",
       "      <td>4.1</td>\n",
       "      <td>7.9</td>\n",
       "      <td>1133.0</td>\n",
       "      <td>2.3</td>\n",
       "      <td>2.00</td>\n",
       "      <td>7.0</td>\n",
       "      <td>67.0</td>\n",
       "    </tr>\n",
       "    <tr>\n",
       "      <th>533</th>\n",
       "      <td>RAJASTHAN</td>\n",
       "      <td>24.3</td>\n",
       "      <td>3.5</td>\n",
       "      <td>8.9</td>\n",
       "      <td>2004.0</td>\n",
       "      <td>6.5</td>\n",
       "      <td>1.00</td>\n",
       "      <td>13.0</td>\n",
       "      <td>248.0</td>\n",
       "    </tr>\n",
       "  </tbody>\n",
       "</table>\n",
       "<p>534 rows × 9 columns</p>\n",
       "</div>"
      ],
      "text/plain": [
       "           STATE  TEMP   DO   pH  CONDUCTIVITY  BOD  NITRATE_N_NITRITE_N  \\\n",
       "0    MAHARASHTRA  29.2  6.4  8.1         735.0  3.4                 2.00   \n",
       "1    MAHARASHTRA  24.5  6.0  8.0         270.0  3.1                 2.00   \n",
       "2    MAHARASHTRA  25.8  5.5  7.8         355.0  4.2                 9.00   \n",
       "3    MAHARASHTRA  24.8  5.5  7.8         371.0  5.6                 3.55   \n",
       "4    MAHARASHTRA  25.7  5.7  7.9         294.0  3.2                 2.69   \n",
       "..           ...   ...  ...  ...           ...  ...                  ...   \n",
       "529    RAJASTHAN  23.2  4.4  8.1         538.0  1.2                 1.00   \n",
       "530    RAJASTHAN  22.9  5.6  8.4         591.0  1.1                 3.00   \n",
       "531    RAJASTHAN  22.9  5.8  8.5         588.0  1.2                 3.00   \n",
       "532    RAJASTHAN  28.7  4.1  7.9        1133.0  2.3                 2.00   \n",
       "533    RAJASTHAN  24.3  3.5  8.9        2004.0  6.5                 1.00   \n",
       "\n",
       "     FECAL_COLIFORM  TOTAL_COLIFORM  \n",
       "0               3.0            73.0  \n",
       "1              72.0           182.0  \n",
       "2              59.0           133.0  \n",
       "3              90.0           283.0  \n",
       "4              45.0           132.0  \n",
       "..              ...             ...  \n",
       "529             5.0            14.0  \n",
       "530             4.0             8.0  \n",
       "531             4.0             6.0  \n",
       "532             7.0            67.0  \n",
       "533            13.0           248.0  \n",
       "\n",
       "[534 rows x 9 columns]"
      ]
     },
     "execution_count": 236,
     "metadata": {},
     "output_type": "execute_result"
    }
   ],
   "source": [
    "#Remove STATION CODE &  LOCATION from the data\n",
    "WaterQualityData = WaterQualityData.drop(['STATION CODE', 'LOCATIONS'], axis=1)\n",
    "WaterQualityData"
   ]
  },
  {
   "cell_type": "code",
   "execution_count": 237,
   "metadata": {},
   "outputs": [],
   "source": [
    "#Remove Null values from the data\n",
    "WaterQualityData = WaterQualityData.dropna()"
   ]
  },
  {
   "cell_type": "code",
   "execution_count": 238,
   "metadata": {},
   "outputs": [
    {
     "data": {
      "text/plain": [
       "array(['MAHARASHTRA', 'ANDHRA PRADESH', 'UTTAR PRADESH', 'BIHAR',\n",
       "       'WEST BENGAL', 'ASSAM', 'KARNATAKA', 'HIMACHAL PRADESH', 'KERALA',\n",
       "       'TAMILNADU', 'MADHYA PRADESH', 'RAJASTHAN', 'PUNJAB', 'GOA',\n",
       "       'GUJARAT'], dtype=object)"
      ]
     },
     "execution_count": 238,
     "metadata": {},
     "output_type": "execute_result"
    }
   ],
   "source": [
    "#unique STATES in the data\n",
    "WaterQualityData['STATE'].unique()"
   ]
  },
  {
   "cell_type": "code",
   "execution_count": 239,
   "metadata": {},
   "outputs": [
    {
     "name": "stdout",
     "output_type": "stream",
     "text": [
      "Accuracy: 0.9111111111111111\n"
     ]
    }
   ],
   "source": [
    "#Encode the labels\n",
    "label_encoder = LabelEncoder()\n",
    "labels_encoded = label_encoder.fit_transform(WaterQualityData['STATE'])\n",
    "\n",
    "#Split the data into training and testing sets\n",
    "X_train, X_test, y_train, y_test = train_test_split(WaterQualityData.drop('STATE', axis=1), labels_encoded, test_size=0.2, random_state=42)\n",
    "\n",
    "#Create and train the classifier\n",
    "classifier = RandomForestClassifier()\n",
    "classifier.fit(X_train, y_train)\n",
    "\n",
    "#Evaluate the classifier\n",
    "accuracy = classifier.score(X_test, y_test)\n",
    "print(\"Accuracy:\", accuracy)"
   ]
  },
  {
   "cell_type": "code",
   "execution_count": 240,
   "metadata": {},
   "outputs": [
    {
     "name": "stderr",
     "output_type": "stream",
     "text": [
      "C:\\Users\\Rameez\\AppData\\Local\\Temp\\ipykernel_14072\\4041458643.py:2: SettingWithCopyWarning:\n",
      "\n",
      "\n",
      "A value is trying to be set on a copy of a slice from a DataFrame.\n",
      "Try using .loc[row_indexer,col_indexer] = value instead\n",
      "\n",
      "See the caveats in the documentation: https://pandas.pydata.org/pandas-docs/stable/user_guide/indexing.html#returning-a-view-versus-a-copy\n",
      "\n"
     ]
    },
    {
     "data": {
      "text/html": [
       "<div>\n",
       "<style scoped>\n",
       "    .dataframe tbody tr th:only-of-type {\n",
       "        vertical-align: middle;\n",
       "    }\n",
       "\n",
       "    .dataframe tbody tr th {\n",
       "        vertical-align: top;\n",
       "    }\n",
       "\n",
       "    .dataframe thead th {\n",
       "        text-align: right;\n",
       "    }\n",
       "</style>\n",
       "<table border=\"1\" class=\"dataframe\">\n",
       "  <thead>\n",
       "    <tr style=\"text-align: right;\">\n",
       "      <th></th>\n",
       "      <th>STATE</th>\n",
       "      <th>TEMP</th>\n",
       "      <th>DO</th>\n",
       "      <th>pH</th>\n",
       "      <th>CONDUCTIVITY</th>\n",
       "      <th>BOD</th>\n",
       "      <th>NITRATE_N_NITRITE_N</th>\n",
       "      <th>FECAL_COLIFORM</th>\n",
       "      <th>TOTAL_COLIFORM</th>\n",
       "      <th>PREDICTED_STATE</th>\n",
       "    </tr>\n",
       "  </thead>\n",
       "  <tbody>\n",
       "    <tr>\n",
       "      <th>0</th>\n",
       "      <td>MAHARASHTRA</td>\n",
       "      <td>29.2</td>\n",
       "      <td>6.4</td>\n",
       "      <td>8.1</td>\n",
       "      <td>735.0</td>\n",
       "      <td>3.4</td>\n",
       "      <td>2.00</td>\n",
       "      <td>3.0</td>\n",
       "      <td>73.0</td>\n",
       "      <td>MAHARASHTRA</td>\n",
       "    </tr>\n",
       "    <tr>\n",
       "      <th>1</th>\n",
       "      <td>MAHARASHTRA</td>\n",
       "      <td>24.5</td>\n",
       "      <td>6.0</td>\n",
       "      <td>8.0</td>\n",
       "      <td>270.0</td>\n",
       "      <td>3.1</td>\n",
       "      <td>2.00</td>\n",
       "      <td>72.0</td>\n",
       "      <td>182.0</td>\n",
       "      <td>MAHARASHTRA</td>\n",
       "    </tr>\n",
       "    <tr>\n",
       "      <th>2</th>\n",
       "      <td>MAHARASHTRA</td>\n",
       "      <td>25.8</td>\n",
       "      <td>5.5</td>\n",
       "      <td>7.8</td>\n",
       "      <td>355.0</td>\n",
       "      <td>4.2</td>\n",
       "      <td>9.00</td>\n",
       "      <td>59.0</td>\n",
       "      <td>133.0</td>\n",
       "      <td>MAHARASHTRA</td>\n",
       "    </tr>\n",
       "    <tr>\n",
       "      <th>3</th>\n",
       "      <td>MAHARASHTRA</td>\n",
       "      <td>24.8</td>\n",
       "      <td>5.5</td>\n",
       "      <td>7.8</td>\n",
       "      <td>371.0</td>\n",
       "      <td>5.6</td>\n",
       "      <td>3.55</td>\n",
       "      <td>90.0</td>\n",
       "      <td>283.0</td>\n",
       "      <td>MAHARASHTRA</td>\n",
       "    </tr>\n",
       "    <tr>\n",
       "      <th>4</th>\n",
       "      <td>MAHARASHTRA</td>\n",
       "      <td>25.7</td>\n",
       "      <td>5.7</td>\n",
       "      <td>7.9</td>\n",
       "      <td>294.0</td>\n",
       "      <td>3.2</td>\n",
       "      <td>2.69</td>\n",
       "      <td>45.0</td>\n",
       "      <td>132.0</td>\n",
       "      <td>MAHARASHTRA</td>\n",
       "    </tr>\n",
       "    <tr>\n",
       "      <th>...</th>\n",
       "      <td>...</td>\n",
       "      <td>...</td>\n",
       "      <td>...</td>\n",
       "      <td>...</td>\n",
       "      <td>...</td>\n",
       "      <td>...</td>\n",
       "      <td>...</td>\n",
       "      <td>...</td>\n",
       "      <td>...</td>\n",
       "      <td>...</td>\n",
       "    </tr>\n",
       "    <tr>\n",
       "      <th>529</th>\n",
       "      <td>RAJASTHAN</td>\n",
       "      <td>23.2</td>\n",
       "      <td>4.4</td>\n",
       "      <td>8.1</td>\n",
       "      <td>538.0</td>\n",
       "      <td>1.2</td>\n",
       "      <td>1.00</td>\n",
       "      <td>5.0</td>\n",
       "      <td>14.0</td>\n",
       "      <td>RAJASTHAN</td>\n",
       "    </tr>\n",
       "    <tr>\n",
       "      <th>530</th>\n",
       "      <td>RAJASTHAN</td>\n",
       "      <td>22.9</td>\n",
       "      <td>5.6</td>\n",
       "      <td>8.4</td>\n",
       "      <td>591.0</td>\n",
       "      <td>1.1</td>\n",
       "      <td>3.00</td>\n",
       "      <td>4.0</td>\n",
       "      <td>8.0</td>\n",
       "      <td>RAJASTHAN</td>\n",
       "    </tr>\n",
       "    <tr>\n",
       "      <th>531</th>\n",
       "      <td>RAJASTHAN</td>\n",
       "      <td>22.9</td>\n",
       "      <td>5.8</td>\n",
       "      <td>8.5</td>\n",
       "      <td>588.0</td>\n",
       "      <td>1.2</td>\n",
       "      <td>3.00</td>\n",
       "      <td>4.0</td>\n",
       "      <td>6.0</td>\n",
       "      <td>RAJASTHAN</td>\n",
       "    </tr>\n",
       "    <tr>\n",
       "      <th>532</th>\n",
       "      <td>RAJASTHAN</td>\n",
       "      <td>28.7</td>\n",
       "      <td>4.1</td>\n",
       "      <td>7.9</td>\n",
       "      <td>1133.0</td>\n",
       "      <td>2.3</td>\n",
       "      <td>2.00</td>\n",
       "      <td>7.0</td>\n",
       "      <td>67.0</td>\n",
       "      <td>RAJASTHAN</td>\n",
       "    </tr>\n",
       "    <tr>\n",
       "      <th>533</th>\n",
       "      <td>RAJASTHAN</td>\n",
       "      <td>24.3</td>\n",
       "      <td>3.5</td>\n",
       "      <td>8.9</td>\n",
       "      <td>2004.0</td>\n",
       "      <td>6.5</td>\n",
       "      <td>1.00</td>\n",
       "      <td>13.0</td>\n",
       "      <td>248.0</td>\n",
       "      <td>RAJASTHAN</td>\n",
       "    </tr>\n",
       "  </tbody>\n",
       "</table>\n",
       "<p>447 rows × 10 columns</p>\n",
       "</div>"
      ],
      "text/plain": [
       "           STATE  TEMP   DO   pH  CONDUCTIVITY  BOD  NITRATE_N_NITRITE_N  \\\n",
       "0    MAHARASHTRA  29.2  6.4  8.1         735.0  3.4                 2.00   \n",
       "1    MAHARASHTRA  24.5  6.0  8.0         270.0  3.1                 2.00   \n",
       "2    MAHARASHTRA  25.8  5.5  7.8         355.0  4.2                 9.00   \n",
       "3    MAHARASHTRA  24.8  5.5  7.8         371.0  5.6                 3.55   \n",
       "4    MAHARASHTRA  25.7  5.7  7.9         294.0  3.2                 2.69   \n",
       "..           ...   ...  ...  ...           ...  ...                  ...   \n",
       "529    RAJASTHAN  23.2  4.4  8.1         538.0  1.2                 1.00   \n",
       "530    RAJASTHAN  22.9  5.6  8.4         591.0  1.1                 3.00   \n",
       "531    RAJASTHAN  22.9  5.8  8.5         588.0  1.2                 3.00   \n",
       "532    RAJASTHAN  28.7  4.1  7.9        1133.0  2.3                 2.00   \n",
       "533    RAJASTHAN  24.3  3.5  8.9        2004.0  6.5                 1.00   \n",
       "\n",
       "     FECAL_COLIFORM  TOTAL_COLIFORM PREDICTED_STATE  \n",
       "0               3.0            73.0     MAHARASHTRA  \n",
       "1              72.0           182.0     MAHARASHTRA  \n",
       "2              59.0           133.0     MAHARASHTRA  \n",
       "3              90.0           283.0     MAHARASHTRA  \n",
       "4              45.0           132.0     MAHARASHTRA  \n",
       "..              ...             ...             ...  \n",
       "529             5.0            14.0       RAJASTHAN  \n",
       "530             4.0             8.0       RAJASTHAN  \n",
       "531             4.0             6.0       RAJASTHAN  \n",
       "532             7.0            67.0       RAJASTHAN  \n",
       "533            13.0           248.0       RAJASTHAN  \n",
       "\n",
       "[447 rows x 10 columns]"
      ]
     },
     "execution_count": 240,
     "metadata": {},
     "output_type": "execute_result"
    }
   ],
   "source": [
    "#Assign Predicted Labels to the data as a new column\n",
    "WaterQualityData['PREDICTED_STATE'] = label_encoder.inverse_transform(classifier.predict(WaterQualityData.drop('STATE', axis=1)))\n",
    "WaterQualityData"
   ]
  },
  {
   "cell_type": "code",
   "execution_count": 241,
   "metadata": {},
   "outputs": [],
   "source": [
    "#Confusion Matrix\n",
    "from sklearn.metrics import confusion_matrix\n",
    "confusion_matrix = confusion_matrix(WaterQualityData['STATE'], WaterQualityData['PREDICTED_STATE'])"
   ]
  },
  {
   "cell_type": "code",
   "execution_count": 242,
   "metadata": {},
   "outputs": [
    {
     "data": {
      "image/png": "[encoded data removed]",
      "text/plain": [
       "<Figure size 1000x1000 with 2 Axes>"
      ]
     },
     "metadata": {},
     "output_type": "display_data"
    }
   ],
   "source": [
    "plt.figure(figsize=(10, 10))\n",
    "sns.heatmap(confusion_matrix, annot=True, fmt=\".1f\", linewidths=.5, square=True, cmap='Greens')\n",
    "plt.ylabel('Actual label')\n",
    "plt.xlabel('Predicted label')\n",
    "plt.xticks(ticks=np.arange(len(label_encoder.classes_)) + 0.5, labels=label_encoder.classes_, rotation=90, ha='center')\n",
    "plt.yticks(ticks=np.arange(len(label_encoder.classes_)) + 0.5, labels=label_encoder.classes_, rotation=0, va='center')\n",
    "\n",
    "#Adjust the tick labels\n",
    "plt.tick_params(axis='both', which='both', length=0, labelsize=8, pad=2)\n",
    "\n",
    "#Add the title\n",
    "plt.title('Confusion matrix')\n",
    "plt.show()"
   ]
  },
  {
   "cell_type": "code",
   "execution_count": 243,
   "metadata": {},
   "outputs": [
    {
     "data": {
      "application/vnd.plotly.v1+json": {
       "config": {
        "plotlyServerURL": "https://plot.ly"
       },
       "data": [
        {
         "alignmentgroup": "True",
         "hovertemplate": "STATE=%{x}<br>Accuracy (%)=%{y}<extra></extra>",
         "legendgroup": "",
         "marker": {
          "color": "#636efa",
          "pattern": {
           "shape": ""
          }
         },
         "name": "",
         "offsetgroup": "",
         "orientation": "v",
         "showlegend": false,
         "textposition": "auto",
         "type": "bar",
         "x": [
          "ANDHRA PRADESH",
          "ASSAM",
          "BIHAR",
          "GOA",
          "GUJARAT",
          "HIMACHAL PRADESH",
          "KARNATAKA",
          "KERALA",
          "MADHYA PRADESH",
          "MAHARASHTRA",
          "PUNJAB",
          "RAJASTHAN",
          "TAMILNADU",
          "UTTAR PRADESH",
          "WEST BENGAL"
         ],
         "xaxis": "x",
         "y": [
          100,
          100,
          100,
          100,
          87.5,
          100,
          95.74468085106383,
          100,
          86.36363636363636,
          98.88888888888889,
          100,
          100,
          100,
          97.87234042553192,
          100
         ],
         "yaxis": "y"
        }
       ],
       "layout": {
        "barmode": "relative",
        "legend": {
         "tracegroupgap": 0
        },
        "margin": {
         "t": 60
        },
        "template": {
         "data": {
          "bar": [
           {
            "error_x": {
             "color": "#2a3f5f"
            },
            "error_y": {
             "color": "#2a3f5f"
            },
            "marker": {
             "line": {
              "color": "#E5ECF6",
              "width": 0.5
             },
             "pattern": {
              "fillmode": "overlay",
              "size": 10,
              "solidity": 0.2
             }
            },
            "type": "bar"
           }
          ],
          "barpolar": [
           {
            "marker": {
             "line": {
              "color": "#E5ECF6",
              "width": 0.5
             },
             "pattern": {
              "fillmode": "overlay",
              "size": 10,
              "solidity": 0.2
             }
            },
            "type": "barpolar"
           }
          ],
          "carpet": [
           {
            "aaxis": {
             "endlinecolor": "#2a3f5f",
             "gridcolor": "white",
             "linecolor": "white",
             "minorgridcolor": "white",
             "startlinecolor": "#2a3f5f"
            },
            "baxis": {
             "endlinecolor": "#2a3f5f",
             "gridcolor": "white",
             "linecolor": "white",
             "minorgridcolor": "white",
             "startlinecolor": "#2a3f5f"
            },
            "type": "carpet"
           }
          ],
          "choropleth": [
           {
            "colorbar": {
             "outlinewidth": 0,
             "ticks": ""
            },
            "type": "choropleth"
           }
          ],
          "contour": [
           {
            "colorbar": {
             "outlinewidth": 0,
             "ticks": ""
            },
            "colorscale": [
             [
              0,
              "#0d0887"
             ],
             [
              0.1111111111111111,
              "#46039f"
             ],
             [
              0.2222222222222222,
              "#7201a8"
             ],
             [
              0.3333333333333333,
              "#9c179e"
             ],
             [
              0.4444444444444444,
              "#bd3786"
             ],
             [
              0.5555555555555556,
              "#d8576b"
             ],
             [
              0.6666666666666666,
              "#ed7953"
             ],
             [
              0.7777777777777778,
              "#fb9f3a"
             ],
             [
              0.8888888888888888,
              "#fdca26"
             ],
             [
              1,
              "#f0f921"
             ]
            ],
            "type": "contour"
           }
          ],
          "contourcarpet": [
           {
            "colorbar": {
             "outlinewidth": 0,
             "ticks": ""
            },
            "type": "contourcarpet"
           }
          ],
          "heatmap": [
           {
            "colorbar": {
             "outlinewidth": 0,
             "ticks": ""
            },
            "colorscale": [
             [
              0,
              "#0d0887"
             ],
             [
              0.1111111111111111,
              "#46039f"
             ],
             [
              0.2222222222222222,
              "#7201a8"
             ],
             [
              0.3333333333333333,
              "#9c179e"
             ],
             [
              0.4444444444444444,
              "#bd3786"
             ],
             [
              0.5555555555555556,
              "#d8576b"
             ],
             [
              0.6666666666666666,
              "#ed7953"
             ],
             [
              0.7777777777777778,
              "#fb9f3a"
             ],
             [
              0.8888888888888888,
              "#fdca26"
             ],
             [
              1,
              "#f0f921"
             ]
            ],
            "type": "heatmap"
           }
          ],
          "heatmapgl": [
           {
            "colorbar": {
             "outlinewidth": 0,
             "ticks": ""
            },
            "colorscale": [
             [
              0,
              "#0d0887"
             ],
             [
              0.1111111111111111,
              "#46039f"
             ],
             [
              0.2222222222222222,
              "#7201a8"
             ],
             [
              0.3333333333333333,
              "#9c179e"
             ],
             [
              0.4444444444444444,
              "#bd3786"
             ],
             [
              0.5555555555555556,
              "#d8576b"
             ],
             [
              0.6666666666666666,
              "#ed7953"
             ],
             [
              0.7777777777777778,
              "#fb9f3a"
             ],
             [
              0.8888888888888888,
              "#fdca26"
             ],
             [
              1,
              "#f0f921"
             ]
            ],
            "type": "heatmapgl"
           }
          ],
          "histogram": [
           {
            "marker": {
             "pattern": {
              "fillmode": "overlay",
              "size": 10,
              "solidity": 0.2
             }
            },
            "type": "histogram"
           }
          ],
          "histogram2d": [
           {
            "colorbar": {
             "outlinewidth": 0,
             "ticks": ""
            },
            "colorscale": [
             [
              0,
              "#0d0887"
             ],
             [
              0.1111111111111111,
              "#46039f"
             ],
             [
              0.2222222222222222,
              "#7201a8"
             ],
             [
              0.3333333333333333,
              "#9c179e"
             ],
             [
              0.4444444444444444,
              "#bd3786"
             ],
             [
              0.5555555555555556,
              "#d8576b"
             ],
             [
              0.6666666666666666,
              "#ed7953"
             ],
             [
              0.7777777777777778,
              "#fb9f3a"
             ],
             [
              0.8888888888888888,
              "#fdca26"
             ],
             [
              1,
              "#f0f921"
             ]
            ],
            "type": "histogram2d"
           }
          ],
          "histogram2dcontour": [
           {
            "colorbar": {
             "outlinewidth": 0,
             "ticks": ""
            },
            "colorscale": [
             [
              0,
              "#0d0887"
             ],
             [
              0.1111111111111111,
              "#46039f"
             ],
             [
              0.2222222222222222,
              "#7201a8"
             ],
             [
              0.3333333333333333,
              "#9c179e"
             ],
             [
              0.4444444444444444,
              "#bd3786"
             ],
             [
              0.5555555555555556,
              "#d8576b"
             ],
             [
              0.6666666666666666,
              "#ed7953"
             ],
             [
              0.7777777777777778,
              "#fb9f3a"
             ],
             [
              0.8888888888888888,
              "#fdca26"
             ],
             [
              1,
              "#f0f921"
             ]
            ],
            "type": "histogram2dcontour"
           }
          ],
          "mesh3d": [
           {
            "colorbar": {
             "outlinewidth": 0,
             "ticks": ""
            },
            "type": "mesh3d"
           }
          ],
          "parcoords": [
           {
            "line": {
             "colorbar": {
              "outlinewidth": 0,
              "ticks": ""
             }
            },
            "type": "parcoords"
           }
          ],
          "pie": [
           {
            "automargin": true,
            "type": "pie"
           }
          ],
          "scatter": [
           {
            "fillpattern": {
             "fillmode": "overlay",
             "size": 10,
             "solidity": 0.2
            },
            "type": "scatter"
           }
          ],
          "scatter3d": [
           {
            "line": {
             "colorbar": {
              "outlinewidth": 0,
              "ticks": ""
             }
            },
            "marker": {
             "colorbar": {
              "outlinewidth": 0,
              "ticks": ""
             }
            },
            "type": "scatter3d"
           }
          ],
          "scattercarpet": [
           {
            "marker": {
             "colorbar": {
              "outlinewidth": 0,
              "ticks": ""
             }
            },
            "type": "scattercarpet"
           }
          ],
          "scattergeo": [
           {
            "marker": {
             "colorbar": {
              "outlinewidth": 0,
              "ticks": ""
             }
            },
            "type": "scattergeo"
           }
          ],
          "scattergl": [
           {
            "marker": {
             "colorbar": {
              "outlinewidth": 0,
              "ticks": ""
             }
            },
            "type": "scattergl"
           }
          ],
          "scattermapbox": [
           {
            "marker": {
             "colorbar": {
              "outlinewidth": 0,
              "ticks": ""
             }
            },
            "type": "scattermapbox"
           }
          ],
          "scatterpolar": [
           {
            "marker": {
             "colorbar": {
              "outlinewidth": 0,
              "ticks": ""
             }
            },
            "type": "scatterpolar"
           }
          ],
          "scatterpolargl": [
           {
            "marker": {
             "colorbar": {
              "outlinewidth": 0,
              "ticks": ""
             }
            },
            "type": "scatterpolargl"
           }
          ],
          "scatterternary": [
           {
            "marker": {
             "colorbar": {
              "outlinewidth": 0,
              "ticks": ""
             }
            },
            "type": "scatterternary"
           }
          ],
          "surface": [
           {
            "colorbar": {
             "outlinewidth": 0,
             "ticks": ""
            },
            "colorscale": [
             [
              0,
              "#0d0887"
             ],
             [
              0.1111111111111111,
              "#46039f"
             ],
             [
              0.2222222222222222,
              "#7201a8"
             ],
             [
              0.3333333333333333,
              "#9c179e"
             ],
             [
              0.4444444444444444,
              "#bd3786"
             ],
             [
              0.5555555555555556,
              "#d8576b"
             ],
             [
              0.6666666666666666,
              "#ed7953"
             ],
             [
              0.7777777777777778,
              "#fb9f3a"
             ],
             [
              0.8888888888888888,
              "#fdca26"
             ],
             [
              1,
              "#f0f921"
             ]
            ],
            "type": "surface"
           }
          ],
          "table": [
           {
            "cells": {
             "fill": {
              "color": "#EBF0F8"
             },
             "line": {
              "color": "white"
             }
            },
            "header": {
             "fill": {
              "color": "#C8D4E3"
             },
             "line": {
              "color": "white"
             }
            },
            "type": "table"
           }
          ]
         },
         "layout": {
          "annotationdefaults": {
           "arrowcolor": "#2a3f5f",
           "arrowhead": 0,
           "arrowwidth": 1
          },
          "autotypenumbers": "strict",
          "coloraxis": {
           "colorbar": {
            "outlinewidth": 0,
            "ticks": ""
           }
          },
          "colorscale": {
           "diverging": [
            [
             0,
             "#8e0152"
            ],
            [
             0.1,
             "#c51b7d"
            ],
            [
             0.2,
             "#de77ae"
            ],
            [
             0.3,
             "#f1b6da"
            ],
            [
             0.4,
             "#fde0ef"
            ],
            [
             0.5,
             "#f7f7f7"
            ],
            [
             0.6,
             "#e6f5d0"
            ],
            [
             0.7,
             "#b8e186"
            ],
            [
             0.8,
             "#7fbc41"
            ],
            [
             0.9,
             "#4d9221"
            ],
            [
             1,
             "#276419"
            ]
           ],
           "sequential": [
            [
             0,
             "#0d0887"
            ],
            [
             0.1111111111111111,
             "#46039f"
            ],
            [
             0.2222222222222222,
             "#7201a8"
            ],
            [
             0.3333333333333333,
             "#9c179e"
            ],
            [
             0.4444444444444444,
             "#bd3786"
            ],
            [
             0.5555555555555556,
             "#d8576b"
            ],
            [
             0.6666666666666666,
             "#ed7953"
            ],
            [
             0.7777777777777778,
             "#fb9f3a"
            ],
            [
             0.8888888888888888,
             "#fdca26"
            ],
            [
             1,
             "#f0f921"
            ]
           ],
           "sequentialminus": [
            [
             0,
             "#0d0887"
            ],
            [
             0.1111111111111111,
             "#46039f"
            ],
            [
             0.2222222222222222,
             "#7201a8"
            ],
            [
             0.3333333333333333,
             "#9c179e"
            ],
            [
             0.4444444444444444,
             "#bd3786"
            ],
            [
             0.5555555555555556,
             "#d8576b"
            ],
            [
             0.6666666666666666,
             "#ed7953"
            ],
            [
             0.7777777777777778,
             "#fb9f3a"
            ],
            [
             0.8888888888888888,
             "#fdca26"
            ],
            [
             1,
             "#f0f921"
            ]
           ]
          },
          "colorway": [
           "#636efa",
           "#EF553B",
           "#00cc96",
           "#ab63fa",
           "#FFA15A",
           "#19d3f3",
           "#FF6692",
           "#B6E880",
           "#FF97FF",
           "#FECB52"
          ],
          "font": {
           "color": "#2a3f5f"
          },
          "geo": {
           "bgcolor": "white",
           "lakecolor": "white",
           "landcolor": "#E5ECF6",
           "showlakes": true,
           "showland": true,
           "subunitcolor": "white"
          },
          "hoverlabel": {
           "align": "left"
          },
          "hovermode": "closest",
          "mapbox": {
           "style": "light"
          },
          "paper_bgcolor": "white",
          "plot_bgcolor": "#E5ECF6",
          "polar": {
           "angularaxis": {
            "gridcolor": "white",
            "linecolor": "white",
            "ticks": ""
           },
           "bgcolor": "#E5ECF6",
           "radialaxis": {
            "gridcolor": "white",
            "linecolor": "white",
            "ticks": ""
           }
          },
          "scene": {
           "xaxis": {
            "backgroundcolor": "#E5ECF6",
            "gridcolor": "white",
            "gridwidth": 2,
            "linecolor": "white",
            "showbackground": true,
            "ticks": "",
            "zerolinecolor": "white"
           },
           "yaxis": {
            "backgroundcolor": "#E5ECF6",
            "gridcolor": "white",
            "gridwidth": 2,
            "linecolor": "white",
            "showbackground": true,
            "ticks": "",
            "zerolinecolor": "white"
           },
           "zaxis": {
            "backgroundcolor": "#E5ECF6",
            "gridcolor": "white",
            "gridwidth": 2,
            "linecolor": "white",
            "showbackground": true,
            "ticks": "",
            "zerolinecolor": "white"
           }
          },
          "shapedefaults": {
           "line": {
            "color": "#2a3f5f"
           }
          },
          "ternary": {
           "aaxis": {
            "gridcolor": "white",
            "linecolor": "white",
            "ticks": ""
           },
           "baxis": {
            "gridcolor": "white",
            "linecolor": "white",
            "ticks": ""
           },
           "bgcolor": "#E5ECF6",
           "caxis": {
            "gridcolor": "white",
            "linecolor": "white",
            "ticks": ""
           }
          },
          "title": {
           "x": 0.05
          },
          "xaxis": {
           "automargin": true,
           "gridcolor": "white",
           "linecolor": "white",
           "ticks": "",
           "title": {
            "standoff": 15
           },
           "zerolinecolor": "white",
           "zerolinewidth": 2
          },
          "yaxis": {
           "automargin": true,
           "gridcolor": "white",
           "linecolor": "white",
           "ticks": "",
           "title": {
            "standoff": 15
           },
           "zerolinecolor": "white",
           "zerolinewidth": 2
          }
         }
        },
        "title": {
         "text": "Accuracy of the classifier for each state"
        },
        "xaxis": {
         "anchor": "y",
         "domain": [
          0,
          1
         ],
         "title": {
          "text": "State"
         }
        },
        "yaxis": {
         "anchor": "x",
         "domain": [
          0,
          1
         ],
         "title": {
          "text": "Accuracy"
         }
        }
       }
      }
     },
     "metadata": {},
     "output_type": "display_data"
    }
   ],
   "source": [
    "accuracy = WaterQualityData.groupby('STATE').apply(lambda x: (x['STATE'] == x['PREDICTED_STATE']).sum() / x['STATE'].count())\n",
    "\n",
    "fig = px.bar(accuracy, x=accuracy.index, y=accuracy.values * 100, labels={'x': 'State', 'y': 'Accuracy (%)'})\n",
    "fig.update_layout(title='Accuracy of the classifier for each state', xaxis_title='State', yaxis_title='Accuracy')\n",
    "fig.show()"
   ]
  }
 ],
 "metadata": {
  "kernelspec": {
   "display_name": "base",
   "language": "python",
   "name": "python3"
  },
  "language_info": {
   "codemirror_mode": {
    "name": "ipython",
    "version": 3
   },
   "file_extension": ".py",
   "mimetype": "text/x-python",
   "name": "python",
   "nbconvert_exporter": "python",
   "pygments_lexer": "ipython3",
   "version": "3.10.9"
  }
 },
 "nbformat": 4,
 "nbformat_minor": 2
}
