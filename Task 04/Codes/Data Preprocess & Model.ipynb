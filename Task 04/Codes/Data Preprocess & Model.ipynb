{
 "cells": [
  {
   "cell_type": "markdown",
   "metadata": {},
   "source": [
    "# Get the Cleaned Data Files"
   ]
  },
  {
   "cell_type": "markdown",
   "metadata": {},
   "source": [
    "Import Libararies"
   ]
  },
  {
   "cell_type": "code",
   "execution_count": 32,
   "metadata": {},
   "outputs": [],
   "source": [
    "#Import Libraries\n",
    "import os\n",
    "import pandas as pd\n",
    "import numpy as np\n",
    "import geopandas as gpd\n",
    "from opencage.geocoder import OpenCageGeocode\n",
    "import folium\n",
    "from folium.plugins import HeatMap\n",
    "import ipywidgets as widgets\n",
    "from IPython.display import display\n",
    "from sklearn.ensemble import RandomForestRegressor\n",
    "from sklearn.metrics import mean_absolute_error\n",
    "from sklearn.metrics import r2_score\n",
    "from IPython.display import clear_output\n",
    "from IPython.display import HTML\n",
    "import plotly.express as px\n",
    "import plotly.graph_objs as go\n",
    "from plotly.subplots import make_subplots"
   ]
  },
  {
   "cell_type": "markdown",
   "metadata": {},
   "source": [
    "Update Directories"
   ]
  },
  {
   "cell_type": "code",
   "execution_count": 33,
   "metadata": {},
   "outputs": [],
   "source": [
    "#Update the Database with relative paths\n",
    "current_dir = os.getcwd()\n",
    "task04_dir = os.path.dirname(current_dir)\n",
    "database_dir = os.path.join(task04_dir, 'Database')\n",
    "assests_dir = os.path.join(task04_dir, 'Assests')\n",
    "cleaned_data_dir = os.path.join(database_dir, 'Cleaned Data')"
   ]
  },
  {
   "cell_type": "markdown",
   "metadata": {},
   "source": [
    "Get Data File"
   ]
  },
  {
   "cell_type": "code",
   "execution_count": 34,
   "metadata": {},
   "outputs": [
    {
     "data": {
      "text/html": [
       "<div>\n",
       "<style scoped>\n",
       "    .dataframe tbody tr th:only-of-type {\n",
       "        vertical-align: middle;\n",
       "    }\n",
       "\n",
       "    .dataframe tbody tr th {\n",
       "        vertical-align: top;\n",
       "    }\n",
       "\n",
       "    .dataframe thead th {\n",
       "        text-align: right;\n",
       "    }\n",
       "</style>\n",
       "<table border=\"1\" class=\"dataframe\">\n",
       "  <thead>\n",
       "    <tr style=\"text-align: right;\">\n",
       "      <th></th>\n",
       "      <th>eventName</th>\n",
       "      <th>eventLocation</th>\n",
       "      <th>attndName</th>\n",
       "      <th>attndLocation</th>\n",
       "      <th>attndDate</th>\n",
       "      <th>attndRefHashTag</th>\n",
       "    </tr>\n",
       "  </thead>\n",
       "  <tbody>\n",
       "    <tr>\n",
       "      <th>0</th>\n",
       "      <td>Colombo Motor Show</td>\n",
       "      <td>BMICH, Colombo</td>\n",
       "      <td>Harshana Kalinga</td>\n",
       "      <td>Kaduwela, Sri Lanka</td>\n",
       "      <td>11/18/2023</td>\n",
       "      <td>#ColomboMotorShow</td>\n",
       "    </tr>\n",
       "    <tr>\n",
       "      <th>1</th>\n",
       "      <td>Colombo Motor Show</td>\n",
       "      <td>BMICH, Colombo</td>\n",
       "      <td>Sadish Pathirana</td>\n",
       "      <td>Narammala, Sri Lanka</td>\n",
       "      <td>11/17/2023</td>\n",
       "      <td>#ColomboMotorShow</td>\n",
       "    </tr>\n",
       "    <tr>\n",
       "      <th>2</th>\n",
       "      <td>Colombo Motor Show</td>\n",
       "      <td>BMICH, Colombo</td>\n",
       "      <td>Malith Pramodya Palliyaguruge</td>\n",
       "      <td>Hakmana, Sri Lanka</td>\n",
       "      <td>11/18/2023</td>\n",
       "      <td>#ColomboMotorShow</td>\n",
       "    </tr>\n",
       "    <tr>\n",
       "      <th>3</th>\n",
       "      <td>Colombo Motor Show</td>\n",
       "      <td>BMICH, Colombo</td>\n",
       "      <td>Shiromi Rathnayake</td>\n",
       "      <td>Colombo, Sri Lanka</td>\n",
       "      <td>11/17/2023</td>\n",
       "      <td>#ColomboMotorShow</td>\n",
       "    </tr>\n",
       "    <tr>\n",
       "      <th>4</th>\n",
       "      <td>Colombo Motor Show</td>\n",
       "      <td>BMICH, Colombo</td>\n",
       "      <td>Dilshan Subasinghe</td>\n",
       "      <td>Galle, Sri Lanka</td>\n",
       "      <td>11/18/2023</td>\n",
       "      <td>#ColomboMotorShow</td>\n",
       "    </tr>\n",
       "    <tr>\n",
       "      <th>...</th>\n",
       "      <td>...</td>\n",
       "      <td>...</td>\n",
       "      <td>...</td>\n",
       "      <td>...</td>\n",
       "      <td>...</td>\n",
       "      <td>...</td>\n",
       "    </tr>\n",
       "    <tr>\n",
       "      <th>94</th>\n",
       "      <td>Colombo Motor Show</td>\n",
       "      <td>BMICH, Colombo</td>\n",
       "      <td>Kavindu Katuwandeniya</td>\n",
       "      <td>Mathara, Sri Lanka</td>\n",
       "      <td>11/18/2023</td>\n",
       "      <td>#ColomboMotorShow</td>\n",
       "    </tr>\n",
       "    <tr>\n",
       "      <th>95</th>\n",
       "      <td>Colombo Motor Show</td>\n",
       "      <td>BMICH, Colombo</td>\n",
       "      <td>Nethmi Jayasekara</td>\n",
       "      <td>Mathara, Sri Lanka</td>\n",
       "      <td>11/18/2023</td>\n",
       "      <td>#ColomboMotorShow</td>\n",
       "    </tr>\n",
       "    <tr>\n",
       "      <th>96</th>\n",
       "      <td>Colombo Motor Show</td>\n",
       "      <td>BMICH, Colombo</td>\n",
       "      <td>Shehan Perera</td>\n",
       "      <td>Kaduwela, Sri Lanka</td>\n",
       "      <td>11/19/2023</td>\n",
       "      <td>#ColomboMotorShow</td>\n",
       "    </tr>\n",
       "    <tr>\n",
       "      <th>97</th>\n",
       "      <td>Colombo Motor Show</td>\n",
       "      <td>BMICH, Colombo</td>\n",
       "      <td>Jeewantha Ariyasinghe</td>\n",
       "      <td>Kegalle, Sri Lanka</td>\n",
       "      <td>11/19/2023</td>\n",
       "      <td>#ColomboMotorShow</td>\n",
       "    </tr>\n",
       "    <tr>\n",
       "      <th>98</th>\n",
       "      <td>Colombo Motor Show</td>\n",
       "      <td>BMICH, Colombo</td>\n",
       "      <td>Tharindu Wickramanayake</td>\n",
       "      <td>Badulla, Sri Lanka</td>\n",
       "      <td>11/19/2023</td>\n",
       "      <td>#ColomboMotorShow</td>\n",
       "    </tr>\n",
       "  </tbody>\n",
       "</table>\n",
       "<p>99 rows × 6 columns</p>\n",
       "</div>"
      ],
      "text/plain": [
       "             eventName   eventLocation                      attndName  \\\n",
       "0   Colombo Motor Show  BMICH, Colombo               Harshana Kalinga   \n",
       "1   Colombo Motor Show  BMICH, Colombo               Sadish Pathirana   \n",
       "2   Colombo Motor Show  BMICH, Colombo  Malith Pramodya Palliyaguruge   \n",
       "3   Colombo Motor Show  BMICH, Colombo            Shiromi Rathnayake    \n",
       "4   Colombo Motor Show  BMICH, Colombo             Dilshan Subasinghe   \n",
       "..                 ...             ...                            ...   \n",
       "94  Colombo Motor Show  BMICH, Colombo          Kavindu Katuwandeniya   \n",
       "95  Colombo Motor Show  BMICH, Colombo              Nethmi Jayasekara   \n",
       "96  Colombo Motor Show  BMICH, Colombo                  Shehan Perera   \n",
       "97  Colombo Motor Show  BMICH, Colombo          Jeewantha Ariyasinghe   \n",
       "98  Colombo Motor Show  BMICH, Colombo        Tharindu Wickramanayake   \n",
       "\n",
       "           attndLocation   attndDate    attndRefHashTag  \n",
       "0    Kaduwela, Sri Lanka  11/18/2023  #ColomboMotorShow  \n",
       "1   Narammala, Sri Lanka  11/17/2023  #ColomboMotorShow  \n",
       "2     Hakmana, Sri Lanka  11/18/2023  #ColomboMotorShow  \n",
       "3     Colombo, Sri Lanka  11/17/2023  #ColomboMotorShow  \n",
       "4       Galle, Sri Lanka  11/18/2023  #ColomboMotorShow  \n",
       "..                   ...         ...                ...  \n",
       "94    Mathara, Sri Lanka  11/18/2023  #ColomboMotorShow  \n",
       "95    Mathara, Sri Lanka  11/18/2023  #ColomboMotorShow  \n",
       "96   Kaduwela, Sri Lanka  11/19/2023  #ColomboMotorShow  \n",
       "97    Kegalle, Sri Lanka  11/19/2023  #ColomboMotorShow  \n",
       "98    Badulla, Sri Lanka  11/19/2023  #ColomboMotorShow  \n",
       "\n",
       "[99 rows x 6 columns]"
      ]
     },
     "execution_count": 34,
     "metadata": {},
     "output_type": "execute_result"
    }
   ],
   "source": [
    "#Colombo Motor Show Attendance\n",
    "colombo_motor_show_attendance = pd.read_csv(os.path.join(cleaned_data_dir, 'ColomboMotorShowAttendees.csv'))\n",
    "\n",
    "colombo_motor_show_attendance"
   ]
  },
  {
   "cell_type": "code",
   "execution_count": 35,
   "metadata": {},
   "outputs": [
    {
     "data": {
      "text/plain": [
       "attndDate\n",
       "11/19/2023    40\n",
       "11/18/2023    26\n",
       "11/20/2023    26\n",
       "11/17/2023     7\n",
       "Name: count, dtype: int64"
      ]
     },
     "execution_count": 35,
     "metadata": {},
     "output_type": "execute_result"
    }
   ],
   "source": [
    "#count the number of attendees for each attndDate\n",
    "colombo_motor_show_attendance['attndDate'].value_counts()"
   ]
  },
  {
   "cell_type": "code",
   "execution_count": 36,
   "metadata": {},
   "outputs": [
    {
     "data": {
      "text/html": [
       "<div>\n",
       "<style scoped>\n",
       "    .dataframe tbody tr th:only-of-type {\n",
       "        vertical-align: middle;\n",
       "    }\n",
       "\n",
       "    .dataframe tbody tr th {\n",
       "        vertical-align: top;\n",
       "    }\n",
       "\n",
       "    .dataframe thead th {\n",
       "        text-align: right;\n",
       "    }\n",
       "</style>\n",
       "<table border=\"1\" class=\"dataframe\">\n",
       "  <thead>\n",
       "    <tr style=\"text-align: right;\">\n",
       "      <th></th>\n",
       "      <th>eventLocation</th>\n",
       "      <th>attndDate</th>\n",
       "      <th>dhTemp (C)</th>\n",
       "      <th>dlTemp (C)</th>\n",
       "      <th>precipitation (mm)</th>\n",
       "      <th>humidity</th>\n",
       "      <th>wind (km/h)</th>\n",
       "    </tr>\n",
       "  </thead>\n",
       "  <tbody>\n",
       "    <tr>\n",
       "      <th>0</th>\n",
       "      <td>BMICH, Colombo</td>\n",
       "      <td>11/17/2023</td>\n",
       "      <td>32</td>\n",
       "      <td>26</td>\n",
       "      <td>4.3</td>\n",
       "      <td>0.8684</td>\n",
       "      <td>5.3</td>\n",
       "    </tr>\n",
       "    <tr>\n",
       "      <th>1</th>\n",
       "      <td>BMICH, Colombo</td>\n",
       "      <td>11/18/2023</td>\n",
       "      <td>31</td>\n",
       "      <td>25</td>\n",
       "      <td>6.7</td>\n",
       "      <td>0.8834</td>\n",
       "      <td>6.3</td>\n",
       "    </tr>\n",
       "    <tr>\n",
       "      <th>2</th>\n",
       "      <td>BMICH, Colombo</td>\n",
       "      <td>11/19/2023</td>\n",
       "      <td>31</td>\n",
       "      <td>24</td>\n",
       "      <td>4.1</td>\n",
       "      <td>0.8937</td>\n",
       "      <td>6.9</td>\n",
       "    </tr>\n",
       "    <tr>\n",
       "      <th>3</th>\n",
       "      <td>BMICH, Colombo</td>\n",
       "      <td>11/20/2023</td>\n",
       "      <td>31</td>\n",
       "      <td>24</td>\n",
       "      <td>2.7</td>\n",
       "      <td>0.8805</td>\n",
       "      <td>5.0</td>\n",
       "    </tr>\n",
       "    <tr>\n",
       "      <th>4</th>\n",
       "      <td>BMICH, Colombo</td>\n",
       "      <td>11/21/2023</td>\n",
       "      <td>32</td>\n",
       "      <td>25</td>\n",
       "      <td>5.6</td>\n",
       "      <td>0.8893</td>\n",
       "      <td>6.3</td>\n",
       "    </tr>\n",
       "  </tbody>\n",
       "</table>\n",
       "</div>"
      ],
      "text/plain": [
       "    eventLocation   attndDate  dhTemp (C)  dlTemp (C)  precipitation (mm)  \\\n",
       "0  BMICH, Colombo  11/17/2023          32          26                 4.3   \n",
       "1  BMICH, Colombo  11/18/2023          31          25                 6.7   \n",
       "2  BMICH, Colombo  11/19/2023          31          24                 4.1   \n",
       "3  BMICH, Colombo  11/20/2023          31          24                 2.7   \n",
       "4  BMICH, Colombo  11/21/2023          32          25                 5.6   \n",
       "\n",
       "   humidity  wind (km/h)  \n",
       "0    0.8684          5.3  \n",
       "1    0.8834          6.3  \n",
       "2    0.8937          6.9  \n",
       "3    0.8805          5.0  \n",
       "4    0.8893          6.3  "
      ]
     },
     "execution_count": 36,
     "metadata": {},
     "output_type": "execute_result"
    }
   ],
   "source": [
    "#Weather Climate DAta\n",
    "weather_climate_data = pd.read_csv(os.path.join(cleaned_data_dir, 'WeatherClimateData.csv'))\n",
    "\n",
    "weather_climate_data"
   ]
  },
  {
   "cell_type": "code",
   "execution_count": 37,
   "metadata": {},
   "outputs": [],
   "source": [
    "#Set the date format explicitly\n",
    "date_format = '%m/%d/%Y'\n",
    "\n",
    "#Convert to datetime\n",
    "colombo_motor_show_attendance['attndDate'] = pd.to_datetime(colombo_motor_show_attendance['attndDate'], format=date_format)\n",
    "weather_climate_data['attndDate'] = pd.to_datetime(weather_climate_data['attndDate'], format=date_format)"
   ]
  },
  {
   "cell_type": "code",
   "execution_count": 38,
   "metadata": {},
   "outputs": [
    {
     "data": {
      "text/html": [
       "<div>\n",
       "<style scoped>\n",
       "    .dataframe tbody tr th:only-of-type {\n",
       "        vertical-align: middle;\n",
       "    }\n",
       "\n",
       "    .dataframe tbody tr th {\n",
       "        vertical-align: top;\n",
       "    }\n",
       "\n",
       "    .dataframe thead th {\n",
       "        text-align: right;\n",
       "    }\n",
       "</style>\n",
       "<table border=\"1\" class=\"dataframe\">\n",
       "  <thead>\n",
       "    <tr style=\"text-align: right;\">\n",
       "      <th></th>\n",
       "      <th>eventLocation</th>\n",
       "      <th>attndDate</th>\n",
       "      <th>dhTemp (C)</th>\n",
       "      <th>dlTemp (C)</th>\n",
       "      <th>precipitation (mm)</th>\n",
       "      <th>humidity</th>\n",
       "      <th>wind (km/h)</th>\n",
       "    </tr>\n",
       "  </thead>\n",
       "  <tbody>\n",
       "    <tr>\n",
       "      <th>0</th>\n",
       "      <td>BMICH, Colombo</td>\n",
       "      <td>2023-11-17</td>\n",
       "      <td>32</td>\n",
       "      <td>26</td>\n",
       "      <td>4.3</td>\n",
       "      <td>0.8684</td>\n",
       "      <td>5.3</td>\n",
       "    </tr>\n",
       "    <tr>\n",
       "      <th>1</th>\n",
       "      <td>BMICH, Colombo</td>\n",
       "      <td>2023-11-18</td>\n",
       "      <td>31</td>\n",
       "      <td>25</td>\n",
       "      <td>6.7</td>\n",
       "      <td>0.8834</td>\n",
       "      <td>6.3</td>\n",
       "    </tr>\n",
       "    <tr>\n",
       "      <th>2</th>\n",
       "      <td>BMICH, Colombo</td>\n",
       "      <td>2023-11-19</td>\n",
       "      <td>31</td>\n",
       "      <td>24</td>\n",
       "      <td>4.1</td>\n",
       "      <td>0.8937</td>\n",
       "      <td>6.9</td>\n",
       "    </tr>\n",
       "    <tr>\n",
       "      <th>3</th>\n",
       "      <td>BMICH, Colombo</td>\n",
       "      <td>2023-11-20</td>\n",
       "      <td>31</td>\n",
       "      <td>24</td>\n",
       "      <td>2.7</td>\n",
       "      <td>0.8805</td>\n",
       "      <td>5.0</td>\n",
       "    </tr>\n",
       "    <tr>\n",
       "      <th>4</th>\n",
       "      <td>BMICH, Colombo</td>\n",
       "      <td>2023-11-21</td>\n",
       "      <td>32</td>\n",
       "      <td>25</td>\n",
       "      <td>5.6</td>\n",
       "      <td>0.8893</td>\n",
       "      <td>6.3</td>\n",
       "    </tr>\n",
       "  </tbody>\n",
       "</table>\n",
       "</div>"
      ],
      "text/plain": [
       "    eventLocation  attndDate  dhTemp (C)  dlTemp (C)  precipitation (mm)  \\\n",
       "0  BMICH, Colombo 2023-11-17          32          26                 4.3   \n",
       "1  BMICH, Colombo 2023-11-18          31          25                 6.7   \n",
       "2  BMICH, Colombo 2023-11-19          31          24                 4.1   \n",
       "3  BMICH, Colombo 2023-11-20          31          24                 2.7   \n",
       "4  BMICH, Colombo 2023-11-21          32          25                 5.6   \n",
       "\n",
       "   humidity  wind (km/h)  \n",
       "0    0.8684          5.3  \n",
       "1    0.8834          6.3  \n",
       "2    0.8937          6.9  \n",
       "3    0.8805          5.0  \n",
       "4    0.8893          6.3  "
      ]
     },
     "execution_count": 38,
     "metadata": {},
     "output_type": "execute_result"
    }
   ],
   "source": [
    "weather_climate_data"
   ]
  },
  {
   "cell_type": "code",
   "execution_count": 39,
   "metadata": {},
   "outputs": [
    {
     "data": {
      "text/html": [
       "<div>\n",
       "<style scoped>\n",
       "    .dataframe tbody tr th:only-of-type {\n",
       "        vertical-align: middle;\n",
       "    }\n",
       "\n",
       "    .dataframe tbody tr th {\n",
       "        vertical-align: top;\n",
       "    }\n",
       "\n",
       "    .dataframe thead th {\n",
       "        text-align: right;\n",
       "    }\n",
       "</style>\n",
       "<table border=\"1\" class=\"dataframe\">\n",
       "  <thead>\n",
       "    <tr style=\"text-align: right;\">\n",
       "      <th></th>\n",
       "      <th>location</th>\n",
       "      <th>lat</th>\n",
       "      <th>lng</th>\n",
       "    </tr>\n",
       "  </thead>\n",
       "  <tbody>\n",
       "    <tr>\n",
       "      <th>0</th>\n",
       "      <td>BMICH, Colombo</td>\n",
       "      <td>6.901107</td>\n",
       "      <td>79.873618</td>\n",
       "    </tr>\n",
       "    <tr>\n",
       "      <th>1</th>\n",
       "      <td>Kaduwela, Sri Lanka</td>\n",
       "      <td>6.935703</td>\n",
       "      <td>79.984331</td>\n",
       "    </tr>\n",
       "    <tr>\n",
       "      <th>2</th>\n",
       "      <td>Narammala, Sri Lanka</td>\n",
       "      <td>7.430730</td>\n",
       "      <td>80.214379</td>\n",
       "    </tr>\n",
       "    <tr>\n",
       "      <th>3</th>\n",
       "      <td>Hakmana, Sri Lanka</td>\n",
       "      <td>6.083926</td>\n",
       "      <td>80.644974</td>\n",
       "    </tr>\n",
       "    <tr>\n",
       "      <th>4</th>\n",
       "      <td>Colombo, Sri Lanka</td>\n",
       "      <td>6.938861</td>\n",
       "      <td>79.854201</td>\n",
       "    </tr>\n",
       "    <tr>\n",
       "      <th>5</th>\n",
       "      <td>Galle, Sri Lanka</td>\n",
       "      <td>6.032814</td>\n",
       "      <td>80.214955</td>\n",
       "    </tr>\n",
       "    <tr>\n",
       "      <th>6</th>\n",
       "      <td>Kurunegala, Sri Lanka</td>\n",
       "      <td>7.487046</td>\n",
       "      <td>80.364908</td>\n",
       "    </tr>\n",
       "    <tr>\n",
       "      <th>7</th>\n",
       "      <td>Wattala, Sri Lanka</td>\n",
       "      <td>6.989871</td>\n",
       "      <td>79.892709</td>\n",
       "    </tr>\n",
       "    <tr>\n",
       "      <th>8</th>\n",
       "      <td>Homagama, Sri Lanka</td>\n",
       "      <td>6.841238</td>\n",
       "      <td>80.003446</td>\n",
       "    </tr>\n",
       "    <tr>\n",
       "      <th>9</th>\n",
       "      <td>Malabe, Sri Lanka</td>\n",
       "      <td>6.904072</td>\n",
       "      <td>79.954619</td>\n",
       "    </tr>\n",
       "    <tr>\n",
       "      <th>10</th>\n",
       "      <td>Gampaha, Sri Lanka</td>\n",
       "      <td>7.119025</td>\n",
       "      <td>79.915988</td>\n",
       "    </tr>\n",
       "    <tr>\n",
       "      <th>11</th>\n",
       "      <td>Dehiwala, Sri Lanka</td>\n",
       "      <td>6.851279</td>\n",
       "      <td>79.865977</td>\n",
       "    </tr>\n",
       "    <tr>\n",
       "      <th>12</th>\n",
       "      <td>Kandy, Sri Lanka</td>\n",
       "      <td>7.293121</td>\n",
       "      <td>80.635036</td>\n",
       "    </tr>\n",
       "    <tr>\n",
       "      <th>13</th>\n",
       "      <td>Negombo, Sri Lanka</td>\n",
       "      <td>7.209428</td>\n",
       "      <td>79.833117</td>\n",
       "    </tr>\n",
       "    <tr>\n",
       "      <th>14</th>\n",
       "      <td>Avissawella, Sri Lanka</td>\n",
       "      <td>6.952233</td>\n",
       "      <td>80.212595</td>\n",
       "    </tr>\n",
       "    <tr>\n",
       "      <th>15</th>\n",
       "      <td>Ja-Ela, Sri Lanka</td>\n",
       "      <td>7.079377</td>\n",
       "      <td>79.890763</td>\n",
       "    </tr>\n",
       "    <tr>\n",
       "      <th>16</th>\n",
       "      <td>Kelaniya, Sri Lanka</td>\n",
       "      <td>6.950125</td>\n",
       "      <td>79.917271</td>\n",
       "    </tr>\n",
       "    <tr>\n",
       "      <th>17</th>\n",
       "      <td>Rajagiriya, Sri Lanka</td>\n",
       "      <td>6.909504</td>\n",
       "      <td>79.896218</td>\n",
       "    </tr>\n",
       "    <tr>\n",
       "      <th>18</th>\n",
       "      <td>Kottawa, Sri Lanka</td>\n",
       "      <td>6.843014</td>\n",
       "      <td>79.965531</td>\n",
       "    </tr>\n",
       "    <tr>\n",
       "      <th>19</th>\n",
       "      <td>Kadawatha, Sri Lanka</td>\n",
       "      <td>7.001966</td>\n",
       "      <td>79.951267</td>\n",
       "    </tr>\n",
       "    <tr>\n",
       "      <th>20</th>\n",
       "      <td>Mirigama, Sri Lanka</td>\n",
       "      <td>7.247514</td>\n",
       "      <td>80.129921</td>\n",
       "    </tr>\n",
       "    <tr>\n",
       "      <th>21</th>\n",
       "      <td>Minuwangoda, Sri Lanka</td>\n",
       "      <td>7.169272</td>\n",
       "      <td>79.948461</td>\n",
       "    </tr>\n",
       "    <tr>\n",
       "      <th>22</th>\n",
       "      <td>Moratuwa, Sri Lanka</td>\n",
       "      <td>6.774682</td>\n",
       "      <td>79.882610</td>\n",
       "    </tr>\n",
       "    <tr>\n",
       "      <th>23</th>\n",
       "      <td>Anuradhapura, Sri Lanka</td>\n",
       "      <td>8.334985</td>\n",
       "      <td>80.410610</td>\n",
       "    </tr>\n",
       "    <tr>\n",
       "      <th>24</th>\n",
       "      <td>Kandana, Sri Lanka</td>\n",
       "      <td>7.047849</td>\n",
       "      <td>79.897056</td>\n",
       "    </tr>\n",
       "    <tr>\n",
       "      <th>25</th>\n",
       "      <td>Piliyandala, Sri Lanka</td>\n",
       "      <td>6.799951</td>\n",
       "      <td>79.923117</td>\n",
       "    </tr>\n",
       "    <tr>\n",
       "      <th>26</th>\n",
       "      <td>Nugegoda, Sri Lanka</td>\n",
       "      <td>6.869969</td>\n",
       "      <td>79.888284</td>\n",
       "    </tr>\n",
       "    <tr>\n",
       "      <th>27</th>\n",
       "      <td>Kotte, Sri Lanka</td>\n",
       "      <td>6.888322</td>\n",
       "      <td>79.918741</td>\n",
       "    </tr>\n",
       "    <tr>\n",
       "      <th>28</th>\n",
       "      <td>Madampe, Sri Lanka</td>\n",
       "      <td>7.495416</td>\n",
       "      <td>79.841381</td>\n",
       "    </tr>\n",
       "    <tr>\n",
       "      <th>29</th>\n",
       "      <td>Ratnapura, Sri Lanka</td>\n",
       "      <td>6.680369</td>\n",
       "      <td>80.402298</td>\n",
       "    </tr>\n",
       "    <tr>\n",
       "      <th>30</th>\n",
       "      <td>Hanwella, Sri Lanka</td>\n",
       "      <td>6.900726</td>\n",
       "      <td>80.117959</td>\n",
       "    </tr>\n",
       "    <tr>\n",
       "      <th>31</th>\n",
       "      <td>Chilaw, Sri Lanka</td>\n",
       "      <td>7.576507</td>\n",
       "      <td>79.795676</td>\n",
       "    </tr>\n",
       "    <tr>\n",
       "      <th>32</th>\n",
       "      <td>Marawila, Sri Lanka</td>\n",
       "      <td>8.490693</td>\n",
       "      <td>79.921025</td>\n",
       "    </tr>\n",
       "    <tr>\n",
       "      <th>33</th>\n",
       "      <td>Koswatta, Sri Lanka</td>\n",
       "      <td>7.370883</td>\n",
       "      <td>79.897213</td>\n",
       "    </tr>\n",
       "    <tr>\n",
       "      <th>34</th>\n",
       "      <td>Bandarawela, Sri Lanka</td>\n",
       "      <td>6.830482</td>\n",
       "      <td>80.988820</td>\n",
       "    </tr>\n",
       "    <tr>\n",
       "      <th>35</th>\n",
       "      <td>Nattandiya, Sri Lanka</td>\n",
       "      <td>7.411875</td>\n",
       "      <td>79.865207</td>\n",
       "    </tr>\n",
       "    <tr>\n",
       "      <th>36</th>\n",
       "      <td>Maharagama, Sri Lanka</td>\n",
       "      <td>6.847278</td>\n",
       "      <td>79.926608</td>\n",
       "    </tr>\n",
       "    <tr>\n",
       "      <th>37</th>\n",
       "      <td>Nittambuwa, Sri Lanka</td>\n",
       "      <td>7.143863</td>\n",
       "      <td>80.095596</td>\n",
       "    </tr>\n",
       "    <tr>\n",
       "      <th>38</th>\n",
       "      <td>Bandaragama, Sri Lanka</td>\n",
       "      <td>6.714513</td>\n",
       "      <td>79.988967</td>\n",
       "    </tr>\n",
       "    <tr>\n",
       "      <th>39</th>\n",
       "      <td>Biyagama, Sri Lanka</td>\n",
       "      <td>6.944490</td>\n",
       "      <td>79.990557</td>\n",
       "    </tr>\n",
       "    <tr>\n",
       "      <th>40</th>\n",
       "      <td>Mathara, Sri Lanka</td>\n",
       "      <td>6.971077</td>\n",
       "      <td>79.872941</td>\n",
       "    </tr>\n",
       "    <tr>\n",
       "      <th>41</th>\n",
       "      <td>Kegalle, Sri Lanka</td>\n",
       "      <td>7.113445</td>\n",
       "      <td>80.321740</td>\n",
       "    </tr>\n",
       "    <tr>\n",
       "      <th>42</th>\n",
       "      <td>Badulla, Sri Lanka</td>\n",
       "      <td>6.989950</td>\n",
       "      <td>81.057059</td>\n",
       "    </tr>\n",
       "  </tbody>\n",
       "</table>\n",
       "</div>"
      ],
      "text/plain": [
       "                   location       lat        lng\n",
       "0            BMICH, Colombo  6.901107  79.873618\n",
       "1       Kaduwela, Sri Lanka  6.935703  79.984331\n",
       "2      Narammala, Sri Lanka  7.430730  80.214379\n",
       "3        Hakmana, Sri Lanka  6.083926  80.644974\n",
       "4        Colombo, Sri Lanka  6.938861  79.854201\n",
       "5          Galle, Sri Lanka  6.032814  80.214955\n",
       "6     Kurunegala, Sri Lanka  7.487046  80.364908\n",
       "7        Wattala, Sri Lanka  6.989871  79.892709\n",
       "8       Homagama, Sri Lanka  6.841238  80.003446\n",
       "9         Malabe, Sri Lanka  6.904072  79.954619\n",
       "10       Gampaha, Sri Lanka  7.119025  79.915988\n",
       "11      Dehiwala, Sri Lanka  6.851279  79.865977\n",
       "12         Kandy, Sri Lanka  7.293121  80.635036\n",
       "13       Negombo, Sri Lanka  7.209428  79.833117\n",
       "14   Avissawella, Sri Lanka  6.952233  80.212595\n",
       "15        Ja-Ela, Sri Lanka  7.079377  79.890763\n",
       "16      Kelaniya, Sri Lanka  6.950125  79.917271\n",
       "17    Rajagiriya, Sri Lanka  6.909504  79.896218\n",
       "18       Kottawa, Sri Lanka  6.843014  79.965531\n",
       "19     Kadawatha, Sri Lanka  7.001966  79.951267\n",
       "20      Mirigama, Sri Lanka  7.247514  80.129921\n",
       "21   Minuwangoda, Sri Lanka  7.169272  79.948461\n",
       "22      Moratuwa, Sri Lanka  6.774682  79.882610\n",
       "23  Anuradhapura, Sri Lanka  8.334985  80.410610\n",
       "24       Kandana, Sri Lanka  7.047849  79.897056\n",
       "25   Piliyandala, Sri Lanka  6.799951  79.923117\n",
       "26      Nugegoda, Sri Lanka  6.869969  79.888284\n",
       "27         Kotte, Sri Lanka  6.888322  79.918741\n",
       "28       Madampe, Sri Lanka  7.495416  79.841381\n",
       "29     Ratnapura, Sri Lanka  6.680369  80.402298\n",
       "30      Hanwella, Sri Lanka  6.900726  80.117959\n",
       "31        Chilaw, Sri Lanka  7.576507  79.795676\n",
       "32      Marawila, Sri Lanka  8.490693  79.921025\n",
       "33      Koswatta, Sri Lanka  7.370883  79.897213\n",
       "34   Bandarawela, Sri Lanka  6.830482  80.988820\n",
       "35    Nattandiya, Sri Lanka  7.411875  79.865207\n",
       "36    Maharagama, Sri Lanka  6.847278  79.926608\n",
       "37    Nittambuwa, Sri Lanka  7.143863  80.095596\n",
       "38   Bandaragama, Sri Lanka  6.714513  79.988967\n",
       "39      Biyagama, Sri Lanka  6.944490  79.990557\n",
       "40       Mathara, Sri Lanka  6.971077  79.872941\n",
       "41       Kegalle, Sri Lanka  7.113445  80.321740\n",
       "42       Badulla, Sri Lanka  6.989950  81.057059"
      ]
     },
     "execution_count": 39,
     "metadata": {},
     "output_type": "execute_result"
    }
   ],
   "source": [
    "#Read the Location Data\n",
    "Locations=pd.read_csv(os.path.join(cleaned_data_dir, 'Locations.csv'))\n",
    "Locations"
   ]
  },
  {
   "cell_type": "markdown",
   "metadata": {},
   "source": [
    "# Data Proprocessing"
   ]
  },
  {
   "cell_type": "code",
   "execution_count": 40,
   "metadata": {},
   "outputs": [],
   "source": [
    "#Get BMICH, Colombo as the event location\n",
    "event_location = Locations[Locations['location'] == 'BMICH, Colombo']\n",
    "\n",
    "#Get other locations as attendee locations\n",
    "attendee_locations = Locations[Locations['location'] != 'BMICH, Colombo']"
   ]
  },
  {
   "cell_type": "code",
   "execution_count": 41,
   "metadata": {},
   "outputs": [
    {
     "data": {
      "text/html": [
       "<div>\n",
       "<style scoped>\n",
       "    .dataframe tbody tr th:only-of-type {\n",
       "        vertical-align: middle;\n",
       "    }\n",
       "\n",
       "    .dataframe tbody tr th {\n",
       "        vertical-align: top;\n",
       "    }\n",
       "\n",
       "    .dataframe thead th {\n",
       "        text-align: right;\n",
       "    }\n",
       "</style>\n",
       "<table border=\"1\" class=\"dataframe\">\n",
       "  <thead>\n",
       "    <tr style=\"text-align: right;\">\n",
       "      <th></th>\n",
       "      <th>attndDate</th>\n",
       "      <th>attndLocation</th>\n",
       "    </tr>\n",
       "  </thead>\n",
       "  <tbody>\n",
       "    <tr>\n",
       "      <th>0</th>\n",
       "      <td>2023-11-17</td>\n",
       "      <td>Anuradhapura, Sri Lanka</td>\n",
       "    </tr>\n",
       "    <tr>\n",
       "      <th>1</th>\n",
       "      <td>2023-11-17</td>\n",
       "      <td>Avissawella, Sri Lanka</td>\n",
       "    </tr>\n",
       "    <tr>\n",
       "      <th>2</th>\n",
       "      <td>2023-11-17</td>\n",
       "      <td>Badulla, Sri Lanka</td>\n",
       "    </tr>\n",
       "    <tr>\n",
       "      <th>3</th>\n",
       "      <td>2023-11-17</td>\n",
       "      <td>Bandaragama, Sri Lanka</td>\n",
       "    </tr>\n",
       "    <tr>\n",
       "      <th>4</th>\n",
       "      <td>2023-11-17</td>\n",
       "      <td>Bandarawela, Sri Lanka</td>\n",
       "    </tr>\n",
       "    <tr>\n",
       "      <th>...</th>\n",
       "      <td>...</td>\n",
       "      <td>...</td>\n",
       "    </tr>\n",
       "    <tr>\n",
       "      <th>163</th>\n",
       "      <td>2023-11-20</td>\n",
       "      <td>Nugegoda, Sri Lanka</td>\n",
       "    </tr>\n",
       "    <tr>\n",
       "      <th>164</th>\n",
       "      <td>2023-11-20</td>\n",
       "      <td>Piliyandala, Sri Lanka</td>\n",
       "    </tr>\n",
       "    <tr>\n",
       "      <th>165</th>\n",
       "      <td>2023-11-20</td>\n",
       "      <td>Rajagiriya, Sri Lanka</td>\n",
       "    </tr>\n",
       "    <tr>\n",
       "      <th>166</th>\n",
       "      <td>2023-11-20</td>\n",
       "      <td>Ratnapura, Sri Lanka</td>\n",
       "    </tr>\n",
       "    <tr>\n",
       "      <th>167</th>\n",
       "      <td>2023-11-20</td>\n",
       "      <td>Wattala, Sri Lanka</td>\n",
       "    </tr>\n",
       "  </tbody>\n",
       "</table>\n",
       "<p>168 rows × 2 columns</p>\n",
       "</div>"
      ],
      "text/plain": [
       "      attndDate            attndLocation\n",
       "0    2023-11-17  Anuradhapura, Sri Lanka\n",
       "1    2023-11-17   Avissawella, Sri Lanka\n",
       "2    2023-11-17       Badulla, Sri Lanka\n",
       "3    2023-11-17   Bandaragama, Sri Lanka\n",
       "4    2023-11-17   Bandarawela, Sri Lanka\n",
       "..          ...                      ...\n",
       "163  2023-11-20      Nugegoda, Sri Lanka\n",
       "164  2023-11-20   Piliyandala, Sri Lanka\n",
       "165  2023-11-20    Rajagiriya, Sri Lanka\n",
       "166  2023-11-20     Ratnapura, Sri Lanka\n",
       "167  2023-11-20       Wattala, Sri Lanka\n",
       "\n",
       "[168 rows x 2 columns]"
      ]
     },
     "execution_count": 41,
     "metadata": {},
     "output_type": "execute_result"
    }
   ],
   "source": [
    "#Get unique attndLocation and attndDate values\n",
    "attndLocation = np.unique(attendee_locations['location'])\n",
    "attndDate = np.unique(colombo_motor_show_attendance['attndDate'])\n",
    "\n",
    "#Create empty arrays for attndDate and attndLocation\n",
    "attndDate_array = np.array([])\n",
    "attndLocation_array = np.array([])\n",
    "\n",
    "#Add attndDate and attndLocation values to arrays\n",
    "for date in attndDate:\n",
    "    attndDate_array = np.append(attndDate_array, np.repeat(str(date), len(attndLocation)))\n",
    "    attndLocation_array = np.append(attndLocation_array, attndLocation)\n",
    "\n",
    "#Remove \"T00:00:00.000000000\" in attndDate\n",
    "attndDate_array = np.char.replace(attndDate_array, 'T00:00:00.000000000', '')\n",
    "\n",
    "#Create a dataframe with attndDate and attndLocation\n",
    "AttendeesLocations = pd.DataFrame({'attndDate': attndDate_array, 'attndLocation': attndLocation_array})\n",
    "\n",
    "#Convert attndDate to datetime for %Y-%m-%d format\n",
    "AttendeesLocations['attndDate'] = pd.to_datetime(AttendeesLocations['attndDate']).dt.strftime('%Y-%m-%d')\n",
    "\n",
    "AttendeesLocations"
   ]
  },
  {
   "cell_type": "code",
   "execution_count": 42,
   "metadata": {},
   "outputs": [
    {
     "data": {
      "text/html": [
       "<div>\n",
       "<style scoped>\n",
       "    .dataframe tbody tr th:only-of-type {\n",
       "        vertical-align: middle;\n",
       "    }\n",
       "\n",
       "    .dataframe tbody tr th {\n",
       "        vertical-align: top;\n",
       "    }\n",
       "\n",
       "    .dataframe thead th {\n",
       "        text-align: right;\n",
       "    }\n",
       "</style>\n",
       "<table border=\"1\" class=\"dataframe\">\n",
       "  <thead>\n",
       "    <tr style=\"text-align: right;\">\n",
       "      <th></th>\n",
       "      <th>attndDate</th>\n",
       "      <th>attndLocation</th>\n",
       "      <th>attendeesCount</th>\n",
       "    </tr>\n",
       "  </thead>\n",
       "  <tbody>\n",
       "    <tr>\n",
       "      <th>0</th>\n",
       "      <td>2023-11-17</td>\n",
       "      <td>Bandaragama, Sri Lanka</td>\n",
       "      <td>1</td>\n",
       "    </tr>\n",
       "    <tr>\n",
       "      <th>1</th>\n",
       "      <td>2023-11-17</td>\n",
       "      <td>Colombo, Sri Lanka</td>\n",
       "      <td>1</td>\n",
       "    </tr>\n",
       "    <tr>\n",
       "      <th>2</th>\n",
       "      <td>2023-11-17</td>\n",
       "      <td>Gampaha, Sri Lanka</td>\n",
       "      <td>1</td>\n",
       "    </tr>\n",
       "    <tr>\n",
       "      <th>3</th>\n",
       "      <td>2023-11-17</td>\n",
       "      <td>Minuwangoda, Sri Lanka</td>\n",
       "      <td>1</td>\n",
       "    </tr>\n",
       "    <tr>\n",
       "      <th>4</th>\n",
       "      <td>2023-11-17</td>\n",
       "      <td>Moratuwa, Sri Lanka</td>\n",
       "      <td>1</td>\n",
       "    </tr>\n",
       "    <tr>\n",
       "      <th>...</th>\n",
       "      <td>...</td>\n",
       "      <td>...</td>\n",
       "      <td>...</td>\n",
       "    </tr>\n",
       "    <tr>\n",
       "      <th>59</th>\n",
       "      <td>2023-11-20</td>\n",
       "      <td>Kurunegala, Sri Lanka</td>\n",
       "      <td>1</td>\n",
       "    </tr>\n",
       "    <tr>\n",
       "      <th>60</th>\n",
       "      <td>2023-11-20</td>\n",
       "      <td>Madampe, Sri Lanka</td>\n",
       "      <td>1</td>\n",
       "    </tr>\n",
       "    <tr>\n",
       "      <th>61</th>\n",
       "      <td>2023-11-20</td>\n",
       "      <td>Mirigama, Sri Lanka</td>\n",
       "      <td>1</td>\n",
       "    </tr>\n",
       "    <tr>\n",
       "      <th>62</th>\n",
       "      <td>2023-11-20</td>\n",
       "      <td>Negombo, Sri Lanka</td>\n",
       "      <td>2</td>\n",
       "    </tr>\n",
       "    <tr>\n",
       "      <th>63</th>\n",
       "      <td>2023-11-20</td>\n",
       "      <td>Ratnapura, Sri Lanka</td>\n",
       "      <td>2</td>\n",
       "    </tr>\n",
       "  </tbody>\n",
       "</table>\n",
       "<p>64 rows × 3 columns</p>\n",
       "</div>"
      ],
      "text/plain": [
       "    attndDate           attndLocation  attendeesCount\n",
       "0  2023-11-17  Bandaragama, Sri Lanka               1\n",
       "1  2023-11-17      Colombo, Sri Lanka               1\n",
       "2  2023-11-17      Gampaha, Sri Lanka               1\n",
       "3  2023-11-17  Minuwangoda, Sri Lanka               1\n",
       "4  2023-11-17     Moratuwa, Sri Lanka               1\n",
       "..        ...                     ...             ...\n",
       "59 2023-11-20   Kurunegala, Sri Lanka               1\n",
       "60 2023-11-20      Madampe, Sri Lanka               1\n",
       "61 2023-11-20     Mirigama, Sri Lanka               1\n",
       "62 2023-11-20      Negombo, Sri Lanka               2\n",
       "63 2023-11-20    Ratnapura, Sri Lanka               2\n",
       "\n",
       "[64 rows x 3 columns]"
      ]
     },
     "execution_count": 42,
     "metadata": {},
     "output_type": "execute_result"
    }
   ],
   "source": [
    "#count the number of attendees for each location from the Colombo Motor Show Attendance dataset\n",
    "attendees_count = colombo_motor_show_attendance.groupby(['attndDate', 'attndLocation']).size().reset_index(name='attendeesCount')\n",
    "\n",
    "attendees_count"
   ]
  },
  {
   "cell_type": "code",
   "execution_count": 43,
   "metadata": {},
   "outputs": [
    {
     "data": {
      "text/html": [
       "<div>\n",
       "<style scoped>\n",
       "    .dataframe tbody tr th:only-of-type {\n",
       "        vertical-align: middle;\n",
       "    }\n",
       "\n",
       "    .dataframe tbody tr th {\n",
       "        vertical-align: top;\n",
       "    }\n",
       "\n",
       "    .dataframe thead th {\n",
       "        text-align: right;\n",
       "    }\n",
       "</style>\n",
       "<table border=\"1\" class=\"dataframe\">\n",
       "  <thead>\n",
       "    <tr style=\"text-align: right;\">\n",
       "      <th></th>\n",
       "      <th>attndDate</th>\n",
       "      <th>attndLocation</th>\n",
       "      <th>attendeesCount</th>\n",
       "    </tr>\n",
       "  </thead>\n",
       "  <tbody>\n",
       "    <tr>\n",
       "      <th>0</th>\n",
       "      <td>2023-11-17</td>\n",
       "      <td>Anuradhapura, Sri Lanka</td>\n",
       "      <td>0.0</td>\n",
       "    </tr>\n",
       "    <tr>\n",
       "      <th>1</th>\n",
       "      <td>2023-11-17</td>\n",
       "      <td>Avissawella, Sri Lanka</td>\n",
       "      <td>0.0</td>\n",
       "    </tr>\n",
       "    <tr>\n",
       "      <th>2</th>\n",
       "      <td>2023-11-17</td>\n",
       "      <td>Badulla, Sri Lanka</td>\n",
       "      <td>0.0</td>\n",
       "    </tr>\n",
       "    <tr>\n",
       "      <th>3</th>\n",
       "      <td>2023-11-17</td>\n",
       "      <td>Bandaragama, Sri Lanka</td>\n",
       "      <td>1.0</td>\n",
       "    </tr>\n",
       "    <tr>\n",
       "      <th>4</th>\n",
       "      <td>2023-11-17</td>\n",
       "      <td>Bandarawela, Sri Lanka</td>\n",
       "      <td>0.0</td>\n",
       "    </tr>\n",
       "    <tr>\n",
       "      <th>...</th>\n",
       "      <td>...</td>\n",
       "      <td>...</td>\n",
       "      <td>...</td>\n",
       "    </tr>\n",
       "    <tr>\n",
       "      <th>163</th>\n",
       "      <td>2023-11-20</td>\n",
       "      <td>Nugegoda, Sri Lanka</td>\n",
       "      <td>0.0</td>\n",
       "    </tr>\n",
       "    <tr>\n",
       "      <th>164</th>\n",
       "      <td>2023-11-20</td>\n",
       "      <td>Piliyandala, Sri Lanka</td>\n",
       "      <td>0.0</td>\n",
       "    </tr>\n",
       "    <tr>\n",
       "      <th>165</th>\n",
       "      <td>2023-11-20</td>\n",
       "      <td>Rajagiriya, Sri Lanka</td>\n",
       "      <td>0.0</td>\n",
       "    </tr>\n",
       "    <tr>\n",
       "      <th>166</th>\n",
       "      <td>2023-11-20</td>\n",
       "      <td>Ratnapura, Sri Lanka</td>\n",
       "      <td>2.0</td>\n",
       "    </tr>\n",
       "    <tr>\n",
       "      <th>167</th>\n",
       "      <td>2023-11-20</td>\n",
       "      <td>Wattala, Sri Lanka</td>\n",
       "      <td>0.0</td>\n",
       "    </tr>\n",
       "  </tbody>\n",
       "</table>\n",
       "<p>168 rows × 3 columns</p>\n",
       "</div>"
      ],
      "text/plain": [
       "      attndDate            attndLocation  attendeesCount\n",
       "0    2023-11-17  Anuradhapura, Sri Lanka             0.0\n",
       "1    2023-11-17   Avissawella, Sri Lanka             0.0\n",
       "2    2023-11-17       Badulla, Sri Lanka             0.0\n",
       "3    2023-11-17   Bandaragama, Sri Lanka             1.0\n",
       "4    2023-11-17   Bandarawela, Sri Lanka             0.0\n",
       "..          ...                      ...             ...\n",
       "163  2023-11-20      Nugegoda, Sri Lanka             0.0\n",
       "164  2023-11-20   Piliyandala, Sri Lanka             0.0\n",
       "165  2023-11-20    Rajagiriya, Sri Lanka             0.0\n",
       "166  2023-11-20     Ratnapura, Sri Lanka             2.0\n",
       "167  2023-11-20       Wattala, Sri Lanka             0.0\n",
       "\n",
       "[168 rows x 3 columns]"
      ]
     },
     "execution_count": 43,
     "metadata": {},
     "output_type": "execute_result"
    }
   ],
   "source": [
    "#Convert attndDate to datetime for %Y-%m-%d format in attendees_count and AttendeesLocations dataframes\n",
    "attendees_count['attndDate'] = pd.to_datetime(attendees_count['attndDate']).dt.strftime('%Y-%m-%d')\n",
    "AttendeesLocations['attndDate'] = pd.to_datetime(AttendeesLocations['attndDate']).dt.strftime('%Y-%m-%d')\n",
    "\n",
    "#Merge AttendeesLocations and attendees_count dataframes\n",
    "AttendeesLocations = AttendeesLocations.merge(attendees_count, how='left', on=['attndDate', 'attndLocation'])\n",
    "\n",
    "#Replace NaN values with 0\n",
    "AttendeesLocations['attendeesCount'].fillna(0, inplace=True)\n",
    "\n",
    "AttendeesLocations"
   ]
  },
  {
   "cell_type": "code",
   "execution_count": 44,
   "metadata": {},
   "outputs": [
    {
     "data": {
      "text/html": [
       "<div>\n",
       "<style scoped>\n",
       "    .dataframe tbody tr th:only-of-type {\n",
       "        vertical-align: middle;\n",
       "    }\n",
       "\n",
       "    .dataframe tbody tr th {\n",
       "        vertical-align: top;\n",
       "    }\n",
       "\n",
       "    .dataframe thead th {\n",
       "        text-align: right;\n",
       "    }\n",
       "</style>\n",
       "<table border=\"1\" class=\"dataframe\">\n",
       "  <thead>\n",
       "    <tr style=\"text-align: right;\">\n",
       "      <th></th>\n",
       "      <th>attndDate</th>\n",
       "      <th>attndLocation</th>\n",
       "      <th>attendeesCount</th>\n",
       "      <th>dhTemp (C)</th>\n",
       "      <th>dlTemp (C)</th>\n",
       "      <th>precipitation (mm)</th>\n",
       "      <th>humidity</th>\n",
       "      <th>wind (km/h)</th>\n",
       "    </tr>\n",
       "  </thead>\n",
       "  <tbody>\n",
       "    <tr>\n",
       "      <th>0</th>\n",
       "      <td>2023-11-17</td>\n",
       "      <td>Anuradhapura, Sri Lanka</td>\n",
       "      <td>0.0</td>\n",
       "      <td>32</td>\n",
       "      <td>26</td>\n",
       "      <td>4.3</td>\n",
       "      <td>0.8684</td>\n",
       "      <td>5.3</td>\n",
       "    </tr>\n",
       "    <tr>\n",
       "      <th>1</th>\n",
       "      <td>2023-11-17</td>\n",
       "      <td>Avissawella, Sri Lanka</td>\n",
       "      <td>0.0</td>\n",
       "      <td>32</td>\n",
       "      <td>26</td>\n",
       "      <td>4.3</td>\n",
       "      <td>0.8684</td>\n",
       "      <td>5.3</td>\n",
       "    </tr>\n",
       "    <tr>\n",
       "      <th>2</th>\n",
       "      <td>2023-11-17</td>\n",
       "      <td>Badulla, Sri Lanka</td>\n",
       "      <td>0.0</td>\n",
       "      <td>32</td>\n",
       "      <td>26</td>\n",
       "      <td>4.3</td>\n",
       "      <td>0.8684</td>\n",
       "      <td>5.3</td>\n",
       "    </tr>\n",
       "    <tr>\n",
       "      <th>3</th>\n",
       "      <td>2023-11-17</td>\n",
       "      <td>Bandaragama, Sri Lanka</td>\n",
       "      <td>1.0</td>\n",
       "      <td>32</td>\n",
       "      <td>26</td>\n",
       "      <td>4.3</td>\n",
       "      <td>0.8684</td>\n",
       "      <td>5.3</td>\n",
       "    </tr>\n",
       "    <tr>\n",
       "      <th>4</th>\n",
       "      <td>2023-11-17</td>\n",
       "      <td>Bandarawela, Sri Lanka</td>\n",
       "      <td>0.0</td>\n",
       "      <td>32</td>\n",
       "      <td>26</td>\n",
       "      <td>4.3</td>\n",
       "      <td>0.8684</td>\n",
       "      <td>5.3</td>\n",
       "    </tr>\n",
       "    <tr>\n",
       "      <th>...</th>\n",
       "      <td>...</td>\n",
       "      <td>...</td>\n",
       "      <td>...</td>\n",
       "      <td>...</td>\n",
       "      <td>...</td>\n",
       "      <td>...</td>\n",
       "      <td>...</td>\n",
       "      <td>...</td>\n",
       "    </tr>\n",
       "    <tr>\n",
       "      <th>163</th>\n",
       "      <td>2023-11-20</td>\n",
       "      <td>Nugegoda, Sri Lanka</td>\n",
       "      <td>0.0</td>\n",
       "      <td>31</td>\n",
       "      <td>24</td>\n",
       "      <td>2.7</td>\n",
       "      <td>0.8805</td>\n",
       "      <td>5.0</td>\n",
       "    </tr>\n",
       "    <tr>\n",
       "      <th>164</th>\n",
       "      <td>2023-11-20</td>\n",
       "      <td>Piliyandala, Sri Lanka</td>\n",
       "      <td>0.0</td>\n",
       "      <td>31</td>\n",
       "      <td>24</td>\n",
       "      <td>2.7</td>\n",
       "      <td>0.8805</td>\n",
       "      <td>5.0</td>\n",
       "    </tr>\n",
       "    <tr>\n",
       "      <th>165</th>\n",
       "      <td>2023-11-20</td>\n",
       "      <td>Rajagiriya, Sri Lanka</td>\n",
       "      <td>0.0</td>\n",
       "      <td>31</td>\n",
       "      <td>24</td>\n",
       "      <td>2.7</td>\n",
       "      <td>0.8805</td>\n",
       "      <td>5.0</td>\n",
       "    </tr>\n",
       "    <tr>\n",
       "      <th>166</th>\n",
       "      <td>2023-11-20</td>\n",
       "      <td>Ratnapura, Sri Lanka</td>\n",
       "      <td>2.0</td>\n",
       "      <td>31</td>\n",
       "      <td>24</td>\n",
       "      <td>2.7</td>\n",
       "      <td>0.8805</td>\n",
       "      <td>5.0</td>\n",
       "    </tr>\n",
       "    <tr>\n",
       "      <th>167</th>\n",
       "      <td>2023-11-20</td>\n",
       "      <td>Wattala, Sri Lanka</td>\n",
       "      <td>0.0</td>\n",
       "      <td>31</td>\n",
       "      <td>24</td>\n",
       "      <td>2.7</td>\n",
       "      <td>0.8805</td>\n",
       "      <td>5.0</td>\n",
       "    </tr>\n",
       "  </tbody>\n",
       "</table>\n",
       "<p>168 rows × 8 columns</p>\n",
       "</div>"
      ],
      "text/plain": [
       "     attndDate            attndLocation  attendeesCount  dhTemp (C)  \\\n",
       "0   2023-11-17  Anuradhapura, Sri Lanka             0.0          32   \n",
       "1   2023-11-17   Avissawella, Sri Lanka             0.0          32   \n",
       "2   2023-11-17       Badulla, Sri Lanka             0.0          32   \n",
       "3   2023-11-17   Bandaragama, Sri Lanka             1.0          32   \n",
       "4   2023-11-17   Bandarawela, Sri Lanka             0.0          32   \n",
       "..         ...                      ...             ...         ...   \n",
       "163 2023-11-20      Nugegoda, Sri Lanka             0.0          31   \n",
       "164 2023-11-20   Piliyandala, Sri Lanka             0.0          31   \n",
       "165 2023-11-20    Rajagiriya, Sri Lanka             0.0          31   \n",
       "166 2023-11-20     Ratnapura, Sri Lanka             2.0          31   \n",
       "167 2023-11-20       Wattala, Sri Lanka             0.0          31   \n",
       "\n",
       "     dlTemp (C)  precipitation (mm)  humidity  wind (km/h)  \n",
       "0            26                 4.3    0.8684          5.3  \n",
       "1            26                 4.3    0.8684          5.3  \n",
       "2            26                 4.3    0.8684          5.3  \n",
       "3            26                 4.3    0.8684          5.3  \n",
       "4            26                 4.3    0.8684          5.3  \n",
       "..          ...                 ...       ...          ...  \n",
       "163          24                 2.7    0.8805          5.0  \n",
       "164          24                 2.7    0.8805          5.0  \n",
       "165          24                 2.7    0.8805          5.0  \n",
       "166          24                 2.7    0.8805          5.0  \n",
       "167          24                 2.7    0.8805          5.0  \n",
       "\n",
       "[168 rows x 8 columns]"
      ]
     },
     "execution_count": 44,
     "metadata": {},
     "output_type": "execute_result"
    }
   ],
   "source": [
    "#Convert attndDate in AttendeesLocations and weather_climate_data to same format\n",
    "AttendeesLocations['attndDate'] = pd.to_datetime(AttendeesLocations['attndDate']).dt.strftime('%m/%d/%Y')\n",
    "weather_climate_data['attndDate'] = pd.to_datetime(weather_climate_data['attndDate']).dt.strftime('%m/%d/%Y')\n",
    "\n",
    "#Left Join the AttendeesLocations and weather_climate_data dataframes\n",
    "ModelData = AttendeesLocations.merge(weather_climate_data, how='left', on=['attndDate'])\n",
    "\n",
    "#Drop eventLocation column\n",
    "ModelData.drop('eventLocation', axis=1, inplace=True)\n",
    "\n",
    "#Convert attndDate to datetime\n",
    "ModelData['attndDate'] = pd.to_datetime(ModelData['attndDate'], format=date_format)\n",
    "\n",
    "ModelData"
   ]
  },
  {
   "cell_type": "markdown",
   "metadata": {},
   "source": [
    "# Data Modeling for Predictions"
   ]
  },
  {
   "cell_type": "code",
   "execution_count": 45,
   "metadata": {},
   "outputs": [
    {
     "name": "stderr",
     "output_type": "stream",
     "text": [
      "c:\\Users\\Rameez\\anaconda3\\lib\\site-packages\\sklearn\\base.py:420: UserWarning:\n",
      "\n",
      "X does not have valid feature names, but RandomForestRegressor was fitted with feature names\n",
      "\n",
      "c:\\Users\\Rameez\\anaconda3\\lib\\site-packages\\sklearn\\base.py:420: UserWarning:\n",
      "\n",
      "X does not have valid feature names, but RandomForestRegressor was fitted with feature names\n",
      "\n",
      "c:\\Users\\Rameez\\anaconda3\\lib\\site-packages\\sklearn\\base.py:420: UserWarning:\n",
      "\n",
      "X does not have valid feature names, but RandomForestRegressor was fitted with feature names\n",
      "\n",
      "c:\\Users\\Rameez\\anaconda3\\lib\\site-packages\\sklearn\\base.py:420: UserWarning:\n",
      "\n",
      "X does not have valid feature names, but RandomForestRegressor was fitted with feature names\n",
      "\n",
      "c:\\Users\\Rameez\\anaconda3\\lib\\site-packages\\sklearn\\base.py:420: UserWarning:\n",
      "\n",
      "X does not have valid feature names, but RandomForestRegressor was fitted with feature names\n",
      "\n",
      "c:\\Users\\Rameez\\anaconda3\\lib\\site-packages\\sklearn\\base.py:420: UserWarning:\n",
      "\n",
      "X does not have valid feature names, but RandomForestRegressor was fitted with feature names\n",
      "\n",
      "c:\\Users\\Rameez\\anaconda3\\lib\\site-packages\\sklearn\\base.py:420: UserWarning:\n",
      "\n",
      "X does not have valid feature names, but RandomForestRegressor was fitted with feature names\n",
      "\n",
      "c:\\Users\\Rameez\\anaconda3\\lib\\site-packages\\sklearn\\base.py:420: UserWarning:\n",
      "\n",
      "X does not have valid feature names, but RandomForestRegressor was fitted with feature names\n",
      "\n",
      "c:\\Users\\Rameez\\anaconda3\\lib\\site-packages\\sklearn\\base.py:420: UserWarning:\n",
      "\n",
      "X does not have valid feature names, but RandomForestRegressor was fitted with feature names\n",
      "\n",
      "c:\\Users\\Rameez\\anaconda3\\lib\\site-packages\\sklearn\\base.py:420: UserWarning:\n",
      "\n",
      "X does not have valid feature names, but RandomForestRegressor was fitted with feature names\n",
      "\n",
      "c:\\Users\\Rameez\\anaconda3\\lib\\site-packages\\sklearn\\base.py:420: UserWarning:\n",
      "\n",
      "X does not have valid feature names, but RandomForestRegressor was fitted with feature names\n",
      "\n",
      "c:\\Users\\Rameez\\anaconda3\\lib\\site-packages\\sklearn\\base.py:420: UserWarning:\n",
      "\n",
      "X does not have valid feature names, but RandomForestRegressor was fitted with feature names\n",
      "\n",
      "c:\\Users\\Rameez\\anaconda3\\lib\\site-packages\\sklearn\\base.py:420: UserWarning:\n",
      "\n",
      "X does not have valid feature names, but RandomForestRegressor was fitted with feature names\n",
      "\n",
      "c:\\Users\\Rameez\\anaconda3\\lib\\site-packages\\sklearn\\base.py:420: UserWarning:\n",
      "\n",
      "X does not have valid feature names, but RandomForestRegressor was fitted with feature names\n",
      "\n",
      "c:\\Users\\Rameez\\anaconda3\\lib\\site-packages\\sklearn\\base.py:420: UserWarning:\n",
      "\n",
      "X does not have valid feature names, but RandomForestRegressor was fitted with feature names\n",
      "\n",
      "c:\\Users\\Rameez\\anaconda3\\lib\\site-packages\\sklearn\\base.py:420: UserWarning:\n",
      "\n",
      "X does not have valid feature names, but RandomForestRegressor was fitted with feature names\n",
      "\n",
      "c:\\Users\\Rameez\\anaconda3\\lib\\site-packages\\sklearn\\base.py:420: UserWarning:\n",
      "\n",
      "X does not have valid feature names, but RandomForestRegressor was fitted with feature names\n",
      "\n",
      "c:\\Users\\Rameez\\anaconda3\\lib\\site-packages\\sklearn\\base.py:420: UserWarning:\n",
      "\n",
      "X does not have valid feature names, but RandomForestRegressor was fitted with feature names\n",
      "\n",
      "c:\\Users\\Rameez\\anaconda3\\lib\\site-packages\\sklearn\\base.py:420: UserWarning:\n",
      "\n",
      "X does not have valid feature names, but RandomForestRegressor was fitted with feature names\n",
      "\n",
      "c:\\Users\\Rameez\\anaconda3\\lib\\site-packages\\sklearn\\base.py:420: UserWarning:\n",
      "\n",
      "X does not have valid feature names, but RandomForestRegressor was fitted with feature names\n",
      "\n",
      "c:\\Users\\Rameez\\anaconda3\\lib\\site-packages\\sklearn\\base.py:420: UserWarning:\n",
      "\n",
      "X does not have valid feature names, but RandomForestRegressor was fitted with feature names\n",
      "\n",
      "c:\\Users\\Rameez\\anaconda3\\lib\\site-packages\\sklearn\\base.py:420: UserWarning:\n",
      "\n",
      "X does not have valid feature names, but RandomForestRegressor was fitted with feature names\n",
      "\n",
      "c:\\Users\\Rameez\\anaconda3\\lib\\site-packages\\sklearn\\base.py:420: UserWarning:\n",
      "\n",
      "X does not have valid feature names, but RandomForestRegressor was fitted with feature names\n",
      "\n",
      "c:\\Users\\Rameez\\anaconda3\\lib\\site-packages\\sklearn\\base.py:420: UserWarning:\n",
      "\n",
      "X does not have valid feature names, but RandomForestRegressor was fitted with feature names\n",
      "\n",
      "c:\\Users\\Rameez\\anaconda3\\lib\\site-packages\\sklearn\\base.py:420: UserWarning:\n",
      "\n",
      "X does not have valid feature names, but RandomForestRegressor was fitted with feature names\n",
      "\n",
      "c:\\Users\\Rameez\\anaconda3\\lib\\site-packages\\sklearn\\base.py:420: UserWarning:\n",
      "\n",
      "X does not have valid feature names, but RandomForestRegressor was fitted with feature names\n",
      "\n",
      "c:\\Users\\Rameez\\anaconda3\\lib\\site-packages\\sklearn\\base.py:420: UserWarning:\n",
      "\n",
      "X does not have valid feature names, but RandomForestRegressor was fitted with feature names\n",
      "\n",
      "c:\\Users\\Rameez\\anaconda3\\lib\\site-packages\\sklearn\\base.py:420: UserWarning:\n",
      "\n",
      "X does not have valid feature names, but RandomForestRegressor was fitted with feature names\n",
      "\n",
      "c:\\Users\\Rameez\\anaconda3\\lib\\site-packages\\sklearn\\base.py:420: UserWarning:\n",
      "\n",
      "X does not have valid feature names, but RandomForestRegressor was fitted with feature names\n",
      "\n",
      "c:\\Users\\Rameez\\anaconda3\\lib\\site-packages\\sklearn\\base.py:420: UserWarning:\n",
      "\n",
      "X does not have valid feature names, but RandomForestRegressor was fitted with feature names\n",
      "\n",
      "c:\\Users\\Rameez\\anaconda3\\lib\\site-packages\\sklearn\\base.py:420: UserWarning:\n",
      "\n",
      "X does not have valid feature names, but RandomForestRegressor was fitted with feature names\n",
      "\n",
      "c:\\Users\\Rameez\\anaconda3\\lib\\site-packages\\sklearn\\base.py:420: UserWarning:\n",
      "\n",
      "X does not have valid feature names, but RandomForestRegressor was fitted with feature names\n",
      "\n",
      "c:\\Users\\Rameez\\anaconda3\\lib\\site-packages\\sklearn\\base.py:420: UserWarning:\n",
      "\n",
      "X does not have valid feature names, but RandomForestRegressor was fitted with feature names\n",
      "\n",
      "c:\\Users\\Rameez\\anaconda3\\lib\\site-packages\\sklearn\\base.py:420: UserWarning:\n",
      "\n",
      "X does not have valid feature names, but RandomForestRegressor was fitted with feature names\n",
      "\n",
      "c:\\Users\\Rameez\\anaconda3\\lib\\site-packages\\sklearn\\base.py:420: UserWarning:\n",
      "\n",
      "X does not have valid feature names, but RandomForestRegressor was fitted with feature names\n",
      "\n",
      "c:\\Users\\Rameez\\anaconda3\\lib\\site-packages\\sklearn\\base.py:420: UserWarning:\n",
      "\n",
      "X does not have valid feature names, but RandomForestRegressor was fitted with feature names\n",
      "\n",
      "c:\\Users\\Rameez\\anaconda3\\lib\\site-packages\\sklearn\\base.py:420: UserWarning:\n",
      "\n",
      "X does not have valid feature names, but RandomForestRegressor was fitted with feature names\n",
      "\n",
      "c:\\Users\\Rameez\\anaconda3\\lib\\site-packages\\sklearn\\base.py:420: UserWarning:\n",
      "\n",
      "X does not have valid feature names, but RandomForestRegressor was fitted with feature names\n",
      "\n",
      "c:\\Users\\Rameez\\anaconda3\\lib\\site-packages\\sklearn\\base.py:420: UserWarning:\n",
      "\n",
      "X does not have valid feature names, but RandomForestRegressor was fitted with feature names\n",
      "\n",
      "c:\\Users\\Rameez\\anaconda3\\lib\\site-packages\\sklearn\\base.py:420: UserWarning:\n",
      "\n",
      "X does not have valid feature names, but RandomForestRegressor was fitted with feature names\n",
      "\n",
      "c:\\Users\\Rameez\\anaconda3\\lib\\site-packages\\sklearn\\base.py:420: UserWarning:\n",
      "\n",
      "X does not have valid feature names, but RandomForestRegressor was fitted with feature names\n",
      "\n",
      "c:\\Users\\Rameez\\anaconda3\\lib\\site-packages\\sklearn\\base.py:420: UserWarning:\n",
      "\n",
      "X does not have valid feature names, but RandomForestRegressor was fitted with feature names\n",
      "\n",
      "C:\\Users\\Rameez\\AppData\\Local\\Temp\\ipykernel_20380\\1207850579.py:46: SettingWithCopyWarning:\n",
      "\n",
      "\n",
      "A value is trying to be set on a copy of a slice from a DataFrame.\n",
      "Try using .loc[row_indexer,col_indexer] = value instead\n",
      "\n",
      "See the caveats in the documentation: https://pandas.pydata.org/pandas-docs/stable/user_guide/indexing.html#returning-a-view-versus-a-copy\n",
      "\n",
      "C:\\Users\\Rameez\\AppData\\Local\\Temp\\ipykernel_20380\\1207850579.py:49: SettingWithCopyWarning:\n",
      "\n",
      "\n",
      "A value is trying to be set on a copy of a slice from a DataFrame.\n",
      "Try using .loc[row_indexer,col_indexer] = value instead\n",
      "\n",
      "See the caveats in the documentation: https://pandas.pydata.org/pandas-docs/stable/user_guide/indexing.html#returning-a-view-versus-a-copy\n",
      "\n"
     ]
    },
    {
     "data": {
      "text/html": [
       "<div>\n",
       "<style scoped>\n",
       "    .dataframe tbody tr th:only-of-type {\n",
       "        vertical-align: middle;\n",
       "    }\n",
       "\n",
       "    .dataframe tbody tr th {\n",
       "        vertical-align: top;\n",
       "    }\n",
       "\n",
       "    .dataframe thead th {\n",
       "        text-align: right;\n",
       "    }\n",
       "</style>\n",
       "<table border=\"1\" class=\"dataframe\">\n",
       "  <thead>\n",
       "    <tr style=\"text-align: right;\">\n",
       "      <th></th>\n",
       "      <th>attndDate</th>\n",
       "      <th>attndLocation</th>\n",
       "      <th>attendeesCount</th>\n",
       "      <th>dhTemp (C)</th>\n",
       "      <th>dlTemp (C)</th>\n",
       "      <th>precipitation (mm)</th>\n",
       "      <th>humidity</th>\n",
       "      <th>wind (km/h)</th>\n",
       "      <th>predicted_attendeeCount</th>\n",
       "    </tr>\n",
       "  </thead>\n",
       "  <tbody>\n",
       "    <tr>\n",
       "      <th>126</th>\n",
       "      <td>2023-11-20</td>\n",
       "      <td>Anuradhapura, Sri Lanka</td>\n",
       "      <td>0.0</td>\n",
       "      <td>31</td>\n",
       "      <td>24</td>\n",
       "      <td>2.7</td>\n",
       "      <td>0.8805</td>\n",
       "      <td>5.0</td>\n",
       "      <td>0</td>\n",
       "    </tr>\n",
       "    <tr>\n",
       "      <th>127</th>\n",
       "      <td>2023-11-20</td>\n",
       "      <td>Avissawella, Sri Lanka</td>\n",
       "      <td>1.0</td>\n",
       "      <td>31</td>\n",
       "      <td>24</td>\n",
       "      <td>2.7</td>\n",
       "      <td>0.8805</td>\n",
       "      <td>5.0</td>\n",
       "      <td>0</td>\n",
       "    </tr>\n",
       "    <tr>\n",
       "      <th>128</th>\n",
       "      <td>2023-11-20</td>\n",
       "      <td>Badulla, Sri Lanka</td>\n",
       "      <td>0.0</td>\n",
       "      <td>31</td>\n",
       "      <td>24</td>\n",
       "      <td>2.7</td>\n",
       "      <td>0.8805</td>\n",
       "      <td>5.0</td>\n",
       "      <td>0</td>\n",
       "    </tr>\n",
       "    <tr>\n",
       "      <th>129</th>\n",
       "      <td>2023-11-20</td>\n",
       "      <td>Bandaragama, Sri Lanka</td>\n",
       "      <td>0.0</td>\n",
       "      <td>31</td>\n",
       "      <td>24</td>\n",
       "      <td>2.7</td>\n",
       "      <td>0.8805</td>\n",
       "      <td>5.0</td>\n",
       "      <td>0</td>\n",
       "    </tr>\n",
       "    <tr>\n",
       "      <th>130</th>\n",
       "      <td>2023-11-20</td>\n",
       "      <td>Bandarawela, Sri Lanka</td>\n",
       "      <td>0.0</td>\n",
       "      <td>31</td>\n",
       "      <td>24</td>\n",
       "      <td>2.7</td>\n",
       "      <td>0.8805</td>\n",
       "      <td>5.0</td>\n",
       "      <td>0</td>\n",
       "    </tr>\n",
       "    <tr>\n",
       "      <th>131</th>\n",
       "      <td>2023-11-20</td>\n",
       "      <td>Biyagama, Sri Lanka</td>\n",
       "      <td>0.0</td>\n",
       "      <td>31</td>\n",
       "      <td>24</td>\n",
       "      <td>2.7</td>\n",
       "      <td>0.8805</td>\n",
       "      <td>5.0</td>\n",
       "      <td>0</td>\n",
       "    </tr>\n",
       "    <tr>\n",
       "      <th>132</th>\n",
       "      <td>2023-11-20</td>\n",
       "      <td>Chilaw, Sri Lanka</td>\n",
       "      <td>0.0</td>\n",
       "      <td>31</td>\n",
       "      <td>24</td>\n",
       "      <td>2.7</td>\n",
       "      <td>0.8805</td>\n",
       "      <td>5.0</td>\n",
       "      <td>0</td>\n",
       "    </tr>\n",
       "    <tr>\n",
       "      <th>133</th>\n",
       "      <td>2023-11-20</td>\n",
       "      <td>Colombo, Sri Lanka</td>\n",
       "      <td>1.0</td>\n",
       "      <td>31</td>\n",
       "      <td>24</td>\n",
       "      <td>2.7</td>\n",
       "      <td>0.8805</td>\n",
       "      <td>5.0</td>\n",
       "      <td>3</td>\n",
       "    </tr>\n",
       "    <tr>\n",
       "      <th>134</th>\n",
       "      <td>2023-11-20</td>\n",
       "      <td>Dehiwala, Sri Lanka</td>\n",
       "      <td>0.0</td>\n",
       "      <td>31</td>\n",
       "      <td>24</td>\n",
       "      <td>2.7</td>\n",
       "      <td>0.8805</td>\n",
       "      <td>5.0</td>\n",
       "      <td>0</td>\n",
       "    </tr>\n",
       "    <tr>\n",
       "      <th>135</th>\n",
       "      <td>2023-11-20</td>\n",
       "      <td>Galle, Sri Lanka</td>\n",
       "      <td>3.0</td>\n",
       "      <td>31</td>\n",
       "      <td>24</td>\n",
       "      <td>2.7</td>\n",
       "      <td>0.8805</td>\n",
       "      <td>5.0</td>\n",
       "      <td>0</td>\n",
       "    </tr>\n",
       "    <tr>\n",
       "      <th>136</th>\n",
       "      <td>2023-11-20</td>\n",
       "      <td>Gampaha, Sri Lanka</td>\n",
       "      <td>4.0</td>\n",
       "      <td>31</td>\n",
       "      <td>24</td>\n",
       "      <td>2.7</td>\n",
       "      <td>0.8805</td>\n",
       "      <td>5.0</td>\n",
       "      <td>2</td>\n",
       "    </tr>\n",
       "    <tr>\n",
       "      <th>137</th>\n",
       "      <td>2023-11-20</td>\n",
       "      <td>Hakmana, Sri Lanka</td>\n",
       "      <td>0.0</td>\n",
       "      <td>31</td>\n",
       "      <td>24</td>\n",
       "      <td>2.7</td>\n",
       "      <td>0.8805</td>\n",
       "      <td>5.0</td>\n",
       "      <td>0</td>\n",
       "    </tr>\n",
       "    <tr>\n",
       "      <th>138</th>\n",
       "      <td>2023-11-20</td>\n",
       "      <td>Hanwella, Sri Lanka</td>\n",
       "      <td>1.0</td>\n",
       "      <td>31</td>\n",
       "      <td>24</td>\n",
       "      <td>2.7</td>\n",
       "      <td>0.8805</td>\n",
       "      <td>5.0</td>\n",
       "      <td>0</td>\n",
       "    </tr>\n",
       "    <tr>\n",
       "      <th>139</th>\n",
       "      <td>2023-11-20</td>\n",
       "      <td>Homagama, Sri Lanka</td>\n",
       "      <td>1.0</td>\n",
       "      <td>31</td>\n",
       "      <td>24</td>\n",
       "      <td>2.7</td>\n",
       "      <td>0.8805</td>\n",
       "      <td>5.0</td>\n",
       "      <td>0</td>\n",
       "    </tr>\n",
       "    <tr>\n",
       "      <th>140</th>\n",
       "      <td>2023-11-20</td>\n",
       "      <td>Ja-Ela, Sri Lanka</td>\n",
       "      <td>0.0</td>\n",
       "      <td>31</td>\n",
       "      <td>24</td>\n",
       "      <td>2.7</td>\n",
       "      <td>0.8805</td>\n",
       "      <td>5.0</td>\n",
       "      <td>0</td>\n",
       "    </tr>\n",
       "    <tr>\n",
       "      <th>141</th>\n",
       "      <td>2023-11-20</td>\n",
       "      <td>Kadawatha, Sri Lanka</td>\n",
       "      <td>6.0</td>\n",
       "      <td>31</td>\n",
       "      <td>24</td>\n",
       "      <td>2.7</td>\n",
       "      <td>0.8805</td>\n",
       "      <td>5.0</td>\n",
       "      <td>0</td>\n",
       "    </tr>\n",
       "    <tr>\n",
       "      <th>142</th>\n",
       "      <td>2023-11-20</td>\n",
       "      <td>Kaduwela, Sri Lanka</td>\n",
       "      <td>0.0</td>\n",
       "      <td>31</td>\n",
       "      <td>24</td>\n",
       "      <td>2.7</td>\n",
       "      <td>0.8805</td>\n",
       "      <td>5.0</td>\n",
       "      <td>0</td>\n",
       "    </tr>\n",
       "    <tr>\n",
       "      <th>143</th>\n",
       "      <td>2023-11-20</td>\n",
       "      <td>Kandana, Sri Lanka</td>\n",
       "      <td>0.0</td>\n",
       "      <td>31</td>\n",
       "      <td>24</td>\n",
       "      <td>2.7</td>\n",
       "      <td>0.8805</td>\n",
       "      <td>5.0</td>\n",
       "      <td>0</td>\n",
       "    </tr>\n",
       "    <tr>\n",
       "      <th>144</th>\n",
       "      <td>2023-11-20</td>\n",
       "      <td>Kandy, Sri Lanka</td>\n",
       "      <td>1.0</td>\n",
       "      <td>31</td>\n",
       "      <td>24</td>\n",
       "      <td>2.7</td>\n",
       "      <td>0.8805</td>\n",
       "      <td>5.0</td>\n",
       "      <td>1</td>\n",
       "    </tr>\n",
       "    <tr>\n",
       "      <th>145</th>\n",
       "      <td>2023-11-20</td>\n",
       "      <td>Kegalle, Sri Lanka</td>\n",
       "      <td>0.0</td>\n",
       "      <td>31</td>\n",
       "      <td>24</td>\n",
       "      <td>2.7</td>\n",
       "      <td>0.8805</td>\n",
       "      <td>5.0</td>\n",
       "      <td>0</td>\n",
       "    </tr>\n",
       "    <tr>\n",
       "      <th>146</th>\n",
       "      <td>2023-11-20</td>\n",
       "      <td>Kelaniya, Sri Lanka</td>\n",
       "      <td>0.0</td>\n",
       "      <td>31</td>\n",
       "      <td>24</td>\n",
       "      <td>2.7</td>\n",
       "      <td>0.8805</td>\n",
       "      <td>5.0</td>\n",
       "      <td>1</td>\n",
       "    </tr>\n",
       "    <tr>\n",
       "      <th>147</th>\n",
       "      <td>2023-11-20</td>\n",
       "      <td>Koswatta, Sri Lanka</td>\n",
       "      <td>1.0</td>\n",
       "      <td>31</td>\n",
       "      <td>24</td>\n",
       "      <td>2.7</td>\n",
       "      <td>0.8805</td>\n",
       "      <td>5.0</td>\n",
       "      <td>0</td>\n",
       "    </tr>\n",
       "    <tr>\n",
       "      <th>148</th>\n",
       "      <td>2023-11-20</td>\n",
       "      <td>Kottawa, Sri Lanka</td>\n",
       "      <td>0.0</td>\n",
       "      <td>31</td>\n",
       "      <td>24</td>\n",
       "      <td>2.7</td>\n",
       "      <td>0.8805</td>\n",
       "      <td>5.0</td>\n",
       "      <td>0</td>\n",
       "    </tr>\n",
       "    <tr>\n",
       "      <th>149</th>\n",
       "      <td>2023-11-20</td>\n",
       "      <td>Kotte, Sri Lanka</td>\n",
       "      <td>0.0</td>\n",
       "      <td>31</td>\n",
       "      <td>24</td>\n",
       "      <td>2.7</td>\n",
       "      <td>0.8805</td>\n",
       "      <td>5.0</td>\n",
       "      <td>0</td>\n",
       "    </tr>\n",
       "    <tr>\n",
       "      <th>150</th>\n",
       "      <td>2023-11-20</td>\n",
       "      <td>Kurunegala, Sri Lanka</td>\n",
       "      <td>1.0</td>\n",
       "      <td>31</td>\n",
       "      <td>24</td>\n",
       "      <td>2.7</td>\n",
       "      <td>0.8805</td>\n",
       "      <td>5.0</td>\n",
       "      <td>0</td>\n",
       "    </tr>\n",
       "    <tr>\n",
       "      <th>151</th>\n",
       "      <td>2023-11-20</td>\n",
       "      <td>Madampe, Sri Lanka</td>\n",
       "      <td>1.0</td>\n",
       "      <td>31</td>\n",
       "      <td>24</td>\n",
       "      <td>2.7</td>\n",
       "      <td>0.8805</td>\n",
       "      <td>5.0</td>\n",
       "      <td>0</td>\n",
       "    </tr>\n",
       "    <tr>\n",
       "      <th>152</th>\n",
       "      <td>2023-11-20</td>\n",
       "      <td>Maharagama, Sri Lanka</td>\n",
       "      <td>0.0</td>\n",
       "      <td>31</td>\n",
       "      <td>24</td>\n",
       "      <td>2.7</td>\n",
       "      <td>0.8805</td>\n",
       "      <td>5.0</td>\n",
       "      <td>0</td>\n",
       "    </tr>\n",
       "    <tr>\n",
       "      <th>153</th>\n",
       "      <td>2023-11-20</td>\n",
       "      <td>Malabe, Sri Lanka</td>\n",
       "      <td>0.0</td>\n",
       "      <td>31</td>\n",
       "      <td>24</td>\n",
       "      <td>2.7</td>\n",
       "      <td>0.8805</td>\n",
       "      <td>5.0</td>\n",
       "      <td>0</td>\n",
       "    </tr>\n",
       "    <tr>\n",
       "      <th>154</th>\n",
       "      <td>2023-11-20</td>\n",
       "      <td>Marawila, Sri Lanka</td>\n",
       "      <td>0.0</td>\n",
       "      <td>31</td>\n",
       "      <td>24</td>\n",
       "      <td>2.7</td>\n",
       "      <td>0.8805</td>\n",
       "      <td>5.0</td>\n",
       "      <td>0</td>\n",
       "    </tr>\n",
       "    <tr>\n",
       "      <th>155</th>\n",
       "      <td>2023-11-20</td>\n",
       "      <td>Mathara, Sri Lanka</td>\n",
       "      <td>0.0</td>\n",
       "      <td>31</td>\n",
       "      <td>24</td>\n",
       "      <td>2.7</td>\n",
       "      <td>0.8805</td>\n",
       "      <td>5.0</td>\n",
       "      <td>0</td>\n",
       "    </tr>\n",
       "    <tr>\n",
       "      <th>156</th>\n",
       "      <td>2023-11-20</td>\n",
       "      <td>Minuwangoda, Sri Lanka</td>\n",
       "      <td>0.0</td>\n",
       "      <td>31</td>\n",
       "      <td>24</td>\n",
       "      <td>2.7</td>\n",
       "      <td>0.8805</td>\n",
       "      <td>5.0</td>\n",
       "      <td>0</td>\n",
       "    </tr>\n",
       "    <tr>\n",
       "      <th>157</th>\n",
       "      <td>2023-11-20</td>\n",
       "      <td>Mirigama, Sri Lanka</td>\n",
       "      <td>1.0</td>\n",
       "      <td>31</td>\n",
       "      <td>24</td>\n",
       "      <td>2.7</td>\n",
       "      <td>0.8805</td>\n",
       "      <td>5.0</td>\n",
       "      <td>0</td>\n",
       "    </tr>\n",
       "    <tr>\n",
       "      <th>158</th>\n",
       "      <td>2023-11-20</td>\n",
       "      <td>Moratuwa, Sri Lanka</td>\n",
       "      <td>0.0</td>\n",
       "      <td>31</td>\n",
       "      <td>24</td>\n",
       "      <td>2.7</td>\n",
       "      <td>0.8805</td>\n",
       "      <td>5.0</td>\n",
       "      <td>0</td>\n",
       "    </tr>\n",
       "    <tr>\n",
       "      <th>159</th>\n",
       "      <td>2023-11-20</td>\n",
       "      <td>Narammala, Sri Lanka</td>\n",
       "      <td>0.0</td>\n",
       "      <td>31</td>\n",
       "      <td>24</td>\n",
       "      <td>2.7</td>\n",
       "      <td>0.8805</td>\n",
       "      <td>5.0</td>\n",
       "      <td>0</td>\n",
       "    </tr>\n",
       "    <tr>\n",
       "      <th>160</th>\n",
       "      <td>2023-11-20</td>\n",
       "      <td>Nattandiya, Sri Lanka</td>\n",
       "      <td>0.0</td>\n",
       "      <td>31</td>\n",
       "      <td>24</td>\n",
       "      <td>2.7</td>\n",
       "      <td>0.8805</td>\n",
       "      <td>5.0</td>\n",
       "      <td>0</td>\n",
       "    </tr>\n",
       "    <tr>\n",
       "      <th>161</th>\n",
       "      <td>2023-11-20</td>\n",
       "      <td>Negombo, Sri Lanka</td>\n",
       "      <td>2.0</td>\n",
       "      <td>31</td>\n",
       "      <td>24</td>\n",
       "      <td>2.7</td>\n",
       "      <td>0.8805</td>\n",
       "      <td>5.0</td>\n",
       "      <td>1</td>\n",
       "    </tr>\n",
       "    <tr>\n",
       "      <th>162</th>\n",
       "      <td>2023-11-20</td>\n",
       "      <td>Nittambuwa, Sri Lanka</td>\n",
       "      <td>0.0</td>\n",
       "      <td>31</td>\n",
       "      <td>24</td>\n",
       "      <td>2.7</td>\n",
       "      <td>0.8805</td>\n",
       "      <td>5.0</td>\n",
       "      <td>0</td>\n",
       "    </tr>\n",
       "    <tr>\n",
       "      <th>163</th>\n",
       "      <td>2023-11-20</td>\n",
       "      <td>Nugegoda, Sri Lanka</td>\n",
       "      <td>0.0</td>\n",
       "      <td>31</td>\n",
       "      <td>24</td>\n",
       "      <td>2.7</td>\n",
       "      <td>0.8805</td>\n",
       "      <td>5.0</td>\n",
       "      <td>0</td>\n",
       "    </tr>\n",
       "    <tr>\n",
       "      <th>164</th>\n",
       "      <td>2023-11-20</td>\n",
       "      <td>Piliyandala, Sri Lanka</td>\n",
       "      <td>0.0</td>\n",
       "      <td>31</td>\n",
       "      <td>24</td>\n",
       "      <td>2.7</td>\n",
       "      <td>0.8805</td>\n",
       "      <td>5.0</td>\n",
       "      <td>0</td>\n",
       "    </tr>\n",
       "    <tr>\n",
       "      <th>165</th>\n",
       "      <td>2023-11-20</td>\n",
       "      <td>Rajagiriya, Sri Lanka</td>\n",
       "      <td>0.0</td>\n",
       "      <td>31</td>\n",
       "      <td>24</td>\n",
       "      <td>2.7</td>\n",
       "      <td>0.8805</td>\n",
       "      <td>5.0</td>\n",
       "      <td>0</td>\n",
       "    </tr>\n",
       "    <tr>\n",
       "      <th>166</th>\n",
       "      <td>2023-11-20</td>\n",
       "      <td>Ratnapura, Sri Lanka</td>\n",
       "      <td>2.0</td>\n",
       "      <td>31</td>\n",
       "      <td>24</td>\n",
       "      <td>2.7</td>\n",
       "      <td>0.8805</td>\n",
       "      <td>5.0</td>\n",
       "      <td>0</td>\n",
       "    </tr>\n",
       "    <tr>\n",
       "      <th>167</th>\n",
       "      <td>2023-11-20</td>\n",
       "      <td>Wattala, Sri Lanka</td>\n",
       "      <td>0.0</td>\n",
       "      <td>31</td>\n",
       "      <td>24</td>\n",
       "      <td>2.7</td>\n",
       "      <td>0.8805</td>\n",
       "      <td>5.0</td>\n",
       "      <td>2</td>\n",
       "    </tr>\n",
       "  </tbody>\n",
       "</table>\n",
       "</div>"
      ],
      "text/plain": [
       "     attndDate            attndLocation  attendeesCount  dhTemp (C)  \\\n",
       "126 2023-11-20  Anuradhapura, Sri Lanka             0.0          31   \n",
       "127 2023-11-20   Avissawella, Sri Lanka             1.0          31   \n",
       "128 2023-11-20       Badulla, Sri Lanka             0.0          31   \n",
       "129 2023-11-20   Bandaragama, Sri Lanka             0.0          31   \n",
       "130 2023-11-20   Bandarawela, Sri Lanka             0.0          31   \n",
       "131 2023-11-20      Biyagama, Sri Lanka             0.0          31   \n",
       "132 2023-11-20        Chilaw, Sri Lanka             0.0          31   \n",
       "133 2023-11-20       Colombo, Sri Lanka             1.0          31   \n",
       "134 2023-11-20      Dehiwala, Sri Lanka             0.0          31   \n",
       "135 2023-11-20         Galle, Sri Lanka             3.0          31   \n",
       "136 2023-11-20       Gampaha, Sri Lanka             4.0          31   \n",
       "137 2023-11-20       Hakmana, Sri Lanka             0.0          31   \n",
       "138 2023-11-20      Hanwella, Sri Lanka             1.0          31   \n",
       "139 2023-11-20      Homagama, Sri Lanka             1.0          31   \n",
       "140 2023-11-20        Ja-Ela, Sri Lanka             0.0          31   \n",
       "141 2023-11-20     Kadawatha, Sri Lanka             6.0          31   \n",
       "142 2023-11-20      Kaduwela, Sri Lanka             0.0          31   \n",
       "143 2023-11-20       Kandana, Sri Lanka             0.0          31   \n",
       "144 2023-11-20         Kandy, Sri Lanka             1.0          31   \n",
       "145 2023-11-20       Kegalle, Sri Lanka             0.0          31   \n",
       "146 2023-11-20      Kelaniya, Sri Lanka             0.0          31   \n",
       "147 2023-11-20      Koswatta, Sri Lanka             1.0          31   \n",
       "148 2023-11-20       Kottawa, Sri Lanka             0.0          31   \n",
       "149 2023-11-20         Kotte, Sri Lanka             0.0          31   \n",
       "150 2023-11-20    Kurunegala, Sri Lanka             1.0          31   \n",
       "151 2023-11-20       Madampe, Sri Lanka             1.0          31   \n",
       "152 2023-11-20    Maharagama, Sri Lanka             0.0          31   \n",
       "153 2023-11-20        Malabe, Sri Lanka             0.0          31   \n",
       "154 2023-11-20      Marawila, Sri Lanka             0.0          31   \n",
       "155 2023-11-20       Mathara, Sri Lanka             0.0          31   \n",
       "156 2023-11-20   Minuwangoda, Sri Lanka             0.0          31   \n",
       "157 2023-11-20      Mirigama, Sri Lanka             1.0          31   \n",
       "158 2023-11-20      Moratuwa, Sri Lanka             0.0          31   \n",
       "159 2023-11-20     Narammala, Sri Lanka             0.0          31   \n",
       "160 2023-11-20    Nattandiya, Sri Lanka             0.0          31   \n",
       "161 2023-11-20       Negombo, Sri Lanka             2.0          31   \n",
       "162 2023-11-20    Nittambuwa, Sri Lanka             0.0          31   \n",
       "163 2023-11-20      Nugegoda, Sri Lanka             0.0          31   \n",
       "164 2023-11-20   Piliyandala, Sri Lanka             0.0          31   \n",
       "165 2023-11-20    Rajagiriya, Sri Lanka             0.0          31   \n",
       "166 2023-11-20     Ratnapura, Sri Lanka             2.0          31   \n",
       "167 2023-11-20       Wattala, Sri Lanka             0.0          31   \n",
       "\n",
       "     dlTemp (C)  precipitation (mm)  humidity  wind (km/h)  \\\n",
       "126          24                 2.7    0.8805          5.0   \n",
       "127          24                 2.7    0.8805          5.0   \n",
       "128          24                 2.7    0.8805          5.0   \n",
       "129          24                 2.7    0.8805          5.0   \n",
       "130          24                 2.7    0.8805          5.0   \n",
       "131          24                 2.7    0.8805          5.0   \n",
       "132          24                 2.7    0.8805          5.0   \n",
       "133          24                 2.7    0.8805          5.0   \n",
       "134          24                 2.7    0.8805          5.0   \n",
       "135          24                 2.7    0.8805          5.0   \n",
       "136          24                 2.7    0.8805          5.0   \n",
       "137          24                 2.7    0.8805          5.0   \n",
       "138          24                 2.7    0.8805          5.0   \n",
       "139          24                 2.7    0.8805          5.0   \n",
       "140          24                 2.7    0.8805          5.0   \n",
       "141          24                 2.7    0.8805          5.0   \n",
       "142          24                 2.7    0.8805          5.0   \n",
       "143          24                 2.7    0.8805          5.0   \n",
       "144          24                 2.7    0.8805          5.0   \n",
       "145          24                 2.7    0.8805          5.0   \n",
       "146          24                 2.7    0.8805          5.0   \n",
       "147          24                 2.7    0.8805          5.0   \n",
       "148          24                 2.7    0.8805          5.0   \n",
       "149          24                 2.7    0.8805          5.0   \n",
       "150          24                 2.7    0.8805          5.0   \n",
       "151          24                 2.7    0.8805          5.0   \n",
       "152          24                 2.7    0.8805          5.0   \n",
       "153          24                 2.7    0.8805          5.0   \n",
       "154          24                 2.7    0.8805          5.0   \n",
       "155          24                 2.7    0.8805          5.0   \n",
       "156          24                 2.7    0.8805          5.0   \n",
       "157          24                 2.7    0.8805          5.0   \n",
       "158          24                 2.7    0.8805          5.0   \n",
       "159          24                 2.7    0.8805          5.0   \n",
       "160          24                 2.7    0.8805          5.0   \n",
       "161          24                 2.7    0.8805          5.0   \n",
       "162          24                 2.7    0.8805          5.0   \n",
       "163          24                 2.7    0.8805          5.0   \n",
       "164          24                 2.7    0.8805          5.0   \n",
       "165          24                 2.7    0.8805          5.0   \n",
       "166          24                 2.7    0.8805          5.0   \n",
       "167          24                 2.7    0.8805          5.0   \n",
       "\n",
       "     predicted_attendeeCount  \n",
       "126                        0  \n",
       "127                        0  \n",
       "128                        0  \n",
       "129                        0  \n",
       "130                        0  \n",
       "131                        0  \n",
       "132                        0  \n",
       "133                        3  \n",
       "134                        0  \n",
       "135                        0  \n",
       "136                        2  \n",
       "137                        0  \n",
       "138                        0  \n",
       "139                        0  \n",
       "140                        0  \n",
       "141                        0  \n",
       "142                        0  \n",
       "143                        0  \n",
       "144                        1  \n",
       "145                        0  \n",
       "146                        1  \n",
       "147                        0  \n",
       "148                        0  \n",
       "149                        0  \n",
       "150                        0  \n",
       "151                        0  \n",
       "152                        0  \n",
       "153                        0  \n",
       "154                        0  \n",
       "155                        0  \n",
       "156                        0  \n",
       "157                        0  \n",
       "158                        0  \n",
       "159                        0  \n",
       "160                        0  \n",
       "161                        1  \n",
       "162                        0  \n",
       "163                        0  \n",
       "164                        0  \n",
       "165                        0  \n",
       "166                        0  \n",
       "167                        2  "
      ]
     },
     "execution_count": 45,
     "metadata": {},
     "output_type": "execute_result"
    }
   ],
   "source": [
    "#Divide the ModelData into Train and Test sets as attndDate is a time series\n",
    "train = ModelData[ModelData['attndDate'] < '2023-11-20']\n",
    "test = ModelData[ModelData['attndDate'] >= '2023-11-20']\n",
    "\n",
    "#Select the relevant columns from the model data for training\n",
    "model_data_subset = train[['attndDate', 'attndLocation', 'attendeesCount', 'dhTemp (C)', 'dlTemp (C)', 'precipitation (mm)', 'humidity', 'wind (km/h)']]\n",
    "\n",
    "#Create a dictionary to store the random forest models for each location\n",
    "location_models = {}\n",
    "\n",
    "#Iterate over each unique location in the model data\n",
    "for location in model_data_subset['attndLocation'].unique():\n",
    "    #Filter the data for the current location\n",
    "    location_data = model_data_subset[model_data_subset['attndLocation'] == location]\n",
    "    \n",
    "    #Create the feature matrix X and target variable y\n",
    "    X = location_data[['dhTemp (C)', 'dlTemp (C)', 'precipitation (mm)', 'humidity', 'wind (km/h)']]\n",
    "    y = location_data['attendeesCount']\n",
    "    \n",
    "    #Fit a random forest model\n",
    "    model = RandomForestRegressor()\n",
    "    model.fit(X, y)\n",
    "    \n",
    "    #Store the model for the current location\n",
    "    location_models[location] = model\n",
    "\n",
    "#Predict the attendeeCount for the predictive_row data\n",
    "predicted_attendee_counts = []\n",
    "for index, row in test.iterrows():\n",
    "    #Get the location from the test data\n",
    "    location = row['attndLocation']\n",
    "    \n",
    "    #Get the corresponding model for the location\n",
    "    model = location_models[location]\n",
    "    \n",
    "    #Create the feature matrix X for the current row\n",
    "    X = row[['dhTemp (C)', 'dlTemp (C)', 'precipitation (mm)', 'humidity', 'wind (km/h)']].values.reshape(1, -1)\n",
    "    \n",
    "    #Predict the attendeeCount for the current row\n",
    "    predicted_attendee_count = model.predict(X)[0]\n",
    "    \n",
    "    #Append the predicted attendeeCount to the list\n",
    "    predicted_attendee_counts.append(predicted_attendee_count)\n",
    "\n",
    "#Add the predicted_attendee_counts as a new column to the predictive_row data\n",
    "test['predicted_attendeeCount'] = predicted_attendee_counts\n",
    "\n",
    "#Convert the predicted_attendeeCount to an integer\n",
    "test['predicted_attendeeCount'] = test['predicted_attendeeCount'].astype(int)\n",
    "\n",
    "#Display the predictive_row data with the predicted attendeeCount\n",
    "test"
   ]
  },
  {
   "cell_type": "code",
   "execution_count": 46,
   "metadata": {},
   "outputs": [
    {
     "name": "stdout",
     "output_type": "stream",
     "text": [
      "Mean Absolute Error: 0.6190476190476191\n",
      "R2 Score: -0.13076923076923075\n"
     ]
    }
   ],
   "source": [
    "#Calculate the mean absolute error for the predictions\n",
    "mae = mean_absolute_error(test['attendeesCount'], test['predicted_attendeeCount'])\n",
    "print('Mean Absolute Error:', mae)\n",
    "\n",
    "#Calculate the r2 score for the predictions\n",
    "r2 = r2_score(test['attendeesCount'], test['predicted_attendeeCount'])\n",
    "print('R2 Score:', r2)"
   ]
  },
  {
   "cell_type": "code",
   "execution_count": 47,
   "metadata": {},
   "outputs": [
    {
     "data": {
      "text/html": [
       "<div>\n",
       "<style scoped>\n",
       "    .dataframe tbody tr th:only-of-type {\n",
       "        vertical-align: middle;\n",
       "    }\n",
       "\n",
       "    .dataframe tbody tr th {\n",
       "        vertical-align: top;\n",
       "    }\n",
       "\n",
       "    .dataframe thead th {\n",
       "        text-align: right;\n",
       "    }\n",
       "</style>\n",
       "<table border=\"1\" class=\"dataframe\">\n",
       "  <thead>\n",
       "    <tr style=\"text-align: right;\">\n",
       "      <th></th>\n",
       "      <th>attndDate</th>\n",
       "      <th>dhTemp (C)</th>\n",
       "      <th>dlTemp (C)</th>\n",
       "      <th>precipitation (mm)</th>\n",
       "      <th>humidity</th>\n",
       "      <th>wind (km/h)</th>\n",
       "      <th>attndLocation</th>\n",
       "    </tr>\n",
       "  </thead>\n",
       "  <tbody>\n",
       "    <tr>\n",
       "      <th>0</th>\n",
       "      <td>2023-11-21</td>\n",
       "      <td>32</td>\n",
       "      <td>25</td>\n",
       "      <td>5.6</td>\n",
       "      <td>0.8893</td>\n",
       "      <td>6.3</td>\n",
       "      <td>Anuradhapura, Sri Lanka</td>\n",
       "    </tr>\n",
       "    <tr>\n",
       "      <th>1</th>\n",
       "      <td>2023-11-21</td>\n",
       "      <td>32</td>\n",
       "      <td>25</td>\n",
       "      <td>5.6</td>\n",
       "      <td>0.8893</td>\n",
       "      <td>6.3</td>\n",
       "      <td>Avissawella, Sri Lanka</td>\n",
       "    </tr>\n",
       "    <tr>\n",
       "      <th>2</th>\n",
       "      <td>2023-11-21</td>\n",
       "      <td>32</td>\n",
       "      <td>25</td>\n",
       "      <td>5.6</td>\n",
       "      <td>0.8893</td>\n",
       "      <td>6.3</td>\n",
       "      <td>Badulla, Sri Lanka</td>\n",
       "    </tr>\n",
       "    <tr>\n",
       "      <th>3</th>\n",
       "      <td>2023-11-21</td>\n",
       "      <td>32</td>\n",
       "      <td>25</td>\n",
       "      <td>5.6</td>\n",
       "      <td>0.8893</td>\n",
       "      <td>6.3</td>\n",
       "      <td>Bandaragama, Sri Lanka</td>\n",
       "    </tr>\n",
       "    <tr>\n",
       "      <th>4</th>\n",
       "      <td>2023-11-21</td>\n",
       "      <td>32</td>\n",
       "      <td>25</td>\n",
       "      <td>5.6</td>\n",
       "      <td>0.8893</td>\n",
       "      <td>6.3</td>\n",
       "      <td>Bandarawela, Sri Lanka</td>\n",
       "    </tr>\n",
       "    <tr>\n",
       "      <th>5</th>\n",
       "      <td>2023-11-21</td>\n",
       "      <td>32</td>\n",
       "      <td>25</td>\n",
       "      <td>5.6</td>\n",
       "      <td>0.8893</td>\n",
       "      <td>6.3</td>\n",
       "      <td>Biyagama, Sri Lanka</td>\n",
       "    </tr>\n",
       "    <tr>\n",
       "      <th>6</th>\n",
       "      <td>2023-11-21</td>\n",
       "      <td>32</td>\n",
       "      <td>25</td>\n",
       "      <td>5.6</td>\n",
       "      <td>0.8893</td>\n",
       "      <td>6.3</td>\n",
       "      <td>Chilaw, Sri Lanka</td>\n",
       "    </tr>\n",
       "    <tr>\n",
       "      <th>7</th>\n",
       "      <td>2023-11-21</td>\n",
       "      <td>32</td>\n",
       "      <td>25</td>\n",
       "      <td>5.6</td>\n",
       "      <td>0.8893</td>\n",
       "      <td>6.3</td>\n",
       "      <td>Colombo, Sri Lanka</td>\n",
       "    </tr>\n",
       "    <tr>\n",
       "      <th>8</th>\n",
       "      <td>2023-11-21</td>\n",
       "      <td>32</td>\n",
       "      <td>25</td>\n",
       "      <td>5.6</td>\n",
       "      <td>0.8893</td>\n",
       "      <td>6.3</td>\n",
       "      <td>Dehiwala, Sri Lanka</td>\n",
       "    </tr>\n",
       "    <tr>\n",
       "      <th>9</th>\n",
       "      <td>2023-11-21</td>\n",
       "      <td>32</td>\n",
       "      <td>25</td>\n",
       "      <td>5.6</td>\n",
       "      <td>0.8893</td>\n",
       "      <td>6.3</td>\n",
       "      <td>Galle, Sri Lanka</td>\n",
       "    </tr>\n",
       "    <tr>\n",
       "      <th>10</th>\n",
       "      <td>2023-11-21</td>\n",
       "      <td>32</td>\n",
       "      <td>25</td>\n",
       "      <td>5.6</td>\n",
       "      <td>0.8893</td>\n",
       "      <td>6.3</td>\n",
       "      <td>Gampaha, Sri Lanka</td>\n",
       "    </tr>\n",
       "    <tr>\n",
       "      <th>11</th>\n",
       "      <td>2023-11-21</td>\n",
       "      <td>32</td>\n",
       "      <td>25</td>\n",
       "      <td>5.6</td>\n",
       "      <td>0.8893</td>\n",
       "      <td>6.3</td>\n",
       "      <td>Hakmana, Sri Lanka</td>\n",
       "    </tr>\n",
       "    <tr>\n",
       "      <th>12</th>\n",
       "      <td>2023-11-21</td>\n",
       "      <td>32</td>\n",
       "      <td>25</td>\n",
       "      <td>5.6</td>\n",
       "      <td>0.8893</td>\n",
       "      <td>6.3</td>\n",
       "      <td>Hanwella, Sri Lanka</td>\n",
       "    </tr>\n",
       "    <tr>\n",
       "      <th>13</th>\n",
       "      <td>2023-11-21</td>\n",
       "      <td>32</td>\n",
       "      <td>25</td>\n",
       "      <td>5.6</td>\n",
       "      <td>0.8893</td>\n",
       "      <td>6.3</td>\n",
       "      <td>Homagama, Sri Lanka</td>\n",
       "    </tr>\n",
       "    <tr>\n",
       "      <th>14</th>\n",
       "      <td>2023-11-21</td>\n",
       "      <td>32</td>\n",
       "      <td>25</td>\n",
       "      <td>5.6</td>\n",
       "      <td>0.8893</td>\n",
       "      <td>6.3</td>\n",
       "      <td>Ja-Ela, Sri Lanka</td>\n",
       "    </tr>\n",
       "    <tr>\n",
       "      <th>15</th>\n",
       "      <td>2023-11-21</td>\n",
       "      <td>32</td>\n",
       "      <td>25</td>\n",
       "      <td>5.6</td>\n",
       "      <td>0.8893</td>\n",
       "      <td>6.3</td>\n",
       "      <td>Kadawatha, Sri Lanka</td>\n",
       "    </tr>\n",
       "    <tr>\n",
       "      <th>16</th>\n",
       "      <td>2023-11-21</td>\n",
       "      <td>32</td>\n",
       "      <td>25</td>\n",
       "      <td>5.6</td>\n",
       "      <td>0.8893</td>\n",
       "      <td>6.3</td>\n",
       "      <td>Kaduwela, Sri Lanka</td>\n",
       "    </tr>\n",
       "    <tr>\n",
       "      <th>17</th>\n",
       "      <td>2023-11-21</td>\n",
       "      <td>32</td>\n",
       "      <td>25</td>\n",
       "      <td>5.6</td>\n",
       "      <td>0.8893</td>\n",
       "      <td>6.3</td>\n",
       "      <td>Kandana, Sri Lanka</td>\n",
       "    </tr>\n",
       "    <tr>\n",
       "      <th>18</th>\n",
       "      <td>2023-11-21</td>\n",
       "      <td>32</td>\n",
       "      <td>25</td>\n",
       "      <td>5.6</td>\n",
       "      <td>0.8893</td>\n",
       "      <td>6.3</td>\n",
       "      <td>Kandy, Sri Lanka</td>\n",
       "    </tr>\n",
       "    <tr>\n",
       "      <th>19</th>\n",
       "      <td>2023-11-21</td>\n",
       "      <td>32</td>\n",
       "      <td>25</td>\n",
       "      <td>5.6</td>\n",
       "      <td>0.8893</td>\n",
       "      <td>6.3</td>\n",
       "      <td>Kegalle, Sri Lanka</td>\n",
       "    </tr>\n",
       "    <tr>\n",
       "      <th>20</th>\n",
       "      <td>2023-11-21</td>\n",
       "      <td>32</td>\n",
       "      <td>25</td>\n",
       "      <td>5.6</td>\n",
       "      <td>0.8893</td>\n",
       "      <td>6.3</td>\n",
       "      <td>Kelaniya, Sri Lanka</td>\n",
       "    </tr>\n",
       "    <tr>\n",
       "      <th>21</th>\n",
       "      <td>2023-11-21</td>\n",
       "      <td>32</td>\n",
       "      <td>25</td>\n",
       "      <td>5.6</td>\n",
       "      <td>0.8893</td>\n",
       "      <td>6.3</td>\n",
       "      <td>Koswatta, Sri Lanka</td>\n",
       "    </tr>\n",
       "    <tr>\n",
       "      <th>22</th>\n",
       "      <td>2023-11-21</td>\n",
       "      <td>32</td>\n",
       "      <td>25</td>\n",
       "      <td>5.6</td>\n",
       "      <td>0.8893</td>\n",
       "      <td>6.3</td>\n",
       "      <td>Kottawa, Sri Lanka</td>\n",
       "    </tr>\n",
       "    <tr>\n",
       "      <th>23</th>\n",
       "      <td>2023-11-21</td>\n",
       "      <td>32</td>\n",
       "      <td>25</td>\n",
       "      <td>5.6</td>\n",
       "      <td>0.8893</td>\n",
       "      <td>6.3</td>\n",
       "      <td>Kotte, Sri Lanka</td>\n",
       "    </tr>\n",
       "    <tr>\n",
       "      <th>24</th>\n",
       "      <td>2023-11-21</td>\n",
       "      <td>32</td>\n",
       "      <td>25</td>\n",
       "      <td>5.6</td>\n",
       "      <td>0.8893</td>\n",
       "      <td>6.3</td>\n",
       "      <td>Kurunegala, Sri Lanka</td>\n",
       "    </tr>\n",
       "    <tr>\n",
       "      <th>25</th>\n",
       "      <td>2023-11-21</td>\n",
       "      <td>32</td>\n",
       "      <td>25</td>\n",
       "      <td>5.6</td>\n",
       "      <td>0.8893</td>\n",
       "      <td>6.3</td>\n",
       "      <td>Madampe, Sri Lanka</td>\n",
       "    </tr>\n",
       "    <tr>\n",
       "      <th>26</th>\n",
       "      <td>2023-11-21</td>\n",
       "      <td>32</td>\n",
       "      <td>25</td>\n",
       "      <td>5.6</td>\n",
       "      <td>0.8893</td>\n",
       "      <td>6.3</td>\n",
       "      <td>Maharagama, Sri Lanka</td>\n",
       "    </tr>\n",
       "    <tr>\n",
       "      <th>27</th>\n",
       "      <td>2023-11-21</td>\n",
       "      <td>32</td>\n",
       "      <td>25</td>\n",
       "      <td>5.6</td>\n",
       "      <td>0.8893</td>\n",
       "      <td>6.3</td>\n",
       "      <td>Malabe, Sri Lanka</td>\n",
       "    </tr>\n",
       "    <tr>\n",
       "      <th>28</th>\n",
       "      <td>2023-11-21</td>\n",
       "      <td>32</td>\n",
       "      <td>25</td>\n",
       "      <td>5.6</td>\n",
       "      <td>0.8893</td>\n",
       "      <td>6.3</td>\n",
       "      <td>Marawila, Sri Lanka</td>\n",
       "    </tr>\n",
       "    <tr>\n",
       "      <th>29</th>\n",
       "      <td>2023-11-21</td>\n",
       "      <td>32</td>\n",
       "      <td>25</td>\n",
       "      <td>5.6</td>\n",
       "      <td>0.8893</td>\n",
       "      <td>6.3</td>\n",
       "      <td>Mathara, Sri Lanka</td>\n",
       "    </tr>\n",
       "    <tr>\n",
       "      <th>30</th>\n",
       "      <td>2023-11-21</td>\n",
       "      <td>32</td>\n",
       "      <td>25</td>\n",
       "      <td>5.6</td>\n",
       "      <td>0.8893</td>\n",
       "      <td>6.3</td>\n",
       "      <td>Minuwangoda, Sri Lanka</td>\n",
       "    </tr>\n",
       "    <tr>\n",
       "      <th>31</th>\n",
       "      <td>2023-11-21</td>\n",
       "      <td>32</td>\n",
       "      <td>25</td>\n",
       "      <td>5.6</td>\n",
       "      <td>0.8893</td>\n",
       "      <td>6.3</td>\n",
       "      <td>Mirigama, Sri Lanka</td>\n",
       "    </tr>\n",
       "    <tr>\n",
       "      <th>32</th>\n",
       "      <td>2023-11-21</td>\n",
       "      <td>32</td>\n",
       "      <td>25</td>\n",
       "      <td>5.6</td>\n",
       "      <td>0.8893</td>\n",
       "      <td>6.3</td>\n",
       "      <td>Moratuwa, Sri Lanka</td>\n",
       "    </tr>\n",
       "    <tr>\n",
       "      <th>33</th>\n",
       "      <td>2023-11-21</td>\n",
       "      <td>32</td>\n",
       "      <td>25</td>\n",
       "      <td>5.6</td>\n",
       "      <td>0.8893</td>\n",
       "      <td>6.3</td>\n",
       "      <td>Narammala, Sri Lanka</td>\n",
       "    </tr>\n",
       "    <tr>\n",
       "      <th>34</th>\n",
       "      <td>2023-11-21</td>\n",
       "      <td>32</td>\n",
       "      <td>25</td>\n",
       "      <td>5.6</td>\n",
       "      <td>0.8893</td>\n",
       "      <td>6.3</td>\n",
       "      <td>Nattandiya, Sri Lanka</td>\n",
       "    </tr>\n",
       "    <tr>\n",
       "      <th>35</th>\n",
       "      <td>2023-11-21</td>\n",
       "      <td>32</td>\n",
       "      <td>25</td>\n",
       "      <td>5.6</td>\n",
       "      <td>0.8893</td>\n",
       "      <td>6.3</td>\n",
       "      <td>Negombo, Sri Lanka</td>\n",
       "    </tr>\n",
       "    <tr>\n",
       "      <th>36</th>\n",
       "      <td>2023-11-21</td>\n",
       "      <td>32</td>\n",
       "      <td>25</td>\n",
       "      <td>5.6</td>\n",
       "      <td>0.8893</td>\n",
       "      <td>6.3</td>\n",
       "      <td>Nittambuwa, Sri Lanka</td>\n",
       "    </tr>\n",
       "    <tr>\n",
       "      <th>37</th>\n",
       "      <td>2023-11-21</td>\n",
       "      <td>32</td>\n",
       "      <td>25</td>\n",
       "      <td>5.6</td>\n",
       "      <td>0.8893</td>\n",
       "      <td>6.3</td>\n",
       "      <td>Nugegoda, Sri Lanka</td>\n",
       "    </tr>\n",
       "    <tr>\n",
       "      <th>38</th>\n",
       "      <td>2023-11-21</td>\n",
       "      <td>32</td>\n",
       "      <td>25</td>\n",
       "      <td>5.6</td>\n",
       "      <td>0.8893</td>\n",
       "      <td>6.3</td>\n",
       "      <td>Piliyandala, Sri Lanka</td>\n",
       "    </tr>\n",
       "    <tr>\n",
       "      <th>39</th>\n",
       "      <td>2023-11-21</td>\n",
       "      <td>32</td>\n",
       "      <td>25</td>\n",
       "      <td>5.6</td>\n",
       "      <td>0.8893</td>\n",
       "      <td>6.3</td>\n",
       "      <td>Rajagiriya, Sri Lanka</td>\n",
       "    </tr>\n",
       "    <tr>\n",
       "      <th>40</th>\n",
       "      <td>2023-11-21</td>\n",
       "      <td>32</td>\n",
       "      <td>25</td>\n",
       "      <td>5.6</td>\n",
       "      <td>0.8893</td>\n",
       "      <td>6.3</td>\n",
       "      <td>Ratnapura, Sri Lanka</td>\n",
       "    </tr>\n",
       "    <tr>\n",
       "      <th>41</th>\n",
       "      <td>2023-11-21</td>\n",
       "      <td>32</td>\n",
       "      <td>25</td>\n",
       "      <td>5.6</td>\n",
       "      <td>0.8893</td>\n",
       "      <td>6.3</td>\n",
       "      <td>Wattala, Sri Lanka</td>\n",
       "    </tr>\n",
       "  </tbody>\n",
       "</table>\n",
       "</div>"
      ],
      "text/plain": [
       "    attndDate  dhTemp (C)  dlTemp (C)  precipitation (mm)  humidity  \\\n",
       "0  2023-11-21          32          25                 5.6    0.8893   \n",
       "1  2023-11-21          32          25                 5.6    0.8893   \n",
       "2  2023-11-21          32          25                 5.6    0.8893   \n",
       "3  2023-11-21          32          25                 5.6    0.8893   \n",
       "4  2023-11-21          32          25                 5.6    0.8893   \n",
       "5  2023-11-21          32          25                 5.6    0.8893   \n",
       "6  2023-11-21          32          25                 5.6    0.8893   \n",
       "7  2023-11-21          32          25                 5.6    0.8893   \n",
       "8  2023-11-21          32          25                 5.6    0.8893   \n",
       "9  2023-11-21          32          25                 5.6    0.8893   \n",
       "10 2023-11-21          32          25                 5.6    0.8893   \n",
       "11 2023-11-21          32          25                 5.6    0.8893   \n",
       "12 2023-11-21          32          25                 5.6    0.8893   \n",
       "13 2023-11-21          32          25                 5.6    0.8893   \n",
       "14 2023-11-21          32          25                 5.6    0.8893   \n",
       "15 2023-11-21          32          25                 5.6    0.8893   \n",
       "16 2023-11-21          32          25                 5.6    0.8893   \n",
       "17 2023-11-21          32          25                 5.6    0.8893   \n",
       "18 2023-11-21          32          25                 5.6    0.8893   \n",
       "19 2023-11-21          32          25                 5.6    0.8893   \n",
       "20 2023-11-21          32          25                 5.6    0.8893   \n",
       "21 2023-11-21          32          25                 5.6    0.8893   \n",
       "22 2023-11-21          32          25                 5.6    0.8893   \n",
       "23 2023-11-21          32          25                 5.6    0.8893   \n",
       "24 2023-11-21          32          25                 5.6    0.8893   \n",
       "25 2023-11-21          32          25                 5.6    0.8893   \n",
       "26 2023-11-21          32          25                 5.6    0.8893   \n",
       "27 2023-11-21          32          25                 5.6    0.8893   \n",
       "28 2023-11-21          32          25                 5.6    0.8893   \n",
       "29 2023-11-21          32          25                 5.6    0.8893   \n",
       "30 2023-11-21          32          25                 5.6    0.8893   \n",
       "31 2023-11-21          32          25                 5.6    0.8893   \n",
       "32 2023-11-21          32          25                 5.6    0.8893   \n",
       "33 2023-11-21          32          25                 5.6    0.8893   \n",
       "34 2023-11-21          32          25                 5.6    0.8893   \n",
       "35 2023-11-21          32          25                 5.6    0.8893   \n",
       "36 2023-11-21          32          25                 5.6    0.8893   \n",
       "37 2023-11-21          32          25                 5.6    0.8893   \n",
       "38 2023-11-21          32          25                 5.6    0.8893   \n",
       "39 2023-11-21          32          25                 5.6    0.8893   \n",
       "40 2023-11-21          32          25                 5.6    0.8893   \n",
       "41 2023-11-21          32          25                 5.6    0.8893   \n",
       "\n",
       "    wind (km/h)            attndLocation  \n",
       "0           6.3  Anuradhapura, Sri Lanka  \n",
       "1           6.3   Avissawella, Sri Lanka  \n",
       "2           6.3       Badulla, Sri Lanka  \n",
       "3           6.3   Bandaragama, Sri Lanka  \n",
       "4           6.3   Bandarawela, Sri Lanka  \n",
       "5           6.3      Biyagama, Sri Lanka  \n",
       "6           6.3        Chilaw, Sri Lanka  \n",
       "7           6.3       Colombo, Sri Lanka  \n",
       "8           6.3      Dehiwala, Sri Lanka  \n",
       "9           6.3         Galle, Sri Lanka  \n",
       "10          6.3       Gampaha, Sri Lanka  \n",
       "11          6.3       Hakmana, Sri Lanka  \n",
       "12          6.3      Hanwella, Sri Lanka  \n",
       "13          6.3      Homagama, Sri Lanka  \n",
       "14          6.3        Ja-Ela, Sri Lanka  \n",
       "15          6.3     Kadawatha, Sri Lanka  \n",
       "16          6.3      Kaduwela, Sri Lanka  \n",
       "17          6.3       Kandana, Sri Lanka  \n",
       "18          6.3         Kandy, Sri Lanka  \n",
       "19          6.3       Kegalle, Sri Lanka  \n",
       "20          6.3      Kelaniya, Sri Lanka  \n",
       "21          6.3      Koswatta, Sri Lanka  \n",
       "22          6.3       Kottawa, Sri Lanka  \n",
       "23          6.3         Kotte, Sri Lanka  \n",
       "24          6.3    Kurunegala, Sri Lanka  \n",
       "25          6.3       Madampe, Sri Lanka  \n",
       "26          6.3    Maharagama, Sri Lanka  \n",
       "27          6.3        Malabe, Sri Lanka  \n",
       "28          6.3      Marawila, Sri Lanka  \n",
       "29          6.3       Mathara, Sri Lanka  \n",
       "30          6.3   Minuwangoda, Sri Lanka  \n",
       "31          6.3      Mirigama, Sri Lanka  \n",
       "32          6.3      Moratuwa, Sri Lanka  \n",
       "33          6.3     Narammala, Sri Lanka  \n",
       "34          6.3    Nattandiya, Sri Lanka  \n",
       "35          6.3       Negombo, Sri Lanka  \n",
       "36          6.3    Nittambuwa, Sri Lanka  \n",
       "37          6.3      Nugegoda, Sri Lanka  \n",
       "38          6.3   Piliyandala, Sri Lanka  \n",
       "39          6.3    Rajagiriya, Sri Lanka  \n",
       "40          6.3     Ratnapura, Sri Lanka  \n",
       "41          6.3       Wattala, Sri Lanka  "
      ]
     },
     "execution_count": 47,
     "metadata": {},
     "output_type": "execute_result"
    }
   ],
   "source": [
    "#convert attndDate to datetime in weather_climate_data to datetime\n",
    "weather_climate_data['attndDate'] = pd.to_datetime(weather_climate_data['attndDate'], format=date_format)\n",
    "\n",
    "#Get attndDate 2023-11-21 as the predictive row\n",
    "prediction_data = weather_climate_data[weather_climate_data['attndDate'] == '2023-11-21']\n",
    "\n",
    "#Remove eventLocation column\n",
    "prediction_data = prediction_data.drop(['eventLocation'], axis=1)\n",
    "\n",
    "#Get all unique attndlocation from the Locations dataframe\n",
    "all_locations = AttendeesLocations['attndLocation'].unique()\n",
    "\n",
    "#Duplicate the prediction_data row for each location\n",
    "prediction_data = pd.concat([prediction_data] * len(all_locations), ignore_index=True)\n",
    "\n",
    "#Add the Location column to the prediction_data dataframe\n",
    "prediction_data['attndLocation'] = all_locations\n",
    "\n",
    "prediction_data"
   ]
  },
  {
   "cell_type": "code",
   "execution_count": 48,
   "metadata": {},
   "outputs": [],
   "source": [
    "#Select the relevant columns from the model data\n",
    "model_data_subset = ModelData[['attndDate', 'attndLocation', 'attendeesCount', 'dhTemp (C)', 'dlTemp (C)', 'precipitation (mm)', 'humidity', 'wind (km/h)']]\n",
    "\n",
    "#Create a dictionary to store the random forest models for each location\n",
    "location_models = {}\n",
    "\n",
    "#Iterate over each unique location in the model data\n",
    "for location in model_data_subset['attndLocation'].unique():\n",
    "    #Filter the data for the current location\n",
    "    location_data = model_data_subset[model_data_subset['attndLocation'] == location]\n",
    "    \n",
    "    #Create the feature matrix X and target variable y\n",
    "    X = location_data[['dhTemp (C)', 'dlTemp (C)', 'precipitation (mm)', 'humidity', 'wind (km/h)']]\n",
    "    y = location_data['attendeesCount']\n",
    "    \n",
    "    #Fit a random forest model\n",
    "    model = RandomForestRegressor()\n",
    "    model.fit(X, y)\n",
    "    \n",
    "    #Store the model for the current location\n",
    "    location_models[location] = model"
   ]
  },
  {
   "cell_type": "code",
   "execution_count": 49,
   "metadata": {},
   "outputs": [
    {
     "name": "stderr",
     "output_type": "stream",
     "text": [
      "c:\\Users\\Rameez\\anaconda3\\lib\\site-packages\\sklearn\\base.py:420: UserWarning:\n",
      "\n",
      "X does not have valid feature names, but RandomForestRegressor was fitted with feature names\n",
      "\n",
      "c:\\Users\\Rameez\\anaconda3\\lib\\site-packages\\sklearn\\base.py:420: UserWarning:\n",
      "\n",
      "X does not have valid feature names, but RandomForestRegressor was fitted with feature names\n",
      "\n",
      "c:\\Users\\Rameez\\anaconda3\\lib\\site-packages\\sklearn\\base.py:420: UserWarning:\n",
      "\n",
      "X does not have valid feature names, but RandomForestRegressor was fitted with feature names\n",
      "\n",
      "c:\\Users\\Rameez\\anaconda3\\lib\\site-packages\\sklearn\\base.py:420: UserWarning:\n",
      "\n",
      "X does not have valid feature names, but RandomForestRegressor was fitted with feature names\n",
      "\n",
      "c:\\Users\\Rameez\\anaconda3\\lib\\site-packages\\sklearn\\base.py:420: UserWarning:\n",
      "\n",
      "X does not have valid feature names, but RandomForestRegressor was fitted with feature names\n",
      "\n",
      "c:\\Users\\Rameez\\anaconda3\\lib\\site-packages\\sklearn\\base.py:420: UserWarning:\n",
      "\n",
      "X does not have valid feature names, but RandomForestRegressor was fitted with feature names\n",
      "\n",
      "c:\\Users\\Rameez\\anaconda3\\lib\\site-packages\\sklearn\\base.py:420: UserWarning:\n",
      "\n",
      "X does not have valid feature names, but RandomForestRegressor was fitted with feature names\n",
      "\n",
      "c:\\Users\\Rameez\\anaconda3\\lib\\site-packages\\sklearn\\base.py:420: UserWarning:\n",
      "\n",
      "X does not have valid feature names, but RandomForestRegressor was fitted with feature names\n",
      "\n",
      "c:\\Users\\Rameez\\anaconda3\\lib\\site-packages\\sklearn\\base.py:420: UserWarning:\n",
      "\n",
      "X does not have valid feature names, but RandomForestRegressor was fitted with feature names\n",
      "\n",
      "c:\\Users\\Rameez\\anaconda3\\lib\\site-packages\\sklearn\\base.py:420: UserWarning:\n",
      "\n",
      "X does not have valid feature names, but RandomForestRegressor was fitted with feature names\n",
      "\n",
      "c:\\Users\\Rameez\\anaconda3\\lib\\site-packages\\sklearn\\base.py:420: UserWarning:\n",
      "\n",
      "X does not have valid feature names, but RandomForestRegressor was fitted with feature names\n",
      "\n",
      "c:\\Users\\Rameez\\anaconda3\\lib\\site-packages\\sklearn\\base.py:420: UserWarning:\n",
      "\n",
      "X does not have valid feature names, but RandomForestRegressor was fitted with feature names\n",
      "\n",
      "c:\\Users\\Rameez\\anaconda3\\lib\\site-packages\\sklearn\\base.py:420: UserWarning:\n",
      "\n",
      "X does not have valid feature names, but RandomForestRegressor was fitted with feature names\n",
      "\n",
      "c:\\Users\\Rameez\\anaconda3\\lib\\site-packages\\sklearn\\base.py:420: UserWarning:\n",
      "\n",
      "X does not have valid feature names, but RandomForestRegressor was fitted with feature names\n",
      "\n",
      "c:\\Users\\Rameez\\anaconda3\\lib\\site-packages\\sklearn\\base.py:420: UserWarning:\n",
      "\n",
      "X does not have valid feature names, but RandomForestRegressor was fitted with feature names\n",
      "\n",
      "c:\\Users\\Rameez\\anaconda3\\lib\\site-packages\\sklearn\\base.py:420: UserWarning:\n",
      "\n",
      "X does not have valid feature names, but RandomForestRegressor was fitted with feature names\n",
      "\n",
      "c:\\Users\\Rameez\\anaconda3\\lib\\site-packages\\sklearn\\base.py:420: UserWarning:\n",
      "\n",
      "X does not have valid feature names, but RandomForestRegressor was fitted with feature names\n",
      "\n",
      "c:\\Users\\Rameez\\anaconda3\\lib\\site-packages\\sklearn\\base.py:420: UserWarning:\n",
      "\n",
      "X does not have valid feature names, but RandomForestRegressor was fitted with feature names\n",
      "\n",
      "c:\\Users\\Rameez\\anaconda3\\lib\\site-packages\\sklearn\\base.py:420: UserWarning:\n",
      "\n",
      "X does not have valid feature names, but RandomForestRegressor was fitted with feature names\n",
      "\n",
      "c:\\Users\\Rameez\\anaconda3\\lib\\site-packages\\sklearn\\base.py:420: UserWarning:\n",
      "\n",
      "X does not have valid feature names, but RandomForestRegressor was fitted with feature names\n",
      "\n",
      "c:\\Users\\Rameez\\anaconda3\\lib\\site-packages\\sklearn\\base.py:420: UserWarning:\n",
      "\n",
      "X does not have valid feature names, but RandomForestRegressor was fitted with feature names\n",
      "\n",
      "c:\\Users\\Rameez\\anaconda3\\lib\\site-packages\\sklearn\\base.py:420: UserWarning:\n",
      "\n",
      "X does not have valid feature names, but RandomForestRegressor was fitted with feature names\n",
      "\n",
      "c:\\Users\\Rameez\\anaconda3\\lib\\site-packages\\sklearn\\base.py:420: UserWarning:\n",
      "\n",
      "X does not have valid feature names, but RandomForestRegressor was fitted with feature names\n",
      "\n",
      "c:\\Users\\Rameez\\anaconda3\\lib\\site-packages\\sklearn\\base.py:420: UserWarning:\n",
      "\n",
      "X does not have valid feature names, but RandomForestRegressor was fitted with feature names\n",
      "\n",
      "c:\\Users\\Rameez\\anaconda3\\lib\\site-packages\\sklearn\\base.py:420: UserWarning:\n",
      "\n",
      "X does not have valid feature names, but RandomForestRegressor was fitted with feature names\n",
      "\n",
      "c:\\Users\\Rameez\\anaconda3\\lib\\site-packages\\sklearn\\base.py:420: UserWarning:\n",
      "\n",
      "X does not have valid feature names, but RandomForestRegressor was fitted with feature names\n",
      "\n",
      "c:\\Users\\Rameez\\anaconda3\\lib\\site-packages\\sklearn\\base.py:420: UserWarning:\n",
      "\n",
      "X does not have valid feature names, but RandomForestRegressor was fitted with feature names\n",
      "\n",
      "c:\\Users\\Rameez\\anaconda3\\lib\\site-packages\\sklearn\\base.py:420: UserWarning:\n",
      "\n",
      "X does not have valid feature names, but RandomForestRegressor was fitted with feature names\n",
      "\n",
      "c:\\Users\\Rameez\\anaconda3\\lib\\site-packages\\sklearn\\base.py:420: UserWarning:\n",
      "\n",
      "X does not have valid feature names, but RandomForestRegressor was fitted with feature names\n",
      "\n",
      "c:\\Users\\Rameez\\anaconda3\\lib\\site-packages\\sklearn\\base.py:420: UserWarning:\n",
      "\n",
      "X does not have valid feature names, but RandomForestRegressor was fitted with feature names\n",
      "\n",
      "c:\\Users\\Rameez\\anaconda3\\lib\\site-packages\\sklearn\\base.py:420: UserWarning:\n",
      "\n",
      "X does not have valid feature names, but RandomForestRegressor was fitted with feature names\n",
      "\n",
      "c:\\Users\\Rameez\\anaconda3\\lib\\site-packages\\sklearn\\base.py:420: UserWarning:\n",
      "\n",
      "X does not have valid feature names, but RandomForestRegressor was fitted with feature names\n",
      "\n",
      "c:\\Users\\Rameez\\anaconda3\\lib\\site-packages\\sklearn\\base.py:420: UserWarning:\n",
      "\n",
      "X does not have valid feature names, but RandomForestRegressor was fitted with feature names\n",
      "\n",
      "c:\\Users\\Rameez\\anaconda3\\lib\\site-packages\\sklearn\\base.py:420: UserWarning:\n",
      "\n",
      "X does not have valid feature names, but RandomForestRegressor was fitted with feature names\n",
      "\n",
      "c:\\Users\\Rameez\\anaconda3\\lib\\site-packages\\sklearn\\base.py:420: UserWarning:\n",
      "\n",
      "X does not have valid feature names, but RandomForestRegressor was fitted with feature names\n",
      "\n",
      "c:\\Users\\Rameez\\anaconda3\\lib\\site-packages\\sklearn\\base.py:420: UserWarning:\n",
      "\n",
      "X does not have valid feature names, but RandomForestRegressor was fitted with feature names\n",
      "\n",
      "c:\\Users\\Rameez\\anaconda3\\lib\\site-packages\\sklearn\\base.py:420: UserWarning:\n",
      "\n",
      "X does not have valid feature names, but RandomForestRegressor was fitted with feature names\n",
      "\n",
      "c:\\Users\\Rameez\\anaconda3\\lib\\site-packages\\sklearn\\base.py:420: UserWarning:\n",
      "\n",
      "X does not have valid feature names, but RandomForestRegressor was fitted with feature names\n",
      "\n",
      "c:\\Users\\Rameez\\anaconda3\\lib\\site-packages\\sklearn\\base.py:420: UserWarning:\n",
      "\n",
      "X does not have valid feature names, but RandomForestRegressor was fitted with feature names\n",
      "\n",
      "c:\\Users\\Rameez\\anaconda3\\lib\\site-packages\\sklearn\\base.py:420: UserWarning:\n",
      "\n",
      "X does not have valid feature names, but RandomForestRegressor was fitted with feature names\n",
      "\n",
      "c:\\Users\\Rameez\\anaconda3\\lib\\site-packages\\sklearn\\base.py:420: UserWarning:\n",
      "\n",
      "X does not have valid feature names, but RandomForestRegressor was fitted with feature names\n",
      "\n",
      "c:\\Users\\Rameez\\anaconda3\\lib\\site-packages\\sklearn\\base.py:420: UserWarning:\n",
      "\n",
      "X does not have valid feature names, but RandomForestRegressor was fitted with feature names\n",
      "\n"
     ]
    },
    {
     "data": {
      "text/html": [
       "<div>\n",
       "<style scoped>\n",
       "    .dataframe tbody tr th:only-of-type {\n",
       "        vertical-align: middle;\n",
       "    }\n",
       "\n",
       "    .dataframe tbody tr th {\n",
       "        vertical-align: top;\n",
       "    }\n",
       "\n",
       "    .dataframe thead th {\n",
       "        text-align: right;\n",
       "    }\n",
       "</style>\n",
       "<table border=\"1\" class=\"dataframe\">\n",
       "  <thead>\n",
       "    <tr style=\"text-align: right;\">\n",
       "      <th></th>\n",
       "      <th>attndDate</th>\n",
       "      <th>dhTemp (C)</th>\n",
       "      <th>dlTemp (C)</th>\n",
       "      <th>precipitation (mm)</th>\n",
       "      <th>humidity</th>\n",
       "      <th>wind (km/h)</th>\n",
       "      <th>attndLocation</th>\n",
       "      <th>predicted_attendeeCount</th>\n",
       "    </tr>\n",
       "  </thead>\n",
       "  <tbody>\n",
       "    <tr>\n",
       "      <th>0</th>\n",
       "      <td>2023-11-21</td>\n",
       "      <td>32</td>\n",
       "      <td>25</td>\n",
       "      <td>5.6</td>\n",
       "      <td>0.8893</td>\n",
       "      <td>6.3</td>\n",
       "      <td>Anuradhapura, Sri Lanka</td>\n",
       "      <td>1</td>\n",
       "    </tr>\n",
       "    <tr>\n",
       "      <th>1</th>\n",
       "      <td>2023-11-21</td>\n",
       "      <td>32</td>\n",
       "      <td>25</td>\n",
       "      <td>5.6</td>\n",
       "      <td>0.8893</td>\n",
       "      <td>6.3</td>\n",
       "      <td>Avissawella, Sri Lanka</td>\n",
       "      <td>0</td>\n",
       "    </tr>\n",
       "    <tr>\n",
       "      <th>2</th>\n",
       "      <td>2023-11-21</td>\n",
       "      <td>32</td>\n",
       "      <td>25</td>\n",
       "      <td>5.6</td>\n",
       "      <td>0.8893</td>\n",
       "      <td>6.3</td>\n",
       "      <td>Badulla, Sri Lanka</td>\n",
       "      <td>0</td>\n",
       "    </tr>\n",
       "    <tr>\n",
       "      <th>3</th>\n",
       "      <td>2023-11-21</td>\n",
       "      <td>32</td>\n",
       "      <td>25</td>\n",
       "      <td>5.6</td>\n",
       "      <td>0.8893</td>\n",
       "      <td>6.3</td>\n",
       "      <td>Bandaragama, Sri Lanka</td>\n",
       "      <td>0</td>\n",
       "    </tr>\n",
       "    <tr>\n",
       "      <th>4</th>\n",
       "      <td>2023-11-21</td>\n",
       "      <td>32</td>\n",
       "      <td>25</td>\n",
       "      <td>5.6</td>\n",
       "      <td>0.8893</td>\n",
       "      <td>6.3</td>\n",
       "      <td>Bandarawela, Sri Lanka</td>\n",
       "      <td>0</td>\n",
       "    </tr>\n",
       "    <tr>\n",
       "      <th>5</th>\n",
       "      <td>2023-11-21</td>\n",
       "      <td>32</td>\n",
       "      <td>25</td>\n",
       "      <td>5.6</td>\n",
       "      <td>0.8893</td>\n",
       "      <td>6.3</td>\n",
       "      <td>Biyagama, Sri Lanka</td>\n",
       "      <td>0</td>\n",
       "    </tr>\n",
       "    <tr>\n",
       "      <th>6</th>\n",
       "      <td>2023-11-21</td>\n",
       "      <td>32</td>\n",
       "      <td>25</td>\n",
       "      <td>5.6</td>\n",
       "      <td>0.8893</td>\n",
       "      <td>6.3</td>\n",
       "      <td>Chilaw, Sri Lanka</td>\n",
       "      <td>0</td>\n",
       "    </tr>\n",
       "    <tr>\n",
       "      <th>7</th>\n",
       "      <td>2023-11-21</td>\n",
       "      <td>32</td>\n",
       "      <td>25</td>\n",
       "      <td>5.6</td>\n",
       "      <td>0.8893</td>\n",
       "      <td>6.3</td>\n",
       "      <td>Colombo, Sri Lanka</td>\n",
       "      <td>3</td>\n",
       "    </tr>\n",
       "    <tr>\n",
       "      <th>8</th>\n",
       "      <td>2023-11-21</td>\n",
       "      <td>32</td>\n",
       "      <td>25</td>\n",
       "      <td>5.6</td>\n",
       "      <td>0.8893</td>\n",
       "      <td>6.3</td>\n",
       "      <td>Dehiwala, Sri Lanka</td>\n",
       "      <td>0</td>\n",
       "    </tr>\n",
       "    <tr>\n",
       "      <th>9</th>\n",
       "      <td>2023-11-21</td>\n",
       "      <td>32</td>\n",
       "      <td>25</td>\n",
       "      <td>5.6</td>\n",
       "      <td>0.8893</td>\n",
       "      <td>6.3</td>\n",
       "      <td>Galle, Sri Lanka</td>\n",
       "      <td>0</td>\n",
       "    </tr>\n",
       "    <tr>\n",
       "      <th>10</th>\n",
       "      <td>2023-11-21</td>\n",
       "      <td>32</td>\n",
       "      <td>25</td>\n",
       "      <td>5.6</td>\n",
       "      <td>0.8893</td>\n",
       "      <td>6.3</td>\n",
       "      <td>Gampaha, Sri Lanka</td>\n",
       "      <td>2</td>\n",
       "    </tr>\n",
       "    <tr>\n",
       "      <th>11</th>\n",
       "      <td>2023-11-21</td>\n",
       "      <td>32</td>\n",
       "      <td>25</td>\n",
       "      <td>5.6</td>\n",
       "      <td>0.8893</td>\n",
       "      <td>6.3</td>\n",
       "      <td>Hakmana, Sri Lanka</td>\n",
       "      <td>0</td>\n",
       "    </tr>\n",
       "    <tr>\n",
       "      <th>12</th>\n",
       "      <td>2023-11-21</td>\n",
       "      <td>32</td>\n",
       "      <td>25</td>\n",
       "      <td>5.6</td>\n",
       "      <td>0.8893</td>\n",
       "      <td>6.3</td>\n",
       "      <td>Hanwella, Sri Lanka</td>\n",
       "      <td>0</td>\n",
       "    </tr>\n",
       "    <tr>\n",
       "      <th>13</th>\n",
       "      <td>2023-11-21</td>\n",
       "      <td>32</td>\n",
       "      <td>25</td>\n",
       "      <td>5.6</td>\n",
       "      <td>0.8893</td>\n",
       "      <td>6.3</td>\n",
       "      <td>Homagama, Sri Lanka</td>\n",
       "      <td>0</td>\n",
       "    </tr>\n",
       "    <tr>\n",
       "      <th>14</th>\n",
       "      <td>2023-11-21</td>\n",
       "      <td>32</td>\n",
       "      <td>25</td>\n",
       "      <td>5.6</td>\n",
       "      <td>0.8893</td>\n",
       "      <td>6.3</td>\n",
       "      <td>Ja-Ela, Sri Lanka</td>\n",
       "      <td>0</td>\n",
       "    </tr>\n",
       "    <tr>\n",
       "      <th>15</th>\n",
       "      <td>2023-11-21</td>\n",
       "      <td>32</td>\n",
       "      <td>25</td>\n",
       "      <td>5.6</td>\n",
       "      <td>0.8893</td>\n",
       "      <td>6.3</td>\n",
       "      <td>Kadawatha, Sri Lanka</td>\n",
       "      <td>0</td>\n",
       "    </tr>\n",
       "    <tr>\n",
       "      <th>16</th>\n",
       "      <td>2023-11-21</td>\n",
       "      <td>32</td>\n",
       "      <td>25</td>\n",
       "      <td>5.6</td>\n",
       "      <td>0.8893</td>\n",
       "      <td>6.3</td>\n",
       "      <td>Kaduwela, Sri Lanka</td>\n",
       "      <td>0</td>\n",
       "    </tr>\n",
       "    <tr>\n",
       "      <th>17</th>\n",
       "      <td>2023-11-21</td>\n",
       "      <td>32</td>\n",
       "      <td>25</td>\n",
       "      <td>5.6</td>\n",
       "      <td>0.8893</td>\n",
       "      <td>6.3</td>\n",
       "      <td>Kandana, Sri Lanka</td>\n",
       "      <td>0</td>\n",
       "    </tr>\n",
       "    <tr>\n",
       "      <th>18</th>\n",
       "      <td>2023-11-21</td>\n",
       "      <td>32</td>\n",
       "      <td>25</td>\n",
       "      <td>5.6</td>\n",
       "      <td>0.8893</td>\n",
       "      <td>6.3</td>\n",
       "      <td>Kandy, Sri Lanka</td>\n",
       "      <td>0</td>\n",
       "    </tr>\n",
       "    <tr>\n",
       "      <th>19</th>\n",
       "      <td>2023-11-21</td>\n",
       "      <td>32</td>\n",
       "      <td>25</td>\n",
       "      <td>5.6</td>\n",
       "      <td>0.8893</td>\n",
       "      <td>6.3</td>\n",
       "      <td>Kegalle, Sri Lanka</td>\n",
       "      <td>0</td>\n",
       "    </tr>\n",
       "    <tr>\n",
       "      <th>20</th>\n",
       "      <td>2023-11-21</td>\n",
       "      <td>32</td>\n",
       "      <td>25</td>\n",
       "      <td>5.6</td>\n",
       "      <td>0.8893</td>\n",
       "      <td>6.3</td>\n",
       "      <td>Kelaniya, Sri Lanka</td>\n",
       "      <td>1</td>\n",
       "    </tr>\n",
       "    <tr>\n",
       "      <th>21</th>\n",
       "      <td>2023-11-21</td>\n",
       "      <td>32</td>\n",
       "      <td>25</td>\n",
       "      <td>5.6</td>\n",
       "      <td>0.8893</td>\n",
       "      <td>6.3</td>\n",
       "      <td>Koswatta, Sri Lanka</td>\n",
       "      <td>0</td>\n",
       "    </tr>\n",
       "    <tr>\n",
       "      <th>22</th>\n",
       "      <td>2023-11-21</td>\n",
       "      <td>32</td>\n",
       "      <td>25</td>\n",
       "      <td>5.6</td>\n",
       "      <td>0.8893</td>\n",
       "      <td>6.3</td>\n",
       "      <td>Kottawa, Sri Lanka</td>\n",
       "      <td>0</td>\n",
       "    </tr>\n",
       "    <tr>\n",
       "      <th>23</th>\n",
       "      <td>2023-11-21</td>\n",
       "      <td>32</td>\n",
       "      <td>25</td>\n",
       "      <td>5.6</td>\n",
       "      <td>0.8893</td>\n",
       "      <td>6.3</td>\n",
       "      <td>Kotte, Sri Lanka</td>\n",
       "      <td>0</td>\n",
       "    </tr>\n",
       "    <tr>\n",
       "      <th>24</th>\n",
       "      <td>2023-11-21</td>\n",
       "      <td>32</td>\n",
       "      <td>25</td>\n",
       "      <td>5.6</td>\n",
       "      <td>0.8893</td>\n",
       "      <td>6.3</td>\n",
       "      <td>Kurunegala, Sri Lanka</td>\n",
       "      <td>0</td>\n",
       "    </tr>\n",
       "    <tr>\n",
       "      <th>25</th>\n",
       "      <td>2023-11-21</td>\n",
       "      <td>32</td>\n",
       "      <td>25</td>\n",
       "      <td>5.6</td>\n",
       "      <td>0.8893</td>\n",
       "      <td>6.3</td>\n",
       "      <td>Madampe, Sri Lanka</td>\n",
       "      <td>0</td>\n",
       "    </tr>\n",
       "    <tr>\n",
       "      <th>26</th>\n",
       "      <td>2023-11-21</td>\n",
       "      <td>32</td>\n",
       "      <td>25</td>\n",
       "      <td>5.6</td>\n",
       "      <td>0.8893</td>\n",
       "      <td>6.3</td>\n",
       "      <td>Maharagama, Sri Lanka</td>\n",
       "      <td>0</td>\n",
       "    </tr>\n",
       "    <tr>\n",
       "      <th>27</th>\n",
       "      <td>2023-11-21</td>\n",
       "      <td>32</td>\n",
       "      <td>25</td>\n",
       "      <td>5.6</td>\n",
       "      <td>0.8893</td>\n",
       "      <td>6.3</td>\n",
       "      <td>Malabe, Sri Lanka</td>\n",
       "      <td>0</td>\n",
       "    </tr>\n",
       "    <tr>\n",
       "      <th>28</th>\n",
       "      <td>2023-11-21</td>\n",
       "      <td>32</td>\n",
       "      <td>25</td>\n",
       "      <td>5.6</td>\n",
       "      <td>0.8893</td>\n",
       "      <td>6.3</td>\n",
       "      <td>Marawila, Sri Lanka</td>\n",
       "      <td>0</td>\n",
       "    </tr>\n",
       "    <tr>\n",
       "      <th>29</th>\n",
       "      <td>2023-11-21</td>\n",
       "      <td>32</td>\n",
       "      <td>25</td>\n",
       "      <td>5.6</td>\n",
       "      <td>0.8893</td>\n",
       "      <td>6.3</td>\n",
       "      <td>Mathara, Sri Lanka</td>\n",
       "      <td>1</td>\n",
       "    </tr>\n",
       "    <tr>\n",
       "      <th>30</th>\n",
       "      <td>2023-11-21</td>\n",
       "      <td>32</td>\n",
       "      <td>25</td>\n",
       "      <td>5.6</td>\n",
       "      <td>0.8893</td>\n",
       "      <td>6.3</td>\n",
       "      <td>Minuwangoda, Sri Lanka</td>\n",
       "      <td>0</td>\n",
       "    </tr>\n",
       "    <tr>\n",
       "      <th>31</th>\n",
       "      <td>2023-11-21</td>\n",
       "      <td>32</td>\n",
       "      <td>25</td>\n",
       "      <td>5.6</td>\n",
       "      <td>0.8893</td>\n",
       "      <td>6.3</td>\n",
       "      <td>Mirigama, Sri Lanka</td>\n",
       "      <td>0</td>\n",
       "    </tr>\n",
       "    <tr>\n",
       "      <th>32</th>\n",
       "      <td>2023-11-21</td>\n",
       "      <td>32</td>\n",
       "      <td>25</td>\n",
       "      <td>5.6</td>\n",
       "      <td>0.8893</td>\n",
       "      <td>6.3</td>\n",
       "      <td>Moratuwa, Sri Lanka</td>\n",
       "      <td>0</td>\n",
       "    </tr>\n",
       "    <tr>\n",
       "      <th>33</th>\n",
       "      <td>2023-11-21</td>\n",
       "      <td>32</td>\n",
       "      <td>25</td>\n",
       "      <td>5.6</td>\n",
       "      <td>0.8893</td>\n",
       "      <td>6.3</td>\n",
       "      <td>Narammala, Sri Lanka</td>\n",
       "      <td>0</td>\n",
       "    </tr>\n",
       "    <tr>\n",
       "      <th>34</th>\n",
       "      <td>2023-11-21</td>\n",
       "      <td>32</td>\n",
       "      <td>25</td>\n",
       "      <td>5.6</td>\n",
       "      <td>0.8893</td>\n",
       "      <td>6.3</td>\n",
       "      <td>Nattandiya, Sri Lanka</td>\n",
       "      <td>0</td>\n",
       "    </tr>\n",
       "    <tr>\n",
       "      <th>35</th>\n",
       "      <td>2023-11-21</td>\n",
       "      <td>32</td>\n",
       "      <td>25</td>\n",
       "      <td>5.6</td>\n",
       "      <td>0.8893</td>\n",
       "      <td>6.3</td>\n",
       "      <td>Negombo, Sri Lanka</td>\n",
       "      <td>0</td>\n",
       "    </tr>\n",
       "    <tr>\n",
       "      <th>36</th>\n",
       "      <td>2023-11-21</td>\n",
       "      <td>32</td>\n",
       "      <td>25</td>\n",
       "      <td>5.6</td>\n",
       "      <td>0.8893</td>\n",
       "      <td>6.3</td>\n",
       "      <td>Nittambuwa, Sri Lanka</td>\n",
       "      <td>0</td>\n",
       "    </tr>\n",
       "    <tr>\n",
       "      <th>37</th>\n",
       "      <td>2023-11-21</td>\n",
       "      <td>32</td>\n",
       "      <td>25</td>\n",
       "      <td>5.6</td>\n",
       "      <td>0.8893</td>\n",
       "      <td>6.3</td>\n",
       "      <td>Nugegoda, Sri Lanka</td>\n",
       "      <td>0</td>\n",
       "    </tr>\n",
       "    <tr>\n",
       "      <th>38</th>\n",
       "      <td>2023-11-21</td>\n",
       "      <td>32</td>\n",
       "      <td>25</td>\n",
       "      <td>5.6</td>\n",
       "      <td>0.8893</td>\n",
       "      <td>6.3</td>\n",
       "      <td>Piliyandala, Sri Lanka</td>\n",
       "      <td>0</td>\n",
       "    </tr>\n",
       "    <tr>\n",
       "      <th>39</th>\n",
       "      <td>2023-11-21</td>\n",
       "      <td>32</td>\n",
       "      <td>25</td>\n",
       "      <td>5.6</td>\n",
       "      <td>0.8893</td>\n",
       "      <td>6.3</td>\n",
       "      <td>Rajagiriya, Sri Lanka</td>\n",
       "      <td>0</td>\n",
       "    </tr>\n",
       "    <tr>\n",
       "      <th>40</th>\n",
       "      <td>2023-11-21</td>\n",
       "      <td>32</td>\n",
       "      <td>25</td>\n",
       "      <td>5.6</td>\n",
       "      <td>0.8893</td>\n",
       "      <td>6.3</td>\n",
       "      <td>Ratnapura, Sri Lanka</td>\n",
       "      <td>0</td>\n",
       "    </tr>\n",
       "    <tr>\n",
       "      <th>41</th>\n",
       "      <td>2023-11-21</td>\n",
       "      <td>32</td>\n",
       "      <td>25</td>\n",
       "      <td>5.6</td>\n",
       "      <td>0.8893</td>\n",
       "      <td>6.3</td>\n",
       "      <td>Wattala, Sri Lanka</td>\n",
       "      <td>2</td>\n",
       "    </tr>\n",
       "  </tbody>\n",
       "</table>\n",
       "</div>"
      ],
      "text/plain": [
       "    attndDate  dhTemp (C)  dlTemp (C)  precipitation (mm)  humidity  \\\n",
       "0  2023-11-21          32          25                 5.6    0.8893   \n",
       "1  2023-11-21          32          25                 5.6    0.8893   \n",
       "2  2023-11-21          32          25                 5.6    0.8893   \n",
       "3  2023-11-21          32          25                 5.6    0.8893   \n",
       "4  2023-11-21          32          25                 5.6    0.8893   \n",
       "5  2023-11-21          32          25                 5.6    0.8893   \n",
       "6  2023-11-21          32          25                 5.6    0.8893   \n",
       "7  2023-11-21          32          25                 5.6    0.8893   \n",
       "8  2023-11-21          32          25                 5.6    0.8893   \n",
       "9  2023-11-21          32          25                 5.6    0.8893   \n",
       "10 2023-11-21          32          25                 5.6    0.8893   \n",
       "11 2023-11-21          32          25                 5.6    0.8893   \n",
       "12 2023-11-21          32          25                 5.6    0.8893   \n",
       "13 2023-11-21          32          25                 5.6    0.8893   \n",
       "14 2023-11-21          32          25                 5.6    0.8893   \n",
       "15 2023-11-21          32          25                 5.6    0.8893   \n",
       "16 2023-11-21          32          25                 5.6    0.8893   \n",
       "17 2023-11-21          32          25                 5.6    0.8893   \n",
       "18 2023-11-21          32          25                 5.6    0.8893   \n",
       "19 2023-11-21          32          25                 5.6    0.8893   \n",
       "20 2023-11-21          32          25                 5.6    0.8893   \n",
       "21 2023-11-21          32          25                 5.6    0.8893   \n",
       "22 2023-11-21          32          25                 5.6    0.8893   \n",
       "23 2023-11-21          32          25                 5.6    0.8893   \n",
       "24 2023-11-21          32          25                 5.6    0.8893   \n",
       "25 2023-11-21          32          25                 5.6    0.8893   \n",
       "26 2023-11-21          32          25                 5.6    0.8893   \n",
       "27 2023-11-21          32          25                 5.6    0.8893   \n",
       "28 2023-11-21          32          25                 5.6    0.8893   \n",
       "29 2023-11-21          32          25                 5.6    0.8893   \n",
       "30 2023-11-21          32          25                 5.6    0.8893   \n",
       "31 2023-11-21          32          25                 5.6    0.8893   \n",
       "32 2023-11-21          32          25                 5.6    0.8893   \n",
       "33 2023-11-21          32          25                 5.6    0.8893   \n",
       "34 2023-11-21          32          25                 5.6    0.8893   \n",
       "35 2023-11-21          32          25                 5.6    0.8893   \n",
       "36 2023-11-21          32          25                 5.6    0.8893   \n",
       "37 2023-11-21          32          25                 5.6    0.8893   \n",
       "38 2023-11-21          32          25                 5.6    0.8893   \n",
       "39 2023-11-21          32          25                 5.6    0.8893   \n",
       "40 2023-11-21          32          25                 5.6    0.8893   \n",
       "41 2023-11-21          32          25                 5.6    0.8893   \n",
       "\n",
       "    wind (km/h)            attndLocation  predicted_attendeeCount  \n",
       "0           6.3  Anuradhapura, Sri Lanka                        1  \n",
       "1           6.3   Avissawella, Sri Lanka                        0  \n",
       "2           6.3       Badulla, Sri Lanka                        0  \n",
       "3           6.3   Bandaragama, Sri Lanka                        0  \n",
       "4           6.3   Bandarawela, Sri Lanka                        0  \n",
       "5           6.3      Biyagama, Sri Lanka                        0  \n",
       "6           6.3        Chilaw, Sri Lanka                        0  \n",
       "7           6.3       Colombo, Sri Lanka                        3  \n",
       "8           6.3      Dehiwala, Sri Lanka                        0  \n",
       "9           6.3         Galle, Sri Lanka                        0  \n",
       "10          6.3       Gampaha, Sri Lanka                        2  \n",
       "11          6.3       Hakmana, Sri Lanka                        0  \n",
       "12          6.3      Hanwella, Sri Lanka                        0  \n",
       "13          6.3      Homagama, Sri Lanka                        0  \n",
       "14          6.3        Ja-Ela, Sri Lanka                        0  \n",
       "15          6.3     Kadawatha, Sri Lanka                        0  \n",
       "16          6.3      Kaduwela, Sri Lanka                        0  \n",
       "17          6.3       Kandana, Sri Lanka                        0  \n",
       "18          6.3         Kandy, Sri Lanka                        0  \n",
       "19          6.3       Kegalle, Sri Lanka                        0  \n",
       "20          6.3      Kelaniya, Sri Lanka                        1  \n",
       "21          6.3      Koswatta, Sri Lanka                        0  \n",
       "22          6.3       Kottawa, Sri Lanka                        0  \n",
       "23          6.3         Kotte, Sri Lanka                        0  \n",
       "24          6.3    Kurunegala, Sri Lanka                        0  \n",
       "25          6.3       Madampe, Sri Lanka                        0  \n",
       "26          6.3    Maharagama, Sri Lanka                        0  \n",
       "27          6.3        Malabe, Sri Lanka                        0  \n",
       "28          6.3      Marawila, Sri Lanka                        0  \n",
       "29          6.3       Mathara, Sri Lanka                        1  \n",
       "30          6.3   Minuwangoda, Sri Lanka                        0  \n",
       "31          6.3      Mirigama, Sri Lanka                        0  \n",
       "32          6.3      Moratuwa, Sri Lanka                        0  \n",
       "33          6.3     Narammala, Sri Lanka                        0  \n",
       "34          6.3    Nattandiya, Sri Lanka                        0  \n",
       "35          6.3       Negombo, Sri Lanka                        0  \n",
       "36          6.3    Nittambuwa, Sri Lanka                        0  \n",
       "37          6.3      Nugegoda, Sri Lanka                        0  \n",
       "38          6.3   Piliyandala, Sri Lanka                        0  \n",
       "39          6.3    Rajagiriya, Sri Lanka                        0  \n",
       "40          6.3     Ratnapura, Sri Lanka                        0  \n",
       "41          6.3       Wattala, Sri Lanka                        2  "
      ]
     },
     "execution_count": 49,
     "metadata": {},
     "output_type": "execute_result"
    }
   ],
   "source": [
    "#Predict the attendeeCount for the predictive_row data\n",
    "predicted_attendee_counts = []\n",
    "for index, row in prediction_data.iterrows():\n",
    "    #Get the location from the predictive_row data\n",
    "    location = row['attndLocation']\n",
    "    \n",
    "    #Get the corresponding model for the location\n",
    "    model = location_models[location]\n",
    "    \n",
    "    #Create the feature matrix X for the current row\n",
    "    X = row[['dhTemp (C)', 'dlTemp (C)', 'precipitation (mm)', 'humidity', 'wind (km/h)']].values.reshape(1, -1)\n",
    "    \n",
    "    #Predict the attendeeCount for the current row\n",
    "    predicted_attendee_count = model.predict(X)[0]\n",
    "    \n",
    "    #Append the predicted attendeeCount to the list\n",
    "    predicted_attendee_counts.append(predicted_attendee_count)\n",
    "\n",
    "#Add the predicted_attendee_counts as a new column to the predictive_row data\n",
    "prediction_data['predicted_attendeeCount'] = predicted_attendee_counts\n",
    "\n",
    "#Convert the predicted_attendeeCount to an integer\n",
    "prediction_data['predicted_attendeeCount'] = prediction_data['predicted_attendeeCount'].astype(int)\n",
    "\n",
    "#Display the predictive_row data with the predicted attendeeCount\n",
    "prediction_data"
   ]
  },
  {
   "cell_type": "code",
   "execution_count": 50,
   "metadata": {},
   "outputs": [
    {
     "data": {
      "text/html": [
       "<div>\n",
       "<style scoped>\n",
       "    .dataframe tbody tr th:only-of-type {\n",
       "        vertical-align: middle;\n",
       "    }\n",
       "\n",
       "    .dataframe tbody tr th {\n",
       "        vertical-align: top;\n",
       "    }\n",
       "\n",
       "    .dataframe thead th {\n",
       "        text-align: right;\n",
       "    }\n",
       "</style>\n",
       "<table border=\"1\" class=\"dataframe\">\n",
       "  <thead>\n",
       "    <tr style=\"text-align: right;\">\n",
       "      <th></th>\n",
       "      <th>attndDate</th>\n",
       "      <th>attndLocation</th>\n",
       "      <th>attendeesCount</th>\n",
       "    </tr>\n",
       "  </thead>\n",
       "  <tbody>\n",
       "    <tr>\n",
       "      <th>0</th>\n",
       "      <td>2023-11-21</td>\n",
       "      <td>Anuradhapura, Sri Lanka</td>\n",
       "      <td>1</td>\n",
       "    </tr>\n",
       "    <tr>\n",
       "      <th>1</th>\n",
       "      <td>2023-11-21</td>\n",
       "      <td>Avissawella, Sri Lanka</td>\n",
       "      <td>0</td>\n",
       "    </tr>\n",
       "    <tr>\n",
       "      <th>2</th>\n",
       "      <td>2023-11-21</td>\n",
       "      <td>Badulla, Sri Lanka</td>\n",
       "      <td>0</td>\n",
       "    </tr>\n",
       "    <tr>\n",
       "      <th>3</th>\n",
       "      <td>2023-11-21</td>\n",
       "      <td>Bandaragama, Sri Lanka</td>\n",
       "      <td>0</td>\n",
       "    </tr>\n",
       "    <tr>\n",
       "      <th>4</th>\n",
       "      <td>2023-11-21</td>\n",
       "      <td>Bandarawela, Sri Lanka</td>\n",
       "      <td>0</td>\n",
       "    </tr>\n",
       "    <tr>\n",
       "      <th>5</th>\n",
       "      <td>2023-11-21</td>\n",
       "      <td>Biyagama, Sri Lanka</td>\n",
       "      <td>0</td>\n",
       "    </tr>\n",
       "    <tr>\n",
       "      <th>6</th>\n",
       "      <td>2023-11-21</td>\n",
       "      <td>Chilaw, Sri Lanka</td>\n",
       "      <td>0</td>\n",
       "    </tr>\n",
       "    <tr>\n",
       "      <th>7</th>\n",
       "      <td>2023-11-21</td>\n",
       "      <td>Colombo, Sri Lanka</td>\n",
       "      <td>3</td>\n",
       "    </tr>\n",
       "    <tr>\n",
       "      <th>8</th>\n",
       "      <td>2023-11-21</td>\n",
       "      <td>Dehiwala, Sri Lanka</td>\n",
       "      <td>0</td>\n",
       "    </tr>\n",
       "    <tr>\n",
       "      <th>9</th>\n",
       "      <td>2023-11-21</td>\n",
       "      <td>Galle, Sri Lanka</td>\n",
       "      <td>0</td>\n",
       "    </tr>\n",
       "    <tr>\n",
       "      <th>10</th>\n",
       "      <td>2023-11-21</td>\n",
       "      <td>Gampaha, Sri Lanka</td>\n",
       "      <td>2</td>\n",
       "    </tr>\n",
       "    <tr>\n",
       "      <th>11</th>\n",
       "      <td>2023-11-21</td>\n",
       "      <td>Hakmana, Sri Lanka</td>\n",
       "      <td>0</td>\n",
       "    </tr>\n",
       "    <tr>\n",
       "      <th>12</th>\n",
       "      <td>2023-11-21</td>\n",
       "      <td>Hanwella, Sri Lanka</td>\n",
       "      <td>0</td>\n",
       "    </tr>\n",
       "    <tr>\n",
       "      <th>13</th>\n",
       "      <td>2023-11-21</td>\n",
       "      <td>Homagama, Sri Lanka</td>\n",
       "      <td>0</td>\n",
       "    </tr>\n",
       "    <tr>\n",
       "      <th>14</th>\n",
       "      <td>2023-11-21</td>\n",
       "      <td>Ja-Ela, Sri Lanka</td>\n",
       "      <td>0</td>\n",
       "    </tr>\n",
       "    <tr>\n",
       "      <th>15</th>\n",
       "      <td>2023-11-21</td>\n",
       "      <td>Kadawatha, Sri Lanka</td>\n",
       "      <td>0</td>\n",
       "    </tr>\n",
       "    <tr>\n",
       "      <th>16</th>\n",
       "      <td>2023-11-21</td>\n",
       "      <td>Kaduwela, Sri Lanka</td>\n",
       "      <td>0</td>\n",
       "    </tr>\n",
       "    <tr>\n",
       "      <th>17</th>\n",
       "      <td>2023-11-21</td>\n",
       "      <td>Kandana, Sri Lanka</td>\n",
       "      <td>0</td>\n",
       "    </tr>\n",
       "    <tr>\n",
       "      <th>18</th>\n",
       "      <td>2023-11-21</td>\n",
       "      <td>Kandy, Sri Lanka</td>\n",
       "      <td>0</td>\n",
       "    </tr>\n",
       "    <tr>\n",
       "      <th>19</th>\n",
       "      <td>2023-11-21</td>\n",
       "      <td>Kegalle, Sri Lanka</td>\n",
       "      <td>0</td>\n",
       "    </tr>\n",
       "    <tr>\n",
       "      <th>20</th>\n",
       "      <td>2023-11-21</td>\n",
       "      <td>Kelaniya, Sri Lanka</td>\n",
       "      <td>1</td>\n",
       "    </tr>\n",
       "    <tr>\n",
       "      <th>21</th>\n",
       "      <td>2023-11-21</td>\n",
       "      <td>Koswatta, Sri Lanka</td>\n",
       "      <td>0</td>\n",
       "    </tr>\n",
       "    <tr>\n",
       "      <th>22</th>\n",
       "      <td>2023-11-21</td>\n",
       "      <td>Kottawa, Sri Lanka</td>\n",
       "      <td>0</td>\n",
       "    </tr>\n",
       "    <tr>\n",
       "      <th>23</th>\n",
       "      <td>2023-11-21</td>\n",
       "      <td>Kotte, Sri Lanka</td>\n",
       "      <td>0</td>\n",
       "    </tr>\n",
       "    <tr>\n",
       "      <th>24</th>\n",
       "      <td>2023-11-21</td>\n",
       "      <td>Kurunegala, Sri Lanka</td>\n",
       "      <td>0</td>\n",
       "    </tr>\n",
       "    <tr>\n",
       "      <th>25</th>\n",
       "      <td>2023-11-21</td>\n",
       "      <td>Madampe, Sri Lanka</td>\n",
       "      <td>0</td>\n",
       "    </tr>\n",
       "    <tr>\n",
       "      <th>26</th>\n",
       "      <td>2023-11-21</td>\n",
       "      <td>Maharagama, Sri Lanka</td>\n",
       "      <td>0</td>\n",
       "    </tr>\n",
       "    <tr>\n",
       "      <th>27</th>\n",
       "      <td>2023-11-21</td>\n",
       "      <td>Malabe, Sri Lanka</td>\n",
       "      <td>0</td>\n",
       "    </tr>\n",
       "    <tr>\n",
       "      <th>28</th>\n",
       "      <td>2023-11-21</td>\n",
       "      <td>Marawila, Sri Lanka</td>\n",
       "      <td>0</td>\n",
       "    </tr>\n",
       "    <tr>\n",
       "      <th>29</th>\n",
       "      <td>2023-11-21</td>\n",
       "      <td>Mathara, Sri Lanka</td>\n",
       "      <td>1</td>\n",
       "    </tr>\n",
       "    <tr>\n",
       "      <th>30</th>\n",
       "      <td>2023-11-21</td>\n",
       "      <td>Minuwangoda, Sri Lanka</td>\n",
       "      <td>0</td>\n",
       "    </tr>\n",
       "    <tr>\n",
       "      <th>31</th>\n",
       "      <td>2023-11-21</td>\n",
       "      <td>Mirigama, Sri Lanka</td>\n",
       "      <td>0</td>\n",
       "    </tr>\n",
       "    <tr>\n",
       "      <th>32</th>\n",
       "      <td>2023-11-21</td>\n",
       "      <td>Moratuwa, Sri Lanka</td>\n",
       "      <td>0</td>\n",
       "    </tr>\n",
       "    <tr>\n",
       "      <th>33</th>\n",
       "      <td>2023-11-21</td>\n",
       "      <td>Narammala, Sri Lanka</td>\n",
       "      <td>0</td>\n",
       "    </tr>\n",
       "    <tr>\n",
       "      <th>34</th>\n",
       "      <td>2023-11-21</td>\n",
       "      <td>Nattandiya, Sri Lanka</td>\n",
       "      <td>0</td>\n",
       "    </tr>\n",
       "    <tr>\n",
       "      <th>35</th>\n",
       "      <td>2023-11-21</td>\n",
       "      <td>Negombo, Sri Lanka</td>\n",
       "      <td>0</td>\n",
       "    </tr>\n",
       "    <tr>\n",
       "      <th>36</th>\n",
       "      <td>2023-11-21</td>\n",
       "      <td>Nittambuwa, Sri Lanka</td>\n",
       "      <td>0</td>\n",
       "    </tr>\n",
       "    <tr>\n",
       "      <th>37</th>\n",
       "      <td>2023-11-21</td>\n",
       "      <td>Nugegoda, Sri Lanka</td>\n",
       "      <td>0</td>\n",
       "    </tr>\n",
       "    <tr>\n",
       "      <th>38</th>\n",
       "      <td>2023-11-21</td>\n",
       "      <td>Piliyandala, Sri Lanka</td>\n",
       "      <td>0</td>\n",
       "    </tr>\n",
       "    <tr>\n",
       "      <th>39</th>\n",
       "      <td>2023-11-21</td>\n",
       "      <td>Rajagiriya, Sri Lanka</td>\n",
       "      <td>0</td>\n",
       "    </tr>\n",
       "    <tr>\n",
       "      <th>40</th>\n",
       "      <td>2023-11-21</td>\n",
       "      <td>Ratnapura, Sri Lanka</td>\n",
       "      <td>0</td>\n",
       "    </tr>\n",
       "    <tr>\n",
       "      <th>41</th>\n",
       "      <td>2023-11-21</td>\n",
       "      <td>Wattala, Sri Lanka</td>\n",
       "      <td>2</td>\n",
       "    </tr>\n",
       "  </tbody>\n",
       "</table>\n",
       "</div>"
      ],
      "text/plain": [
       "    attndDate            attndLocation  attendeesCount\n",
       "0  2023-11-21  Anuradhapura, Sri Lanka               1\n",
       "1  2023-11-21   Avissawella, Sri Lanka               0\n",
       "2  2023-11-21       Badulla, Sri Lanka               0\n",
       "3  2023-11-21   Bandaragama, Sri Lanka               0\n",
       "4  2023-11-21   Bandarawela, Sri Lanka               0\n",
       "5  2023-11-21      Biyagama, Sri Lanka               0\n",
       "6  2023-11-21        Chilaw, Sri Lanka               0\n",
       "7  2023-11-21       Colombo, Sri Lanka               3\n",
       "8  2023-11-21      Dehiwala, Sri Lanka               0\n",
       "9  2023-11-21         Galle, Sri Lanka               0\n",
       "10 2023-11-21       Gampaha, Sri Lanka               2\n",
       "11 2023-11-21       Hakmana, Sri Lanka               0\n",
       "12 2023-11-21      Hanwella, Sri Lanka               0\n",
       "13 2023-11-21      Homagama, Sri Lanka               0\n",
       "14 2023-11-21        Ja-Ela, Sri Lanka               0\n",
       "15 2023-11-21     Kadawatha, Sri Lanka               0\n",
       "16 2023-11-21      Kaduwela, Sri Lanka               0\n",
       "17 2023-11-21       Kandana, Sri Lanka               0\n",
       "18 2023-11-21         Kandy, Sri Lanka               0\n",
       "19 2023-11-21       Kegalle, Sri Lanka               0\n",
       "20 2023-11-21      Kelaniya, Sri Lanka               1\n",
       "21 2023-11-21      Koswatta, Sri Lanka               0\n",
       "22 2023-11-21       Kottawa, Sri Lanka               0\n",
       "23 2023-11-21         Kotte, Sri Lanka               0\n",
       "24 2023-11-21    Kurunegala, Sri Lanka               0\n",
       "25 2023-11-21       Madampe, Sri Lanka               0\n",
       "26 2023-11-21    Maharagama, Sri Lanka               0\n",
       "27 2023-11-21        Malabe, Sri Lanka               0\n",
       "28 2023-11-21      Marawila, Sri Lanka               0\n",
       "29 2023-11-21       Mathara, Sri Lanka               1\n",
       "30 2023-11-21   Minuwangoda, Sri Lanka               0\n",
       "31 2023-11-21      Mirigama, Sri Lanka               0\n",
       "32 2023-11-21      Moratuwa, Sri Lanka               0\n",
       "33 2023-11-21     Narammala, Sri Lanka               0\n",
       "34 2023-11-21    Nattandiya, Sri Lanka               0\n",
       "35 2023-11-21       Negombo, Sri Lanka               0\n",
       "36 2023-11-21    Nittambuwa, Sri Lanka               0\n",
       "37 2023-11-21      Nugegoda, Sri Lanka               0\n",
       "38 2023-11-21   Piliyandala, Sri Lanka               0\n",
       "39 2023-11-21    Rajagiriya, Sri Lanka               0\n",
       "40 2023-11-21     Ratnapura, Sri Lanka               0\n",
       "41 2023-11-21       Wattala, Sri Lanka               2"
      ]
     },
     "execution_count": 50,
     "metadata": {},
     "output_type": "execute_result"
    }
   ],
   "source": [
    "#Rename predicted_attendeeCount to attendeesCount\n",
    "prediction_data.rename(columns={'predicted_attendeeCount': 'attendeesCount'}, inplace=True)\n",
    "\n",
    "#Get only attndDate, attndLocation and attendeesCount columns\n",
    "prediction_data = prediction_data[['attndDate', 'attndLocation', 'attendeesCount']]\n",
    "\n",
    "prediction_data"
   ]
  },
  {
   "cell_type": "code",
   "execution_count": 51,
   "metadata": {},
   "outputs": [
    {
     "data": {
      "text/html": [
       "<div>\n",
       "<style scoped>\n",
       "    .dataframe tbody tr th:only-of-type {\n",
       "        vertical-align: middle;\n",
       "    }\n",
       "\n",
       "    .dataframe tbody tr th {\n",
       "        vertical-align: top;\n",
       "    }\n",
       "\n",
       "    .dataframe thead th {\n",
       "        text-align: right;\n",
       "    }\n",
       "</style>\n",
       "<table border=\"1\" class=\"dataframe\">\n",
       "  <thead>\n",
       "    <tr style=\"text-align: right;\">\n",
       "      <th></th>\n",
       "      <th>attndDate</th>\n",
       "      <th>attndLocation</th>\n",
       "      <th>attendeesCount</th>\n",
       "    </tr>\n",
       "  </thead>\n",
       "  <tbody>\n",
       "    <tr>\n",
       "      <th>0</th>\n",
       "      <td>2023-11-17</td>\n",
       "      <td>Anuradhapura, Sri Lanka</td>\n",
       "      <td>0.0</td>\n",
       "    </tr>\n",
       "    <tr>\n",
       "      <th>1</th>\n",
       "      <td>2023-11-17</td>\n",
       "      <td>Avissawella, Sri Lanka</td>\n",
       "      <td>0.0</td>\n",
       "    </tr>\n",
       "    <tr>\n",
       "      <th>2</th>\n",
       "      <td>2023-11-17</td>\n",
       "      <td>Badulla, Sri Lanka</td>\n",
       "      <td>0.0</td>\n",
       "    </tr>\n",
       "    <tr>\n",
       "      <th>3</th>\n",
       "      <td>2023-11-17</td>\n",
       "      <td>Bandaragama, Sri Lanka</td>\n",
       "      <td>1.0</td>\n",
       "    </tr>\n",
       "    <tr>\n",
       "      <th>4</th>\n",
       "      <td>2023-11-17</td>\n",
       "      <td>Bandarawela, Sri Lanka</td>\n",
       "      <td>0.0</td>\n",
       "    </tr>\n",
       "    <tr>\n",
       "      <th>...</th>\n",
       "      <td>...</td>\n",
       "      <td>...</td>\n",
       "      <td>...</td>\n",
       "    </tr>\n",
       "    <tr>\n",
       "      <th>205</th>\n",
       "      <td>2023-11-21</td>\n",
       "      <td>Nugegoda, Sri Lanka</td>\n",
       "      <td>0.0</td>\n",
       "    </tr>\n",
       "    <tr>\n",
       "      <th>206</th>\n",
       "      <td>2023-11-21</td>\n",
       "      <td>Piliyandala, Sri Lanka</td>\n",
       "      <td>0.0</td>\n",
       "    </tr>\n",
       "    <tr>\n",
       "      <th>207</th>\n",
       "      <td>2023-11-21</td>\n",
       "      <td>Rajagiriya, Sri Lanka</td>\n",
       "      <td>0.0</td>\n",
       "    </tr>\n",
       "    <tr>\n",
       "      <th>208</th>\n",
       "      <td>2023-11-21</td>\n",
       "      <td>Ratnapura, Sri Lanka</td>\n",
       "      <td>0.0</td>\n",
       "    </tr>\n",
       "    <tr>\n",
       "      <th>209</th>\n",
       "      <td>2023-11-21</td>\n",
       "      <td>Wattala, Sri Lanka</td>\n",
       "      <td>2.0</td>\n",
       "    </tr>\n",
       "  </tbody>\n",
       "</table>\n",
       "<p>210 rows × 3 columns</p>\n",
       "</div>"
      ],
      "text/plain": [
       "      attndDate            attndLocation  attendeesCount\n",
       "0    2023-11-17  Anuradhapura, Sri Lanka             0.0\n",
       "1    2023-11-17   Avissawella, Sri Lanka             0.0\n",
       "2    2023-11-17       Badulla, Sri Lanka             0.0\n",
       "3    2023-11-17   Bandaragama, Sri Lanka             1.0\n",
       "4    2023-11-17   Bandarawela, Sri Lanka             0.0\n",
       "..          ...                      ...             ...\n",
       "205  2023-11-21      Nugegoda, Sri Lanka             0.0\n",
       "206  2023-11-21   Piliyandala, Sri Lanka             0.0\n",
       "207  2023-11-21    Rajagiriya, Sri Lanka             0.0\n",
       "208  2023-11-21     Ratnapura, Sri Lanka             0.0\n",
       "209  2023-11-21       Wattala, Sri Lanka             2.0\n",
       "\n",
       "[210 rows x 3 columns]"
      ]
     },
     "execution_count": 51,
     "metadata": {},
     "output_type": "execute_result"
    }
   ],
   "source": [
    "#Add the prediction_data to the AttendeesLocations dataframe\n",
    "NewAttendeesLocations = pd.concat([AttendeesLocations, prediction_data], ignore_index=True)\n",
    "\n",
    "#Convert attndDate to datetime for %Y-%m-%d format\n",
    "NewAttendeesLocations['attndDate'] = pd.to_datetime(NewAttendeesLocations['attndDate']).dt.strftime('%Y-%m-%d')\n",
    "\n",
    "NewAttendeesLocations"
   ]
  },
  {
   "cell_type": "code",
   "execution_count": 52,
   "metadata": {},
   "outputs": [
    {
     "data": {
      "text/html": [
       "<div>\n",
       "<style scoped>\n",
       "    .dataframe tbody tr th:only-of-type {\n",
       "        vertical-align: middle;\n",
       "    }\n",
       "\n",
       "    .dataframe tbody tr th {\n",
       "        vertical-align: top;\n",
       "    }\n",
       "\n",
       "    .dataframe thead th {\n",
       "        text-align: right;\n",
       "    }\n",
       "</style>\n",
       "<table border=\"1\" class=\"dataframe\">\n",
       "  <thead>\n",
       "    <tr style=\"text-align: right;\">\n",
       "      <th></th>\n",
       "      <th>eventLocation</th>\n",
       "      <th>attndDate</th>\n",
       "      <th>dhTemp (C)</th>\n",
       "      <th>dlTemp (C)</th>\n",
       "      <th>precipitation (mm)</th>\n",
       "      <th>humidity</th>\n",
       "      <th>wind (km/h)</th>\n",
       "    </tr>\n",
       "  </thead>\n",
       "  <tbody>\n",
       "    <tr>\n",
       "      <th>0</th>\n",
       "      <td>BMICH, Colombo</td>\n",
       "      <td>2023-11-17</td>\n",
       "      <td>32</td>\n",
       "      <td>26</td>\n",
       "      <td>4.3</td>\n",
       "      <td>0.8684</td>\n",
       "      <td>5.3</td>\n",
       "    </tr>\n",
       "    <tr>\n",
       "      <th>1</th>\n",
       "      <td>BMICH, Colombo</td>\n",
       "      <td>2023-11-18</td>\n",
       "      <td>31</td>\n",
       "      <td>25</td>\n",
       "      <td>6.7</td>\n",
       "      <td>0.8834</td>\n",
       "      <td>6.3</td>\n",
       "    </tr>\n",
       "    <tr>\n",
       "      <th>2</th>\n",
       "      <td>BMICH, Colombo</td>\n",
       "      <td>2023-11-19</td>\n",
       "      <td>31</td>\n",
       "      <td>24</td>\n",
       "      <td>4.1</td>\n",
       "      <td>0.8937</td>\n",
       "      <td>6.9</td>\n",
       "    </tr>\n",
       "    <tr>\n",
       "      <th>3</th>\n",
       "      <td>BMICH, Colombo</td>\n",
       "      <td>2023-11-20</td>\n",
       "      <td>31</td>\n",
       "      <td>24</td>\n",
       "      <td>2.7</td>\n",
       "      <td>0.8805</td>\n",
       "      <td>5.0</td>\n",
       "    </tr>\n",
       "    <tr>\n",
       "      <th>4</th>\n",
       "      <td>BMICH, Colombo</td>\n",
       "      <td>2023-11-21</td>\n",
       "      <td>32</td>\n",
       "      <td>25</td>\n",
       "      <td>5.6</td>\n",
       "      <td>0.8893</td>\n",
       "      <td>6.3</td>\n",
       "    </tr>\n",
       "  </tbody>\n",
       "</table>\n",
       "</div>"
      ],
      "text/plain": [
       "    eventLocation  attndDate  dhTemp (C)  dlTemp (C)  precipitation (mm)  \\\n",
       "0  BMICH, Colombo 2023-11-17          32          26                 4.3   \n",
       "1  BMICH, Colombo 2023-11-18          31          25                 6.7   \n",
       "2  BMICH, Colombo 2023-11-19          31          24                 4.1   \n",
       "3  BMICH, Colombo 2023-11-20          31          24                 2.7   \n",
       "4  BMICH, Colombo 2023-11-21          32          25                 5.6   \n",
       "\n",
       "   humidity  wind (km/h)  \n",
       "0    0.8684          5.3  \n",
       "1    0.8834          6.3  \n",
       "2    0.8937          6.9  \n",
       "3    0.8805          5.0  \n",
       "4    0.8893          6.3  "
      ]
     },
     "execution_count": 52,
     "metadata": {},
     "output_type": "execute_result"
    }
   ],
   "source": [
    "weather_climate_data"
   ]
  },
  {
   "cell_type": "code",
   "execution_count": 53,
   "metadata": {},
   "outputs": [
    {
     "data": {
      "application/vnd.plotly.v1+json": {
       "config": {
        "plotlyServerURL": "https://plot.ly"
       },
       "data": [
        {
         "hovertemplate": "variable=dlTemp (C)<br>attndDate=%{x}<br>value=%{y}<extra></extra>",
         "legendgroup": "dlTemp (C)",
         "line": {
          "color": "#636efa",
          "dash": "solid"
         },
         "marker": {
          "symbol": "circle"
         },
         "mode": "lines",
         "name": "Daily Lower Temperature",
         "orientation": "v",
         "showlegend": true,
         "type": "scatter",
         "x": [
          "2023-11-17T00:00:00",
          "2023-11-18T00:00:00",
          "2023-11-19T00:00:00",
          "2023-11-20T00:00:00",
          "2023-11-21T00:00:00"
         ],
         "xaxis": "x",
         "y": [
          26,
          25,
          24,
          24,
          25
         ],
         "yaxis": "y"
        },
        {
         "hovertemplate": "variable=dhTemp (C)<br>attndDate=%{x}<br>value=%{y}<extra></extra>",
         "legendgroup": "dhTemp (C)",
         "line": {
          "color": "#EF553B",
          "dash": "solid"
         },
         "marker": {
          "symbol": "circle"
         },
         "mode": "lines",
         "name": "Daily High Temperature",
         "orientation": "v",
         "showlegend": true,
         "type": "scatter",
         "x": [
          "2023-11-17T00:00:00",
          "2023-11-18T00:00:00",
          "2023-11-19T00:00:00",
          "2023-11-20T00:00:00",
          "2023-11-21T00:00:00"
         ],
         "xaxis": "x",
         "y": [
          32,
          31,
          31,
          31,
          32
         ],
         "yaxis": "y"
        }
       ],
       "layout": {
        "legend": {
         "title": {
          "text": "Temperature"
         },
         "tracegroupgap": 0
        },
        "template": {
         "data": {
          "bar": [
           {
            "error_x": {
             "color": "#f2f5fa"
            },
            "error_y": {
             "color": "#f2f5fa"
            },
            "marker": {
             "line": {
              "color": "rgb(17,17,17)",
              "width": 0.5
             },
             "pattern": {
              "fillmode": "overlay",
              "size": 10,
              "solidity": 0.2
             }
            },
            "type": "bar"
           }
          ],
          "barpolar": [
           {
            "marker": {
             "line": {
              "color": "rgb(17,17,17)",
              "width": 0.5
             },
             "pattern": {
              "fillmode": "overlay",
              "size": 10,
              "solidity": 0.2
             }
            },
            "type": "barpolar"
           }
          ],
          "carpet": [
           {
            "aaxis": {
             "endlinecolor": "#A2B1C6",
             "gridcolor": "#506784",
             "linecolor": "#506784",
             "minorgridcolor": "#506784",
             "startlinecolor": "#A2B1C6"
            },
            "baxis": {
             "endlinecolor": "#A2B1C6",
             "gridcolor": "#506784",
             "linecolor": "#506784",
             "minorgridcolor": "#506784",
             "startlinecolor": "#A2B1C6"
            },
            "type": "carpet"
           }
          ],
          "choropleth": [
           {
            "colorbar": {
             "outlinewidth": 0,
             "ticks": ""
            },
            "type": "choropleth"
           }
          ],
          "contour": [
           {
            "colorbar": {
             "outlinewidth": 0,
             "ticks": ""
            },
            "colorscale": [
             [
              0,
              "#0d0887"
             ],
             [
              0.1111111111111111,
              "#46039f"
             ],
             [
              0.2222222222222222,
              "#7201a8"
             ],
             [
              0.3333333333333333,
              "#9c179e"
             ],
             [
              0.4444444444444444,
              "#bd3786"
             ],
             [
              0.5555555555555556,
              "#d8576b"
             ],
             [
              0.6666666666666666,
              "#ed7953"
             ],
             [
              0.7777777777777778,
              "#fb9f3a"
             ],
             [
              0.8888888888888888,
              "#fdca26"
             ],
             [
              1,
              "#f0f921"
             ]
            ],
            "type": "contour"
           }
          ],
          "contourcarpet": [
           {
            "colorbar": {
             "outlinewidth": 0,
             "ticks": ""
            },
            "type": "contourcarpet"
           }
          ],
          "heatmap": [
           {
            "colorbar": {
             "outlinewidth": 0,
             "ticks": ""
            },
            "colorscale": [
             [
              0,
              "#0d0887"
             ],
             [
              0.1111111111111111,
              "#46039f"
             ],
             [
              0.2222222222222222,
              "#7201a8"
             ],
             [
              0.3333333333333333,
              "#9c179e"
             ],
             [
              0.4444444444444444,
              "#bd3786"
             ],
             [
              0.5555555555555556,
              "#d8576b"
             ],
             [
              0.6666666666666666,
              "#ed7953"
             ],
             [
              0.7777777777777778,
              "#fb9f3a"
             ],
             [
              0.8888888888888888,
              "#fdca26"
             ],
             [
              1,
              "#f0f921"
             ]
            ],
            "type": "heatmap"
           }
          ],
          "heatmapgl": [
           {
            "colorbar": {
             "outlinewidth": 0,
             "ticks": ""
            },
            "colorscale": [
             [
              0,
              "#0d0887"
             ],
             [
              0.1111111111111111,
              "#46039f"
             ],
             [
              0.2222222222222222,
              "#7201a8"
             ],
             [
              0.3333333333333333,
              "#9c179e"
             ],
             [
              0.4444444444444444,
              "#bd3786"
             ],
             [
              0.5555555555555556,
              "#d8576b"
             ],
             [
              0.6666666666666666,
              "#ed7953"
             ],
             [
              0.7777777777777778,
              "#fb9f3a"
             ],
             [
              0.8888888888888888,
              "#fdca26"
             ],
             [
              1,
              "#f0f921"
             ]
            ],
            "type": "heatmapgl"
           }
          ],
          "histogram": [
           {
            "marker": {
             "pattern": {
              "fillmode": "overlay",
              "size": 10,
              "solidity": 0.2
             }
            },
            "type": "histogram"
           }
          ],
          "histogram2d": [
           {
            "colorbar": {
             "outlinewidth": 0,
             "ticks": ""
            },
            "colorscale": [
             [
              0,
              "#0d0887"
             ],
             [
              0.1111111111111111,
              "#46039f"
             ],
             [
              0.2222222222222222,
              "#7201a8"
             ],
             [
              0.3333333333333333,
              "#9c179e"
             ],
             [
              0.4444444444444444,
              "#bd3786"
             ],
             [
              0.5555555555555556,
              "#d8576b"
             ],
             [
              0.6666666666666666,
              "#ed7953"
             ],
             [
              0.7777777777777778,
              "#fb9f3a"
             ],
             [
              0.8888888888888888,
              "#fdca26"
             ],
             [
              1,
              "#f0f921"
             ]
            ],
            "type": "histogram2d"
           }
          ],
          "histogram2dcontour": [
           {
            "colorbar": {
             "outlinewidth": 0,
             "ticks": ""
            },
            "colorscale": [
             [
              0,
              "#0d0887"
             ],
             [
              0.1111111111111111,
              "#46039f"
             ],
             [
              0.2222222222222222,
              "#7201a8"
             ],
             [
              0.3333333333333333,
              "#9c179e"
             ],
             [
              0.4444444444444444,
              "#bd3786"
             ],
             [
              0.5555555555555556,
              "#d8576b"
             ],
             [
              0.6666666666666666,
              "#ed7953"
             ],
             [
              0.7777777777777778,
              "#fb9f3a"
             ],
             [
              0.8888888888888888,
              "#fdca26"
             ],
             [
              1,
              "#f0f921"
             ]
            ],
            "type": "histogram2dcontour"
           }
          ],
          "mesh3d": [
           {
            "colorbar": {
             "outlinewidth": 0,
             "ticks": ""
            },
            "type": "mesh3d"
           }
          ],
          "parcoords": [
           {
            "line": {
             "colorbar": {
              "outlinewidth": 0,
              "ticks": ""
             }
            },
            "type": "parcoords"
           }
          ],
          "pie": [
           {
            "automargin": true,
            "type": "pie"
           }
          ],
          "scatter": [
           {
            "marker": {
             "line": {
              "color": "#283442"
             }
            },
            "type": "scatter"
           }
          ],
          "scatter3d": [
           {
            "line": {
             "colorbar": {
              "outlinewidth": 0,
              "ticks": ""
             }
            },
            "marker": {
             "colorbar": {
              "outlinewidth": 0,
              "ticks": ""
             }
            },
            "type": "scatter3d"
           }
          ],
          "scattercarpet": [
           {
            "marker": {
             "colorbar": {
              "outlinewidth": 0,
              "ticks": ""
             }
            },
            "type": "scattercarpet"
           }
          ],
          "scattergeo": [
           {
            "marker": {
             "colorbar": {
              "outlinewidth": 0,
              "ticks": ""
             }
            },
            "type": "scattergeo"
           }
          ],
          "scattergl": [
           {
            "marker": {
             "line": {
              "color": "#283442"
             }
            },
            "type": "scattergl"
           }
          ],
          "scattermapbox": [
           {
            "marker": {
             "colorbar": {
              "outlinewidth": 0,
              "ticks": ""
             }
            },
            "type": "scattermapbox"
           }
          ],
          "scatterpolar": [
           {
            "marker": {
             "colorbar": {
              "outlinewidth": 0,
              "ticks": ""
             }
            },
            "type": "scatterpolar"
           }
          ],
          "scatterpolargl": [
           {
            "marker": {
             "colorbar": {
              "outlinewidth": 0,
              "ticks": ""
             }
            },
            "type": "scatterpolargl"
           }
          ],
          "scatterternary": [
           {
            "marker": {
             "colorbar": {
              "outlinewidth": 0,
              "ticks": ""
             }
            },
            "type": "scatterternary"
           }
          ],
          "surface": [
           {
            "colorbar": {
             "outlinewidth": 0,
             "ticks": ""
            },
            "colorscale": [
             [
              0,
              "#0d0887"
             ],
             [
              0.1111111111111111,
              "#46039f"
             ],
             [
              0.2222222222222222,
              "#7201a8"
             ],
             [
              0.3333333333333333,
              "#9c179e"
             ],
             [
              0.4444444444444444,
              "#bd3786"
             ],
             [
              0.5555555555555556,
              "#d8576b"
             ],
             [
              0.6666666666666666,
              "#ed7953"
             ],
             [
              0.7777777777777778,
              "#fb9f3a"
             ],
             [
              0.8888888888888888,
              "#fdca26"
             ],
             [
              1,
              "#f0f921"
             ]
            ],
            "type": "surface"
           }
          ],
          "table": [
           {
            "cells": {
             "fill": {
              "color": "#506784"
             },
             "line": {
              "color": "rgb(17,17,17)"
             }
            },
            "header": {
             "fill": {
              "color": "#2a3f5f"
             },
             "line": {
              "color": "rgb(17,17,17)"
             }
            },
            "type": "table"
           }
          ]
         },
         "layout": {
          "annotationdefaults": {
           "arrowcolor": "#f2f5fa",
           "arrowhead": 0,
           "arrowwidth": 1
          },
          "autotypenumbers": "strict",
          "coloraxis": {
           "colorbar": {
            "outlinewidth": 0,
            "ticks": ""
           }
          },
          "colorscale": {
           "diverging": [
            [
             0,
             "#8e0152"
            ],
            [
             0.1,
             "#c51b7d"
            ],
            [
             0.2,
             "#de77ae"
            ],
            [
             0.3,
             "#f1b6da"
            ],
            [
             0.4,
             "#fde0ef"
            ],
            [
             0.5,
             "#f7f7f7"
            ],
            [
             0.6,
             "#e6f5d0"
            ],
            [
             0.7,
             "#b8e186"
            ],
            [
             0.8,
             "#7fbc41"
            ],
            [
             0.9,
             "#4d9221"
            ],
            [
             1,
             "#276419"
            ]
           ],
           "sequential": [
            [
             0,
             "#0d0887"
            ],
            [
             0.1111111111111111,
             "#46039f"
            ],
            [
             0.2222222222222222,
             "#7201a8"
            ],
            [
             0.3333333333333333,
             "#9c179e"
            ],
            [
             0.4444444444444444,
             "#bd3786"
            ],
            [
             0.5555555555555556,
             "#d8576b"
            ],
            [
             0.6666666666666666,
             "#ed7953"
            ],
            [
             0.7777777777777778,
             "#fb9f3a"
            ],
            [
             0.8888888888888888,
             "#fdca26"
            ],
            [
             1,
             "#f0f921"
            ]
           ],
           "sequentialminus": [
            [
             0,
             "#0d0887"
            ],
            [
             0.1111111111111111,
             "#46039f"
            ],
            [
             0.2222222222222222,
             "#7201a8"
            ],
            [
             0.3333333333333333,
             "#9c179e"
            ],
            [
             0.4444444444444444,
             "#bd3786"
            ],
            [
             0.5555555555555556,
             "#d8576b"
            ],
            [
             0.6666666666666666,
             "#ed7953"
            ],
            [
             0.7777777777777778,
             "#fb9f3a"
            ],
            [
             0.8888888888888888,
             "#fdca26"
            ],
            [
             1,
             "#f0f921"
            ]
           ]
          },
          "colorway": [
           "#636efa",
           "#EF553B",
           "#00cc96",
           "#ab63fa",
           "#FFA15A",
           "#19d3f3",
           "#FF6692",
           "#B6E880",
           "#FF97FF",
           "#FECB52"
          ],
          "font": {
           "color": "#f2f5fa"
          },
          "geo": {
           "bgcolor": "rgb(17,17,17)",
           "lakecolor": "rgb(17,17,17)",
           "landcolor": "rgb(17,17,17)",
           "showlakes": true,
           "showland": true,
           "subunitcolor": "#506784"
          },
          "hoverlabel": {
           "align": "left"
          },
          "hovermode": "closest",
          "mapbox": {
           "style": "dark"
          },
          "paper_bgcolor": "rgb(17,17,17)",
          "plot_bgcolor": "rgb(17,17,17)",
          "polar": {
           "angularaxis": {
            "gridcolor": "#506784",
            "linecolor": "#506784",
            "ticks": ""
           },
           "bgcolor": "rgb(17,17,17)",
           "radialaxis": {
            "gridcolor": "#506784",
            "linecolor": "#506784",
            "ticks": ""
           }
          },
          "scene": {
           "xaxis": {
            "backgroundcolor": "rgb(17,17,17)",
            "gridcolor": "#506784",
            "gridwidth": 2,
            "linecolor": "#506784",
            "showbackground": true,
            "ticks": "",
            "zerolinecolor": "#C8D4E3"
           },
           "yaxis": {
            "backgroundcolor": "rgb(17,17,17)",
            "gridcolor": "#506784",
            "gridwidth": 2,
            "linecolor": "#506784",
            "showbackground": true,
            "ticks": "",
            "zerolinecolor": "#C8D4E3"
           },
           "zaxis": {
            "backgroundcolor": "rgb(17,17,17)",
            "gridcolor": "#506784",
            "gridwidth": 2,
            "linecolor": "#506784",
            "showbackground": true,
            "ticks": "",
            "zerolinecolor": "#C8D4E3"
           }
          },
          "shapedefaults": {
           "line": {
            "color": "#f2f5fa"
           }
          },
          "sliderdefaults": {
           "bgcolor": "#C8D4E3",
           "bordercolor": "rgb(17,17,17)",
           "borderwidth": 1,
           "tickwidth": 0
          },
          "ternary": {
           "aaxis": {
            "gridcolor": "#506784",
            "linecolor": "#506784",
            "ticks": ""
           },
           "baxis": {
            "gridcolor": "#506784",
            "linecolor": "#506784",
            "ticks": ""
           },
           "bgcolor": "rgb(17,17,17)",
           "caxis": {
            "gridcolor": "#506784",
            "linecolor": "#506784",
            "ticks": ""
           }
          },
          "title": {
           "x": 0.05
          },
          "updatemenudefaults": {
           "bgcolor": "#506784",
           "borderwidth": 0
          },
          "xaxis": {
           "automargin": true,
           "gridcolor": "#283442",
           "linecolor": "#506784",
           "ticks": "",
           "title": {
            "standoff": 15
           },
           "zerolinecolor": "#283442",
           "zerolinewidth": 2
          },
          "yaxis": {
           "automargin": true,
           "gridcolor": "#283442",
           "linecolor": "#506784",
           "ticks": "",
           "title": {
            "standoff": 15
           },
           "zerolinecolor": "#283442",
           "zerolinewidth": 2
          }
         }
        },
        "title": {
         "text": "Daily High & Daily Lower Temperature Variation"
        },
        "xaxis": {
         "anchor": "y",
         "domain": [
          0,
          1
         ],
         "title": {
          "text": "Date"
         }
        },
        "yaxis": {
         "anchor": "x",
         "domain": [
          0,
          1
         ],
         "title": {
          "text": "Temperature (C)"
         }
        }
       }
      }
     },
     "metadata": {},
     "output_type": "display_data"
    }
   ],
   "source": [
    "#Daily High Temperature & Daily Lower Temperature Variation\n",
    "temperature_graph = px.line(weather_climate_data, x=\"attndDate\", y=[\"dlTemp (C)\",\"dhTemp (C)\"], title='Daily High & Daily Lower Temperature Variation')\n",
    "temperature_graph.update_xaxes(title_text='Date')\n",
    "temperature_graph.update_yaxes(title_text='Temperature (C)')\n",
    "temperature_graph.update_layout(legend_title_text='Temperature')\n",
    "temperature_graph.for_each_trace(lambda t: t.update(name=t.name.replace(\"dhTemp (C)\", \"Daily High Temperature\")))\n",
    "temperature_graph.for_each_trace(lambda t: t.update(name=t.name.replace(\"dlTemp (C)\", \"Daily Lower Temperature\")))\n",
    "temperature_graph.update_layout(template='plotly_dark')\n",
    "temperature_graph.show()\n",
    "\n",
    "#Save the graph as a html file\n",
    "temperature_graph.write_html(os.path.join(assests_dir, 'temperature_graph.html'))\n",
    "\n",
    "#get the html for the temperature_graph\n",
    "temperature_graph_html = temperature_graph.to_html()\n",
    "\n",
    "#path\n",
    "temperature_graph_path = os.path.join(assests_dir, 'temperature_graph.html')"
   ]
  },
  {
   "cell_type": "code",
   "execution_count": 54,
   "metadata": {},
   "outputs": [
    {
     "data": {
      "application/vnd.plotly.v1+json": {
       "config": {
        "plotlyServerURL": "https://plot.ly"
       },
       "data": [
        {
         "alignmentgroup": "True",
         "hovertemplate": "attndDate=%{x}<br>precipitation (mm)=%{y}<extra></extra>",
         "legendgroup": "",
         "marker": {
          "color": "#636efa",
          "pattern": {
           "shape": ""
          }
         },
         "name": "",
         "offsetgroup": "",
         "orientation": "v",
         "showlegend": false,
         "textposition": "auto",
         "type": "bar",
         "x": [
          "2023-11-17T00:00:00",
          "2023-11-18T00:00:00",
          "2023-11-19T00:00:00",
          "2023-11-20T00:00:00",
          "2023-11-21T00:00:00"
         ],
         "xaxis": "x",
         "y": [
          4.3,
          6.7,
          4.1,
          2.7,
          5.6
         ],
         "yaxis": "y"
        }
       ],
       "layout": {
        "barmode": "relative",
        "legend": {
         "tracegroupgap": 0
        },
        "template": {
         "data": {
          "bar": [
           {
            "error_x": {
             "color": "#f2f5fa"
            },
            "error_y": {
             "color": "#f2f5fa"
            },
            "marker": {
             "line": {
              "color": "rgb(17,17,17)",
              "width": 0.5
             },
             "pattern": {
              "fillmode": "overlay",
              "size": 10,
              "solidity": 0.2
             }
            },
            "type": "bar"
           }
          ],
          "barpolar": [
           {
            "marker": {
             "line": {
              "color": "rgb(17,17,17)",
              "width": 0.5
             },
             "pattern": {
              "fillmode": "overlay",
              "size": 10,
              "solidity": 0.2
             }
            },
            "type": "barpolar"
           }
          ],
          "carpet": [
           {
            "aaxis": {
             "endlinecolor": "#A2B1C6",
             "gridcolor": "#506784",
             "linecolor": "#506784",
             "minorgridcolor": "#506784",
             "startlinecolor": "#A2B1C6"
            },
            "baxis": {
             "endlinecolor": "#A2B1C6",
             "gridcolor": "#506784",
             "linecolor": "#506784",
             "minorgridcolor": "#506784",
             "startlinecolor": "#A2B1C6"
            },
            "type": "carpet"
           }
          ],
          "choropleth": [
           {
            "colorbar": {
             "outlinewidth": 0,
             "ticks": ""
            },
            "type": "choropleth"
           }
          ],
          "contour": [
           {
            "colorbar": {
             "outlinewidth": 0,
             "ticks": ""
            },
            "colorscale": [
             [
              0,
              "#0d0887"
             ],
             [
              0.1111111111111111,
              "#46039f"
             ],
             [
              0.2222222222222222,
              "#7201a8"
             ],
             [
              0.3333333333333333,
              "#9c179e"
             ],
             [
              0.4444444444444444,
              "#bd3786"
             ],
             [
              0.5555555555555556,
              "#d8576b"
             ],
             [
              0.6666666666666666,
              "#ed7953"
             ],
             [
              0.7777777777777778,
              "#fb9f3a"
             ],
             [
              0.8888888888888888,
              "#fdca26"
             ],
             [
              1,
              "#f0f921"
             ]
            ],
            "type": "contour"
           }
          ],
          "contourcarpet": [
           {
            "colorbar": {
             "outlinewidth": 0,
             "ticks": ""
            },
            "type": "contourcarpet"
           }
          ],
          "heatmap": [
           {
            "colorbar": {
             "outlinewidth": 0,
             "ticks": ""
            },
            "colorscale": [
             [
              0,
              "#0d0887"
             ],
             [
              0.1111111111111111,
              "#46039f"
             ],
             [
              0.2222222222222222,
              "#7201a8"
             ],
             [
              0.3333333333333333,
              "#9c179e"
             ],
             [
              0.4444444444444444,
              "#bd3786"
             ],
             [
              0.5555555555555556,
              "#d8576b"
             ],
             [
              0.6666666666666666,
              "#ed7953"
             ],
             [
              0.7777777777777778,
              "#fb9f3a"
             ],
             [
              0.8888888888888888,
              "#fdca26"
             ],
             [
              1,
              "#f0f921"
             ]
            ],
            "type": "heatmap"
           }
          ],
          "heatmapgl": [
           {
            "colorbar": {
             "outlinewidth": 0,
             "ticks": ""
            },
            "colorscale": [
             [
              0,
              "#0d0887"
             ],
             [
              0.1111111111111111,
              "#46039f"
             ],
             [
              0.2222222222222222,
              "#7201a8"
             ],
             [
              0.3333333333333333,
              "#9c179e"
             ],
             [
              0.4444444444444444,
              "#bd3786"
             ],
             [
              0.5555555555555556,
              "#d8576b"
             ],
             [
              0.6666666666666666,
              "#ed7953"
             ],
             [
              0.7777777777777778,
              "#fb9f3a"
             ],
             [
              0.8888888888888888,
              "#fdca26"
             ],
             [
              1,
              "#f0f921"
             ]
            ],
            "type": "heatmapgl"
           }
          ],
          "histogram": [
           {
            "marker": {
             "pattern": {
              "fillmode": "overlay",
              "size": 10,
              "solidity": 0.2
             }
            },
            "type": "histogram"
           }
          ],
          "histogram2d": [
           {
            "colorbar": {
             "outlinewidth": 0,
             "ticks": ""
            },
            "colorscale": [
             [
              0,
              "#0d0887"
             ],
             [
              0.1111111111111111,
              "#46039f"
             ],
             [
              0.2222222222222222,
              "#7201a8"
             ],
             [
              0.3333333333333333,
              "#9c179e"
             ],
             [
              0.4444444444444444,
              "#bd3786"
             ],
             [
              0.5555555555555556,
              "#d8576b"
             ],
             [
              0.6666666666666666,
              "#ed7953"
             ],
             [
              0.7777777777777778,
              "#fb9f3a"
             ],
             [
              0.8888888888888888,
              "#fdca26"
             ],
             [
              1,
              "#f0f921"
             ]
            ],
            "type": "histogram2d"
           }
          ],
          "histogram2dcontour": [
           {
            "colorbar": {
             "outlinewidth": 0,
             "ticks": ""
            },
            "colorscale": [
             [
              0,
              "#0d0887"
             ],
             [
              0.1111111111111111,
              "#46039f"
             ],
             [
              0.2222222222222222,
              "#7201a8"
             ],
             [
              0.3333333333333333,
              "#9c179e"
             ],
             [
              0.4444444444444444,
              "#bd3786"
             ],
             [
              0.5555555555555556,
              "#d8576b"
             ],
             [
              0.6666666666666666,
              "#ed7953"
             ],
             [
              0.7777777777777778,
              "#fb9f3a"
             ],
             [
              0.8888888888888888,
              "#fdca26"
             ],
             [
              1,
              "#f0f921"
             ]
            ],
            "type": "histogram2dcontour"
           }
          ],
          "mesh3d": [
           {
            "colorbar": {
             "outlinewidth": 0,
             "ticks": ""
            },
            "type": "mesh3d"
           }
          ],
          "parcoords": [
           {
            "line": {
             "colorbar": {
              "outlinewidth": 0,
              "ticks": ""
             }
            },
            "type": "parcoords"
           }
          ],
          "pie": [
           {
            "automargin": true,
            "type": "pie"
           }
          ],
          "scatter": [
           {
            "marker": {
             "line": {
              "color": "#283442"
             }
            },
            "type": "scatter"
           }
          ],
          "scatter3d": [
           {
            "line": {
             "colorbar": {
              "outlinewidth": 0,
              "ticks": ""
             }
            },
            "marker": {
             "colorbar": {
              "outlinewidth": 0,
              "ticks": ""
             }
            },
            "type": "scatter3d"
           }
          ],
          "scattercarpet": [
           {
            "marker": {
             "colorbar": {
              "outlinewidth": 0,
              "ticks": ""
             }
            },
            "type": "scattercarpet"
           }
          ],
          "scattergeo": [
           {
            "marker": {
             "colorbar": {
              "outlinewidth": 0,
              "ticks": ""
             }
            },
            "type": "scattergeo"
           }
          ],
          "scattergl": [
           {
            "marker": {
             "line": {
              "color": "#283442"
             }
            },
            "type": "scattergl"
           }
          ],
          "scattermapbox": [
           {
            "marker": {
             "colorbar": {
              "outlinewidth": 0,
              "ticks": ""
             }
            },
            "type": "scattermapbox"
           }
          ],
          "scatterpolar": [
           {
            "marker": {
             "colorbar": {
              "outlinewidth": 0,
              "ticks": ""
             }
            },
            "type": "scatterpolar"
           }
          ],
          "scatterpolargl": [
           {
            "marker": {
             "colorbar": {
              "outlinewidth": 0,
              "ticks": ""
             }
            },
            "type": "scatterpolargl"
           }
          ],
          "scatterternary": [
           {
            "marker": {
             "colorbar": {
              "outlinewidth": 0,
              "ticks": ""
             }
            },
            "type": "scatterternary"
           }
          ],
          "surface": [
           {
            "colorbar": {
             "outlinewidth": 0,
             "ticks": ""
            },
            "colorscale": [
             [
              0,
              "#0d0887"
             ],
             [
              0.1111111111111111,
              "#46039f"
             ],
             [
              0.2222222222222222,
              "#7201a8"
             ],
             [
              0.3333333333333333,
              "#9c179e"
             ],
             [
              0.4444444444444444,
              "#bd3786"
             ],
             [
              0.5555555555555556,
              "#d8576b"
             ],
             [
              0.6666666666666666,
              "#ed7953"
             ],
             [
              0.7777777777777778,
              "#fb9f3a"
             ],
             [
              0.8888888888888888,
              "#fdca26"
             ],
             [
              1,
              "#f0f921"
             ]
            ],
            "type": "surface"
           }
          ],
          "table": [
           {
            "cells": {
             "fill": {
              "color": "#506784"
             },
             "line": {
              "color": "rgb(17,17,17)"
             }
            },
            "header": {
             "fill": {
              "color": "#2a3f5f"
             },
             "line": {
              "color": "rgb(17,17,17)"
             }
            },
            "type": "table"
           }
          ]
         },
         "layout": {
          "annotationdefaults": {
           "arrowcolor": "#f2f5fa",
           "arrowhead": 0,
           "arrowwidth": 1
          },
          "autotypenumbers": "strict",
          "coloraxis": {
           "colorbar": {
            "outlinewidth": 0,
            "ticks": ""
           }
          },
          "colorscale": {
           "diverging": [
            [
             0,
             "#8e0152"
            ],
            [
             0.1,
             "#c51b7d"
            ],
            [
             0.2,
             "#de77ae"
            ],
            [
             0.3,
             "#f1b6da"
            ],
            [
             0.4,
             "#fde0ef"
            ],
            [
             0.5,
             "#f7f7f7"
            ],
            [
             0.6,
             "#e6f5d0"
            ],
            [
             0.7,
             "#b8e186"
            ],
            [
             0.8,
             "#7fbc41"
            ],
            [
             0.9,
             "#4d9221"
            ],
            [
             1,
             "#276419"
            ]
           ],
           "sequential": [
            [
             0,
             "#0d0887"
            ],
            [
             0.1111111111111111,
             "#46039f"
            ],
            [
             0.2222222222222222,
             "#7201a8"
            ],
            [
             0.3333333333333333,
             "#9c179e"
            ],
            [
             0.4444444444444444,
             "#bd3786"
            ],
            [
             0.5555555555555556,
             "#d8576b"
            ],
            [
             0.6666666666666666,
             "#ed7953"
            ],
            [
             0.7777777777777778,
             "#fb9f3a"
            ],
            [
             0.8888888888888888,
             "#fdca26"
            ],
            [
             1,
             "#f0f921"
            ]
           ],
           "sequentialminus": [
            [
             0,
             "#0d0887"
            ],
            [
             0.1111111111111111,
             "#46039f"
            ],
            [
             0.2222222222222222,
             "#7201a8"
            ],
            [
             0.3333333333333333,
             "#9c179e"
            ],
            [
             0.4444444444444444,
             "#bd3786"
            ],
            [
             0.5555555555555556,
             "#d8576b"
            ],
            [
             0.6666666666666666,
             "#ed7953"
            ],
            [
             0.7777777777777778,
             "#fb9f3a"
            ],
            [
             0.8888888888888888,
             "#fdca26"
            ],
            [
             1,
             "#f0f921"
            ]
           ]
          },
          "colorway": [
           "#636efa",
           "#EF553B",
           "#00cc96",
           "#ab63fa",
           "#FFA15A",
           "#19d3f3",
           "#FF6692",
           "#B6E880",
           "#FF97FF",
           "#FECB52"
          ],
          "font": {
           "color": "#f2f5fa"
          },
          "geo": {
           "bgcolor": "rgb(17,17,17)",
           "lakecolor": "rgb(17,17,17)",
           "landcolor": "rgb(17,17,17)",
           "showlakes": true,
           "showland": true,
           "subunitcolor": "#506784"
          },
          "hoverlabel": {
           "align": "left"
          },
          "hovermode": "closest",
          "mapbox": {
           "style": "dark"
          },
          "paper_bgcolor": "rgb(17,17,17)",
          "plot_bgcolor": "rgb(17,17,17)",
          "polar": {
           "angularaxis": {
            "gridcolor": "#506784",
            "linecolor": "#506784",
            "ticks": ""
           },
           "bgcolor": "rgb(17,17,17)",
           "radialaxis": {
            "gridcolor": "#506784",
            "linecolor": "#506784",
            "ticks": ""
           }
          },
          "scene": {
           "xaxis": {
            "backgroundcolor": "rgb(17,17,17)",
            "gridcolor": "#506784",
            "gridwidth": 2,
            "linecolor": "#506784",
            "showbackground": true,
            "ticks": "",
            "zerolinecolor": "#C8D4E3"
           },
           "yaxis": {
            "backgroundcolor": "rgb(17,17,17)",
            "gridcolor": "#506784",
            "gridwidth": 2,
            "linecolor": "#506784",
            "showbackground": true,
            "ticks": "",
            "zerolinecolor": "#C8D4E3"
           },
           "zaxis": {
            "backgroundcolor": "rgb(17,17,17)",
            "gridcolor": "#506784",
            "gridwidth": 2,
            "linecolor": "#506784",
            "showbackground": true,
            "ticks": "",
            "zerolinecolor": "#C8D4E3"
           }
          },
          "shapedefaults": {
           "line": {
            "color": "#f2f5fa"
           }
          },
          "sliderdefaults": {
           "bgcolor": "#C8D4E3",
           "bordercolor": "rgb(17,17,17)",
           "borderwidth": 1,
           "tickwidth": 0
          },
          "ternary": {
           "aaxis": {
            "gridcolor": "#506784",
            "linecolor": "#506784",
            "ticks": ""
           },
           "baxis": {
            "gridcolor": "#506784",
            "linecolor": "#506784",
            "ticks": ""
           },
           "bgcolor": "rgb(17,17,17)",
           "caxis": {
            "gridcolor": "#506784",
            "linecolor": "#506784",
            "ticks": ""
           }
          },
          "title": {
           "x": 0.05
          },
          "updatemenudefaults": {
           "bgcolor": "#506784",
           "borderwidth": 0
          },
          "xaxis": {
           "automargin": true,
           "gridcolor": "#283442",
           "linecolor": "#506784",
           "ticks": "",
           "title": {
            "standoff": 15
           },
           "zerolinecolor": "#283442",
           "zerolinewidth": 2
          },
          "yaxis": {
           "automargin": true,
           "gridcolor": "#283442",
           "linecolor": "#506784",
           "ticks": "",
           "title": {
            "standoff": 15
           },
           "zerolinecolor": "#283442",
           "zerolinewidth": 2
          }
         }
        },
        "title": {
         "text": "Daily Precipitation Variation"
        },
        "xaxis": {
         "anchor": "y",
         "domain": [
          0,
          1
         ],
         "title": {
          "text": "Date"
         }
        },
        "yaxis": {
         "anchor": "x",
         "domain": [
          0,
          1
         ],
         "title": {
          "text": "Precipitation (mm)"
         }
        }
       }
      }
     },
     "metadata": {},
     "output_type": "display_data"
    }
   ],
   "source": [
    "# Daily Precipitation Variation\n",
    "precipitation_graph = px.bar(weather_climate_data, x=\"attndDate\", y=\"precipitation (mm)\", title='Daily Precipitation Variation')\n",
    "precipitation_graph.update_xaxes(title_text='Date')\n",
    "precipitation_graph.update_yaxes(title_text='Precipitation (mm)')\n",
    "precipitation_graph.update_layout(template='plotly_dark')\n",
    "precipitation_graph.show()\n",
    "\n",
    "#Save the graph as a html file\n",
    "precipitation_graph.write_html(os.path.join(assests_dir, 'precipitation_graph.html'))\n",
    "\n",
    "#get the html for the precipitation_graph\n",
    "precipitation_graph_html = precipitation_graph.to_html(full_html=False, include_plotlyjs='cdn')\n",
    "\n",
    "#path\n",
    "precipitation_graph_path = os.path.join(assests_dir, 'precipitation_graph.html')"
   ]
  },
  {
   "cell_type": "code",
   "execution_count": 55,
   "metadata": {},
   "outputs": [
    {
     "data": {
      "application/vnd.plotly.v1+json": {
       "config": {
        "plotlyServerURL": "https://plot.ly"
       },
       "data": [
        {
         "hovertemplate": "attndDate=%{x}<br>humidity=%{y}<extra></extra>",
         "legendgroup": "",
         "line": {
          "color": "green",
          "dash": "solid"
         },
         "marker": {
          "symbol": "circle"
         },
         "mode": "lines",
         "name": "",
         "orientation": "v",
         "showlegend": false,
         "type": "scatter",
         "x": [
          "2023-11-17T00:00:00",
          "2023-11-18T00:00:00",
          "2023-11-19T00:00:00",
          "2023-11-20T00:00:00",
          "2023-11-21T00:00:00"
         ],
         "xaxis": "x",
         "y": [
          0.8684,
          0.8834,
          0.8937,
          0.8805,
          0.8893
         ],
         "yaxis": "y"
        }
       ],
       "layout": {
        "legend": {
         "tracegroupgap": 0
        },
        "template": {
         "data": {
          "bar": [
           {
            "error_x": {
             "color": "#f2f5fa"
            },
            "error_y": {
             "color": "#f2f5fa"
            },
            "marker": {
             "line": {
              "color": "rgb(17,17,17)",
              "width": 0.5
             },
             "pattern": {
              "fillmode": "overlay",
              "size": 10,
              "solidity": 0.2
             }
            },
            "type": "bar"
           }
          ],
          "barpolar": [
           {
            "marker": {
             "line": {
              "color": "rgb(17,17,17)",
              "width": 0.5
             },
             "pattern": {
              "fillmode": "overlay",
              "size": 10,
              "solidity": 0.2
             }
            },
            "type": "barpolar"
           }
          ],
          "carpet": [
           {
            "aaxis": {
             "endlinecolor": "#A2B1C6",
             "gridcolor": "#506784",
             "linecolor": "#506784",
             "minorgridcolor": "#506784",
             "startlinecolor": "#A2B1C6"
            },
            "baxis": {
             "endlinecolor": "#A2B1C6",
             "gridcolor": "#506784",
             "linecolor": "#506784",
             "minorgridcolor": "#506784",
             "startlinecolor": "#A2B1C6"
            },
            "type": "carpet"
           }
          ],
          "choropleth": [
           {
            "colorbar": {
             "outlinewidth": 0,
             "ticks": ""
            },
            "type": "choropleth"
           }
          ],
          "contour": [
           {
            "colorbar": {
             "outlinewidth": 0,
             "ticks": ""
            },
            "colorscale": [
             [
              0,
              "#0d0887"
             ],
             [
              0.1111111111111111,
              "#46039f"
             ],
             [
              0.2222222222222222,
              "#7201a8"
             ],
             [
              0.3333333333333333,
              "#9c179e"
             ],
             [
              0.4444444444444444,
              "#bd3786"
             ],
             [
              0.5555555555555556,
              "#d8576b"
             ],
             [
              0.6666666666666666,
              "#ed7953"
             ],
             [
              0.7777777777777778,
              "#fb9f3a"
             ],
             [
              0.8888888888888888,
              "#fdca26"
             ],
             [
              1,
              "#f0f921"
             ]
            ],
            "type": "contour"
           }
          ],
          "contourcarpet": [
           {
            "colorbar": {
             "outlinewidth": 0,
             "ticks": ""
            },
            "type": "contourcarpet"
           }
          ],
          "heatmap": [
           {
            "colorbar": {
             "outlinewidth": 0,
             "ticks": ""
            },
            "colorscale": [
             [
              0,
              "#0d0887"
             ],
             [
              0.1111111111111111,
              "#46039f"
             ],
             [
              0.2222222222222222,
              "#7201a8"
             ],
             [
              0.3333333333333333,
              "#9c179e"
             ],
             [
              0.4444444444444444,
              "#bd3786"
             ],
             [
              0.5555555555555556,
              "#d8576b"
             ],
             [
              0.6666666666666666,
              "#ed7953"
             ],
             [
              0.7777777777777778,
              "#fb9f3a"
             ],
             [
              0.8888888888888888,
              "#fdca26"
             ],
             [
              1,
              "#f0f921"
             ]
            ],
            "type": "heatmap"
           }
          ],
          "heatmapgl": [
           {
            "colorbar": {
             "outlinewidth": 0,
             "ticks": ""
            },
            "colorscale": [
             [
              0,
              "#0d0887"
             ],
             [
              0.1111111111111111,
              "#46039f"
             ],
             [
              0.2222222222222222,
              "#7201a8"
             ],
             [
              0.3333333333333333,
              "#9c179e"
             ],
             [
              0.4444444444444444,
              "#bd3786"
             ],
             [
              0.5555555555555556,
              "#d8576b"
             ],
             [
              0.6666666666666666,
              "#ed7953"
             ],
             [
              0.7777777777777778,
              "#fb9f3a"
             ],
             [
              0.8888888888888888,
              "#fdca26"
             ],
             [
              1,
              "#f0f921"
             ]
            ],
            "type": "heatmapgl"
           }
          ],
          "histogram": [
           {
            "marker": {
             "pattern": {
              "fillmode": "overlay",
              "size": 10,
              "solidity": 0.2
             }
            },
            "type": "histogram"
           }
          ],
          "histogram2d": [
           {
            "colorbar": {
             "outlinewidth": 0,
             "ticks": ""
            },
            "colorscale": [
             [
              0,
              "#0d0887"
             ],
             [
              0.1111111111111111,
              "#46039f"
             ],
             [
              0.2222222222222222,
              "#7201a8"
             ],
             [
              0.3333333333333333,
              "#9c179e"
             ],
             [
              0.4444444444444444,
              "#bd3786"
             ],
             [
              0.5555555555555556,
              "#d8576b"
             ],
             [
              0.6666666666666666,
              "#ed7953"
             ],
             [
              0.7777777777777778,
              "#fb9f3a"
             ],
             [
              0.8888888888888888,
              "#fdca26"
             ],
             [
              1,
              "#f0f921"
             ]
            ],
            "type": "histogram2d"
           }
          ],
          "histogram2dcontour": [
           {
            "colorbar": {
             "outlinewidth": 0,
             "ticks": ""
            },
            "colorscale": [
             [
              0,
              "#0d0887"
             ],
             [
              0.1111111111111111,
              "#46039f"
             ],
             [
              0.2222222222222222,
              "#7201a8"
             ],
             [
              0.3333333333333333,
              "#9c179e"
             ],
             [
              0.4444444444444444,
              "#bd3786"
             ],
             [
              0.5555555555555556,
              "#d8576b"
             ],
             [
              0.6666666666666666,
              "#ed7953"
             ],
             [
              0.7777777777777778,
              "#fb9f3a"
             ],
             [
              0.8888888888888888,
              "#fdca26"
             ],
             [
              1,
              "#f0f921"
             ]
            ],
            "type": "histogram2dcontour"
           }
          ],
          "mesh3d": [
           {
            "colorbar": {
             "outlinewidth": 0,
             "ticks": ""
            },
            "type": "mesh3d"
           }
          ],
          "parcoords": [
           {
            "line": {
             "colorbar": {
              "outlinewidth": 0,
              "ticks": ""
             }
            },
            "type": "parcoords"
           }
          ],
          "pie": [
           {
            "automargin": true,
            "type": "pie"
           }
          ],
          "scatter": [
           {
            "marker": {
             "line": {
              "color": "#283442"
             }
            },
            "type": "scatter"
           }
          ],
          "scatter3d": [
           {
            "line": {
             "colorbar": {
              "outlinewidth": 0,
              "ticks": ""
             }
            },
            "marker": {
             "colorbar": {
              "outlinewidth": 0,
              "ticks": ""
             }
            },
            "type": "scatter3d"
           }
          ],
          "scattercarpet": [
           {
            "marker": {
             "colorbar": {
              "outlinewidth": 0,
              "ticks": ""
             }
            },
            "type": "scattercarpet"
           }
          ],
          "scattergeo": [
           {
            "marker": {
             "colorbar": {
              "outlinewidth": 0,
              "ticks": ""
             }
            },
            "type": "scattergeo"
           }
          ],
          "scattergl": [
           {
            "marker": {
             "line": {
              "color": "#283442"
             }
            },
            "type": "scattergl"
           }
          ],
          "scattermapbox": [
           {
            "marker": {
             "colorbar": {
              "outlinewidth": 0,
              "ticks": ""
             }
            },
            "type": "scattermapbox"
           }
          ],
          "scatterpolar": [
           {
            "marker": {
             "colorbar": {
              "outlinewidth": 0,
              "ticks": ""
             }
            },
            "type": "scatterpolar"
           }
          ],
          "scatterpolargl": [
           {
            "marker": {
             "colorbar": {
              "outlinewidth": 0,
              "ticks": ""
             }
            },
            "type": "scatterpolargl"
           }
          ],
          "scatterternary": [
           {
            "marker": {
             "colorbar": {
              "outlinewidth": 0,
              "ticks": ""
             }
            },
            "type": "scatterternary"
           }
          ],
          "surface": [
           {
            "colorbar": {
             "outlinewidth": 0,
             "ticks": ""
            },
            "colorscale": [
             [
              0,
              "#0d0887"
             ],
             [
              0.1111111111111111,
              "#46039f"
             ],
             [
              0.2222222222222222,
              "#7201a8"
             ],
             [
              0.3333333333333333,
              "#9c179e"
             ],
             [
              0.4444444444444444,
              "#bd3786"
             ],
             [
              0.5555555555555556,
              "#d8576b"
             ],
             [
              0.6666666666666666,
              "#ed7953"
             ],
             [
              0.7777777777777778,
              "#fb9f3a"
             ],
             [
              0.8888888888888888,
              "#fdca26"
             ],
             [
              1,
              "#f0f921"
             ]
            ],
            "type": "surface"
           }
          ],
          "table": [
           {
            "cells": {
             "fill": {
              "color": "#506784"
             },
             "line": {
              "color": "rgb(17,17,17)"
             }
            },
            "header": {
             "fill": {
              "color": "#2a3f5f"
             },
             "line": {
              "color": "rgb(17,17,17)"
             }
            },
            "type": "table"
           }
          ]
         },
         "layout": {
          "annotationdefaults": {
           "arrowcolor": "#f2f5fa",
           "arrowhead": 0,
           "arrowwidth": 1
          },
          "autotypenumbers": "strict",
          "coloraxis": {
           "colorbar": {
            "outlinewidth": 0,
            "ticks": ""
           }
          },
          "colorscale": {
           "diverging": [
            [
             0,
             "#8e0152"
            ],
            [
             0.1,
             "#c51b7d"
            ],
            [
             0.2,
             "#de77ae"
            ],
            [
             0.3,
             "#f1b6da"
            ],
            [
             0.4,
             "#fde0ef"
            ],
            [
             0.5,
             "#f7f7f7"
            ],
            [
             0.6,
             "#e6f5d0"
            ],
            [
             0.7,
             "#b8e186"
            ],
            [
             0.8,
             "#7fbc41"
            ],
            [
             0.9,
             "#4d9221"
            ],
            [
             1,
             "#276419"
            ]
           ],
           "sequential": [
            [
             0,
             "#0d0887"
            ],
            [
             0.1111111111111111,
             "#46039f"
            ],
            [
             0.2222222222222222,
             "#7201a8"
            ],
            [
             0.3333333333333333,
             "#9c179e"
            ],
            [
             0.4444444444444444,
             "#bd3786"
            ],
            [
             0.5555555555555556,
             "#d8576b"
            ],
            [
             0.6666666666666666,
             "#ed7953"
            ],
            [
             0.7777777777777778,
             "#fb9f3a"
            ],
            [
             0.8888888888888888,
             "#fdca26"
            ],
            [
             1,
             "#f0f921"
            ]
           ],
           "sequentialminus": [
            [
             0,
             "#0d0887"
            ],
            [
             0.1111111111111111,
             "#46039f"
            ],
            [
             0.2222222222222222,
             "#7201a8"
            ],
            [
             0.3333333333333333,
             "#9c179e"
            ],
            [
             0.4444444444444444,
             "#bd3786"
            ],
            [
             0.5555555555555556,
             "#d8576b"
            ],
            [
             0.6666666666666666,
             "#ed7953"
            ],
            [
             0.7777777777777778,
             "#fb9f3a"
            ],
            [
             0.8888888888888888,
             "#fdca26"
            ],
            [
             1,
             "#f0f921"
            ]
           ]
          },
          "colorway": [
           "#636efa",
           "#EF553B",
           "#00cc96",
           "#ab63fa",
           "#FFA15A",
           "#19d3f3",
           "#FF6692",
           "#B6E880",
           "#FF97FF",
           "#FECB52"
          ],
          "font": {
           "color": "#f2f5fa"
          },
          "geo": {
           "bgcolor": "rgb(17,17,17)",
           "lakecolor": "rgb(17,17,17)",
           "landcolor": "rgb(17,17,17)",
           "showlakes": true,
           "showland": true,
           "subunitcolor": "#506784"
          },
          "hoverlabel": {
           "align": "left"
          },
          "hovermode": "closest",
          "mapbox": {
           "style": "dark"
          },
          "paper_bgcolor": "rgb(17,17,17)",
          "plot_bgcolor": "rgb(17,17,17)",
          "polar": {
           "angularaxis": {
            "gridcolor": "#506784",
            "linecolor": "#506784",
            "ticks": ""
           },
           "bgcolor": "rgb(17,17,17)",
           "radialaxis": {
            "gridcolor": "#506784",
            "linecolor": "#506784",
            "ticks": ""
           }
          },
          "scene": {
           "xaxis": {
            "backgroundcolor": "rgb(17,17,17)",
            "gridcolor": "#506784",
            "gridwidth": 2,
            "linecolor": "#506784",
            "showbackground": true,
            "ticks": "",
            "zerolinecolor": "#C8D4E3"
           },
           "yaxis": {
            "backgroundcolor": "rgb(17,17,17)",
            "gridcolor": "#506784",
            "gridwidth": 2,
            "linecolor": "#506784",
            "showbackground": true,
            "ticks": "",
            "zerolinecolor": "#C8D4E3"
           },
           "zaxis": {
            "backgroundcolor": "rgb(17,17,17)",
            "gridcolor": "#506784",
            "gridwidth": 2,
            "linecolor": "#506784",
            "showbackground": true,
            "ticks": "",
            "zerolinecolor": "#C8D4E3"
           }
          },
          "shapedefaults": {
           "line": {
            "color": "#f2f5fa"
           }
          },
          "sliderdefaults": {
           "bgcolor": "#C8D4E3",
           "bordercolor": "rgb(17,17,17)",
           "borderwidth": 1,
           "tickwidth": 0
          },
          "ternary": {
           "aaxis": {
            "gridcolor": "#506784",
            "linecolor": "#506784",
            "ticks": ""
           },
           "baxis": {
            "gridcolor": "#506784",
            "linecolor": "#506784",
            "ticks": ""
           },
           "bgcolor": "rgb(17,17,17)",
           "caxis": {
            "gridcolor": "#506784",
            "linecolor": "#506784",
            "ticks": ""
           }
          },
          "title": {
           "x": 0.05
          },
          "updatemenudefaults": {
           "bgcolor": "#506784",
           "borderwidth": 0
          },
          "xaxis": {
           "automargin": true,
           "gridcolor": "#283442",
           "linecolor": "#506784",
           "ticks": "",
           "title": {
            "standoff": 15
           },
           "zerolinecolor": "#283442",
           "zerolinewidth": 2
          },
          "yaxis": {
           "automargin": true,
           "gridcolor": "#283442",
           "linecolor": "#506784",
           "ticks": "",
           "title": {
            "standoff": 15
           },
           "zerolinecolor": "#283442",
           "zerolinewidth": 2
          }
         }
        },
        "title": {
         "text": "Daily Humidity Variation"
        },
        "xaxis": {
         "anchor": "y",
         "domain": [
          0,
          1
         ],
         "title": {
          "text": "Date"
         }
        },
        "yaxis": {
         "anchor": "x",
         "domain": [
          0,
          1
         ],
         "title": {
          "text": "Humidity"
         }
        }
       }
      }
     },
     "metadata": {},
     "output_type": "display_data"
    }
   ],
   "source": [
    "#Daily Humidity Variation\n",
    "humidity_graph = px.line(weather_climate_data, x=\"attndDate\", y=\"humidity\", title='Daily Humidity Variation')\n",
    "humidity_graph.update_traces(line_color='green')\n",
    "humidity_graph.update_xaxes(title_text='Date')\n",
    "humidity_graph.update_yaxes(title_text='Humidity')\n",
    "humidity_graph.update_layout(template='plotly_dark')\n",
    "humidity_graph.show()\n",
    "\n",
    "#Save the graph as a html file\n",
    "humidity_graph.write_html(os.path.join(assests_dir, 'humidity_graph.html'))\n",
    "\n",
    "#get the html to humidity_graph\n",
    "humidity_graph_html = humidity_graph.to_html()\n",
    "\n",
    "#path\n",
    "humidity_graph_path = os.path.join(assests_dir, 'humidity_graph.html')"
   ]
  },
  {
   "cell_type": "code",
   "execution_count": 56,
   "metadata": {},
   "outputs": [
    {
     "data": {
      "application/vnd.plotly.v1+json": {
       "config": {
        "plotlyServerURL": "https://plot.ly"
       },
       "data": [
        {
         "hovertemplate": "attndDate=%{x}<br>wind (km/h)=%{y}<extra></extra>",
         "legendgroup": "",
         "line": {
          "color": "orange",
          "dash": "solid"
         },
         "marker": {
          "symbol": "circle"
         },
         "mode": "lines",
         "name": "",
         "orientation": "v",
         "showlegend": false,
         "type": "scatter",
         "x": [
          "2023-11-17T00:00:00",
          "2023-11-18T00:00:00",
          "2023-11-19T00:00:00",
          "2023-11-20T00:00:00",
          "2023-11-21T00:00:00"
         ],
         "xaxis": "x",
         "y": [
          5.3,
          6.3,
          6.9,
          5,
          6.3
         ],
         "yaxis": "y"
        }
       ],
       "layout": {
        "legend": {
         "tracegroupgap": 0
        },
        "template": {
         "data": {
          "bar": [
           {
            "error_x": {
             "color": "#f2f5fa"
            },
            "error_y": {
             "color": "#f2f5fa"
            },
            "marker": {
             "line": {
              "color": "rgb(17,17,17)",
              "width": 0.5
             },
             "pattern": {
              "fillmode": "overlay",
              "size": 10,
              "solidity": 0.2
             }
            },
            "type": "bar"
           }
          ],
          "barpolar": [
           {
            "marker": {
             "line": {
              "color": "rgb(17,17,17)",
              "width": 0.5
             },
             "pattern": {
              "fillmode": "overlay",
              "size": 10,
              "solidity": 0.2
             }
            },
            "type": "barpolar"
           }
          ],
          "carpet": [
           {
            "aaxis": {
             "endlinecolor": "#A2B1C6",
             "gridcolor": "#506784",
             "linecolor": "#506784",
             "minorgridcolor": "#506784",
             "startlinecolor": "#A2B1C6"
            },
            "baxis": {
             "endlinecolor": "#A2B1C6",
             "gridcolor": "#506784",
             "linecolor": "#506784",
             "minorgridcolor": "#506784",
             "startlinecolor": "#A2B1C6"
            },
            "type": "carpet"
           }
          ],
          "choropleth": [
           {
            "colorbar": {
             "outlinewidth": 0,
             "ticks": ""
            },
            "type": "choropleth"
           }
          ],
          "contour": [
           {
            "colorbar": {
             "outlinewidth": 0,
             "ticks": ""
            },
            "colorscale": [
             [
              0,
              "#0d0887"
             ],
             [
              0.1111111111111111,
              "#46039f"
             ],
             [
              0.2222222222222222,
              "#7201a8"
             ],
             [
              0.3333333333333333,
              "#9c179e"
             ],
             [
              0.4444444444444444,
              "#bd3786"
             ],
             [
              0.5555555555555556,
              "#d8576b"
             ],
             [
              0.6666666666666666,
              "#ed7953"
             ],
             [
              0.7777777777777778,
              "#fb9f3a"
             ],
             [
              0.8888888888888888,
              "#fdca26"
             ],
             [
              1,
              "#f0f921"
             ]
            ],
            "type": "contour"
           }
          ],
          "contourcarpet": [
           {
            "colorbar": {
             "outlinewidth": 0,
             "ticks": ""
            },
            "type": "contourcarpet"
           }
          ],
          "heatmap": [
           {
            "colorbar": {
             "outlinewidth": 0,
             "ticks": ""
            },
            "colorscale": [
             [
              0,
              "#0d0887"
             ],
             [
              0.1111111111111111,
              "#46039f"
             ],
             [
              0.2222222222222222,
              "#7201a8"
             ],
             [
              0.3333333333333333,
              "#9c179e"
             ],
             [
              0.4444444444444444,
              "#bd3786"
             ],
             [
              0.5555555555555556,
              "#d8576b"
             ],
             [
              0.6666666666666666,
              "#ed7953"
             ],
             [
              0.7777777777777778,
              "#fb9f3a"
             ],
             [
              0.8888888888888888,
              "#fdca26"
             ],
             [
              1,
              "#f0f921"
             ]
            ],
            "type": "heatmap"
           }
          ],
          "heatmapgl": [
           {
            "colorbar": {
             "outlinewidth": 0,
             "ticks": ""
            },
            "colorscale": [
             [
              0,
              "#0d0887"
             ],
             [
              0.1111111111111111,
              "#46039f"
             ],
             [
              0.2222222222222222,
              "#7201a8"
             ],
             [
              0.3333333333333333,
              "#9c179e"
             ],
             [
              0.4444444444444444,
              "#bd3786"
             ],
             [
              0.5555555555555556,
              "#d8576b"
             ],
             [
              0.6666666666666666,
              "#ed7953"
             ],
             [
              0.7777777777777778,
              "#fb9f3a"
             ],
             [
              0.8888888888888888,
              "#fdca26"
             ],
             [
              1,
              "#f0f921"
             ]
            ],
            "type": "heatmapgl"
           }
          ],
          "histogram": [
           {
            "marker": {
             "pattern": {
              "fillmode": "overlay",
              "size": 10,
              "solidity": 0.2
             }
            },
            "type": "histogram"
           }
          ],
          "histogram2d": [
           {
            "colorbar": {
             "outlinewidth": 0,
             "ticks": ""
            },
            "colorscale": [
             [
              0,
              "#0d0887"
             ],
             [
              0.1111111111111111,
              "#46039f"
             ],
             [
              0.2222222222222222,
              "#7201a8"
             ],
             [
              0.3333333333333333,
              "#9c179e"
             ],
             [
              0.4444444444444444,
              "#bd3786"
             ],
             [
              0.5555555555555556,
              "#d8576b"
             ],
             [
              0.6666666666666666,
              "#ed7953"
             ],
             [
              0.7777777777777778,
              "#fb9f3a"
             ],
             [
              0.8888888888888888,
              "#fdca26"
             ],
             [
              1,
              "#f0f921"
             ]
            ],
            "type": "histogram2d"
           }
          ],
          "histogram2dcontour": [
           {
            "colorbar": {
             "outlinewidth": 0,
             "ticks": ""
            },
            "colorscale": [
             [
              0,
              "#0d0887"
             ],
             [
              0.1111111111111111,
              "#46039f"
             ],
             [
              0.2222222222222222,
              "#7201a8"
             ],
             [
              0.3333333333333333,
              "#9c179e"
             ],
             [
              0.4444444444444444,
              "#bd3786"
             ],
             [
              0.5555555555555556,
              "#d8576b"
             ],
             [
              0.6666666666666666,
              "#ed7953"
             ],
             [
              0.7777777777777778,
              "#fb9f3a"
             ],
             [
              0.8888888888888888,
              "#fdca26"
             ],
             [
              1,
              "#f0f921"
             ]
            ],
            "type": "histogram2dcontour"
           }
          ],
          "mesh3d": [
           {
            "colorbar": {
             "outlinewidth": 0,
             "ticks": ""
            },
            "type": "mesh3d"
           }
          ],
          "parcoords": [
           {
            "line": {
             "colorbar": {
              "outlinewidth": 0,
              "ticks": ""
             }
            },
            "type": "parcoords"
           }
          ],
          "pie": [
           {
            "automargin": true,
            "type": "pie"
           }
          ],
          "scatter": [
           {
            "marker": {
             "line": {
              "color": "#283442"
             }
            },
            "type": "scatter"
           }
          ],
          "scatter3d": [
           {
            "line": {
             "colorbar": {
              "outlinewidth": 0,
              "ticks": ""
             }
            },
            "marker": {
             "colorbar": {
              "outlinewidth": 0,
              "ticks": ""
             }
            },
            "type": "scatter3d"
           }
          ],
          "scattercarpet": [
           {
            "marker": {
             "colorbar": {
              "outlinewidth": 0,
              "ticks": ""
             }
            },
            "type": "scattercarpet"
           }
          ],
          "scattergeo": [
           {
            "marker": {
             "colorbar": {
              "outlinewidth": 0,
              "ticks": ""
             }
            },
            "type": "scattergeo"
           }
          ],
          "scattergl": [
           {
            "marker": {
             "line": {
              "color": "#283442"
             }
            },
            "type": "scattergl"
           }
          ],
          "scattermapbox": [
           {
            "marker": {
             "colorbar": {
              "outlinewidth": 0,
              "ticks": ""
             }
            },
            "type": "scattermapbox"
           }
          ],
          "scatterpolar": [
           {
            "marker": {
             "colorbar": {
              "outlinewidth": 0,
              "ticks": ""
             }
            },
            "type": "scatterpolar"
           }
          ],
          "scatterpolargl": [
           {
            "marker": {
             "colorbar": {
              "outlinewidth": 0,
              "ticks": ""
             }
            },
            "type": "scatterpolargl"
           }
          ],
          "scatterternary": [
           {
            "marker": {
             "colorbar": {
              "outlinewidth": 0,
              "ticks": ""
             }
            },
            "type": "scatterternary"
           }
          ],
          "surface": [
           {
            "colorbar": {
             "outlinewidth": 0,
             "ticks": ""
            },
            "colorscale": [
             [
              0,
              "#0d0887"
             ],
             [
              0.1111111111111111,
              "#46039f"
             ],
             [
              0.2222222222222222,
              "#7201a8"
             ],
             [
              0.3333333333333333,
              "#9c179e"
             ],
             [
              0.4444444444444444,
              "#bd3786"
             ],
             [
              0.5555555555555556,
              "#d8576b"
             ],
             [
              0.6666666666666666,
              "#ed7953"
             ],
             [
              0.7777777777777778,
              "#fb9f3a"
             ],
             [
              0.8888888888888888,
              "#fdca26"
             ],
             [
              1,
              "#f0f921"
             ]
            ],
            "type": "surface"
           }
          ],
          "table": [
           {
            "cells": {
             "fill": {
              "color": "#506784"
             },
             "line": {
              "color": "rgb(17,17,17)"
             }
            },
            "header": {
             "fill": {
              "color": "#2a3f5f"
             },
             "line": {
              "color": "rgb(17,17,17)"
             }
            },
            "type": "table"
           }
          ]
         },
         "layout": {
          "annotationdefaults": {
           "arrowcolor": "#f2f5fa",
           "arrowhead": 0,
           "arrowwidth": 1
          },
          "autotypenumbers": "strict",
          "coloraxis": {
           "colorbar": {
            "outlinewidth": 0,
            "ticks": ""
           }
          },
          "colorscale": {
           "diverging": [
            [
             0,
             "#8e0152"
            ],
            [
             0.1,
             "#c51b7d"
            ],
            [
             0.2,
             "#de77ae"
            ],
            [
             0.3,
             "#f1b6da"
            ],
            [
             0.4,
             "#fde0ef"
            ],
            [
             0.5,
             "#f7f7f7"
            ],
            [
             0.6,
             "#e6f5d0"
            ],
            [
             0.7,
             "#b8e186"
            ],
            [
             0.8,
             "#7fbc41"
            ],
            [
             0.9,
             "#4d9221"
            ],
            [
             1,
             "#276419"
            ]
           ],
           "sequential": [
            [
             0,
             "#0d0887"
            ],
            [
             0.1111111111111111,
             "#46039f"
            ],
            [
             0.2222222222222222,
             "#7201a8"
            ],
            [
             0.3333333333333333,
             "#9c179e"
            ],
            [
             0.4444444444444444,
             "#bd3786"
            ],
            [
             0.5555555555555556,
             "#d8576b"
            ],
            [
             0.6666666666666666,
             "#ed7953"
            ],
            [
             0.7777777777777778,
             "#fb9f3a"
            ],
            [
             0.8888888888888888,
             "#fdca26"
            ],
            [
             1,
             "#f0f921"
            ]
           ],
           "sequentialminus": [
            [
             0,
             "#0d0887"
            ],
            [
             0.1111111111111111,
             "#46039f"
            ],
            [
             0.2222222222222222,
             "#7201a8"
            ],
            [
             0.3333333333333333,
             "#9c179e"
            ],
            [
             0.4444444444444444,
             "#bd3786"
            ],
            [
             0.5555555555555556,
             "#d8576b"
            ],
            [
             0.6666666666666666,
             "#ed7953"
            ],
            [
             0.7777777777777778,
             "#fb9f3a"
            ],
            [
             0.8888888888888888,
             "#fdca26"
            ],
            [
             1,
             "#f0f921"
            ]
           ]
          },
          "colorway": [
           "#636efa",
           "#EF553B",
           "#00cc96",
           "#ab63fa",
           "#FFA15A",
           "#19d3f3",
           "#FF6692",
           "#B6E880",
           "#FF97FF",
           "#FECB52"
          ],
          "font": {
           "color": "#f2f5fa"
          },
          "geo": {
           "bgcolor": "rgb(17,17,17)",
           "lakecolor": "rgb(17,17,17)",
           "landcolor": "rgb(17,17,17)",
           "showlakes": true,
           "showland": true,
           "subunitcolor": "#506784"
          },
          "hoverlabel": {
           "align": "left"
          },
          "hovermode": "closest",
          "mapbox": {
           "style": "dark"
          },
          "paper_bgcolor": "rgb(17,17,17)",
          "plot_bgcolor": "rgb(17,17,17)",
          "polar": {
           "angularaxis": {
            "gridcolor": "#506784",
            "linecolor": "#506784",
            "ticks": ""
           },
           "bgcolor": "rgb(17,17,17)",
           "radialaxis": {
            "gridcolor": "#506784",
            "linecolor": "#506784",
            "ticks": ""
           }
          },
          "scene": {
           "xaxis": {
            "backgroundcolor": "rgb(17,17,17)",
            "gridcolor": "#506784",
            "gridwidth": 2,
            "linecolor": "#506784",
            "showbackground": true,
            "ticks": "",
            "zerolinecolor": "#C8D4E3"
           },
           "yaxis": {
            "backgroundcolor": "rgb(17,17,17)",
            "gridcolor": "#506784",
            "gridwidth": 2,
            "linecolor": "#506784",
            "showbackground": true,
            "ticks": "",
            "zerolinecolor": "#C8D4E3"
           },
           "zaxis": {
            "backgroundcolor": "rgb(17,17,17)",
            "gridcolor": "#506784",
            "gridwidth": 2,
            "linecolor": "#506784",
            "showbackground": true,
            "ticks": "",
            "zerolinecolor": "#C8D4E3"
           }
          },
          "shapedefaults": {
           "line": {
            "color": "#f2f5fa"
           }
          },
          "sliderdefaults": {
           "bgcolor": "#C8D4E3",
           "bordercolor": "rgb(17,17,17)",
           "borderwidth": 1,
           "tickwidth": 0
          },
          "ternary": {
           "aaxis": {
            "gridcolor": "#506784",
            "linecolor": "#506784",
            "ticks": ""
           },
           "baxis": {
            "gridcolor": "#506784",
            "linecolor": "#506784",
            "ticks": ""
           },
           "bgcolor": "rgb(17,17,17)",
           "caxis": {
            "gridcolor": "#506784",
            "linecolor": "#506784",
            "ticks": ""
           }
          },
          "title": {
           "x": 0.05
          },
          "updatemenudefaults": {
           "bgcolor": "#506784",
           "borderwidth": 0
          },
          "xaxis": {
           "automargin": true,
           "gridcolor": "#283442",
           "linecolor": "#506784",
           "ticks": "",
           "title": {
            "standoff": 15
           },
           "zerolinecolor": "#283442",
           "zerolinewidth": 2
          },
          "yaxis": {
           "automargin": true,
           "gridcolor": "#283442",
           "linecolor": "#506784",
           "ticks": "",
           "title": {
            "standoff": 15
           },
           "zerolinecolor": "#283442",
           "zerolinewidth": 2
          }
         }
        },
        "title": {
         "text": "Daily Wind Variation"
        },
        "xaxis": {
         "anchor": "y",
         "domain": [
          0,
          1
         ],
         "title": {
          "text": "Date"
         }
        },
        "yaxis": {
         "anchor": "x",
         "domain": [
          0,
          1
         ],
         "title": {
          "text": "Wind (km/h)"
         }
        }
       }
      }
     },
     "metadata": {},
     "output_type": "display_data"
    }
   ],
   "source": [
    "#Daily Wind Variation\n",
    "wind_graph = px.line(weather_climate_data, x=\"attndDate\", y=\"wind (km/h)\", title='Daily Wind Variation')\n",
    "wind_graph.update_traces(line_color='orange')\n",
    "wind_graph.update_xaxes(title_text='Date')\n",
    "wind_graph.update_yaxes(title_text='Wind (km/h)')\n",
    "wind_graph.update_layout(template='plotly_dark')\n",
    "wind_graph.show()\n",
    "\n",
    "#Save the graph as a html file\n",
    "wind_graph.write_html(os.path.join(assests_dir, 'wind_graph.html'))\n",
    "\n",
    "#Get the html og wind_graph\n",
    "wind_graph_html = wind_graph.to_html(full_html=False)\n",
    "\n",
    "#path\n",
    "wind_graph_path = os.path.join(assests_dir, 'wind_graph.html')"
   ]
  },
  {
   "cell_type": "code",
   "execution_count": 57,
   "metadata": {},
   "outputs": [],
   "source": [
    "#Create a function to update the map based on the selected date\n",
    "def update_map(date):\n",
    "    #Recreate the map centered on Sri Lanka BMICH, Colombo\n",
    "    map_srilanka = folium.Map(location=[6.9011072, 79.8736181], zoom_start=8.5)\n",
    "\n",
    "    #Add a marker for the EventLocation\n",
    "    folium.Marker(\n",
    "        location=[event_location['lat'].values[0], event_location['lng'].values[0]],\n",
    "        popup='Event Location: BMICH, Colombo',\n",
    "        icon=folium.Icon(color='black', icon='star')\n",
    "    ).add_to(map_srilanka)\n",
    "\n",
    "    #Filter the data based on the selected date\n",
    "    filtered_data = NewAttendeesLocations[NewAttendeesLocations['attndDate'] == date]\n",
    "\n",
    "    #Create a list of locations and weighted attendee counts\n",
    "    heat_data = []\n",
    "    for index, row in filtered_data.iterrows():\n",
    "        location = attendee_locations[attendee_locations['location'] == row['attndLocation']]\n",
    "        heat_data.append([location['lat'].values[0], location['lng'].values[0], row['attendeesCount']])\n",
    "\n",
    "    #Add the heat map layer\n",
    "    HeatMap(heat_data).add_to(map_srilanka)\n",
    "\n",
    "    #Display the updated map\n",
    "    display(map_srilanka)"
   ]
  },
  {
   "cell_type": "code",
   "execution_count": 58,
   "metadata": {},
   "outputs": [],
   "source": [
    "#Create a tab widget\n",
    "tab = widgets.Tab()\n",
    "\n",
    "#Create a header title for the application\n",
    "header_title = widgets.HTML('<h1>Colombo Motor Show 2023 Attendance Prediction</h1>')\n",
    "\n",
    "#Create a list to store the tab titles and contents\n",
    "tab_titles = ['Map', 'Weather & Climate']\n",
    "tab_contents = [\n",
    "    #Create the content for the first tab (Map)\n",
    "    widgets.HBox([\n",
    "        #Create the left side with the table\n",
    "        widgets.VBox([\n",
    "            widgets.Label('Select Date:', style={'font-weight': 'bold', 'font-size': '14px'}),\n",
    "            widgets.SelectionSlider(\n",
    "                options=NewAttendeesLocations['attndDate'].unique(),\n",
    "                continuous_update=False,\n",
    "                layout=widgets.Layout(width='90%', height='auto'),\n",
    "                style={'description_width': 'initial'}\n",
    "            ),\n",
    "            widgets.Output(layout=widgets.Layout(height='200px'))\n",
    "        ], layout=widgets.Layout(width='50%', border='1px solid #ccc', padding='10px')),\n",
    "        #Create the right side with the map\n",
    "        widgets.VBox([\n",
    "            widgets.Output(layout=widgets.Layout(height='400px'))\n",
    "        ], layout=widgets.Layout(width='70%', border='1px solid #ccc', padding='10px'))\n",
    "    ], layout=widgets.Layout(justify_content='space-between')),\n",
    "    #Create the content for the second tab (Weather & Climate)\n",
    "    widgets.HBox([\n",
    "        widgets.VBox([\n",
    "            widgets.Label('Select Graph:', style={'font-weight': 'bold', 'font-size': '14px'}),\n",
    "            widgets.Dropdown(\n",
    "                options=['Temperature', 'Precipitation', 'Humidity', 'Wind'],\n",
    "                value='Temperature',\n",
    "                layout=widgets.Layout(width='50%', height='auto'),\n",
    "                style={'description_width': 'initial'}\n",
    "            ),\n",
    "            widgets.Output(layout=widgets.Layout(height='400px')),\n",
    "        ], layout=widgets.Layout(width='100%', padding='20px'))\n",
    "    ], layout=widgets.Layout(width='100%', border='1px solid #ccc', padding='10px'))\n",
    "]"
   ]
  },
  {
   "cell_type": "code",
   "execution_count": 59,
   "metadata": {},
   "outputs": [],
   "source": [
    "#Set the tab titles and contents\n",
    "tab.children = tab_contents\n",
    "for i, title in enumerate(tab_titles):\n",
    "    tab.set_title(i, title)\n",
    "\n",
    "#Define a function to update the map and table outputs\n",
    "def update_map_and_table_output(change):\n",
    "    with tab.children[0].children[0].children[2]:\n",
    "        #Clear the previous table output\n",
    "        clear_output(wait=True)\n",
    "\n",
    "        #Get the selected date\n",
    "        date = change['new']\n",
    "\n",
    "        #Filter the data based on the selected date\n",
    "        filtered_data = NewAttendeesLocations[NewAttendeesLocations['attndDate'] == date]\n",
    "\n",
    "        #Rename the columns\n",
    "        filtered_data = filtered_data.rename(\n",
    "            columns={'attndDate': 'Attended Date', 'attndLocation': 'Attended From', 'attendeesCount': 'No of Attendees'})\n",
    "\n",
    "        #Display the filtered data as a table\n",
    "        display(filtered_data)\n",
    "\n",
    "    with tab.children[0].children[1].children[0]:\n",
    "        #Clear the previous map output\n",
    "        clear_output(wait=True)\n",
    "\n",
    "        #Call the update_map function with the selected date\n",
    "        update_map(date)\n",
    "\n",
    "#Define a function to update the selected graph based on dropdown value\n",
    "def update_selected_graph(change):\n",
    "    with tab.children[1].children[0].children[2]:\n",
    "        #Clear the previous graph output\n",
    "        clear_output(wait=True)\n",
    "\n",
    "        #Get the selected graph title\n",
    "        selected_graph = change['new']\n",
    "\n",
    "        #Display the corresponding graph\n",
    "        if selected_graph == 'Temperature':\n",
    "            display(go.FigureWidget(temperature_graph))\n",
    "        elif selected_graph == 'Precipitation':\n",
    "            display(go.FigureWidget(precipitation_graph))\n",
    "        elif selected_graph == 'Humidity':\n",
    "            display(go.FigureWidget(humidity_graph))\n",
    "        elif selected_graph == 'Wind':\n",
    "            display(go.FigureWidget(wind_graph))"
   ]
  },
  {
   "cell_type": "code",
   "execution_count": 60,
   "metadata": {},
   "outputs": [],
   "source": [
    "#Register the functions as callbacks\n",
    "tab.children[0].children[0].children[1].observe(update_map_and_table_output, names='value')\n",
    "tab.children[1].children[0].children[1].observe(update_selected_graph, names='value')"
   ]
  },
  {
   "cell_type": "code",
   "execution_count": 61,
   "metadata": {},
   "outputs": [
    {
     "data": {
      "text/html": [
       "\n",
       "<style>\n",
       ".custom-tab .p-TabBar-tab {\n",
       "    background-color: #f0f0f0;\n",
       "    border: 1px solid #ccc;\n",
       "    border-radius: 5px;\n",
       "    padding: 5px 10px;\n",
       "    margin-right: 5px;\n",
       "    font-weight: bold;\n",
       "    font-size: 14px;\n",
       "    font-family: Arial, sans-serif;  /* Use Arial font family */\n",
       "}\n",
       "\n",
       ".custom-tab .p-TabBar-tab.p-mod-selected {\n",
       "    background-color: #fff;\n",
       "    border-bottom-color: #fff;\n",
       "}\n",
       "\n",
       ".custom-left-side {\n",
       "    background-color: #f9f9f9;\n",
       "    border: 1px solid #ccc;\n",
       "    border-radius: 5px;\n",
       "    padding: 10px;\n",
       "    font-weight: italic;  /* Make font bold */\n",
       "    font-size: 13px;\n",
       "    font-family: Arial, sans-serif;  /* Use Arial font family */\n",
       "}\n",
       "\n",
       ".custom-right-side {\n",
       "    background-color: #f9f9f9;\n",
       "    border: 1px solid #ccc;\n",
       "    border-radius: 5px;\n",
       "    padding: 10px;\n",
       "    font-weight: bold;  /* Make font bold */\n",
       "    font-size: 14px;\n",
       "    font-family: Arial, sans-serif;  /* Use Arial font family */\n",
       "}\n",
       "\n",
       ".custom-content {\n",
       "    background-color: #f9f9f9;\n",
       "    border: 1px solid #ccc;\n",
       "    border-radius: 5px;\n",
       "    padding: 10px;\n",
       "    font-weight: bold;  /* Make font bold */\n",
       "    font-size: 16px;\n",
       "    font-family: Arial, sans-serif;  /* Use Arial font family */\n",
       "}\n",
       "\n",
       ".custom-left-side .widget-label {\n",
       "    font-weight: bold;\n",
       "    font-size: 14px;\n",
       "    font-family: Arial, sans-serif;  /* Use Arial font family */\n",
       "}\n",
       "\n",
       ".custom-left-side .widget-slider {\n",
       "    width: 90%;\n",
       "    height: auto;\n",
       "}\n",
       "\n",
       ".custom-left-side .widget-output {\n",
       "    height: 200px;\n",
       "}\n",
       "\n",
       ".custom-app-layout {\n",
       "    padding: 20px;\n",
       "    background-color: #f9f9f9;\n",
       "    border: 10px solid #ccc;\n",
       "    border-radius: 5px;\n",
       "    font-family: Arial, sans-serif;  /* Use Arial font family */\n",
       "}\n",
       "</style>\n"
      ],
      "text/plain": [
       "<IPython.core.display.HTML object>"
      ]
     },
     "metadata": {},
     "output_type": "display_data"
    },
    {
     "data": {
      "application/vnd.jupyter.widget-view+json": {
       "model_id": "e4a0f1a8f7524751a338981434b2a7fe",
       "version_major": 2,
       "version_minor": 0
      },
      "text/plain": [
       "VBox(children=(HTML(value='<h1>Colombo Motor Show 2023 Attendance Prediction</h1>'), Tab(children=(HBox(childr…"
      ]
     },
     "metadata": {},
     "output_type": "display_data"
    }
   ],
   "source": [
    "#Apply CSS styling to the tab widget and its children\n",
    "tab.add_class('custom-tab')\n",
    "tab.set_title(0, 'Map')\n",
    "tab.set_title(1, 'Weather & Climate')\n",
    "tab.children[0].children[0].add_class('custom-left-side')\n",
    "tab.children[0].children[1].add_class('custom-right-side')\n",
    "tab.children[1].add_class('custom-content')\n",
    "\n",
    "#Create a VBox to hold the header title and the tab widget\n",
    "app_layout = widgets.VBox([header_title, tab])\n",
    "\n",
    "#Apply CSS styling to the application layout\n",
    "app_layout.add_class('custom-app-layout')\n",
    "\n",
    "#Apply CSS styling to the application layout\n",
    "html_content = '''\n",
    "<style>\n",
    ".custom-tab .p-TabBar-tab {\n",
    "    background-color: #f0f0f0;\n",
    "    border: 1px solid #ccc;\n",
    "    border-radius: 5px;\n",
    "    padding: 5px 10px;\n",
    "    margin-right: 5px;\n",
    "    font-weight: bold;\n",
    "    font-size: 14px;\n",
    "    font-family: Arial, sans-serif;  /* Use Arial font family */\n",
    "}\n",
    "\n",
    ".custom-tab .p-TabBar-tab.p-mod-selected {\n",
    "    background-color: #fff;\n",
    "    border-bottom-color: #fff;\n",
    "}\n",
    "\n",
    ".custom-left-side {\n",
    "    background-color: #f9f9f9;\n",
    "    border: 1px solid #ccc;\n",
    "    border-radius: 5px;\n",
    "    padding: 10px;\n",
    "    font-weight: italic;  /* Make font bold */\n",
    "    font-size: 13px;\n",
    "    font-family: Arial, sans-serif;  /* Use Arial font family */\n",
    "}\n",
    "\n",
    ".custom-right-side {\n",
    "    background-color: #f9f9f9;\n",
    "    border: 1px solid #ccc;\n",
    "    border-radius: 5px;\n",
    "    padding: 10px;\n",
    "    font-weight: bold;  /* Make font bold */\n",
    "    font-size: 14px;\n",
    "    font-family: Arial, sans-serif;  /* Use Arial font family */\n",
    "}\n",
    "\n",
    ".custom-content {\n",
    "    background-color: #f9f9f9;\n",
    "    border: 1px solid #ccc;\n",
    "    border-radius: 5px;\n",
    "    padding: 10px;\n",
    "    font-weight: bold;  /* Make font bold */\n",
    "    font-size: 16px;\n",
    "    font-family: Arial, sans-serif;  /* Use Arial font family */\n",
    "}\n",
    "\n",
    ".custom-left-side .widget-label {\n",
    "    font-weight: bold;\n",
    "    font-size: 14px;\n",
    "    font-family: Arial, sans-serif;  /* Use Arial font family */\n",
    "}\n",
    "\n",
    ".custom-left-side .widget-slider {\n",
    "    width: 90%;\n",
    "    height: auto;\n",
    "}\n",
    "\n",
    ".custom-left-side .widget-output {\n",
    "    height: 200px;\n",
    "}\n",
    "\n",
    ".custom-app-layout {\n",
    "    padding: 20px;\n",
    "    background-color: #f9f9f9;\n",
    "    border: 10px solid #ccc;\n",
    "    border-radius: 5px;\n",
    "    font-family: Arial, sans-serif;  /* Use Arial font family */\n",
    "}\n",
    "</style>\n",
    "'''\n",
    "\n",
    "#Display the CSS styling\n",
    "display(HTML(html_content))\n",
    "\n",
    "#Display the application layout\n",
    "display(app_layout)"
   ]
  }
 ],
 "metadata": {
  "kernelspec": {
   "display_name": "base",
   "language": "python",
   "name": "python3"
  },
  "language_info": {
   "codemirror_mode": {
    "name": "ipython",
    "version": 3
   },
   "file_extension": ".py",
   "mimetype": "text/x-python",
   "name": "python",
   "nbconvert_exporter": "python",
   "pygments_lexer": "ipython3",
   "version": "3.10.9"
  }
 },
 "nbformat": 4,
 "nbformat_minor": 2
}
